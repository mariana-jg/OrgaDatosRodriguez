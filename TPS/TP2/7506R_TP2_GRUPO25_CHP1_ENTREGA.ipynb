{
  "cells": [
    {
      "cell_type": "markdown",
      "metadata": {
        "id": "Hd-uVA30_zc7"
      },
      "source": [
        "#**Trabajo Práctico N°2: Críticas Cinematográficas**\n",
        "Organización de Datos (7506): cátedra Rodriguez\n",
        "\n",
        "Grupo 25 (Orga de gatos):\n",
        "- Mariana Juarez Goldemberg - Padrón: 108441\n",
        "- Lisandro Roman - Padrón: 107274\n",
        "- Miranda Marenzi - Padrón: 109404\n",
        "\n",
        "Única entrega"
      ]
    },
    {
      "cell_type": "markdown",
      "metadata": {
        "id": "VPoYX8yKCkLo"
      },
      "source": [
        "El trabajo consiste en construir diferentes modelos de clasificación, capaces de analizar una\n",
        "porción de texto en lenguaje natural y detectar el sentimiento allí presente, al menos de forma\n",
        "binaria: positivo o negativo.\n",
        "Para ello habrá que realizar un preprocesamiento del texto para que este pueda ser analizado\n",
        "por los distintos modelos. Se utilizará el modelo de bag of words, o cualquier otro que permita\n",
        "convertir texto en vectores.\n",
        "\n",
        "\n",
        "Los modelos que se deben construir son los siguientes:\n",
        "\n",
        "● Bayes Naïve\n",
        "\n",
        "● Random Forest\n",
        "\n",
        "● XGBoost\n",
        "\n",
        "● Un modelo de red neuronal aplicando Keras y Tensor Flow.\n",
        "\n",
        "● Un ensamble de al menos 3 modelos elegidos por el grupo.\n",
        "\n",
        "Para cada uno de estos modelos se debe realizar una búsqueda de hiperparametros que\n",
        "optimicen su desempeño en el conjunto de test local (porción del archivo training).\n",
        "Una vez encontrados dichos hiperparametros, se procederá a hacer un submit a Kaggle. Es decir\n",
        "que habrá al menos 5 submits (uno por cada modelo)."
      ]
    },
    {
      "cell_type": "markdown",
      "metadata": {
        "id": "tAOENvYrAXQ-"
      },
      "source": [
        "##Librerías"
      ]
    },
    {
      "cell_type": "code",
      "execution_count": null,
      "metadata": {
        "colab": {
          "base_uri": "https://localhost:8080/"
        },
        "id": "bxH64MF7w-RO",
        "outputId": "e4a40fcf-412c-4f66-eaeb-1404907101d1"
      },
      "outputs": [
        {
          "output_type": "stream",
          "name": "stdout",
          "text": [
            "Collecting keras==2.12.0\n",
            "  Downloading keras-2.12.0-py2.py3-none-any.whl (1.7 MB)\n",
            "\u001b[?25l     \u001b[90m━━━━━━━━━━━━━━━━━━━━━━━━━━━━━━━━━━━━━━━━\u001b[0m \u001b[32m0.0/1.7 MB\u001b[0m \u001b[31m?\u001b[0m eta \u001b[36m-:--:--\u001b[0m\r\u001b[2K     \u001b[91m━━━\u001b[0m\u001b[90m╺\u001b[0m\u001b[90m━━━━━━━━━━━━━━━━━━━━━━━━━━━━━━━━━━━━\u001b[0m \u001b[32m0.1/1.7 MB\u001b[0m \u001b[31m4.3 MB/s\u001b[0m eta \u001b[36m0:00:01\u001b[0m\r\u001b[2K     \u001b[91m━━━━━━━━━━━━━━━━━━━━━━━━━━━━━━━━━━━━━━━\u001b[0m\u001b[91m╸\u001b[0m \u001b[32m1.7/1.7 MB\u001b[0m \u001b[31m25.4 MB/s\u001b[0m eta \u001b[36m0:00:01\u001b[0m\r\u001b[2K     \u001b[90m━━━━━━━━━━━━━━━━━━━━━━━━━━━━━━━━━━━━━━━━\u001b[0m \u001b[32m1.7/1.7 MB\u001b[0m \u001b[31m20.7 MB/s\u001b[0m eta \u001b[36m0:00:00\u001b[0m\n",
            "\u001b[?25hInstalling collected packages: keras\n",
            "  Attempting uninstall: keras\n",
            "    Found existing installation: keras 2.14.0\n",
            "    Uninstalling keras-2.14.0:\n",
            "      Successfully uninstalled keras-2.14.0\n",
            "\u001b[31mERROR: pip's dependency resolver does not currently take into account all the packages that are installed. This behaviour is the source of the following dependency conflicts.\n",
            "tensorflow 2.14.0 requires keras<2.15,>=2.14.0, but you have keras 2.12.0 which is incompatible.\u001b[0m\u001b[31m\n",
            "\u001b[0mSuccessfully installed keras-2.12.0\n",
            "Found existing installation: tensorflow 2.14.0\n",
            "Uninstalling tensorflow-2.14.0:\n",
            "  Successfully uninstalled tensorflow-2.14.0\n",
            "Collecting tensorflow==2.12.0\n",
            "  Downloading tensorflow-2.12.0-cp310-cp310-manylinux_2_17_x86_64.manylinux2014_x86_64.whl (585.9 MB)\n",
            "\u001b[2K     \u001b[90m━━━━━━━━━━━━━━━━━━━━━━━━━━━━━━━━━━━━━━━━\u001b[0m \u001b[32m585.9/585.9 MB\u001b[0m \u001b[31m1.9 MB/s\u001b[0m eta \u001b[36m0:00:00\u001b[0m\n",
            "\u001b[?25hRequirement already satisfied: absl-py>=1.0.0 in /usr/local/lib/python3.10/dist-packages (from tensorflow==2.12.0) (1.4.0)\n",
            "Requirement already satisfied: astunparse>=1.6.0 in /usr/local/lib/python3.10/dist-packages (from tensorflow==2.12.0) (1.6.3)\n",
            "Requirement already satisfied: flatbuffers>=2.0 in /usr/local/lib/python3.10/dist-packages (from tensorflow==2.12.0) (23.5.26)\n",
            "Collecting gast<=0.4.0,>=0.2.1 (from tensorflow==2.12.0)\n",
            "  Downloading gast-0.4.0-py3-none-any.whl (9.8 kB)\n",
            "Requirement already satisfied: google-pasta>=0.1.1 in /usr/local/lib/python3.10/dist-packages (from tensorflow==2.12.0) (0.2.0)\n",
            "Requirement already satisfied: grpcio<2.0,>=1.24.3 in /usr/local/lib/python3.10/dist-packages (from tensorflow==2.12.0) (1.59.3)\n",
            "Requirement already satisfied: h5py>=2.9.0 in /usr/local/lib/python3.10/dist-packages (from tensorflow==2.12.0) (3.9.0)\n",
            "Requirement already satisfied: jax>=0.3.15 in /usr/local/lib/python3.10/dist-packages (from tensorflow==2.12.0) (0.4.20)\n",
            "Requirement already satisfied: keras<2.13,>=2.12.0 in /usr/local/lib/python3.10/dist-packages (from tensorflow==2.12.0) (2.12.0)\n",
            "Requirement already satisfied: libclang>=13.0.0 in /usr/local/lib/python3.10/dist-packages (from tensorflow==2.12.0) (16.0.6)\n",
            "Requirement already satisfied: numpy<1.24,>=1.22 in /usr/local/lib/python3.10/dist-packages (from tensorflow==2.12.0) (1.23.5)\n",
            "Requirement already satisfied: opt-einsum>=2.3.2 in /usr/local/lib/python3.10/dist-packages (from tensorflow==2.12.0) (3.3.0)\n",
            "Requirement already satisfied: packaging in /usr/local/lib/python3.10/dist-packages (from tensorflow==2.12.0) (23.2)\n",
            "Requirement already satisfied: protobuf!=4.21.0,!=4.21.1,!=4.21.2,!=4.21.3,!=4.21.4,!=4.21.5,<5.0.0dev,>=3.20.3 in /usr/local/lib/python3.10/dist-packages (from tensorflow==2.12.0) (3.20.3)\n",
            "Requirement already satisfied: setuptools in /usr/local/lib/python3.10/dist-packages (from tensorflow==2.12.0) (67.7.2)\n",
            "Requirement already satisfied: six>=1.12.0 in /usr/local/lib/python3.10/dist-packages (from tensorflow==2.12.0) (1.16.0)\n",
            "Collecting tensorboard<2.13,>=2.12 (from tensorflow==2.12.0)\n",
            "  Downloading tensorboard-2.12.3-py3-none-any.whl (5.6 MB)\n",
            "\u001b[2K     \u001b[90m━━━━━━━━━━━━━━━━━━━━━━━━━━━━━━━━━━━━━━━━\u001b[0m \u001b[32m5.6/5.6 MB\u001b[0m \u001b[31m77.0 MB/s\u001b[0m eta \u001b[36m0:00:00\u001b[0m\n",
            "\u001b[?25hCollecting tensorflow-estimator<2.13,>=2.12.0 (from tensorflow==2.12.0)\n",
            "  Downloading tensorflow_estimator-2.12.0-py2.py3-none-any.whl (440 kB)\n",
            "\u001b[2K     \u001b[90m━━━━━━━━━━━━━━━━━━━━━━━━━━━━━━━━━━━━━━━━\u001b[0m \u001b[32m440.7/440.7 kB\u001b[0m \u001b[31m35.6 MB/s\u001b[0m eta \u001b[36m0:00:00\u001b[0m\n",
            "\u001b[?25hRequirement already satisfied: termcolor>=1.1.0 in /usr/local/lib/python3.10/dist-packages (from tensorflow==2.12.0) (2.3.0)\n",
            "Requirement already satisfied: typing-extensions>=3.6.6 in /usr/local/lib/python3.10/dist-packages (from tensorflow==2.12.0) (4.5.0)\n",
            "Requirement already satisfied: wrapt<1.15,>=1.11.0 in /usr/local/lib/python3.10/dist-packages (from tensorflow==2.12.0) (1.14.1)\n",
            "Requirement already satisfied: tensorflow-io-gcs-filesystem>=0.23.1 in /usr/local/lib/python3.10/dist-packages (from tensorflow==2.12.0) (0.34.0)\n",
            "Requirement already satisfied: wheel<1.0,>=0.23.0 in /usr/local/lib/python3.10/dist-packages (from astunparse>=1.6.0->tensorflow==2.12.0) (0.42.0)\n",
            "Requirement already satisfied: ml-dtypes>=0.2.0 in /usr/local/lib/python3.10/dist-packages (from jax>=0.3.15->tensorflow==2.12.0) (0.2.0)\n",
            "Requirement already satisfied: scipy>=1.9 in /usr/local/lib/python3.10/dist-packages (from jax>=0.3.15->tensorflow==2.12.0) (1.11.4)\n",
            "Requirement already satisfied: google-auth<3,>=1.6.3 in /usr/local/lib/python3.10/dist-packages (from tensorboard<2.13,>=2.12->tensorflow==2.12.0) (2.17.3)\n",
            "Requirement already satisfied: google-auth-oauthlib<1.1,>=0.5 in /usr/local/lib/python3.10/dist-packages (from tensorboard<2.13,>=2.12->tensorflow==2.12.0) (1.0.0)\n",
            "Requirement already satisfied: markdown>=2.6.8 in /usr/local/lib/python3.10/dist-packages (from tensorboard<2.13,>=2.12->tensorflow==2.12.0) (3.5.1)\n",
            "Requirement already satisfied: requests<3,>=2.21.0 in /usr/local/lib/python3.10/dist-packages (from tensorboard<2.13,>=2.12->tensorflow==2.12.0) (2.31.0)\n",
            "Requirement already satisfied: tensorboard-data-server<0.8.0,>=0.7.0 in /usr/local/lib/python3.10/dist-packages (from tensorboard<2.13,>=2.12->tensorflow==2.12.0) (0.7.2)\n",
            "Requirement already satisfied: werkzeug>=1.0.1 in /usr/local/lib/python3.10/dist-packages (from tensorboard<2.13,>=2.12->tensorflow==2.12.0) (3.0.1)\n",
            "Requirement already satisfied: cachetools<6.0,>=2.0.0 in /usr/local/lib/python3.10/dist-packages (from google-auth<3,>=1.6.3->tensorboard<2.13,>=2.12->tensorflow==2.12.0) (5.3.2)\n",
            "Requirement already satisfied: pyasn1-modules>=0.2.1 in /usr/local/lib/python3.10/dist-packages (from google-auth<3,>=1.6.3->tensorboard<2.13,>=2.12->tensorflow==2.12.0) (0.3.0)\n",
            "Requirement already satisfied: rsa<5,>=3.1.4 in /usr/local/lib/python3.10/dist-packages (from google-auth<3,>=1.6.3->tensorboard<2.13,>=2.12->tensorflow==2.12.0) (4.9)\n",
            "Requirement already satisfied: requests-oauthlib>=0.7.0 in /usr/local/lib/python3.10/dist-packages (from google-auth-oauthlib<1.1,>=0.5->tensorboard<2.13,>=2.12->tensorflow==2.12.0) (1.3.1)\n",
            "Requirement already satisfied: charset-normalizer<4,>=2 in /usr/local/lib/python3.10/dist-packages (from requests<3,>=2.21.0->tensorboard<2.13,>=2.12->tensorflow==2.12.0) (3.3.2)\n",
            "Requirement already satisfied: idna<4,>=2.5 in /usr/local/lib/python3.10/dist-packages (from requests<3,>=2.21.0->tensorboard<2.13,>=2.12->tensorflow==2.12.0) (3.6)\n",
            "Requirement already satisfied: urllib3<3,>=1.21.1 in /usr/local/lib/python3.10/dist-packages (from requests<3,>=2.21.0->tensorboard<2.13,>=2.12->tensorflow==2.12.0) (2.0.7)\n",
            "Requirement already satisfied: certifi>=2017.4.17 in /usr/local/lib/python3.10/dist-packages (from requests<3,>=2.21.0->tensorboard<2.13,>=2.12->tensorflow==2.12.0) (2023.11.17)\n",
            "Requirement already satisfied: MarkupSafe>=2.1.1 in /usr/local/lib/python3.10/dist-packages (from werkzeug>=1.0.1->tensorboard<2.13,>=2.12->tensorflow==2.12.0) (2.1.3)\n",
            "Requirement already satisfied: pyasn1<0.6.0,>=0.4.6 in /usr/local/lib/python3.10/dist-packages (from pyasn1-modules>=0.2.1->google-auth<3,>=1.6.3->tensorboard<2.13,>=2.12->tensorflow==2.12.0) (0.5.1)\n",
            "Requirement already satisfied: oauthlib>=3.0.0 in /usr/local/lib/python3.10/dist-packages (from requests-oauthlib>=0.7.0->google-auth-oauthlib<1.1,>=0.5->tensorboard<2.13,>=2.12->tensorflow==2.12.0) (3.2.2)\n",
            "Installing collected packages: tensorflow-estimator, gast, tensorboard, tensorflow\n",
            "  Attempting uninstall: tensorflow-estimator\n",
            "    Found existing installation: tensorflow-estimator 2.14.0\n",
            "    Uninstalling tensorflow-estimator-2.14.0:\n",
            "      Successfully uninstalled tensorflow-estimator-2.14.0\n",
            "  Attempting uninstall: gast\n",
            "    Found existing installation: gast 0.5.4\n",
            "    Uninstalling gast-0.5.4:\n",
            "      Successfully uninstalled gast-0.5.4\n",
            "  Attempting uninstall: tensorboard\n",
            "    Found existing installation: tensorboard 2.14.1\n",
            "    Uninstalling tensorboard-2.14.1:\n",
            "      Successfully uninstalled tensorboard-2.14.1\n",
            "Successfully installed gast-0.4.0 tensorboard-2.12.3 tensorflow-2.12.0 tensorflow-estimator-2.12.0\n"
          ]
        }
      ],
      "source": [
        "!pip install keras==2.12.0\n",
        "!pip uninstall tensorflow -y\n",
        "!pip install tensorflow==2.12.0"
      ]
    },
    {
      "cell_type": "code",
      "source": [
        "import tensorflow as tf\n",
        "from sklearn.model_selection import train_test_split\n",
        "from tensorflow import keras\n",
        "from keras.preprocessing.text import one_hot\n",
        "from keras.preprocessing.text import text_to_word_sequence\n",
        "from keras import layers\n",
        "import matplotlib.pyplot as plt\n",
        "import os\n",
        "import re\n",
        "import shutil\n",
        "import string\n",
        "\n",
        "from tensorflow.keras import layers\n",
        "from tensorflow.keras import losses\n",
        "\n",
        "from tensorflow.keras.models import Sequential\n",
        "from tensorflow.keras.layers import Embedding, Flatten, Dense\n",
        "from tensorflow.keras.layers import GRU, Dense"
      ],
      "metadata": {
        "id": "RdNMiMZnjBxN"
      },
      "execution_count": null,
      "outputs": []
    },
    {
      "cell_type": "code",
      "execution_count": null,
      "metadata": {
        "id": "GPrY_mMpZ4XI"
      },
      "outputs": [],
      "source": [
        "import tensorflow as tf\n",
        "from tensorflow.keras.preprocessing.text import Tokenizer\n",
        "from tensorflow.keras.preprocessing.sequence import pad_sequences"
      ]
    },
    {
      "cell_type": "code",
      "execution_count": null,
      "metadata": {
        "colab": {
          "base_uri": "https://localhost:8080/"
        },
        "id": "6nMVM6S-AddM",
        "outputId": "c245a1f6-e82d-4fb9-f469-24a5ed54e1a0"
      },
      "outputs": [
        {
          "output_type": "stream",
          "name": "stdout",
          "text": [
            "Requirement already satisfied: nltk in /usr/local/lib/python3.10/dist-packages (3.8.1)\n",
            "Requirement already satisfied: click in /usr/local/lib/python3.10/dist-packages (from nltk) (8.1.7)\n",
            "Requirement already satisfied: joblib in /usr/local/lib/python3.10/dist-packages (from nltk) (1.3.2)\n",
            "Requirement already satisfied: regex>=2021.8.3 in /usr/local/lib/python3.10/dist-packages (from nltk) (2023.6.3)\n",
            "Requirement already satisfied: tqdm in /usr/local/lib/python3.10/dist-packages (from nltk) (4.66.1)\n"
          ]
        }
      ],
      "source": [
        "import pandas as pd\n",
        "import numpy as np\n",
        "\n",
        "import sklearn as sk\n",
        "from sklearn.metrics import DistanceMetric\n",
        "\n",
        "from sklearn.model_selection import train_test_split\n",
        "\n",
        "import matplotlib.pyplot as plt\n",
        "import seaborn as sns\n",
        "\n",
        "!pip install nltk\n",
        "import nltk\n",
        "import spacy\n",
        "\n",
        "from sklearn.model_selection import RandomizedSearchCV, GridSearchCV\n",
        "from sklearn.metrics import make_scorer, f1_score\n",
        "from scipy.stats import loguniform\n",
        "from sklearn.naive_bayes import GaussianNB, MultinomialNB, BernoulliNB\n",
        "\n",
        "import re\n",
        "from nltk.corpus import stopwords\n",
        "from nltk.stem import SnowballStemmer\n",
        "from nltk.tokenize import ToktokTokenizer\n",
        "from sklearn.pipeline import Pipeline\n",
        "from sklearn.feature_extraction.text import TfidfVectorizer\n",
        "from sklearn.metrics import accuracy_score\n",
        "from sklearn.model_selection import KFold\n",
        "from sklearn.metrics import confusion_matrix\n",
        "\n",
        "from sklearn.feature_extraction.text import TfidfVectorizer, CountVectorizer\n",
        "from sklearn.pipeline import make_pipeline\n",
        "\n",
        "from joblib import dump, load\n",
        "from os.path import exists"
      ]
    },
    {
      "cell_type": "code",
      "execution_count": null,
      "metadata": {
        "id": "t_yd1zi4cFXu"
      },
      "outputs": [],
      "source": [
        "from sklearn.datasets import make_classification\n",
        "from sklearn.metrics import confusion_matrix, classification_report\n",
        "\n",
        "def metricas(y_pred,y_test):\n",
        "\n",
        "  print(classification_report(y_test,y_pred))\n",
        "\n",
        "  cm = confusion_matrix(y_test,y_pred)\n",
        "  sns.heatmap(cm, cmap='Blues',annot=True,fmt='g')\n",
        "  plt.xlabel('Predicted')\n",
        "  plt.ylabel('True')"
      ]
    },
    {
      "cell_type": "markdown",
      "metadata": {
        "id": "C8Kuzgs9AeRq"
      },
      "source": [
        "##Carga de los Datasets"
      ]
    },
    {
      "cell_type": "code",
      "execution_count": null,
      "metadata": {
        "id": "Fkaj9yNm8Hia"
      },
      "outputs": [],
      "source": [
        "df_train_reviews = pd.read_csv(\"/content/sample_data/train.csv\")\n",
        "df_test_reviews = pd.read_csv(\"/content/sample_data/test.csv\")"
      ]
    },
    {
      "cell_type": "code",
      "execution_count": null,
      "metadata": {
        "id": "Et4drRep3k4h"
      },
      "outputs": [],
      "source": [
        "df_test_reviews = pd.read_csv(\"/content/sample_data/test.csv\")"
      ]
    },
    {
      "cell_type": "code",
      "execution_count": null,
      "metadata": {
        "id": "1H-XThOf8RBW"
      },
      "outputs": [],
      "source": [
        "df_train = df_train_reviews.copy()\n",
        "df_test = df_test_reviews.copy()"
      ]
    },
    {
      "cell_type": "code",
      "execution_count": null,
      "metadata": {
        "id": "R5MLIUFB3mOS"
      },
      "outputs": [],
      "source": [
        "df_test = df_test_reviews.copy()"
      ]
    },
    {
      "cell_type": "code",
      "execution_count": null,
      "metadata": {
        "colab": {
          "base_uri": "https://localhost:8080/",
          "height": 206
        },
        "id": "b4jvP73d8qJr",
        "outputId": "f6e7c5a1-0b10-4398-9068-f0f8cb575a3e"
      },
      "outputs": [
        {
          "output_type": "execute_result",
          "data": {
            "text/plain": [
              "   ID                                          review_es sentimiento\n",
              "0   0  Uno de los otros críticos ha mencionado que de...    positivo\n",
              "1   1  Una pequeña pequeña producción.La técnica de f...    positivo\n",
              "2   2  Pensé que esta era una manera maravillosa de p...    positivo\n",
              "3   3  Básicamente, hay una familia donde un niño peq...    negativo\n",
              "4   4  El \"amor en el tiempo\" de Petter Mattei es una...    positivo"
            ],
            "text/html": [
              "\n",
              "  <div id=\"df-752ccfaa-a4c7-46f9-a842-ce3a4c5c2b23\" class=\"colab-df-container\">\n",
              "    <div>\n",
              "<style scoped>\n",
              "    .dataframe tbody tr th:only-of-type {\n",
              "        vertical-align: middle;\n",
              "    }\n",
              "\n",
              "    .dataframe tbody tr th {\n",
              "        vertical-align: top;\n",
              "    }\n",
              "\n",
              "    .dataframe thead th {\n",
              "        text-align: right;\n",
              "    }\n",
              "</style>\n",
              "<table border=\"1\" class=\"dataframe\">\n",
              "  <thead>\n",
              "    <tr style=\"text-align: right;\">\n",
              "      <th></th>\n",
              "      <th>ID</th>\n",
              "      <th>review_es</th>\n",
              "      <th>sentimiento</th>\n",
              "    </tr>\n",
              "  </thead>\n",
              "  <tbody>\n",
              "    <tr>\n",
              "      <th>0</th>\n",
              "      <td>0</td>\n",
              "      <td>Uno de los otros críticos ha mencionado que de...</td>\n",
              "      <td>positivo</td>\n",
              "    </tr>\n",
              "    <tr>\n",
              "      <th>1</th>\n",
              "      <td>1</td>\n",
              "      <td>Una pequeña pequeña producción.La técnica de f...</td>\n",
              "      <td>positivo</td>\n",
              "    </tr>\n",
              "    <tr>\n",
              "      <th>2</th>\n",
              "      <td>2</td>\n",
              "      <td>Pensé que esta era una manera maravillosa de p...</td>\n",
              "      <td>positivo</td>\n",
              "    </tr>\n",
              "    <tr>\n",
              "      <th>3</th>\n",
              "      <td>3</td>\n",
              "      <td>Básicamente, hay una familia donde un niño peq...</td>\n",
              "      <td>negativo</td>\n",
              "    </tr>\n",
              "    <tr>\n",
              "      <th>4</th>\n",
              "      <td>4</td>\n",
              "      <td>El \"amor en el tiempo\" de Petter Mattei es una...</td>\n",
              "      <td>positivo</td>\n",
              "    </tr>\n",
              "  </tbody>\n",
              "</table>\n",
              "</div>\n",
              "    <div class=\"colab-df-buttons\">\n",
              "\n",
              "  <div class=\"colab-df-container\">\n",
              "    <button class=\"colab-df-convert\" onclick=\"convertToInteractive('df-752ccfaa-a4c7-46f9-a842-ce3a4c5c2b23')\"\n",
              "            title=\"Convert this dataframe to an interactive table.\"\n",
              "            style=\"display:none;\">\n",
              "\n",
              "  <svg xmlns=\"http://www.w3.org/2000/svg\" height=\"24px\" viewBox=\"0 -960 960 960\">\n",
              "    <path d=\"M120-120v-720h720v720H120Zm60-500h600v-160H180v160Zm220 220h160v-160H400v160Zm0 220h160v-160H400v160ZM180-400h160v-160H180v160Zm440 0h160v-160H620v160ZM180-180h160v-160H180v160Zm440 0h160v-160H620v160Z\"/>\n",
              "  </svg>\n",
              "    </button>\n",
              "\n",
              "  <style>\n",
              "    .colab-df-container {\n",
              "      display:flex;\n",
              "      gap: 12px;\n",
              "    }\n",
              "\n",
              "    .colab-df-convert {\n",
              "      background-color: #E8F0FE;\n",
              "      border: none;\n",
              "      border-radius: 50%;\n",
              "      cursor: pointer;\n",
              "      display: none;\n",
              "      fill: #1967D2;\n",
              "      height: 32px;\n",
              "      padding: 0 0 0 0;\n",
              "      width: 32px;\n",
              "    }\n",
              "\n",
              "    .colab-df-convert:hover {\n",
              "      background-color: #E2EBFA;\n",
              "      box-shadow: 0px 1px 2px rgba(60, 64, 67, 0.3), 0px 1px 3px 1px rgba(60, 64, 67, 0.15);\n",
              "      fill: #174EA6;\n",
              "    }\n",
              "\n",
              "    .colab-df-buttons div {\n",
              "      margin-bottom: 4px;\n",
              "    }\n",
              "\n",
              "    [theme=dark] .colab-df-convert {\n",
              "      background-color: #3B4455;\n",
              "      fill: #D2E3FC;\n",
              "    }\n",
              "\n",
              "    [theme=dark] .colab-df-convert:hover {\n",
              "      background-color: #434B5C;\n",
              "      box-shadow: 0px 1px 3px 1px rgba(0, 0, 0, 0.15);\n",
              "      filter: drop-shadow(0px 1px 2px rgba(0, 0, 0, 0.3));\n",
              "      fill: #FFFFFF;\n",
              "    }\n",
              "  </style>\n",
              "\n",
              "    <script>\n",
              "      const buttonEl =\n",
              "        document.querySelector('#df-752ccfaa-a4c7-46f9-a842-ce3a4c5c2b23 button.colab-df-convert');\n",
              "      buttonEl.style.display =\n",
              "        google.colab.kernel.accessAllowed ? 'block' : 'none';\n",
              "\n",
              "      async function convertToInteractive(key) {\n",
              "        const element = document.querySelector('#df-752ccfaa-a4c7-46f9-a842-ce3a4c5c2b23');\n",
              "        const dataTable =\n",
              "          await google.colab.kernel.invokeFunction('convertToInteractive',\n",
              "                                                    [key], {});\n",
              "        if (!dataTable) return;\n",
              "\n",
              "        const docLinkHtml = 'Like what you see? Visit the ' +\n",
              "          '<a target=\"_blank\" href=https://colab.research.google.com/notebooks/data_table.ipynb>data table notebook</a>'\n",
              "          + ' to learn more about interactive tables.';\n",
              "        element.innerHTML = '';\n",
              "        dataTable['output_type'] = 'display_data';\n",
              "        await google.colab.output.renderOutput(dataTable, element);\n",
              "        const docLink = document.createElement('div');\n",
              "        docLink.innerHTML = docLinkHtml;\n",
              "        element.appendChild(docLink);\n",
              "      }\n",
              "    </script>\n",
              "  </div>\n",
              "\n",
              "\n",
              "<div id=\"df-acc0aee2-2388-40a3-95fb-827cd521e20f\">\n",
              "  <button class=\"colab-df-quickchart\" onclick=\"quickchart('df-acc0aee2-2388-40a3-95fb-827cd521e20f')\"\n",
              "            title=\"Suggest charts\"\n",
              "            style=\"display:none;\">\n",
              "\n",
              "<svg xmlns=\"http://www.w3.org/2000/svg\" height=\"24px\"viewBox=\"0 0 24 24\"\n",
              "     width=\"24px\">\n",
              "    <g>\n",
              "        <path d=\"M19 3H5c-1.1 0-2 .9-2 2v14c0 1.1.9 2 2 2h14c1.1 0 2-.9 2-2V5c0-1.1-.9-2-2-2zM9 17H7v-7h2v7zm4 0h-2V7h2v10zm4 0h-2v-4h2v4z\"/>\n",
              "    </g>\n",
              "</svg>\n",
              "  </button>\n",
              "\n",
              "<style>\n",
              "  .colab-df-quickchart {\n",
              "      --bg-color: #E8F0FE;\n",
              "      --fill-color: #1967D2;\n",
              "      --hover-bg-color: #E2EBFA;\n",
              "      --hover-fill-color: #174EA6;\n",
              "      --disabled-fill-color: #AAA;\n",
              "      --disabled-bg-color: #DDD;\n",
              "  }\n",
              "\n",
              "  [theme=dark] .colab-df-quickchart {\n",
              "      --bg-color: #3B4455;\n",
              "      --fill-color: #D2E3FC;\n",
              "      --hover-bg-color: #434B5C;\n",
              "      --hover-fill-color: #FFFFFF;\n",
              "      --disabled-bg-color: #3B4455;\n",
              "      --disabled-fill-color: #666;\n",
              "  }\n",
              "\n",
              "  .colab-df-quickchart {\n",
              "    background-color: var(--bg-color);\n",
              "    border: none;\n",
              "    border-radius: 50%;\n",
              "    cursor: pointer;\n",
              "    display: none;\n",
              "    fill: var(--fill-color);\n",
              "    height: 32px;\n",
              "    padding: 0;\n",
              "    width: 32px;\n",
              "  }\n",
              "\n",
              "  .colab-df-quickchart:hover {\n",
              "    background-color: var(--hover-bg-color);\n",
              "    box-shadow: 0 1px 2px rgba(60, 64, 67, 0.3), 0 1px 3px 1px rgba(60, 64, 67, 0.15);\n",
              "    fill: var(--button-hover-fill-color);\n",
              "  }\n",
              "\n",
              "  .colab-df-quickchart-complete:disabled,\n",
              "  .colab-df-quickchart-complete:disabled:hover {\n",
              "    background-color: var(--disabled-bg-color);\n",
              "    fill: var(--disabled-fill-color);\n",
              "    box-shadow: none;\n",
              "  }\n",
              "\n",
              "  .colab-df-spinner {\n",
              "    border: 2px solid var(--fill-color);\n",
              "    border-color: transparent;\n",
              "    border-bottom-color: var(--fill-color);\n",
              "    animation:\n",
              "      spin 1s steps(1) infinite;\n",
              "  }\n",
              "\n",
              "  @keyframes spin {\n",
              "    0% {\n",
              "      border-color: transparent;\n",
              "      border-bottom-color: var(--fill-color);\n",
              "      border-left-color: var(--fill-color);\n",
              "    }\n",
              "    20% {\n",
              "      border-color: transparent;\n",
              "      border-left-color: var(--fill-color);\n",
              "      border-top-color: var(--fill-color);\n",
              "    }\n",
              "    30% {\n",
              "      border-color: transparent;\n",
              "      border-left-color: var(--fill-color);\n",
              "      border-top-color: var(--fill-color);\n",
              "      border-right-color: var(--fill-color);\n",
              "    }\n",
              "    40% {\n",
              "      border-color: transparent;\n",
              "      border-right-color: var(--fill-color);\n",
              "      border-top-color: var(--fill-color);\n",
              "    }\n",
              "    60% {\n",
              "      border-color: transparent;\n",
              "      border-right-color: var(--fill-color);\n",
              "    }\n",
              "    80% {\n",
              "      border-color: transparent;\n",
              "      border-right-color: var(--fill-color);\n",
              "      border-bottom-color: var(--fill-color);\n",
              "    }\n",
              "    90% {\n",
              "      border-color: transparent;\n",
              "      border-bottom-color: var(--fill-color);\n",
              "    }\n",
              "  }\n",
              "</style>\n",
              "\n",
              "  <script>\n",
              "    async function quickchart(key) {\n",
              "      const quickchartButtonEl =\n",
              "        document.querySelector('#' + key + ' button');\n",
              "      quickchartButtonEl.disabled = true;  // To prevent multiple clicks.\n",
              "      quickchartButtonEl.classList.add('colab-df-spinner');\n",
              "      try {\n",
              "        const charts = await google.colab.kernel.invokeFunction(\n",
              "            'suggestCharts', [key], {});\n",
              "      } catch (error) {\n",
              "        console.error('Error during call to suggestCharts:', error);\n",
              "      }\n",
              "      quickchartButtonEl.classList.remove('colab-df-spinner');\n",
              "      quickchartButtonEl.classList.add('colab-df-quickchart-complete');\n",
              "    }\n",
              "    (() => {\n",
              "      let quickchartButtonEl =\n",
              "        document.querySelector('#df-acc0aee2-2388-40a3-95fb-827cd521e20f button');\n",
              "      quickchartButtonEl.style.display =\n",
              "        google.colab.kernel.accessAllowed ? 'block' : 'none';\n",
              "    })();\n",
              "  </script>\n",
              "</div>\n",
              "    </div>\n",
              "  </div>\n"
            ]
          },
          "metadata": {},
          "execution_count": 10
        }
      ],
      "source": [
        "df_train.head(5)"
      ]
    },
    {
      "cell_type": "code",
      "execution_count": null,
      "metadata": {
        "colab": {
          "base_uri": "https://localhost:8080/"
        },
        "id": "R35Mvro3UM8x",
        "outputId": "511f6c91-b509-4731-b3e0-a78c49c29d66"
      },
      "outputs": [
        {
          "output_type": "execute_result",
          "data": {
            "text/plain": [
              "(50000, 3)"
            ]
          },
          "metadata": {},
          "execution_count": 11
        }
      ],
      "source": [
        "df_train.shape"
      ]
    },
    {
      "cell_type": "code",
      "execution_count": null,
      "metadata": {
        "colab": {
          "base_uri": "https://localhost:8080/",
          "height": 206
        },
        "id": "yNeoGa1H8sFr",
        "outputId": "a89af0b5-0f10-4057-815f-ccc003ec01e1"
      },
      "outputs": [
        {
          "output_type": "execute_result",
          "data": {
            "text/plain": [
              "      ID                                          review_es\n",
              "0  60000  La mayor virtud de esta película es su existen...\n",
              "1  60001  No soy un experto cinéfilo, pero pocas veces m...\n",
              "2  60002  Si no eres un incondicional del humor estilo T...\n",
              "3  60003  No sé qué está pasando, si la gente se deja ll...\n",
              "4  60004  Pero cuando amanece,y me quedo solo,siento en ..."
            ],
            "text/html": [
              "\n",
              "  <div id=\"df-60e4f942-b759-410c-b184-a7fe6731c786\" class=\"colab-df-container\">\n",
              "    <div>\n",
              "<style scoped>\n",
              "    .dataframe tbody tr th:only-of-type {\n",
              "        vertical-align: middle;\n",
              "    }\n",
              "\n",
              "    .dataframe tbody tr th {\n",
              "        vertical-align: top;\n",
              "    }\n",
              "\n",
              "    .dataframe thead th {\n",
              "        text-align: right;\n",
              "    }\n",
              "</style>\n",
              "<table border=\"1\" class=\"dataframe\">\n",
              "  <thead>\n",
              "    <tr style=\"text-align: right;\">\n",
              "      <th></th>\n",
              "      <th>ID</th>\n",
              "      <th>review_es</th>\n",
              "    </tr>\n",
              "  </thead>\n",
              "  <tbody>\n",
              "    <tr>\n",
              "      <th>0</th>\n",
              "      <td>60000</td>\n",
              "      <td>La mayor virtud de esta película es su existen...</td>\n",
              "    </tr>\n",
              "    <tr>\n",
              "      <th>1</th>\n",
              "      <td>60001</td>\n",
              "      <td>No soy un experto cinéfilo, pero pocas veces m...</td>\n",
              "    </tr>\n",
              "    <tr>\n",
              "      <th>2</th>\n",
              "      <td>60002</td>\n",
              "      <td>Si no eres un incondicional del humor estilo T...</td>\n",
              "    </tr>\n",
              "    <tr>\n",
              "      <th>3</th>\n",
              "      <td>60003</td>\n",
              "      <td>No sé qué está pasando, si la gente se deja ll...</td>\n",
              "    </tr>\n",
              "    <tr>\n",
              "      <th>4</th>\n",
              "      <td>60004</td>\n",
              "      <td>Pero cuando amanece,y me quedo solo,siento en ...</td>\n",
              "    </tr>\n",
              "  </tbody>\n",
              "</table>\n",
              "</div>\n",
              "    <div class=\"colab-df-buttons\">\n",
              "\n",
              "  <div class=\"colab-df-container\">\n",
              "    <button class=\"colab-df-convert\" onclick=\"convertToInteractive('df-60e4f942-b759-410c-b184-a7fe6731c786')\"\n",
              "            title=\"Convert this dataframe to an interactive table.\"\n",
              "            style=\"display:none;\">\n",
              "\n",
              "  <svg xmlns=\"http://www.w3.org/2000/svg\" height=\"24px\" viewBox=\"0 -960 960 960\">\n",
              "    <path d=\"M120-120v-720h720v720H120Zm60-500h600v-160H180v160Zm220 220h160v-160H400v160Zm0 220h160v-160H400v160ZM180-400h160v-160H180v160Zm440 0h160v-160H620v160ZM180-180h160v-160H180v160Zm440 0h160v-160H620v160Z\"/>\n",
              "  </svg>\n",
              "    </button>\n",
              "\n",
              "  <style>\n",
              "    .colab-df-container {\n",
              "      display:flex;\n",
              "      gap: 12px;\n",
              "    }\n",
              "\n",
              "    .colab-df-convert {\n",
              "      background-color: #E8F0FE;\n",
              "      border: none;\n",
              "      border-radius: 50%;\n",
              "      cursor: pointer;\n",
              "      display: none;\n",
              "      fill: #1967D2;\n",
              "      height: 32px;\n",
              "      padding: 0 0 0 0;\n",
              "      width: 32px;\n",
              "    }\n",
              "\n",
              "    .colab-df-convert:hover {\n",
              "      background-color: #E2EBFA;\n",
              "      box-shadow: 0px 1px 2px rgba(60, 64, 67, 0.3), 0px 1px 3px 1px rgba(60, 64, 67, 0.15);\n",
              "      fill: #174EA6;\n",
              "    }\n",
              "\n",
              "    .colab-df-buttons div {\n",
              "      margin-bottom: 4px;\n",
              "    }\n",
              "\n",
              "    [theme=dark] .colab-df-convert {\n",
              "      background-color: #3B4455;\n",
              "      fill: #D2E3FC;\n",
              "    }\n",
              "\n",
              "    [theme=dark] .colab-df-convert:hover {\n",
              "      background-color: #434B5C;\n",
              "      box-shadow: 0px 1px 3px 1px rgba(0, 0, 0, 0.15);\n",
              "      filter: drop-shadow(0px 1px 2px rgba(0, 0, 0, 0.3));\n",
              "      fill: #FFFFFF;\n",
              "    }\n",
              "  </style>\n",
              "\n",
              "    <script>\n",
              "      const buttonEl =\n",
              "        document.querySelector('#df-60e4f942-b759-410c-b184-a7fe6731c786 button.colab-df-convert');\n",
              "      buttonEl.style.display =\n",
              "        google.colab.kernel.accessAllowed ? 'block' : 'none';\n",
              "\n",
              "      async function convertToInteractive(key) {\n",
              "        const element = document.querySelector('#df-60e4f942-b759-410c-b184-a7fe6731c786');\n",
              "        const dataTable =\n",
              "          await google.colab.kernel.invokeFunction('convertToInteractive',\n",
              "                                                    [key], {});\n",
              "        if (!dataTable) return;\n",
              "\n",
              "        const docLinkHtml = 'Like what you see? Visit the ' +\n",
              "          '<a target=\"_blank\" href=https://colab.research.google.com/notebooks/data_table.ipynb>data table notebook</a>'\n",
              "          + ' to learn more about interactive tables.';\n",
              "        element.innerHTML = '';\n",
              "        dataTable['output_type'] = 'display_data';\n",
              "        await google.colab.output.renderOutput(dataTable, element);\n",
              "        const docLink = document.createElement('div');\n",
              "        docLink.innerHTML = docLinkHtml;\n",
              "        element.appendChild(docLink);\n",
              "      }\n",
              "    </script>\n",
              "  </div>\n",
              "\n",
              "\n",
              "<div id=\"df-fec3a2a7-b3b1-4ad8-a2e3-68297a582666\">\n",
              "  <button class=\"colab-df-quickchart\" onclick=\"quickchart('df-fec3a2a7-b3b1-4ad8-a2e3-68297a582666')\"\n",
              "            title=\"Suggest charts\"\n",
              "            style=\"display:none;\">\n",
              "\n",
              "<svg xmlns=\"http://www.w3.org/2000/svg\" height=\"24px\"viewBox=\"0 0 24 24\"\n",
              "     width=\"24px\">\n",
              "    <g>\n",
              "        <path d=\"M19 3H5c-1.1 0-2 .9-2 2v14c0 1.1.9 2 2 2h14c1.1 0 2-.9 2-2V5c0-1.1-.9-2-2-2zM9 17H7v-7h2v7zm4 0h-2V7h2v10zm4 0h-2v-4h2v4z\"/>\n",
              "    </g>\n",
              "</svg>\n",
              "  </button>\n",
              "\n",
              "<style>\n",
              "  .colab-df-quickchart {\n",
              "      --bg-color: #E8F0FE;\n",
              "      --fill-color: #1967D2;\n",
              "      --hover-bg-color: #E2EBFA;\n",
              "      --hover-fill-color: #174EA6;\n",
              "      --disabled-fill-color: #AAA;\n",
              "      --disabled-bg-color: #DDD;\n",
              "  }\n",
              "\n",
              "  [theme=dark] .colab-df-quickchart {\n",
              "      --bg-color: #3B4455;\n",
              "      --fill-color: #D2E3FC;\n",
              "      --hover-bg-color: #434B5C;\n",
              "      --hover-fill-color: #FFFFFF;\n",
              "      --disabled-bg-color: #3B4455;\n",
              "      --disabled-fill-color: #666;\n",
              "  }\n",
              "\n",
              "  .colab-df-quickchart {\n",
              "    background-color: var(--bg-color);\n",
              "    border: none;\n",
              "    border-radius: 50%;\n",
              "    cursor: pointer;\n",
              "    display: none;\n",
              "    fill: var(--fill-color);\n",
              "    height: 32px;\n",
              "    padding: 0;\n",
              "    width: 32px;\n",
              "  }\n",
              "\n",
              "  .colab-df-quickchart:hover {\n",
              "    background-color: var(--hover-bg-color);\n",
              "    box-shadow: 0 1px 2px rgba(60, 64, 67, 0.3), 0 1px 3px 1px rgba(60, 64, 67, 0.15);\n",
              "    fill: var(--button-hover-fill-color);\n",
              "  }\n",
              "\n",
              "  .colab-df-quickchart-complete:disabled,\n",
              "  .colab-df-quickchart-complete:disabled:hover {\n",
              "    background-color: var(--disabled-bg-color);\n",
              "    fill: var(--disabled-fill-color);\n",
              "    box-shadow: none;\n",
              "  }\n",
              "\n",
              "  .colab-df-spinner {\n",
              "    border: 2px solid var(--fill-color);\n",
              "    border-color: transparent;\n",
              "    border-bottom-color: var(--fill-color);\n",
              "    animation:\n",
              "      spin 1s steps(1) infinite;\n",
              "  }\n",
              "\n",
              "  @keyframes spin {\n",
              "    0% {\n",
              "      border-color: transparent;\n",
              "      border-bottom-color: var(--fill-color);\n",
              "      border-left-color: var(--fill-color);\n",
              "    }\n",
              "    20% {\n",
              "      border-color: transparent;\n",
              "      border-left-color: var(--fill-color);\n",
              "      border-top-color: var(--fill-color);\n",
              "    }\n",
              "    30% {\n",
              "      border-color: transparent;\n",
              "      border-left-color: var(--fill-color);\n",
              "      border-top-color: var(--fill-color);\n",
              "      border-right-color: var(--fill-color);\n",
              "    }\n",
              "    40% {\n",
              "      border-color: transparent;\n",
              "      border-right-color: var(--fill-color);\n",
              "      border-top-color: var(--fill-color);\n",
              "    }\n",
              "    60% {\n",
              "      border-color: transparent;\n",
              "      border-right-color: var(--fill-color);\n",
              "    }\n",
              "    80% {\n",
              "      border-color: transparent;\n",
              "      border-right-color: var(--fill-color);\n",
              "      border-bottom-color: var(--fill-color);\n",
              "    }\n",
              "    90% {\n",
              "      border-color: transparent;\n",
              "      border-bottom-color: var(--fill-color);\n",
              "    }\n",
              "  }\n",
              "</style>\n",
              "\n",
              "  <script>\n",
              "    async function quickchart(key) {\n",
              "      const quickchartButtonEl =\n",
              "        document.querySelector('#' + key + ' button');\n",
              "      quickchartButtonEl.disabled = true;  // To prevent multiple clicks.\n",
              "      quickchartButtonEl.classList.add('colab-df-spinner');\n",
              "      try {\n",
              "        const charts = await google.colab.kernel.invokeFunction(\n",
              "            'suggestCharts', [key], {});\n",
              "      } catch (error) {\n",
              "        console.error('Error during call to suggestCharts:', error);\n",
              "      }\n",
              "      quickchartButtonEl.classList.remove('colab-df-spinner');\n",
              "      quickchartButtonEl.classList.add('colab-df-quickchart-complete');\n",
              "    }\n",
              "    (() => {\n",
              "      let quickchartButtonEl =\n",
              "        document.querySelector('#df-fec3a2a7-b3b1-4ad8-a2e3-68297a582666 button');\n",
              "      quickchartButtonEl.style.display =\n",
              "        google.colab.kernel.accessAllowed ? 'block' : 'none';\n",
              "    })();\n",
              "  </script>\n",
              "</div>\n",
              "    </div>\n",
              "  </div>\n"
            ]
          },
          "metadata": {},
          "execution_count": 12
        }
      ],
      "source": [
        "df_test.head(5)"
      ]
    },
    {
      "cell_type": "code",
      "source": [
        "df_test.shape"
      ],
      "metadata": {
        "id": "EXzRqrtJWpbs",
        "colab": {
          "base_uri": "https://localhost:8080/"
        },
        "outputId": "6fee9c14-afb6-494f-cb42-a227726e405f"
      },
      "execution_count": null,
      "outputs": [
        {
          "output_type": "execute_result",
          "data": {
            "text/plain": [
              "(8599, 2)"
            ]
          },
          "metadata": {},
          "execution_count": 13
        }
      ]
    },
    {
      "cell_type": "markdown",
      "metadata": {
        "id": "fNvyT3FNCBoq"
      },
      "source": [
        "##Preprocesamiento de los datos"
      ]
    },
    {
      "cell_type": "markdown",
      "metadata": {
        "id": "y94xwkJodJ_3"
      },
      "source": [
        "Quitamos la columna de ID que no aporta nada de información"
      ]
    },
    {
      "cell_type": "code",
      "execution_count": null,
      "metadata": {
        "colab": {
          "base_uri": "https://localhost:8080/",
          "height": 206
        },
        "id": "J7HX0STn8xNC",
        "outputId": "396478ee-ff84-41d6-beb2-84251ea8ad8d"
      },
      "outputs": [
        {
          "output_type": "execute_result",
          "data": {
            "text/plain": [
              "                                           review_es sentimiento\n",
              "0  Uno de los otros críticos ha mencionado que de...    positivo\n",
              "1  Una pequeña pequeña producción.La técnica de f...    positivo\n",
              "2  Pensé que esta era una manera maravillosa de p...    positivo\n",
              "3  Básicamente, hay una familia donde un niño peq...    negativo\n",
              "4  El \"amor en el tiempo\" de Petter Mattei es una...    positivo"
            ],
            "text/html": [
              "\n",
              "  <div id=\"df-e8f1a02c-fbde-4adc-9e69-562ebac8cfc7\" class=\"colab-df-container\">\n",
              "    <div>\n",
              "<style scoped>\n",
              "    .dataframe tbody tr th:only-of-type {\n",
              "        vertical-align: middle;\n",
              "    }\n",
              "\n",
              "    .dataframe tbody tr th {\n",
              "        vertical-align: top;\n",
              "    }\n",
              "\n",
              "    .dataframe thead th {\n",
              "        text-align: right;\n",
              "    }\n",
              "</style>\n",
              "<table border=\"1\" class=\"dataframe\">\n",
              "  <thead>\n",
              "    <tr style=\"text-align: right;\">\n",
              "      <th></th>\n",
              "      <th>review_es</th>\n",
              "      <th>sentimiento</th>\n",
              "    </tr>\n",
              "  </thead>\n",
              "  <tbody>\n",
              "    <tr>\n",
              "      <th>0</th>\n",
              "      <td>Uno de los otros críticos ha mencionado que de...</td>\n",
              "      <td>positivo</td>\n",
              "    </tr>\n",
              "    <tr>\n",
              "      <th>1</th>\n",
              "      <td>Una pequeña pequeña producción.La técnica de f...</td>\n",
              "      <td>positivo</td>\n",
              "    </tr>\n",
              "    <tr>\n",
              "      <th>2</th>\n",
              "      <td>Pensé que esta era una manera maravillosa de p...</td>\n",
              "      <td>positivo</td>\n",
              "    </tr>\n",
              "    <tr>\n",
              "      <th>3</th>\n",
              "      <td>Básicamente, hay una familia donde un niño peq...</td>\n",
              "      <td>negativo</td>\n",
              "    </tr>\n",
              "    <tr>\n",
              "      <th>4</th>\n",
              "      <td>El \"amor en el tiempo\" de Petter Mattei es una...</td>\n",
              "      <td>positivo</td>\n",
              "    </tr>\n",
              "  </tbody>\n",
              "</table>\n",
              "</div>\n",
              "    <div class=\"colab-df-buttons\">\n",
              "\n",
              "  <div class=\"colab-df-container\">\n",
              "    <button class=\"colab-df-convert\" onclick=\"convertToInteractive('df-e8f1a02c-fbde-4adc-9e69-562ebac8cfc7')\"\n",
              "            title=\"Convert this dataframe to an interactive table.\"\n",
              "            style=\"display:none;\">\n",
              "\n",
              "  <svg xmlns=\"http://www.w3.org/2000/svg\" height=\"24px\" viewBox=\"0 -960 960 960\">\n",
              "    <path d=\"M120-120v-720h720v720H120Zm60-500h600v-160H180v160Zm220 220h160v-160H400v160Zm0 220h160v-160H400v160ZM180-400h160v-160H180v160Zm440 0h160v-160H620v160ZM180-180h160v-160H180v160Zm440 0h160v-160H620v160Z\"/>\n",
              "  </svg>\n",
              "    </button>\n",
              "\n",
              "  <style>\n",
              "    .colab-df-container {\n",
              "      display:flex;\n",
              "      gap: 12px;\n",
              "    }\n",
              "\n",
              "    .colab-df-convert {\n",
              "      background-color: #E8F0FE;\n",
              "      border: none;\n",
              "      border-radius: 50%;\n",
              "      cursor: pointer;\n",
              "      display: none;\n",
              "      fill: #1967D2;\n",
              "      height: 32px;\n",
              "      padding: 0 0 0 0;\n",
              "      width: 32px;\n",
              "    }\n",
              "\n",
              "    .colab-df-convert:hover {\n",
              "      background-color: #E2EBFA;\n",
              "      box-shadow: 0px 1px 2px rgba(60, 64, 67, 0.3), 0px 1px 3px 1px rgba(60, 64, 67, 0.15);\n",
              "      fill: #174EA6;\n",
              "    }\n",
              "\n",
              "    .colab-df-buttons div {\n",
              "      margin-bottom: 4px;\n",
              "    }\n",
              "\n",
              "    [theme=dark] .colab-df-convert {\n",
              "      background-color: #3B4455;\n",
              "      fill: #D2E3FC;\n",
              "    }\n",
              "\n",
              "    [theme=dark] .colab-df-convert:hover {\n",
              "      background-color: #434B5C;\n",
              "      box-shadow: 0px 1px 3px 1px rgba(0, 0, 0, 0.15);\n",
              "      filter: drop-shadow(0px 1px 2px rgba(0, 0, 0, 0.3));\n",
              "      fill: #FFFFFF;\n",
              "    }\n",
              "  </style>\n",
              "\n",
              "    <script>\n",
              "      const buttonEl =\n",
              "        document.querySelector('#df-e8f1a02c-fbde-4adc-9e69-562ebac8cfc7 button.colab-df-convert');\n",
              "      buttonEl.style.display =\n",
              "        google.colab.kernel.accessAllowed ? 'block' : 'none';\n",
              "\n",
              "      async function convertToInteractive(key) {\n",
              "        const element = document.querySelector('#df-e8f1a02c-fbde-4adc-9e69-562ebac8cfc7');\n",
              "        const dataTable =\n",
              "          await google.colab.kernel.invokeFunction('convertToInteractive',\n",
              "                                                    [key], {});\n",
              "        if (!dataTable) return;\n",
              "\n",
              "        const docLinkHtml = 'Like what you see? Visit the ' +\n",
              "          '<a target=\"_blank\" href=https://colab.research.google.com/notebooks/data_table.ipynb>data table notebook</a>'\n",
              "          + ' to learn more about interactive tables.';\n",
              "        element.innerHTML = '';\n",
              "        dataTable['output_type'] = 'display_data';\n",
              "        await google.colab.output.renderOutput(dataTable, element);\n",
              "        const docLink = document.createElement('div');\n",
              "        docLink.innerHTML = docLinkHtml;\n",
              "        element.appendChild(docLink);\n",
              "      }\n",
              "    </script>\n",
              "  </div>\n",
              "\n",
              "\n",
              "<div id=\"df-3cd3a524-bea9-4c70-a90d-35e4c9a1563f\">\n",
              "  <button class=\"colab-df-quickchart\" onclick=\"quickchart('df-3cd3a524-bea9-4c70-a90d-35e4c9a1563f')\"\n",
              "            title=\"Suggest charts\"\n",
              "            style=\"display:none;\">\n",
              "\n",
              "<svg xmlns=\"http://www.w3.org/2000/svg\" height=\"24px\"viewBox=\"0 0 24 24\"\n",
              "     width=\"24px\">\n",
              "    <g>\n",
              "        <path d=\"M19 3H5c-1.1 0-2 .9-2 2v14c0 1.1.9 2 2 2h14c1.1 0 2-.9 2-2V5c0-1.1-.9-2-2-2zM9 17H7v-7h2v7zm4 0h-2V7h2v10zm4 0h-2v-4h2v4z\"/>\n",
              "    </g>\n",
              "</svg>\n",
              "  </button>\n",
              "\n",
              "<style>\n",
              "  .colab-df-quickchart {\n",
              "      --bg-color: #E8F0FE;\n",
              "      --fill-color: #1967D2;\n",
              "      --hover-bg-color: #E2EBFA;\n",
              "      --hover-fill-color: #174EA6;\n",
              "      --disabled-fill-color: #AAA;\n",
              "      --disabled-bg-color: #DDD;\n",
              "  }\n",
              "\n",
              "  [theme=dark] .colab-df-quickchart {\n",
              "      --bg-color: #3B4455;\n",
              "      --fill-color: #D2E3FC;\n",
              "      --hover-bg-color: #434B5C;\n",
              "      --hover-fill-color: #FFFFFF;\n",
              "      --disabled-bg-color: #3B4455;\n",
              "      --disabled-fill-color: #666;\n",
              "  }\n",
              "\n",
              "  .colab-df-quickchart {\n",
              "    background-color: var(--bg-color);\n",
              "    border: none;\n",
              "    border-radius: 50%;\n",
              "    cursor: pointer;\n",
              "    display: none;\n",
              "    fill: var(--fill-color);\n",
              "    height: 32px;\n",
              "    padding: 0;\n",
              "    width: 32px;\n",
              "  }\n",
              "\n",
              "  .colab-df-quickchart:hover {\n",
              "    background-color: var(--hover-bg-color);\n",
              "    box-shadow: 0 1px 2px rgba(60, 64, 67, 0.3), 0 1px 3px 1px rgba(60, 64, 67, 0.15);\n",
              "    fill: var(--button-hover-fill-color);\n",
              "  }\n",
              "\n",
              "  .colab-df-quickchart-complete:disabled,\n",
              "  .colab-df-quickchart-complete:disabled:hover {\n",
              "    background-color: var(--disabled-bg-color);\n",
              "    fill: var(--disabled-fill-color);\n",
              "    box-shadow: none;\n",
              "  }\n",
              "\n",
              "  .colab-df-spinner {\n",
              "    border: 2px solid var(--fill-color);\n",
              "    border-color: transparent;\n",
              "    border-bottom-color: var(--fill-color);\n",
              "    animation:\n",
              "      spin 1s steps(1) infinite;\n",
              "  }\n",
              "\n",
              "  @keyframes spin {\n",
              "    0% {\n",
              "      border-color: transparent;\n",
              "      border-bottom-color: var(--fill-color);\n",
              "      border-left-color: var(--fill-color);\n",
              "    }\n",
              "    20% {\n",
              "      border-color: transparent;\n",
              "      border-left-color: var(--fill-color);\n",
              "      border-top-color: var(--fill-color);\n",
              "    }\n",
              "    30% {\n",
              "      border-color: transparent;\n",
              "      border-left-color: var(--fill-color);\n",
              "      border-top-color: var(--fill-color);\n",
              "      border-right-color: var(--fill-color);\n",
              "    }\n",
              "    40% {\n",
              "      border-color: transparent;\n",
              "      border-right-color: var(--fill-color);\n",
              "      border-top-color: var(--fill-color);\n",
              "    }\n",
              "    60% {\n",
              "      border-color: transparent;\n",
              "      border-right-color: var(--fill-color);\n",
              "    }\n",
              "    80% {\n",
              "      border-color: transparent;\n",
              "      border-right-color: var(--fill-color);\n",
              "      border-bottom-color: var(--fill-color);\n",
              "    }\n",
              "    90% {\n",
              "      border-color: transparent;\n",
              "      border-bottom-color: var(--fill-color);\n",
              "    }\n",
              "  }\n",
              "</style>\n",
              "\n",
              "  <script>\n",
              "    async function quickchart(key) {\n",
              "      const quickchartButtonEl =\n",
              "        document.querySelector('#' + key + ' button');\n",
              "      quickchartButtonEl.disabled = true;  // To prevent multiple clicks.\n",
              "      quickchartButtonEl.classList.add('colab-df-spinner');\n",
              "      try {\n",
              "        const charts = await google.colab.kernel.invokeFunction(\n",
              "            'suggestCharts', [key], {});\n",
              "      } catch (error) {\n",
              "        console.error('Error during call to suggestCharts:', error);\n",
              "      }\n",
              "      quickchartButtonEl.classList.remove('colab-df-spinner');\n",
              "      quickchartButtonEl.classList.add('colab-df-quickchart-complete');\n",
              "    }\n",
              "    (() => {\n",
              "      let quickchartButtonEl =\n",
              "        document.querySelector('#df-3cd3a524-bea9-4c70-a90d-35e4c9a1563f button');\n",
              "      quickchartButtonEl.style.display =\n",
              "        google.colab.kernel.accessAllowed ? 'block' : 'none';\n",
              "    })();\n",
              "  </script>\n",
              "</div>\n",
              "    </div>\n",
              "  </div>\n"
            ]
          },
          "metadata": {},
          "execution_count": 33
        }
      ],
      "source": [
        "df_train = df_train.drop([\"ID\"],  axis='columns', inplace=False)\n",
        "df_train.head(5)"
      ]
    },
    {
      "cell_type": "markdown",
      "source": [
        "###Lematización"
      ],
      "metadata": {
        "id": "3Iz0t8qXHyYj"
      }
    },
    {
      "cell_type": "markdown",
      "metadata": {
        "id": "0YmhZpXNm9x5"
      },
      "source": [
        "Vamos a lematizar el texto."
      ]
    },
    {
      "cell_type": "code",
      "execution_count": null,
      "metadata": {
        "colab": {
          "base_uri": "https://localhost:8080/"
        },
        "id": "XsWcjdvQlz5J",
        "outputId": "118175d2-68d7-47f6-c35d-ca96c6a5ab66"
      },
      "outputs": [
        {
          "output_type": "stream",
          "name": "stdout",
          "text": [
            "2023-11-25 19:04:39.560275: E tensorflow/compiler/xla/stream_executor/cuda/cuda_dnn.cc:9342] Unable to register cuDNN factory: Attempting to register factory for plugin cuDNN when one has already been registered\n",
            "2023-11-25 19:04:39.560437: E tensorflow/compiler/xla/stream_executor/cuda/cuda_fft.cc:609] Unable to register cuFFT factory: Attempting to register factory for plugin cuFFT when one has already been registered\n",
            "2023-11-25 19:04:39.560600: E tensorflow/compiler/xla/stream_executor/cuda/cuda_blas.cc:1518] Unable to register cuBLAS factory: Attempting to register factory for plugin cuBLAS when one has already been registered\n",
            "2023-11-25 19:04:41.379075: W tensorflow/compiler/tf2tensorrt/utils/py_utils.cc:38] TF-TRT Warning: Could not find TensorRT\n",
            "Collecting es-core-news-sm==3.6.0\n",
            "  Downloading https://github.com/explosion/spacy-models/releases/download/es_core_news_sm-3.6.0/es_core_news_sm-3.6.0-py3-none-any.whl (12.9 MB)\n",
            "\u001b[2K     \u001b[90m━━━━━━━━━━━━━━━━━━━━━━━━━━━━━━━━━━━━━━━━\u001b[0m \u001b[32m12.9/12.9 MB\u001b[0m \u001b[31m38.8 MB/s\u001b[0m eta \u001b[36m0:00:00\u001b[0m\n",
            "\u001b[?25hRequirement already satisfied: spacy<3.7.0,>=3.6.0 in /usr/local/lib/python3.10/dist-packages (from es-core-news-sm==3.6.0) (3.6.1)\n",
            "Requirement already satisfied: spacy-legacy<3.1.0,>=3.0.11 in /usr/local/lib/python3.10/dist-packages (from spacy<3.7.0,>=3.6.0->es-core-news-sm==3.6.0) (3.0.12)\n",
            "Requirement already satisfied: spacy-loggers<2.0.0,>=1.0.0 in /usr/local/lib/python3.10/dist-packages (from spacy<3.7.0,>=3.6.0->es-core-news-sm==3.6.0) (1.0.5)\n",
            "Requirement already satisfied: murmurhash<1.1.0,>=0.28.0 in /usr/local/lib/python3.10/dist-packages (from spacy<3.7.0,>=3.6.0->es-core-news-sm==3.6.0) (1.0.10)\n",
            "Requirement already satisfied: cymem<2.1.0,>=2.0.2 in /usr/local/lib/python3.10/dist-packages (from spacy<3.7.0,>=3.6.0->es-core-news-sm==3.6.0) (2.0.8)\n",
            "Requirement already satisfied: preshed<3.1.0,>=3.0.2 in /usr/local/lib/python3.10/dist-packages (from spacy<3.7.0,>=3.6.0->es-core-news-sm==3.6.0) (3.0.9)\n",
            "Requirement already satisfied: thinc<8.2.0,>=8.1.8 in /usr/local/lib/python3.10/dist-packages (from spacy<3.7.0,>=3.6.0->es-core-news-sm==3.6.0) (8.1.12)\n",
            "Requirement already satisfied: wasabi<1.2.0,>=0.9.1 in /usr/local/lib/python3.10/dist-packages (from spacy<3.7.0,>=3.6.0->es-core-news-sm==3.6.0) (1.1.2)\n",
            "Requirement already satisfied: srsly<3.0.0,>=2.4.3 in /usr/local/lib/python3.10/dist-packages (from spacy<3.7.0,>=3.6.0->es-core-news-sm==3.6.0) (2.4.8)\n",
            "Requirement already satisfied: catalogue<2.1.0,>=2.0.6 in /usr/local/lib/python3.10/dist-packages (from spacy<3.7.0,>=3.6.0->es-core-news-sm==3.6.0) (2.0.10)\n",
            "Requirement already satisfied: typer<0.10.0,>=0.3.0 in /usr/local/lib/python3.10/dist-packages (from spacy<3.7.0,>=3.6.0->es-core-news-sm==3.6.0) (0.9.0)\n",
            "Requirement already satisfied: pathy>=0.10.0 in /usr/local/lib/python3.10/dist-packages (from spacy<3.7.0,>=3.6.0->es-core-news-sm==3.6.0) (0.10.3)\n",
            "Requirement already satisfied: smart-open<7.0.0,>=5.2.1 in /usr/local/lib/python3.10/dist-packages (from spacy<3.7.0,>=3.6.0->es-core-news-sm==3.6.0) (6.4.0)\n",
            "Requirement already satisfied: tqdm<5.0.0,>=4.38.0 in /usr/local/lib/python3.10/dist-packages (from spacy<3.7.0,>=3.6.0->es-core-news-sm==3.6.0) (4.66.1)\n",
            "Requirement already satisfied: numpy>=1.15.0 in /usr/local/lib/python3.10/dist-packages (from spacy<3.7.0,>=3.6.0->es-core-news-sm==3.6.0) (1.23.5)\n",
            "Requirement already satisfied: requests<3.0.0,>=2.13.0 in /usr/local/lib/python3.10/dist-packages (from spacy<3.7.0,>=3.6.0->es-core-news-sm==3.6.0) (2.31.0)\n",
            "Requirement already satisfied: pydantic!=1.8,!=1.8.1,<3.0.0,>=1.7.4 in /usr/local/lib/python3.10/dist-packages (from spacy<3.7.0,>=3.6.0->es-core-news-sm==3.6.0) (1.10.13)\n",
            "Requirement already satisfied: jinja2 in /usr/local/lib/python3.10/dist-packages (from spacy<3.7.0,>=3.6.0->es-core-news-sm==3.6.0) (3.1.2)\n",
            "Requirement already satisfied: setuptools in /usr/local/lib/python3.10/dist-packages (from spacy<3.7.0,>=3.6.0->es-core-news-sm==3.6.0) (67.7.2)\n",
            "Requirement already satisfied: packaging>=20.0 in /usr/local/lib/python3.10/dist-packages (from spacy<3.7.0,>=3.6.0->es-core-news-sm==3.6.0) (23.2)\n",
            "Requirement already satisfied: langcodes<4.0.0,>=3.2.0 in /usr/local/lib/python3.10/dist-packages (from spacy<3.7.0,>=3.6.0->es-core-news-sm==3.6.0) (3.3.0)\n",
            "Requirement already satisfied: typing-extensions>=4.2.0 in /usr/local/lib/python3.10/dist-packages (from pydantic!=1.8,!=1.8.1,<3.0.0,>=1.7.4->spacy<3.7.0,>=3.6.0->es-core-news-sm==3.6.0) (4.5.0)\n",
            "Requirement already satisfied: charset-normalizer<4,>=2 in /usr/local/lib/python3.10/dist-packages (from requests<3.0.0,>=2.13.0->spacy<3.7.0,>=3.6.0->es-core-news-sm==3.6.0) (3.3.2)\n",
            "Requirement already satisfied: idna<4,>=2.5 in /usr/local/lib/python3.10/dist-packages (from requests<3.0.0,>=2.13.0->spacy<3.7.0,>=3.6.0->es-core-news-sm==3.6.0) (3.4)\n",
            "Requirement already satisfied: urllib3<3,>=1.21.1 in /usr/local/lib/python3.10/dist-packages (from requests<3.0.0,>=2.13.0->spacy<3.7.0,>=3.6.0->es-core-news-sm==3.6.0) (2.0.7)\n",
            "Requirement already satisfied: certifi>=2017.4.17 in /usr/local/lib/python3.10/dist-packages (from requests<3.0.0,>=2.13.0->spacy<3.7.0,>=3.6.0->es-core-news-sm==3.6.0) (2023.7.22)\n",
            "Requirement already satisfied: blis<0.8.0,>=0.7.8 in /usr/local/lib/python3.10/dist-packages (from thinc<8.2.0,>=8.1.8->spacy<3.7.0,>=3.6.0->es-core-news-sm==3.6.0) (0.7.11)\n",
            "Requirement already satisfied: confection<1.0.0,>=0.0.1 in /usr/local/lib/python3.10/dist-packages (from thinc<8.2.0,>=8.1.8->spacy<3.7.0,>=3.6.0->es-core-news-sm==3.6.0) (0.1.3)\n",
            "Requirement already satisfied: click<9.0.0,>=7.1.1 in /usr/local/lib/python3.10/dist-packages (from typer<0.10.0,>=0.3.0->spacy<3.7.0,>=3.6.0->es-core-news-sm==3.6.0) (8.1.7)\n",
            "Requirement already satisfied: MarkupSafe>=2.0 in /usr/local/lib/python3.10/dist-packages (from jinja2->spacy<3.7.0,>=3.6.0->es-core-news-sm==3.6.0) (2.1.3)\n",
            "\u001b[38;5;2m✔ Download and installation successful\u001b[0m\n",
            "You can now load the package via spacy.load('es_core_news_sm')\n",
            "2023-11-25 19:04:58.304928: E tensorflow/compiler/xla/stream_executor/cuda/cuda_dnn.cc:9342] Unable to register cuDNN factory: Attempting to register factory for plugin cuDNN when one has already been registered\n",
            "2023-11-25 19:04:58.305016: E tensorflow/compiler/xla/stream_executor/cuda/cuda_fft.cc:609] Unable to register cuFFT factory: Attempting to register factory for plugin cuFFT when one has already been registered\n",
            "2023-11-25 19:04:58.305053: E tensorflow/compiler/xla/stream_executor/cuda/cuda_blas.cc:1518] Unable to register cuBLAS factory: Attempting to register factory for plugin cuBLAS when one has already been registered\n",
            "2023-11-25 19:05:00.405776: W tensorflow/compiler/tf2tensorrt/utils/py_utils.cc:38] TF-TRT Warning: Could not find TensorRT\n",
            "\u001b[38;5;3m⚠ As of spaCy v3.0, shortcuts like 'es' are deprecated. Please use the\n",
            "full pipeline package name 'es_core_news_sm' instead.\u001b[0m\n",
            "Collecting es-core-news-sm==3.6.0\n",
            "  Downloading https://github.com/explosion/spacy-models/releases/download/es_core_news_sm-3.6.0/es_core_news_sm-3.6.0-py3-none-any.whl (12.9 MB)\n",
            "\u001b[2K     \u001b[90m━━━━━━━━━━━━━━━━━━━━━━━━━━━━━━━━━━━━━━━━\u001b[0m \u001b[32m12.9/12.9 MB\u001b[0m \u001b[31m48.3 MB/s\u001b[0m eta \u001b[36m0:00:00\u001b[0m\n",
            "\u001b[?25hRequirement already satisfied: spacy<3.7.0,>=3.6.0 in /usr/local/lib/python3.10/dist-packages (from es-core-news-sm==3.6.0) (3.6.1)\n",
            "Requirement already satisfied: spacy-legacy<3.1.0,>=3.0.11 in /usr/local/lib/python3.10/dist-packages (from spacy<3.7.0,>=3.6.0->es-core-news-sm==3.6.0) (3.0.12)\n",
            "Requirement already satisfied: spacy-loggers<2.0.0,>=1.0.0 in /usr/local/lib/python3.10/dist-packages (from spacy<3.7.0,>=3.6.0->es-core-news-sm==3.6.0) (1.0.5)\n",
            "Requirement already satisfied: murmurhash<1.1.0,>=0.28.0 in /usr/local/lib/python3.10/dist-packages (from spacy<3.7.0,>=3.6.0->es-core-news-sm==3.6.0) (1.0.10)\n",
            "Requirement already satisfied: cymem<2.1.0,>=2.0.2 in /usr/local/lib/python3.10/dist-packages (from spacy<3.7.0,>=3.6.0->es-core-news-sm==3.6.0) (2.0.8)\n",
            "Requirement already satisfied: preshed<3.1.0,>=3.0.2 in /usr/local/lib/python3.10/dist-packages (from spacy<3.7.0,>=3.6.0->es-core-news-sm==3.6.0) (3.0.9)\n",
            "Requirement already satisfied: thinc<8.2.0,>=8.1.8 in /usr/local/lib/python3.10/dist-packages (from spacy<3.7.0,>=3.6.0->es-core-news-sm==3.6.0) (8.1.12)\n",
            "Requirement already satisfied: wasabi<1.2.0,>=0.9.1 in /usr/local/lib/python3.10/dist-packages (from spacy<3.7.0,>=3.6.0->es-core-news-sm==3.6.0) (1.1.2)\n",
            "Requirement already satisfied: srsly<3.0.0,>=2.4.3 in /usr/local/lib/python3.10/dist-packages (from spacy<3.7.0,>=3.6.0->es-core-news-sm==3.6.0) (2.4.8)\n",
            "Requirement already satisfied: catalogue<2.1.0,>=2.0.6 in /usr/local/lib/python3.10/dist-packages (from spacy<3.7.0,>=3.6.0->es-core-news-sm==3.6.0) (2.0.10)\n",
            "Requirement already satisfied: typer<0.10.0,>=0.3.0 in /usr/local/lib/python3.10/dist-packages (from spacy<3.7.0,>=3.6.0->es-core-news-sm==3.6.0) (0.9.0)\n",
            "Requirement already satisfied: pathy>=0.10.0 in /usr/local/lib/python3.10/dist-packages (from spacy<3.7.0,>=3.6.0->es-core-news-sm==3.6.0) (0.10.3)\n",
            "Requirement already satisfied: smart-open<7.0.0,>=5.2.1 in /usr/local/lib/python3.10/dist-packages (from spacy<3.7.0,>=3.6.0->es-core-news-sm==3.6.0) (6.4.0)\n",
            "Requirement already satisfied: tqdm<5.0.0,>=4.38.0 in /usr/local/lib/python3.10/dist-packages (from spacy<3.7.0,>=3.6.0->es-core-news-sm==3.6.0) (4.66.1)\n",
            "Requirement already satisfied: numpy>=1.15.0 in /usr/local/lib/python3.10/dist-packages (from spacy<3.7.0,>=3.6.0->es-core-news-sm==3.6.0) (1.23.5)\n",
            "Requirement already satisfied: requests<3.0.0,>=2.13.0 in /usr/local/lib/python3.10/dist-packages (from spacy<3.7.0,>=3.6.0->es-core-news-sm==3.6.0) (2.31.0)\n",
            "Requirement already satisfied: pydantic!=1.8,!=1.8.1,<3.0.0,>=1.7.4 in /usr/local/lib/python3.10/dist-packages (from spacy<3.7.0,>=3.6.0->es-core-news-sm==3.6.0) (1.10.13)\n",
            "Requirement already satisfied: jinja2 in /usr/local/lib/python3.10/dist-packages (from spacy<3.7.0,>=3.6.0->es-core-news-sm==3.6.0) (3.1.2)\n",
            "Requirement already satisfied: setuptools in /usr/local/lib/python3.10/dist-packages (from spacy<3.7.0,>=3.6.0->es-core-news-sm==3.6.0) (67.7.2)\n",
            "Requirement already satisfied: packaging>=20.0 in /usr/local/lib/python3.10/dist-packages (from spacy<3.7.0,>=3.6.0->es-core-news-sm==3.6.0) (23.2)\n",
            "Requirement already satisfied: langcodes<4.0.0,>=3.2.0 in /usr/local/lib/python3.10/dist-packages (from spacy<3.7.0,>=3.6.0->es-core-news-sm==3.6.0) (3.3.0)\n",
            "Requirement already satisfied: typing-extensions>=4.2.0 in /usr/local/lib/python3.10/dist-packages (from pydantic!=1.8,!=1.8.1,<3.0.0,>=1.7.4->spacy<3.7.0,>=3.6.0->es-core-news-sm==3.6.0) (4.5.0)\n",
            "Requirement already satisfied: charset-normalizer<4,>=2 in /usr/local/lib/python3.10/dist-packages (from requests<3.0.0,>=2.13.0->spacy<3.7.0,>=3.6.0->es-core-news-sm==3.6.0) (3.3.2)\n",
            "Requirement already satisfied: idna<4,>=2.5 in /usr/local/lib/python3.10/dist-packages (from requests<3.0.0,>=2.13.0->spacy<3.7.0,>=3.6.0->es-core-news-sm==3.6.0) (3.4)\n",
            "Requirement already satisfied: urllib3<3,>=1.21.1 in /usr/local/lib/python3.10/dist-packages (from requests<3.0.0,>=2.13.0->spacy<3.7.0,>=3.6.0->es-core-news-sm==3.6.0) (2.0.7)\n",
            "Requirement already satisfied: certifi>=2017.4.17 in /usr/local/lib/python3.10/dist-packages (from requests<3.0.0,>=2.13.0->spacy<3.7.0,>=3.6.0->es-core-news-sm==3.6.0) (2023.7.22)\n",
            "Requirement already satisfied: blis<0.8.0,>=0.7.8 in /usr/local/lib/python3.10/dist-packages (from thinc<8.2.0,>=8.1.8->spacy<3.7.0,>=3.6.0->es-core-news-sm==3.6.0) (0.7.11)\n",
            "Requirement already satisfied: confection<1.0.0,>=0.0.1 in /usr/local/lib/python3.10/dist-packages (from thinc<8.2.0,>=8.1.8->spacy<3.7.0,>=3.6.0->es-core-news-sm==3.6.0) (0.1.3)\n",
            "Requirement already satisfied: click<9.0.0,>=7.1.1 in /usr/local/lib/python3.10/dist-packages (from typer<0.10.0,>=0.3.0->spacy<3.7.0,>=3.6.0->es-core-news-sm==3.6.0) (8.1.7)\n",
            "Requirement already satisfied: MarkupSafe>=2.0 in /usr/local/lib/python3.10/dist-packages (from jinja2->spacy<3.7.0,>=3.6.0->es-core-news-sm==3.6.0) (2.1.3)\n",
            "\u001b[38;5;2m✔ Download and installation successful\u001b[0m\n",
            "You can now load the package via spacy.load('es_core_news_sm')\n"
          ]
        }
      ],
      "source": [
        "!python -m spacy download es_core_news_sm\n",
        "!python -m spacy download es"
      ]
    },
    {
      "cell_type": "code",
      "execution_count": null,
      "metadata": {
        "id": "HCPmL6pNksCc"
      },
      "outputs": [],
      "source": [
        "nlp = spacy.load('es_core_news_sm')"
      ]
    },
    {
      "cell_type": "code",
      "execution_count": null,
      "metadata": {
        "id": "NgezP3QrhyGF"
      },
      "outputs": [],
      "source": [
        "def lematizar_texto(texto):\n",
        "    doc = nlp(texto)\n",
        "    lemas = [token.lemma_ for token in doc]\n",
        "    return ' '.join(lemas)"
      ]
    },
    {
      "cell_type": "code",
      "execution_count": null,
      "metadata": {
        "id": "zwJYAdbkhw3c"
      },
      "outputs": [],
      "source": [
        "df_train['texto_recodificado'] = df_train['review_es'].apply(lematizar_texto)"
      ]
    },
    {
      "cell_type": "code",
      "execution_count": null,
      "metadata": {
        "id": "WFhd2CjRhXB3"
      },
      "outputs": [],
      "source": [
        "df_train.to_csv('train_con_lematizacion.csv', index=False)"
      ]
    },
    {
      "cell_type": "code",
      "execution_count": null,
      "metadata": {
        "id": "i3ELw3cxiR-M",
        "colab": {
          "base_uri": "https://localhost:8080/"
        },
        "outputId": "97afca51-7191-473b-9702-c9508dd7e519"
      },
      "outputs": [
        {
          "output_type": "execute_result",
          "data": {
            "text/plain": [
              "0    uno de el otro crítico haber mencionar que des...\n",
              "1    uno pequeño pequeño producción . el técnica de...\n",
              "2    pensar que este ser uno manera maravilloso de ...\n",
              "3    básicamente , haber uno familia donde uno niño...\n",
              "4    el \" amor en el tiempo \" de Petter Mattei ser ...\n",
              "Name: texto_recodificado, dtype: object"
            ]
          },
          "metadata": {},
          "execution_count": 250
        }
      ],
      "source": [
        "df_train['texto_recodificado'].head(5)"
      ]
    },
    {
      "cell_type": "markdown",
      "source": [
        "###Limpieza"
      ],
      "metadata": {
        "id": "cvfIvJfqHl9u"
      }
    },
    {
      "cell_type": "markdown",
      "metadata": {
        "id": "yGmBCZKRzkuv"
      },
      "source": [
        "Realizamos una limpieza de las oraciones"
      ]
    },
    {
      "cell_type": "code",
      "execution_count": null,
      "metadata": {
        "id": "StjcZZwjb2kZ",
        "colab": {
          "base_uri": "https://localhost:8080/"
        },
        "outputId": "d5af0e7b-171a-43b4-b7cc-e13dd19adc01"
      },
      "outputs": [
        {
          "output_type": "stream",
          "name": "stdout",
          "text": [
            "Requirement already satisfied: unidecode in /usr/local/lib/python3.10/dist-packages (1.3.7)\n"
          ]
        }
      ],
      "source": [
        "pip install unidecode"
      ]
    },
    {
      "cell_type": "code",
      "execution_count": null,
      "metadata": {
        "id": "14A3mKzpSf35"
      },
      "outputs": [],
      "source": [
        "from unidecode import unidecode"
      ]
    },
    {
      "cell_type": "code",
      "execution_count": null,
      "metadata": {
        "id": "oArfxADxD2Uk"
      },
      "outputs": [],
      "source": [
        "def limpiar_texto(texto):\n",
        "    #Convertir texto a minúsculas\n",
        "    texto = texto.lower()\n",
        "\n",
        "    #Eliminar diacríticos usando la biblioteca unidecode\n",
        "    texto = unidecode(texto)\n",
        "\n",
        "    #Eliminar caracteres no alfabéticos y signos de puntuación usando expresiones regulares\n",
        "    texto = re.sub(r'[^a-zA-Z\\s]', '', texto)\n",
        "\n",
        "    #Eliminamos los caracteres especiales\n",
        "    texto = re.sub(r'\\W', ' ', str(texto))\n",
        "\n",
        "    #Eliminamos las palabras que tengan un solo caracter\n",
        "    texto = re.sub(r'\\s+[a-zA-Z]\\s+', ' ', texto)\n",
        "\n",
        "    #Sustituir los espacios en blanco en uno solo\n",
        "    texto = re.sub(r'\\s+', ' ', texto, flags=re.I)\n",
        "\n",
        "    #Tokenización de palabras\n",
        "    palabras = word_tokenize(texto)\n",
        "\n",
        "    #Eliminar stopwords (palabras comunes que no aportan mucho significado)\n",
        "    stop_words = set(stopwords.words('spanish'))\n",
        "    palabras = [palabra for palabra in palabras if palabra not in stop_words]\n",
        "\n",
        "    #Unir palabras limpias de nuevo en texto\n",
        "    texto_limpio = ' '.join(palabras)\n",
        "\n",
        "    return texto_limpio"
      ]
    },
    {
      "cell_type": "code",
      "execution_count": null,
      "metadata": {
        "id": "kVASG3ZpGE4E"
      },
      "outputs": [],
      "source": [
        "df_train['texto_recodificado'] = df_train['texto_recodificado'].apply(limpiar_texto)"
      ]
    },
    {
      "cell_type": "code",
      "execution_count": null,
      "metadata": {
        "id": "ftP8C0YMGM5o",
        "colab": {
          "base_uri": "https://localhost:8080/"
        },
        "outputId": "eaa59738-7d52-4bf7-bf38-a458636d3cf6"
      },
      "outputs": [
        {
          "output_type": "execute_result",
          "data": {
            "text/plain": [
              "0    uno de los otros criticos ha mencionado que de...\n",
              "1    una pequena pequena produccion la tecnica de f...\n",
              "2    pense que esta era una manera maravillosa de p...\n",
              "3    basicamente hay una familia donde un nino pequ...\n",
              "4    el amor en el tiempo de petter mattei es una p...\n",
              "Name: texto_recodificado, dtype: object"
            ]
          },
          "metadata": {},
          "execution_count": 38
        }
      ],
      "source": [
        "df_train['texto_recodificado'].head(5)"
      ]
    },
    {
      "cell_type": "markdown",
      "source": [
        "###Stopwords"
      ],
      "metadata": {
        "id": "TTTqC3KBH_YR"
      }
    },
    {
      "cell_type": "code",
      "execution_count": null,
      "metadata": {
        "id": "OKZQbbgP0HEA"
      },
      "outputs": [],
      "source": [
        "from nltk.corpus import stopwords\n",
        "from nltk.tokenize import word_tokenize"
      ]
    },
    {
      "cell_type": "code",
      "execution_count": null,
      "metadata": {
        "id": "Kj1UyTpEz4iG",
        "colab": {
          "base_uri": "https://localhost:8080/"
        },
        "outputId": "b1fdac6b-2631-4482-f0a7-20718603f2ff"
      },
      "outputs": [
        {
          "output_type": "stream",
          "name": "stderr",
          "text": [
            "[nltk_data] Downloading package stopwords to /root/nltk_data...\n",
            "[nltk_data]   Package stopwords is already up-to-date!\n",
            "[nltk_data] Downloading package punkt to /root/nltk_data...\n",
            "[nltk_data]   Package punkt is already up-to-date!\n"
          ]
        },
        {
          "output_type": "execute_result",
          "data": {
            "text/plain": [
              "True"
            ]
          },
          "metadata": {},
          "execution_count": 286
        }
      ],
      "source": [
        "nltk.download('stopwords')\n",
        "nltk.download('punkt')"
      ]
    },
    {
      "cell_type": "code",
      "source": [
        "def remove_stop_words(text):\n",
        "    stop_words = set(stopwords.words('spanish'))\n",
        "    word_tokens = word_tokenize(text)\n",
        "    filtered_text = [word for word in word_tokens if word.lower() not in stop_words]\n",
        "    return ' '.join(filtered_text)"
      ],
      "metadata": {
        "id": "SplbhfMMy9-6"
      },
      "execution_count": null,
      "outputs": []
    },
    {
      "cell_type": "code",
      "source": [
        "df_train['texto_recodificado'] = df_train['texto_recodificado'].apply(remove_stop_words)"
      ],
      "metadata": {
        "id": "I5myTQ2_zAK-"
      },
      "execution_count": null,
      "outputs": []
    },
    {
      "cell_type": "markdown",
      "source": [
        "###Tokenización"
      ],
      "metadata": {
        "id": "x4o0PvoZH3Yu"
      }
    },
    {
      "cell_type": "markdown",
      "metadata": {
        "id": "v1aYP52-dhP5"
      },
      "source": [
        "Vamos a tokenizar. Agrego una nueva columna al dataset que tenga 1 vector con las palabras de cada review"
      ]
    },
    {
      "cell_type": "code",
      "execution_count": null,
      "metadata": {
        "id": "K5k8YqnZyw9t"
      },
      "outputs": [],
      "source": [
        "from nltk.tokenize import RegexpTokenizer"
      ]
    },
    {
      "cell_type": "code",
      "execution_count": null,
      "metadata": {
        "id": "8ZnwY5-NyyzG",
        "colab": {
          "base_uri": "https://localhost:8080/"
        },
        "outputId": "5eb6dd33-d070-41a7-9b3c-d3efc2b0065d"
      },
      "outputs": [
        {
          "output_type": "execute_result",
          "data": {
            "text/plain": [
              "0    [uno, de, los, otros, criticos, ha, mencionado...\n",
              "1    [una, pequena, pequena, produccion, la, tecnic...\n",
              "2    [pense, que, esta, era, una, manera, maravillo...\n",
              "3    [basicamente, hay, una, familia, donde, un, ni...\n",
              "4    [el, amor, en, el, tiempo, de, petter, mattei,...\n",
              "Name: text_token, dtype: object"
            ]
          },
          "metadata": {},
          "execution_count": 40
        }
      ],
      "source": [
        "regexp = RegexpTokenizer('\\w+')\n",
        "\n",
        "df_train['text_token'] = df_train['texto_recodificado'].apply(regexp.tokenize)\n",
        "df_train['text_token'].head(5)"
      ]
    },
    {
      "cell_type": "markdown",
      "source": [
        "###Reseñas en inglés"
      ],
      "metadata": {
        "id": "2ZaCavMoH7no"
      }
    },
    {
      "cell_type": "markdown",
      "metadata": {
        "id": "1MyAt3Kfw_R7"
      },
      "source": [
        "Ahora, eliminaremos las observaciones en ingles"
      ]
    },
    {
      "cell_type": "code",
      "execution_count": null,
      "metadata": {
        "id": "tsT9NvqMWGQi",
        "colab": {
          "base_uri": "https://localhost:8080/"
        },
        "outputId": "fffd196c-91d3-4916-b880-4173dceddc6b"
      },
      "outputs": [
        {
          "output_type": "stream",
          "name": "stdout",
          "text": [
            "Requirement already satisfied: langid in /usr/local/lib/python3.10/dist-packages (1.1.6)\n",
            "Requirement already satisfied: numpy in /usr/local/lib/python3.10/dist-packages (from langid) (1.23.5)\n"
          ]
        }
      ],
      "source": [
        "pip install langid"
      ]
    },
    {
      "cell_type": "code",
      "execution_count": null,
      "metadata": {
        "id": "gq9QISxyWAne"
      },
      "outputs": [],
      "source": [
        "import langid"
      ]
    },
    {
      "cell_type": "code",
      "execution_count": null,
      "metadata": {
        "id": "uODl4TMzYcGC"
      },
      "outputs": [],
      "source": [
        "def detect_language(text):\n",
        "    return langid.classify(text)[0]"
      ]
    },
    {
      "cell_type": "code",
      "execution_count": null,
      "metadata": {
        "id": "_F5B1PX5V9ed"
      },
      "outputs": [],
      "source": [
        "df_train['language'] = df_train['review_es'].apply(detect_language)\n",
        "df_ingles = df_train[df_train['language'] == 'en']"
      ]
    },
    {
      "cell_type": "code",
      "execution_count": null,
      "metadata": {
        "id": "tCGNZayAYgWb",
        "colab": {
          "base_uri": "https://localhost:8080/",
          "height": 363
        },
        "outputId": "3981effa-dc94-4343-f00f-d15e87aa4f99"
      },
      "outputs": [
        {
          "output_type": "execute_result",
          "data": {
            "text/plain": [
              "                                             review_es sentimiento  \\\n",
              "156  From the film's first shot - Keira Knightley a...    negativo   \n",
              "249  'Airport 4' is basically a slopped together me...    negativo   \n",
              "250  Supposedly a \"social commentary\" on racism and...    negativo   \n",
              "263  There is a difference between a \"film,\" and a ...    negativo   \n",
              "264  please re-watch all 3 series and do not go see...    negativo   \n",
              "265  Finally! An Iranian film that is not made by M...    positivo   \n",
              "267  Tainted look at kibbutz lifeThis film is less ...    negativo   \n",
              "274  What an incomprehensible mess of a movie Somet...    negativo   \n",
              "275  I love to watch this movie a lot because of al...    positivo   \n",
              "278  I watched this movie for the hot guy--and even...    negativo   \n",
              "\n",
              "                                    texto_recodificado  \\\n",
              "156  from the film first shot keira knightley as el...   \n",
              "249   airport 4 is basically slopped together mess ...   \n",
              "250  supposedly social commentary on racism and pri...   \n",
              "263  there is difference between film and movie fil...   \n",
              "264  please re watch all 3 series and do not go see...   \n",
              "265  finally an iranian film that is not made by ma...   \n",
              "267  tainted look at kibbutz lifethis film is less ...   \n",
              "274  what an incomprehensible mess of movie somethi...   \n",
              "275  i love to watch this movie lot because of all ...   \n",
              "278  i watched this movie for the hot guy and even ...   \n",
              "\n",
              "                                            text_token language  \n",
              "156  [from, the, film, first, shot, keira, knightle...       en  \n",
              "249  [airport, 4, is, basically, slopped, together,...       en  \n",
              "250  [supposedly, social, commentary, on, racism, a...       en  \n",
              "263  [there, is, difference, between, film, and, mo...       en  \n",
              "264  [please, re, watch, all, 3, series, and, do, n...       en  \n",
              "265  [finally, an, iranian, film, that, is, not, ma...       en  \n",
              "267  [tainted, look, at, kibbutz, lifethis, film, i...       en  \n",
              "274  [what, an, incomprehensible, mess, of, movie, ...       en  \n",
              "275  [i, love, to, watch, this, movie, lot, because...       en  \n",
              "278  [i, watched, this, movie, for, the, hot, guy, ...       en  "
            ],
            "text/html": [
              "\n",
              "  <div id=\"df-de8ad9ff-1397-4ba5-a8dc-4153401ec319\" class=\"colab-df-container\">\n",
              "    <div>\n",
              "<style scoped>\n",
              "    .dataframe tbody tr th:only-of-type {\n",
              "        vertical-align: middle;\n",
              "    }\n",
              "\n",
              "    .dataframe tbody tr th {\n",
              "        vertical-align: top;\n",
              "    }\n",
              "\n",
              "    .dataframe thead th {\n",
              "        text-align: right;\n",
              "    }\n",
              "</style>\n",
              "<table border=\"1\" class=\"dataframe\">\n",
              "  <thead>\n",
              "    <tr style=\"text-align: right;\">\n",
              "      <th></th>\n",
              "      <th>review_es</th>\n",
              "      <th>sentimiento</th>\n",
              "      <th>texto_recodificado</th>\n",
              "      <th>text_token</th>\n",
              "      <th>language</th>\n",
              "    </tr>\n",
              "  </thead>\n",
              "  <tbody>\n",
              "    <tr>\n",
              "      <th>156</th>\n",
              "      <td>From the film's first shot - Keira Knightley a...</td>\n",
              "      <td>negativo</td>\n",
              "      <td>from the film first shot keira knightley as el...</td>\n",
              "      <td>[from, the, film, first, shot, keira, knightle...</td>\n",
              "      <td>en</td>\n",
              "    </tr>\n",
              "    <tr>\n",
              "      <th>249</th>\n",
              "      <td>'Airport 4' is basically a slopped together me...</td>\n",
              "      <td>negativo</td>\n",
              "      <td>airport 4 is basically slopped together mess ...</td>\n",
              "      <td>[airport, 4, is, basically, slopped, together,...</td>\n",
              "      <td>en</td>\n",
              "    </tr>\n",
              "    <tr>\n",
              "      <th>250</th>\n",
              "      <td>Supposedly a \"social commentary\" on racism and...</td>\n",
              "      <td>negativo</td>\n",
              "      <td>supposedly social commentary on racism and pri...</td>\n",
              "      <td>[supposedly, social, commentary, on, racism, a...</td>\n",
              "      <td>en</td>\n",
              "    </tr>\n",
              "    <tr>\n",
              "      <th>263</th>\n",
              "      <td>There is a difference between a \"film,\" and a ...</td>\n",
              "      <td>negativo</td>\n",
              "      <td>there is difference between film and movie fil...</td>\n",
              "      <td>[there, is, difference, between, film, and, mo...</td>\n",
              "      <td>en</td>\n",
              "    </tr>\n",
              "    <tr>\n",
              "      <th>264</th>\n",
              "      <td>please re-watch all 3 series and do not go see...</td>\n",
              "      <td>negativo</td>\n",
              "      <td>please re watch all 3 series and do not go see...</td>\n",
              "      <td>[please, re, watch, all, 3, series, and, do, n...</td>\n",
              "      <td>en</td>\n",
              "    </tr>\n",
              "    <tr>\n",
              "      <th>265</th>\n",
              "      <td>Finally! An Iranian film that is not made by M...</td>\n",
              "      <td>positivo</td>\n",
              "      <td>finally an iranian film that is not made by ma...</td>\n",
              "      <td>[finally, an, iranian, film, that, is, not, ma...</td>\n",
              "      <td>en</td>\n",
              "    </tr>\n",
              "    <tr>\n",
              "      <th>267</th>\n",
              "      <td>Tainted look at kibbutz lifeThis film is less ...</td>\n",
              "      <td>negativo</td>\n",
              "      <td>tainted look at kibbutz lifethis film is less ...</td>\n",
              "      <td>[tainted, look, at, kibbutz, lifethis, film, i...</td>\n",
              "      <td>en</td>\n",
              "    </tr>\n",
              "    <tr>\n",
              "      <th>274</th>\n",
              "      <td>What an incomprehensible mess of a movie Somet...</td>\n",
              "      <td>negativo</td>\n",
              "      <td>what an incomprehensible mess of movie somethi...</td>\n",
              "      <td>[what, an, incomprehensible, mess, of, movie, ...</td>\n",
              "      <td>en</td>\n",
              "    </tr>\n",
              "    <tr>\n",
              "      <th>275</th>\n",
              "      <td>I love to watch this movie a lot because of al...</td>\n",
              "      <td>positivo</td>\n",
              "      <td>i love to watch this movie lot because of all ...</td>\n",
              "      <td>[i, love, to, watch, this, movie, lot, because...</td>\n",
              "      <td>en</td>\n",
              "    </tr>\n",
              "    <tr>\n",
              "      <th>278</th>\n",
              "      <td>I watched this movie for the hot guy--and even...</td>\n",
              "      <td>negativo</td>\n",
              "      <td>i watched this movie for the hot guy and even ...</td>\n",
              "      <td>[i, watched, this, movie, for, the, hot, guy, ...</td>\n",
              "      <td>en</td>\n",
              "    </tr>\n",
              "  </tbody>\n",
              "</table>\n",
              "</div>\n",
              "    <div class=\"colab-df-buttons\">\n",
              "\n",
              "  <div class=\"colab-df-container\">\n",
              "    <button class=\"colab-df-convert\" onclick=\"convertToInteractive('df-de8ad9ff-1397-4ba5-a8dc-4153401ec319')\"\n",
              "            title=\"Convert this dataframe to an interactive table.\"\n",
              "            style=\"display:none;\">\n",
              "\n",
              "  <svg xmlns=\"http://www.w3.org/2000/svg\" height=\"24px\" viewBox=\"0 -960 960 960\">\n",
              "    <path d=\"M120-120v-720h720v720H120Zm60-500h600v-160H180v160Zm220 220h160v-160H400v160Zm0 220h160v-160H400v160ZM180-400h160v-160H180v160Zm440 0h160v-160H620v160ZM180-180h160v-160H180v160Zm440 0h160v-160H620v160Z\"/>\n",
              "  </svg>\n",
              "    </button>\n",
              "\n",
              "  <style>\n",
              "    .colab-df-container {\n",
              "      display:flex;\n",
              "      gap: 12px;\n",
              "    }\n",
              "\n",
              "    .colab-df-convert {\n",
              "      background-color: #E8F0FE;\n",
              "      border: none;\n",
              "      border-radius: 50%;\n",
              "      cursor: pointer;\n",
              "      display: none;\n",
              "      fill: #1967D2;\n",
              "      height: 32px;\n",
              "      padding: 0 0 0 0;\n",
              "      width: 32px;\n",
              "    }\n",
              "\n",
              "    .colab-df-convert:hover {\n",
              "      background-color: #E2EBFA;\n",
              "      box-shadow: 0px 1px 2px rgba(60, 64, 67, 0.3), 0px 1px 3px 1px rgba(60, 64, 67, 0.15);\n",
              "      fill: #174EA6;\n",
              "    }\n",
              "\n",
              "    .colab-df-buttons div {\n",
              "      margin-bottom: 4px;\n",
              "    }\n",
              "\n",
              "    [theme=dark] .colab-df-convert {\n",
              "      background-color: #3B4455;\n",
              "      fill: #D2E3FC;\n",
              "    }\n",
              "\n",
              "    [theme=dark] .colab-df-convert:hover {\n",
              "      background-color: #434B5C;\n",
              "      box-shadow: 0px 1px 3px 1px rgba(0, 0, 0, 0.15);\n",
              "      filter: drop-shadow(0px 1px 2px rgba(0, 0, 0, 0.3));\n",
              "      fill: #FFFFFF;\n",
              "    }\n",
              "  </style>\n",
              "\n",
              "    <script>\n",
              "      const buttonEl =\n",
              "        document.querySelector('#df-de8ad9ff-1397-4ba5-a8dc-4153401ec319 button.colab-df-convert');\n",
              "      buttonEl.style.display =\n",
              "        google.colab.kernel.accessAllowed ? 'block' : 'none';\n",
              "\n",
              "      async function convertToInteractive(key) {\n",
              "        const element = document.querySelector('#df-de8ad9ff-1397-4ba5-a8dc-4153401ec319');\n",
              "        const dataTable =\n",
              "          await google.colab.kernel.invokeFunction('convertToInteractive',\n",
              "                                                    [key], {});\n",
              "        if (!dataTable) return;\n",
              "\n",
              "        const docLinkHtml = 'Like what you see? Visit the ' +\n",
              "          '<a target=\"_blank\" href=https://colab.research.google.com/notebooks/data_table.ipynb>data table notebook</a>'\n",
              "          + ' to learn more about interactive tables.';\n",
              "        element.innerHTML = '';\n",
              "        dataTable['output_type'] = 'display_data';\n",
              "        await google.colab.output.renderOutput(dataTable, element);\n",
              "        const docLink = document.createElement('div');\n",
              "        docLink.innerHTML = docLinkHtml;\n",
              "        element.appendChild(docLink);\n",
              "      }\n",
              "    </script>\n",
              "  </div>\n",
              "\n",
              "\n",
              "<div id=\"df-aa654317-c6b5-4797-b487-599d0f60d845\">\n",
              "  <button class=\"colab-df-quickchart\" onclick=\"quickchart('df-aa654317-c6b5-4797-b487-599d0f60d845')\"\n",
              "            title=\"Suggest charts\"\n",
              "            style=\"display:none;\">\n",
              "\n",
              "<svg xmlns=\"http://www.w3.org/2000/svg\" height=\"24px\"viewBox=\"0 0 24 24\"\n",
              "     width=\"24px\">\n",
              "    <g>\n",
              "        <path d=\"M19 3H5c-1.1 0-2 .9-2 2v14c0 1.1.9 2 2 2h14c1.1 0 2-.9 2-2V5c0-1.1-.9-2-2-2zM9 17H7v-7h2v7zm4 0h-2V7h2v10zm4 0h-2v-4h2v4z\"/>\n",
              "    </g>\n",
              "</svg>\n",
              "  </button>\n",
              "\n",
              "<style>\n",
              "  .colab-df-quickchart {\n",
              "      --bg-color: #E8F0FE;\n",
              "      --fill-color: #1967D2;\n",
              "      --hover-bg-color: #E2EBFA;\n",
              "      --hover-fill-color: #174EA6;\n",
              "      --disabled-fill-color: #AAA;\n",
              "      --disabled-bg-color: #DDD;\n",
              "  }\n",
              "\n",
              "  [theme=dark] .colab-df-quickchart {\n",
              "      --bg-color: #3B4455;\n",
              "      --fill-color: #D2E3FC;\n",
              "      --hover-bg-color: #434B5C;\n",
              "      --hover-fill-color: #FFFFFF;\n",
              "      --disabled-bg-color: #3B4455;\n",
              "      --disabled-fill-color: #666;\n",
              "  }\n",
              "\n",
              "  .colab-df-quickchart {\n",
              "    background-color: var(--bg-color);\n",
              "    border: none;\n",
              "    border-radius: 50%;\n",
              "    cursor: pointer;\n",
              "    display: none;\n",
              "    fill: var(--fill-color);\n",
              "    height: 32px;\n",
              "    padding: 0;\n",
              "    width: 32px;\n",
              "  }\n",
              "\n",
              "  .colab-df-quickchart:hover {\n",
              "    background-color: var(--hover-bg-color);\n",
              "    box-shadow: 0 1px 2px rgba(60, 64, 67, 0.3), 0 1px 3px 1px rgba(60, 64, 67, 0.15);\n",
              "    fill: var(--button-hover-fill-color);\n",
              "  }\n",
              "\n",
              "  .colab-df-quickchart-complete:disabled,\n",
              "  .colab-df-quickchart-complete:disabled:hover {\n",
              "    background-color: var(--disabled-bg-color);\n",
              "    fill: var(--disabled-fill-color);\n",
              "    box-shadow: none;\n",
              "  }\n",
              "\n",
              "  .colab-df-spinner {\n",
              "    border: 2px solid var(--fill-color);\n",
              "    border-color: transparent;\n",
              "    border-bottom-color: var(--fill-color);\n",
              "    animation:\n",
              "      spin 1s steps(1) infinite;\n",
              "  }\n",
              "\n",
              "  @keyframes spin {\n",
              "    0% {\n",
              "      border-color: transparent;\n",
              "      border-bottom-color: var(--fill-color);\n",
              "      border-left-color: var(--fill-color);\n",
              "    }\n",
              "    20% {\n",
              "      border-color: transparent;\n",
              "      border-left-color: var(--fill-color);\n",
              "      border-top-color: var(--fill-color);\n",
              "    }\n",
              "    30% {\n",
              "      border-color: transparent;\n",
              "      border-left-color: var(--fill-color);\n",
              "      border-top-color: var(--fill-color);\n",
              "      border-right-color: var(--fill-color);\n",
              "    }\n",
              "    40% {\n",
              "      border-color: transparent;\n",
              "      border-right-color: var(--fill-color);\n",
              "      border-top-color: var(--fill-color);\n",
              "    }\n",
              "    60% {\n",
              "      border-color: transparent;\n",
              "      border-right-color: var(--fill-color);\n",
              "    }\n",
              "    80% {\n",
              "      border-color: transparent;\n",
              "      border-right-color: var(--fill-color);\n",
              "      border-bottom-color: var(--fill-color);\n",
              "    }\n",
              "    90% {\n",
              "      border-color: transparent;\n",
              "      border-bottom-color: var(--fill-color);\n",
              "    }\n",
              "  }\n",
              "</style>\n",
              "\n",
              "  <script>\n",
              "    async function quickchart(key) {\n",
              "      const quickchartButtonEl =\n",
              "        document.querySelector('#' + key + ' button');\n",
              "      quickchartButtonEl.disabled = true;  // To prevent multiple clicks.\n",
              "      quickchartButtonEl.classList.add('colab-df-spinner');\n",
              "      try {\n",
              "        const charts = await google.colab.kernel.invokeFunction(\n",
              "            'suggestCharts', [key], {});\n",
              "      } catch (error) {\n",
              "        console.error('Error during call to suggestCharts:', error);\n",
              "      }\n",
              "      quickchartButtonEl.classList.remove('colab-df-spinner');\n",
              "      quickchartButtonEl.classList.add('colab-df-quickchart-complete');\n",
              "    }\n",
              "    (() => {\n",
              "      let quickchartButtonEl =\n",
              "        document.querySelector('#df-aa654317-c6b5-4797-b487-599d0f60d845 button');\n",
              "      quickchartButtonEl.style.display =\n",
              "        google.colab.kernel.accessAllowed ? 'block' : 'none';\n",
              "    })();\n",
              "  </script>\n",
              "</div>\n",
              "    </div>\n",
              "  </div>\n"
            ]
          },
          "metadata": {},
          "execution_count": 45
        }
      ],
      "source": [
        "df_ingles.head(10)"
      ]
    },
    {
      "cell_type": "code",
      "execution_count": null,
      "metadata": {
        "id": "gef3hWCoYU61",
        "colab": {
          "base_uri": "https://localhost:8080/"
        },
        "outputId": "75051048-4c53-4add-967b-c2a1d3979c75"
      },
      "outputs": [
        {
          "output_type": "execute_result",
          "data": {
            "text/plain": [
              "(1817, 5)"
            ]
          },
          "metadata": {},
          "execution_count": 46
        }
      ],
      "source": [
        "df_ingles.shape"
      ]
    },
    {
      "cell_type": "markdown",
      "metadata": {
        "id": "wUq09I21Y8yA"
      },
      "source": [
        "Nos quedamos con el dataframe que solo tiene reseñas en español"
      ]
    },
    {
      "cell_type": "code",
      "execution_count": null,
      "metadata": {
        "id": "unzH2JYlY5iC",
        "colab": {
          "base_uri": "https://localhost:8080/",
          "height": 363
        },
        "outputId": "3ddeb0d8-1c24-43d4-dbee-c883f4703c9e"
      },
      "outputs": [
        {
          "output_type": "execute_result",
          "data": {
            "text/plain": [
              "                                           review_es sentimiento  \\\n",
              "0  Uno de los otros críticos ha mencionado que de...    positivo   \n",
              "1  Una pequeña pequeña producción.La técnica de f...    positivo   \n",
              "2  Pensé que esta era una manera maravillosa de p...    positivo   \n",
              "3  Básicamente, hay una familia donde un niño peq...    negativo   \n",
              "4  El \"amor en el tiempo\" de Petter Mattei es una...    positivo   \n",
              "5  Probablemente mi película favorita de todos lo...    positivo   \n",
              "6  Seguro que me gustaría ver una resurrección de...    positivo   \n",
              "7  Este espectáculo fue una idea increíble, fresc...    negativo   \n",
              "8  Alentados por los comentarios positivos sobre ...    negativo   \n",
              "9  Si te gusta la risa original desgarradora, te ...    positivo   \n",
              "\n",
              "                                  texto_recodificado  \\\n",
              "0  uno de los otros criticos ha mencionado que de...   \n",
              "1  una pequena pequena produccion la tecnica de f...   \n",
              "2  pense que esta era una manera maravillosa de p...   \n",
              "3  basicamente hay una familia donde un nino pequ...   \n",
              "4  el amor en el tiempo de petter mattei es una p...   \n",
              "5  probablemente mi pelicula favorita de todos lo...   \n",
              "6  seguro que me gustaria ver una resurreccion de...   \n",
              "7  este espectaculo fue una idea increible fresca...   \n",
              "8  alentados por los comentarios positivos sobre ...   \n",
              "9  si te gusta la risa original desgarradora te g...   \n",
              "\n",
              "                                          text_token  \n",
              "0  [uno, de, los, otros, criticos, ha, mencionado...  \n",
              "1  [una, pequena, pequena, produccion, la, tecnic...  \n",
              "2  [pense, que, esta, era, una, manera, maravillo...  \n",
              "3  [basicamente, hay, una, familia, donde, un, ni...  \n",
              "4  [el, amor, en, el, tiempo, de, petter, mattei,...  \n",
              "5  [probablemente, mi, pelicula, favorita, de, to...  \n",
              "6  [seguro, que, me, gustaria, ver, una, resurrec...  \n",
              "7  [este, espectaculo, fue, una, idea, increible,...  \n",
              "8  [alentados, por, los, comentarios, positivos, ...  \n",
              "9  [si, te, gusta, la, risa, original, desgarrado...  "
            ],
            "text/html": [
              "\n",
              "  <div id=\"df-c32ceaf9-1de2-49be-8f01-34b479137678\" class=\"colab-df-container\">\n",
              "    <div>\n",
              "<style scoped>\n",
              "    .dataframe tbody tr th:only-of-type {\n",
              "        vertical-align: middle;\n",
              "    }\n",
              "\n",
              "    .dataframe tbody tr th {\n",
              "        vertical-align: top;\n",
              "    }\n",
              "\n",
              "    .dataframe thead th {\n",
              "        text-align: right;\n",
              "    }\n",
              "</style>\n",
              "<table border=\"1\" class=\"dataframe\">\n",
              "  <thead>\n",
              "    <tr style=\"text-align: right;\">\n",
              "      <th></th>\n",
              "      <th>review_es</th>\n",
              "      <th>sentimiento</th>\n",
              "      <th>texto_recodificado</th>\n",
              "      <th>text_token</th>\n",
              "    </tr>\n",
              "  </thead>\n",
              "  <tbody>\n",
              "    <tr>\n",
              "      <th>0</th>\n",
              "      <td>Uno de los otros críticos ha mencionado que de...</td>\n",
              "      <td>positivo</td>\n",
              "      <td>uno de los otros criticos ha mencionado que de...</td>\n",
              "      <td>[uno, de, los, otros, criticos, ha, mencionado...</td>\n",
              "    </tr>\n",
              "    <tr>\n",
              "      <th>1</th>\n",
              "      <td>Una pequeña pequeña producción.La técnica de f...</td>\n",
              "      <td>positivo</td>\n",
              "      <td>una pequena pequena produccion la tecnica de f...</td>\n",
              "      <td>[una, pequena, pequena, produccion, la, tecnic...</td>\n",
              "    </tr>\n",
              "    <tr>\n",
              "      <th>2</th>\n",
              "      <td>Pensé que esta era una manera maravillosa de p...</td>\n",
              "      <td>positivo</td>\n",
              "      <td>pense que esta era una manera maravillosa de p...</td>\n",
              "      <td>[pense, que, esta, era, una, manera, maravillo...</td>\n",
              "    </tr>\n",
              "    <tr>\n",
              "      <th>3</th>\n",
              "      <td>Básicamente, hay una familia donde un niño peq...</td>\n",
              "      <td>negativo</td>\n",
              "      <td>basicamente hay una familia donde un nino pequ...</td>\n",
              "      <td>[basicamente, hay, una, familia, donde, un, ni...</td>\n",
              "    </tr>\n",
              "    <tr>\n",
              "      <th>4</th>\n",
              "      <td>El \"amor en el tiempo\" de Petter Mattei es una...</td>\n",
              "      <td>positivo</td>\n",
              "      <td>el amor en el tiempo de petter mattei es una p...</td>\n",
              "      <td>[el, amor, en, el, tiempo, de, petter, mattei,...</td>\n",
              "    </tr>\n",
              "    <tr>\n",
              "      <th>5</th>\n",
              "      <td>Probablemente mi película favorita de todos lo...</td>\n",
              "      <td>positivo</td>\n",
              "      <td>probablemente mi pelicula favorita de todos lo...</td>\n",
              "      <td>[probablemente, mi, pelicula, favorita, de, to...</td>\n",
              "    </tr>\n",
              "    <tr>\n",
              "      <th>6</th>\n",
              "      <td>Seguro que me gustaría ver una resurrección de...</td>\n",
              "      <td>positivo</td>\n",
              "      <td>seguro que me gustaria ver una resurreccion de...</td>\n",
              "      <td>[seguro, que, me, gustaria, ver, una, resurrec...</td>\n",
              "    </tr>\n",
              "    <tr>\n",
              "      <th>7</th>\n",
              "      <td>Este espectáculo fue una idea increíble, fresc...</td>\n",
              "      <td>negativo</td>\n",
              "      <td>este espectaculo fue una idea increible fresca...</td>\n",
              "      <td>[este, espectaculo, fue, una, idea, increible,...</td>\n",
              "    </tr>\n",
              "    <tr>\n",
              "      <th>8</th>\n",
              "      <td>Alentados por los comentarios positivos sobre ...</td>\n",
              "      <td>negativo</td>\n",
              "      <td>alentados por los comentarios positivos sobre ...</td>\n",
              "      <td>[alentados, por, los, comentarios, positivos, ...</td>\n",
              "    </tr>\n",
              "    <tr>\n",
              "      <th>9</th>\n",
              "      <td>Si te gusta la risa original desgarradora, te ...</td>\n",
              "      <td>positivo</td>\n",
              "      <td>si te gusta la risa original desgarradora te g...</td>\n",
              "      <td>[si, te, gusta, la, risa, original, desgarrado...</td>\n",
              "    </tr>\n",
              "  </tbody>\n",
              "</table>\n",
              "</div>\n",
              "    <div class=\"colab-df-buttons\">\n",
              "\n",
              "  <div class=\"colab-df-container\">\n",
              "    <button class=\"colab-df-convert\" onclick=\"convertToInteractive('df-c32ceaf9-1de2-49be-8f01-34b479137678')\"\n",
              "            title=\"Convert this dataframe to an interactive table.\"\n",
              "            style=\"display:none;\">\n",
              "\n",
              "  <svg xmlns=\"http://www.w3.org/2000/svg\" height=\"24px\" viewBox=\"0 -960 960 960\">\n",
              "    <path d=\"M120-120v-720h720v720H120Zm60-500h600v-160H180v160Zm220 220h160v-160H400v160Zm0 220h160v-160H400v160ZM180-400h160v-160H180v160Zm440 0h160v-160H620v160ZM180-180h160v-160H180v160Zm440 0h160v-160H620v160Z\"/>\n",
              "  </svg>\n",
              "    </button>\n",
              "\n",
              "  <style>\n",
              "    .colab-df-container {\n",
              "      display:flex;\n",
              "      gap: 12px;\n",
              "    }\n",
              "\n",
              "    .colab-df-convert {\n",
              "      background-color: #E8F0FE;\n",
              "      border: none;\n",
              "      border-radius: 50%;\n",
              "      cursor: pointer;\n",
              "      display: none;\n",
              "      fill: #1967D2;\n",
              "      height: 32px;\n",
              "      padding: 0 0 0 0;\n",
              "      width: 32px;\n",
              "    }\n",
              "\n",
              "    .colab-df-convert:hover {\n",
              "      background-color: #E2EBFA;\n",
              "      box-shadow: 0px 1px 2px rgba(60, 64, 67, 0.3), 0px 1px 3px 1px rgba(60, 64, 67, 0.15);\n",
              "      fill: #174EA6;\n",
              "    }\n",
              "\n",
              "    .colab-df-buttons div {\n",
              "      margin-bottom: 4px;\n",
              "    }\n",
              "\n",
              "    [theme=dark] .colab-df-convert {\n",
              "      background-color: #3B4455;\n",
              "      fill: #D2E3FC;\n",
              "    }\n",
              "\n",
              "    [theme=dark] .colab-df-convert:hover {\n",
              "      background-color: #434B5C;\n",
              "      box-shadow: 0px 1px 3px 1px rgba(0, 0, 0, 0.15);\n",
              "      filter: drop-shadow(0px 1px 2px rgba(0, 0, 0, 0.3));\n",
              "      fill: #FFFFFF;\n",
              "    }\n",
              "  </style>\n",
              "\n",
              "    <script>\n",
              "      const buttonEl =\n",
              "        document.querySelector('#df-c32ceaf9-1de2-49be-8f01-34b479137678 button.colab-df-convert');\n",
              "      buttonEl.style.display =\n",
              "        google.colab.kernel.accessAllowed ? 'block' : 'none';\n",
              "\n",
              "      async function convertToInteractive(key) {\n",
              "        const element = document.querySelector('#df-c32ceaf9-1de2-49be-8f01-34b479137678');\n",
              "        const dataTable =\n",
              "          await google.colab.kernel.invokeFunction('convertToInteractive',\n",
              "                                                    [key], {});\n",
              "        if (!dataTable) return;\n",
              "\n",
              "        const docLinkHtml = 'Like what you see? Visit the ' +\n",
              "          '<a target=\"_blank\" href=https://colab.research.google.com/notebooks/data_table.ipynb>data table notebook</a>'\n",
              "          + ' to learn more about interactive tables.';\n",
              "        element.innerHTML = '';\n",
              "        dataTable['output_type'] = 'display_data';\n",
              "        await google.colab.output.renderOutput(dataTable, element);\n",
              "        const docLink = document.createElement('div');\n",
              "        docLink.innerHTML = docLinkHtml;\n",
              "        element.appendChild(docLink);\n",
              "      }\n",
              "    </script>\n",
              "  </div>\n",
              "\n",
              "\n",
              "<div id=\"df-013b622b-f662-47b5-ac0b-fe24bb1ded18\">\n",
              "  <button class=\"colab-df-quickchart\" onclick=\"quickchart('df-013b622b-f662-47b5-ac0b-fe24bb1ded18')\"\n",
              "            title=\"Suggest charts\"\n",
              "            style=\"display:none;\">\n",
              "\n",
              "<svg xmlns=\"http://www.w3.org/2000/svg\" height=\"24px\"viewBox=\"0 0 24 24\"\n",
              "     width=\"24px\">\n",
              "    <g>\n",
              "        <path d=\"M19 3H5c-1.1 0-2 .9-2 2v14c0 1.1.9 2 2 2h14c1.1 0 2-.9 2-2V5c0-1.1-.9-2-2-2zM9 17H7v-7h2v7zm4 0h-2V7h2v10zm4 0h-2v-4h2v4z\"/>\n",
              "    </g>\n",
              "</svg>\n",
              "  </button>\n",
              "\n",
              "<style>\n",
              "  .colab-df-quickchart {\n",
              "      --bg-color: #E8F0FE;\n",
              "      --fill-color: #1967D2;\n",
              "      --hover-bg-color: #E2EBFA;\n",
              "      --hover-fill-color: #174EA6;\n",
              "      --disabled-fill-color: #AAA;\n",
              "      --disabled-bg-color: #DDD;\n",
              "  }\n",
              "\n",
              "  [theme=dark] .colab-df-quickchart {\n",
              "      --bg-color: #3B4455;\n",
              "      --fill-color: #D2E3FC;\n",
              "      --hover-bg-color: #434B5C;\n",
              "      --hover-fill-color: #FFFFFF;\n",
              "      --disabled-bg-color: #3B4455;\n",
              "      --disabled-fill-color: #666;\n",
              "  }\n",
              "\n",
              "  .colab-df-quickchart {\n",
              "    background-color: var(--bg-color);\n",
              "    border: none;\n",
              "    border-radius: 50%;\n",
              "    cursor: pointer;\n",
              "    display: none;\n",
              "    fill: var(--fill-color);\n",
              "    height: 32px;\n",
              "    padding: 0;\n",
              "    width: 32px;\n",
              "  }\n",
              "\n",
              "  .colab-df-quickchart:hover {\n",
              "    background-color: var(--hover-bg-color);\n",
              "    box-shadow: 0 1px 2px rgba(60, 64, 67, 0.3), 0 1px 3px 1px rgba(60, 64, 67, 0.15);\n",
              "    fill: var(--button-hover-fill-color);\n",
              "  }\n",
              "\n",
              "  .colab-df-quickchart-complete:disabled,\n",
              "  .colab-df-quickchart-complete:disabled:hover {\n",
              "    background-color: var(--disabled-bg-color);\n",
              "    fill: var(--disabled-fill-color);\n",
              "    box-shadow: none;\n",
              "  }\n",
              "\n",
              "  .colab-df-spinner {\n",
              "    border: 2px solid var(--fill-color);\n",
              "    border-color: transparent;\n",
              "    border-bottom-color: var(--fill-color);\n",
              "    animation:\n",
              "      spin 1s steps(1) infinite;\n",
              "  }\n",
              "\n",
              "  @keyframes spin {\n",
              "    0% {\n",
              "      border-color: transparent;\n",
              "      border-bottom-color: var(--fill-color);\n",
              "      border-left-color: var(--fill-color);\n",
              "    }\n",
              "    20% {\n",
              "      border-color: transparent;\n",
              "      border-left-color: var(--fill-color);\n",
              "      border-top-color: var(--fill-color);\n",
              "    }\n",
              "    30% {\n",
              "      border-color: transparent;\n",
              "      border-left-color: var(--fill-color);\n",
              "      border-top-color: var(--fill-color);\n",
              "      border-right-color: var(--fill-color);\n",
              "    }\n",
              "    40% {\n",
              "      border-color: transparent;\n",
              "      border-right-color: var(--fill-color);\n",
              "      border-top-color: var(--fill-color);\n",
              "    }\n",
              "    60% {\n",
              "      border-color: transparent;\n",
              "      border-right-color: var(--fill-color);\n",
              "    }\n",
              "    80% {\n",
              "      border-color: transparent;\n",
              "      border-right-color: var(--fill-color);\n",
              "      border-bottom-color: var(--fill-color);\n",
              "    }\n",
              "    90% {\n",
              "      border-color: transparent;\n",
              "      border-bottom-color: var(--fill-color);\n",
              "    }\n",
              "  }\n",
              "</style>\n",
              "\n",
              "  <script>\n",
              "    async function quickchart(key) {\n",
              "      const quickchartButtonEl =\n",
              "        document.querySelector('#' + key + ' button');\n",
              "      quickchartButtonEl.disabled = true;  // To prevent multiple clicks.\n",
              "      quickchartButtonEl.classList.add('colab-df-spinner');\n",
              "      try {\n",
              "        const charts = await google.colab.kernel.invokeFunction(\n",
              "            'suggestCharts', [key], {});\n",
              "      } catch (error) {\n",
              "        console.error('Error during call to suggestCharts:', error);\n",
              "      }\n",
              "      quickchartButtonEl.classList.remove('colab-df-spinner');\n",
              "      quickchartButtonEl.classList.add('colab-df-quickchart-complete');\n",
              "    }\n",
              "    (() => {\n",
              "      let quickchartButtonEl =\n",
              "        document.querySelector('#df-013b622b-f662-47b5-ac0b-fe24bb1ded18 button');\n",
              "      quickchartButtonEl.style.display =\n",
              "        google.colab.kernel.accessAllowed ? 'block' : 'none';\n",
              "    })();\n",
              "  </script>\n",
              "</div>\n",
              "    </div>\n",
              "  </div>\n"
            ]
          },
          "metadata": {},
          "execution_count": 47
        }
      ],
      "source": [
        "df_no_ingles = df_train[df_train['language'] != 'en']\n",
        "\n",
        "df_no_ingles = df_no_ingles.drop(columns=['language'])\n",
        "# Ahora, df_no_ingles contiene solo las filas que no están en inglés\n",
        "\n",
        "df_train = df_no_ingles.copy()\n",
        "\n",
        "df_train.head(10)"
      ]
    },
    {
      "cell_type": "markdown",
      "source": [
        "##Datasets de entrenamiento y test"
      ],
      "metadata": {
        "id": "M7QT4Q9Oeiky"
      }
    },
    {
      "cell_type": "code",
      "source": [
        "df_prep = pd.read_csv(\"/content/sample_data/train_preprocesado.csv\")"
      ],
      "metadata": {
        "id": "QKLx9aWabFl4"
      },
      "execution_count": null,
      "outputs": []
    },
    {
      "cell_type": "code",
      "source": [
        "df_nostopword = pd.read_csv(\"/content/sample_data/train_preprocesado_sin_lematizacion_stopwords.csv\")"
      ],
      "metadata": {
        "id": "iut9IXd7bX-K"
      },
      "execution_count": null,
      "outputs": []
    },
    {
      "cell_type": "code",
      "source": [
        "df_notokens = pd.read_csv(\"/content/sample_data/train_preprocesado_sin_tokens.csv\")"
      ],
      "metadata": {
        "id": "nNfsjZztbgXr"
      },
      "execution_count": null,
      "outputs": []
    },
    {
      "cell_type": "code",
      "source": [
        "df_no_lem = pd.read_csv(\"/content/sample_data/train_preprocesado_sin_lematizacion.csv\")"
      ],
      "metadata": {
        "id": "M3veGVW_bSM9"
      },
      "execution_count": null,
      "outputs": []
    },
    {
      "cell_type": "code",
      "source": [
        "df_train = df_no_lem.copy()"
      ],
      "metadata": {
        "id": "KjHZgOc4hN_P"
      },
      "execution_count": null,
      "outputs": []
    },
    {
      "cell_type": "code",
      "execution_count": null,
      "metadata": {
        "id": "zP4xCFpx6IQw"
      },
      "outputs": [],
      "source": [
        "df_trabajo_x = df_train.drop([\"sentimiento\"],  axis='columns', inplace=False)\n",
        "\n",
        "df_trabajo_y = df_train['sentimiento'].copy()\n",
        "\n",
        "x_train, x_test, y_train, y_test = train_test_split(df_trabajo_x,\n",
        "                                                    df_trabajo_y,\n",
        "                                                    test_size=0.30,\n",
        "                                                    random_state=9,\n",
        "                                                    shuffle=True\n",
        "                                                    )"
      ]
    },
    {
      "cell_type": "markdown",
      "metadata": {
        "id": "pAvvXMk82QSn"
      },
      "source": [
        "Utilizaremos versiones acotadas de los archivos de entrenamiento para agilizar la busqueda de hiperparametros en los distintos modelos."
      ]
    },
    {
      "cell_type": "code",
      "execution_count": null,
      "metadata": {
        "id": "NnIO6LAp2YJG"
      },
      "outputs": [],
      "source": [
        "mini_x_train, gran_x_test, mini_y_train, gran_y_test = train_test_split(df_trabajo_x,\n",
        "                                                    df_trabajo_y,\n",
        "                                                    test_size=0.70,\n",
        "                                                    random_state=9,\n",
        "                                                    shuffle=True\n",
        "                                                    )"
      ]
    },
    {
      "cell_type": "code",
      "execution_count": null,
      "metadata": {
        "id": "PzBCSI8j8qOs",
        "colab": {
          "base_uri": "https://localhost:8080/"
        },
        "outputId": "f0af35fc-8bb4-4972-d6f2-1c1dce0ba1ce"
      },
      "outputs": [
        {
          "output_type": "execute_result",
          "data": {
            "text/plain": [
              "(14454, 3)"
            ]
          },
          "metadata": {},
          "execution_count": 42
        }
      ],
      "source": [
        "mini_x_train.shape"
      ]
    },
    {
      "cell_type": "markdown",
      "metadata": {
        "id": "cqtkMBEHD9aW"
      },
      "source": [
        "##Modelo 1: Bayes Naïve"
      ]
    },
    {
      "cell_type": "markdown",
      "source": [
        "#####Modelo Inicial"
      ],
      "metadata": {
        "id": "Nnh0w08g9H2g"
      }
    },
    {
      "cell_type": "markdown",
      "source": [
        "Hacemos una primera predicción del modelo de Bayes sin muchos cambios en el dataset (solo le sacamos las stopwords), para ver el comportamiento de la predicción."
      ],
      "metadata": {
        "id": "LrpLr3o38uWV"
      }
    },
    {
      "cell_type": "code",
      "source": [
        "if exists('/content/modelos/ModeloBayes-inicial.joblib') == False:\n",
        "  bayesNaive = make_pipeline(TfidfVectorizer(), MultinomialNB())\n",
        "  bayesNaive.fit(x_train.review_es, y_train)\n",
        "\n",
        "  dump(bayesNaive, '/content/modelos/ModeloBayes-inicial.joblib')\n",
        "else:\n",
        "  bayesNaive = load('/content/modelos/ModeloBayes-inicial.joblib')"
      ],
      "metadata": {
        "id": "kDpyik8Q8tWq"
      },
      "execution_count": null,
      "outputs": []
    },
    {
      "cell_type": "code",
      "source": [
        "y_pred = bayesNaive.predict(x_test.review_es)\n",
        "metricas(y_pred,y_test)"
      ],
      "metadata": {
        "colab": {
          "base_uri": "https://localhost:8080/",
          "height": 605
        },
        "id": "avli5C7K9lIw",
        "outputId": "83fe9fee-f919-4d38-f12c-5a05f7059774"
      },
      "execution_count": null,
      "outputs": [
        {
          "output_type": "stream",
          "name": "stdout",
          "text": [
            "              precision    recall  f1-score   support\n",
            "\n",
            "           0       0.84      0.89      0.86      7208\n",
            "           1       0.88      0.83      0.86      7247\n",
            "\n",
            "    accuracy                           0.86     14455\n",
            "   macro avg       0.86      0.86      0.86     14455\n",
            "weighted avg       0.86      0.86      0.86     14455\n",
            "\n"
          ]
        },
        {
          "output_type": "display_data",
          "data": {
            "text/plain": [
              "<Figure size 640x480 with 2 Axes>"
            ],
            "image/png": "[encoded data removed]"
          },
          "metadata": {}
        }
      ]
    },
    {
      "cell_type": "code",
      "source": [
        "y_pred_naive = bayesNaive.predict(df_test.review_es)\n",
        "ds_resultados = pd.DataFrame({'id': df_test_reviews['ID'], 'sentimiento': y_pred_naive})\n",
        "ds_resultados.to_csv('bayes_base.csv', index=False)"
      ],
      "metadata": {
        "id": "v8b_DZyK9oxZ"
      },
      "execution_count": null,
      "outputs": []
    },
    {
      "cell_type": "markdown",
      "source": [
        "![image.png](data:image/png;base64,iVBORw0KGgoAAAANSUhEUgAABCsAAABBCAYAAAD46y5+AAAgAElEQVR4nO3df3BUZZ7v8fdcrdPetempaeidpGjDFB3v3HRqhsQSkhVCBpRfSlAhWEBYBcbLrxLNCEQWERkIDr/WAbTkxzohOAa4SxKVBIEE4oTgmsDsdNi5dGrLNLXEphK3oaem01r22bW4f+R3CKEDCFE/r6pU5fQ5z3Oe50n+eb79Pd/zgytXrlxBRERERERERKSf+B93egAiIiIiIiIiIp0pWCEiIiIiIiIi/YqCFSIiIiIiIiLSryhYISIiIiIiIiL9ioIVIiIiIiIiItKvKFghIiIiIiIiIv2KghUiIiIiIiIi0q8oWCEiIiIiIiIi/YqCFSIiIiIiIiLSryhYISIiIiIiIiL9ioIVIiIiIiIiItKvKFghIiIiIiIiIv2KghUiIiIiIiIi0q8oWCEiIiIiIiIi/YqCFSIiIiIiIiLSryhYISIiIiIiIiL9yvczWOErZ8emzewo893pkdwiATwFu9i4Yz/VgTs9FhEREREREZGbc/ct6eWrRs79uRZP/SlK/tKAP9KAv/WU8654nDY3Gc6xpA5PJv6Ht+SONyUSqGHHzr0wazTzxruw3OkB3bQIvtLt7PQk4cyYSeqdHo6IiIiIiIjITbipYMVXjR4KT+xmR8DbHpzozv91Pf6/1FP9l0PwZ3D+zViyR73I9MQBN3NrEREREREREfmOurFgxX83cuzAKl4O1NPXpw78X1awrKyCjZWZvDFjCX9nv6ER3DIhXzmFe4rxBCw4Ux4jK3McLluXC6gsKaak5jyhiA1H0gjGZ0wm3WkBfzkbtx0n4HiE7JxxONvaBE6yY9thfJY0Fr0yGRcQ8ddSVlJEWe0lIpZBJI+bRub4JBztaR0hvGXFFJbX4A9EsDgSSJ08k8x0Z98yPyIBPIW7yCu/CLahpE+bQ0aqo1MfEQKecgpLj+PxRbA4BpM8eioZGW4cHZOOaizXn9M1htjarrL2EiHLIJJHTyYjIwVnlGsRqN7F1qLzWEbPZ3WGq2PUnnw27quDpGdYneX+DmTMiIiIiIiIfD/1vWZFYxUrd89gfpdAhZXkH01hy4NvcSKrlH//VSUXWn/+fX4xJ8avZr3DjatTN4FIITP2/j2//lPzLZjGjYn497N2zksUeC7i8xxmT+5iHl2wC2+k9YJQDRtnTmHOK/l4AhYs+CjbtoI5j2VT6AMcg7F5iynK2091p9SSQPV+tu4rptrixAlEvPuZP3U6z28+ji8CEd9xNr0wnUeXl+KPAISoXjebJxeup9ALNqeDkCefVXOns6TkWjkrPWmmctsintlUhc9fR1nRbpbPms7LZR1/KX9hNo9O+xWbSs6DzULIU8y6F6bzzLoaQkQ/luvP6Rpr3t6umGp/iID3MJtyZvPkgv34olwLh9OGr6SYPTur8Lb3HMJTtIt9ReVEHH0M8IiIiIiIiEi/0rfMisYjPHdgAyXtHxik/mg+2ROm8HexPW8P77l3IPGJDxOf+DCzv2rkkw83sOxCbetjIw3kVU4l8kUxr6Xd/sdCzGo/zvxjvJHqgIiXggWzWXVyOxtLHmNvppOI3w/J45g1dwmrM1tqW/gL5/FwznHyKr1kznOTPi2Brbk1lHkCZDodQABP+UlMhpIxLgELPgrW5XIyNIKcoh0sSrYBITyb5jFj53q2Th7NlvRaSgrrMAfMYPf+daTbgNBU8jaVEghdIoCzU9ZDbxOqw8MG3quahssCgcpcnpm7l6J1u8hMX0WqxY8vMJj0acvIyFlAugMI1bD2sdnsKSym+oUUxluiGYuPwuvNabythwG2trs0mGnb3mV9hhMLAcqWT2dB0Wa2Vj7CG+l117+/M43MVIOa6lKqfXNwu4BIHZVll2DQDDJSe7q3iIiIiIiIfFtEn1kRrGJll0CFm0UPvs3eOdOvGai4yj2x/N3UbZx4cgVZ7U1MCv64mLfO9fJ1/DfESJ/DvNTWMIDFTebCqQzCpPpkLQHA4p7GS7lbWZ/pglAAv8+L93xL/oH/ogmAO30qbsOksrylDaE6yipNSJhKhtsC/lrKPCZG8jhSHSH8fj9+fwhHSgou4xKVNXVEsGFzAM2nKSwsx+MLELKlMC93HS9lJUUXqABgMJlzJ+NqXVtH+hyyUgy4WIXHB+AkfdEqtmxeQLojQijgx+c7TyACRAKEQkA0Y4lqTj1obUfCHOZltGU/OBj/yu84XPQui9y26O6Pk9RpozHMOsqqW97oEvGUU3YJBo2fTLJiFSIiIiIiIt9qUWZWNHLovbUUtB+7Wf3oJn750xvLhrjnJ5N4LSsGZ0E2GyMADWws24A79lV+cRtrWFicji6BAIvDhdMAb6CZEOCI+KkseIO8feVUn2/GBAzDwISOxwxcaWQmG6yqPI43NI5kTzmVzQYJ09JwW4DAJXwmmDXrmTp6/VVjMAIhQpZxzMtdhnf5dkpzF1OaCxhDScmcSfbCmaQ6owwGGUNxdSkY4cDpskBNAH8oAlgIeYvYsW0/hZVnudQyIYwui5J0/bFEMye4OsjS2s5wDe56zubCndx2EMX9AWfqY6Qbx6ksPY0/y0ngZBUXGczcyUkoViEiIiIiIvLtFlWw4q9Vu1kbMluP4sh6cPUNByra/TCZxU+uwNuerVHBsmMTOTUzhXturueoRUIRQtCxuQ35CZiAxcBCBG/eYuZs9pEwbRVvbB6G2+nE5t3MqLkHOvXiIn1yEkbNSco8ASwnj3PJSGBRurvltM2CDQiMXsuB3LSrN/AWW8tnqQvYe3wmfl8dXm8d1aX7Kdi3nmc88F7xnJbAx3VdItQlpSFEKBABbFgsFgiU8vLMFZRa0li4+V0y3INxOiKULJjCKk9HK8f1xhLtnLqzWbAZEAhc6jnzItr7WwBHCpnjB1BeVk61L4FA2XkYPJ+MZFWrEBERERER+baL4jGQTyn0VLQX00x2rmB1WuxN3PIyf6o6x18BYiexJX1K+8Y20LSbkv+4ia77yKw8THV77ckQ1aXHuQg4U1w4COCt8YGRwrwXZjI+2Y3TYSPkP3/VRtuZPpVU4xJlpdspLLuEkTyN9LZqos4EUgeD6fUSsjlxOlt/uIjHU4cvROsbR0oprAzgcKcwPnMOq3etJXMAmL5a/KFoJ+SjpMzbMT7/SUoqTTBSSHYC/loqm2FQ5vO8lJGC2+XExiV8PrOjj2jGEs2cAEJ+vF4/7cN3JpDqANNTSqWvYxV9BfP4+f9+gGcK/X1YCwepk8cxwKyhcFs+hedhaMa4KIM6IiIiIiIi0p9dN7Pir1X7WPt168FdY8lOT7yJzIfLfLI/mxlNDTh8uZyYk8YPH5jDas8hloQA6ln2SQ0ZP7k92RWGrZatc7LxTEvCVldKXtF5GJDGoowkLERwuhxwsoaCnUXYJjvAV07etrqrO3KOJjPd4PmiAxRhMPqFtI43n1hSyHohjcKcAyyZY5I9Kw1HpI6yPfmUnnexcF8K6Y5LVG77FXv8Q6nMWUKmy0LgZD5lzWCMTsMdddEKB6GiXzH/4lTShwao3refchOGzp3ZUkwzkoDbgJqSXexImEmyLYRn324Ku0RfohlLFHNy+SlZPoHnyy2M23aM3RkOsKQw74VHKMk5zqo52fjmjsZ1qYaCvCqabY+Rle4EaqJeC1vqY2QMKmZf6WEggZzJCXoLiIiIiIiIyHfAXWvWrFlz7dPNVH+0nve/ajlKjltO9oN/28dXiLTpCFQAfPlVBZ7AKDJ+6sRFkP974d/5EiD8Pxk1/CHu6/tLVaP2tf8k/1R0lruf2MLucef5p3W7+eD/fc5dCVNZvf1VZvz0XuBunO4EbBf+lfc/OMgHRYeo/vIhlj33M/549F+JJD/FovSY1h7vxc6n7D36KV8bD/Hcyr/H3alwgt09hvTBEbwVxewr/pAjH/0rjTETyd68nkWjHNxtcZI6cihfnK/i/d8fpOiDw5R7I/yvJ1bwxq+f4qf3Xm9GIbxF71Ie+Bkrdz2PvXwLv/n9J5z/IobR/2cjW5aOJvZuwOYieUiQf6s4RFHxIYqONBDz9BIyvy6n4oKT8U8/jtsR3ViuOyfgL7XHKPHaeTjrKUa11pqwuUczanAIX81RSg8fp+KPF7A8OJv1v13Boz+xQF/WwvIj7r1QTNGfv8RIWMBL2Q/2oRipiIiIiIiI9Fc/uHLlypVrnv2qhl/vyCEPgDhWZ/yeX8bfyG26BioAkh25vDE7jfsAOMdbv13MxtZzL42vZHHijdznBkVChCIWbLaev5ePhAKEsOG4xnmASHUuo2btJTTut5zaNfkam+YIoUCIiOXafUVCAUIRsNgctF8SqWHtiNnsae6phcHoTcfYm+ns1k/LfXq+TYRAINT1HtGOpY9zikTAco0x3NBaiIiIiIiI3GkhL2Ulh6msvUiIATiTRpMxflwvWfEBqgvyqbx4rfMOUmfNIb3Tti7iP0lhSQ3+ZhuucTPJ7PLawxC+ynLKTp7GGwCbYyjJ4x5hfKqr2wsHIgQ8JykrP4nH3wy2BJLHPUJGevfr+tLn7dF7sKK+gEklu/EC3JXJe/OX8ECfn8+4XqACIMIn+8czo6nlKN19gHcm3ExdjNvIX0uZp47KPbnsq7Uxa88x1qff6j+lj7IdxXh6DFb09I8rIiIiIiIi34SIr4hlc1ZQ2j3wMPgxNudvJNPV0zetPgqmTmFVrdnDOYAEckoPscgNRAJUF65n7brD1Jlw9RfUfsqW/5IlRefp2pvB0FlbOZA7rvXL8xCeHYt4ZvNpum8lB0/ewN7N0+gYarR93j69P9HxZbAlUAFwbzzObyRQAWDBaY+HpnoA/JFwX290x3jLVrMktw6TQaQs3Er2LQ9UALgYv2g547+BnkVERERERCRaPgpXrab0IhgJM1j/ykzc1FGwbjX76g7z8qokkvPncHW8wkH6K3ns71IvMELIk8+yzVU0G4Nw2Fo+82ybwsydlzAGD2Vo4Dznu8U3QpW7eLnoPKYxgoXbXybLbSFQvZtlOcWc37eeHZNHszrVQsSzi2WbT9PMYCav20h2+mDwH2fj8vWUl65mWVIS781z9anP26nXyhD/+Z8dQQbusl5VvPCzMyc498W1WkcbqGhhucve/rsv2NTytpBvAVfmW3xYfpSqmj9wICdFNRNERERERES+oyKeYvJqTCCB7NxVZKa6cadOY3Xu8yQAZk0+hd7u748EsOFMTiE1tfNPApG6WpqBwZlzGN+aOBGJ2Bi9/C0+PLyRbk/7A+D3noVBgxictYBF4904nS6SM5ewaLQBBPD4/AD4qg9zHjDGLeOlrBRcTieu1DmsfiENA5PaPcV4In3r83a6sVqZwGfHl/Pkn08TOOPlvWeW8ECXIpB9C1R8m1lsTlx6AkNEREREROQ7z++twQ8wOI1Ud8fX+ZbkFNIHQ93FANVePyS7rtlHm4inmB2lzWCMYNHc0a11ISwkv3CQvTYbdDzn0IV70SHOLOreWYhAwAQMnA4bECF0KdTSo83WpeaEzeHAApiBWrwBSHZG2+ft1Wtmxd/+bVzHwddh2uJDX53bxTN/Pk0AIFLIk3sLOPffbRfeWKAi8nWw/Xe3PYYf9mUWIiIiIiIiIt+w0PmLmIDhGoqjy6MHg3C5DMDEd77HYoPdBCjbuYs6YHDmAjI6xTYstr4GBiJ4C7awow4YOpOsVAdgwZmQggE0l+2nxNe6m4/4KNlX3lLDwrxEKNSXPm+v3l8Q+jd23G2/h+ppS/y4J3EBe382ouORh8huHt1dwLn/vtGMigj+YH37kcNi7dMkRERERERERL5ZESJtX+FfVb7B0uktiO1XXbsnTz47yrtnVdzYmHyFLzE/t4pmYwQ5m58ntbUz5/g5zEswoPk4qx6bwJMzs3g0bQo7IkkkGa1j7mOft1PvwQpnPKntB6fwdMQTuO+RzbzXPWDxxtQbfPSjHk9T2+8xpDrtvV0sIiIiIiIicptZsA1q3QEHmrsFJEKEAi2/OQYNuEYQoI2fsp37e8yq6JsQnrxFzMg5zEVjGAvzt7Ko81sibSm8lF9A7txHSHBECIQsuBfuYG/OuJbxGYO4OonjOn3eRr0HK+5xk/6jtoMmdvzbuS6nrwpYdNKXGhVf/ekoeW0Hd40g2Xl7q4yKiIiIiIiIXI/TlYABmN6Weg/tAuep9rbUd3C7eqiK2UnEs5+tN51VEaB60yKeya3i0oAR5OzP46Vuj2pEAj68AYPkWWt5r+oTTh3OY8u80dh8NXhMwJmC29m3Pm+n3oMVDCDZNbb9KHChkD90e01HTwGLvhXTvEyZ5xBtf2e3YxRuFawQERERERGRfsaW/BgZAwCznLzCWlpKPoTwFO6izAQGjCOjNRMh4jtJSeFJvF3qQvgp2ZnPeWBw5vM3llUR8VO26pc8s/M0zQPSyMnf0WP2Q8SbzzOTH+exx7LJ8wRax1TO1m2HMTFImpXWUfYhyj5vpx9cuXLlSq9XfHWOt3YvZuPXLYcO51v8cXriVZe1vR3E2ce3fnz1p39kVGVbsMLNlid3MP0nfZmCiIiIiIiIyO0QwVewiCdfqaIZg0EJKbgtdVTXXsJkAKPXHWR3lgsLXvIee5x1dTBo7ruceiUFCxDxbObRabs5b4wg93ABWb0GK7zseORxNp03GL3pGHtb32PqL5zHwzlVmNdoNWDW7ziVOxpbxEfBgumsOtlS8NMwDEyzpZWRtIwD+Qtoi0dE3Wdfl+smXCezArgnkcyfd2ROBPzZrKy6urrpfY9s5sCoTX17PWnjEZZVdmRVJDtmka5AhYiIiIiIiPRLFlxZWzmwaQZJg0wu1VVxsvYS5qBhTFuXxxtZrtZ6FQ5cyUMxGERq0uDWz/yUbGvNqsi6wawKIBK5XvnOtqG6yNr+LtsXPsJQg5ZAhTGYlFkbOLCrI1DRpz5vo+tnVgDQyKHfPc2SUFucJY7Vj/6eX/70Ju78Vw9vFWSzsW1NLBPZ++Q/8IvYm+hTRERERERE5HaIhAgEAoSw4XA4sF1VejFCJAIWS3+oyRghFIqAxdbDOPunKIMVQLCKlXtXUdD+QRxZD27itbS+Rxe++o8jrP1wAwXtwZt4FqVvZcUDA/rcl4iIiIiIiIh8t0QfrABoPMJzBzZQ0ukjp+053siczgPRFMX8qpFPPtzAsgu1+Ns/vPGgh4iIiIiIiIh89/QtWAHQWMXK91Z1yooAMHD9zSjmuWeR/vM47vthR17JV19cxv8ftVR7CskLePF16czNovTVrHjgDgQqzCDnKoo5UlFHo3kvQ0ZM4PEpIxlivT23b6x4ixr70zyRdL0bmkTCYLEat+S+zbX72XXUzvQVExjS/WTDMbbnB3n4xZkk9mkdTM69uYR3417mN1Pibsk4oxY+y/u7m0h5cQL9MtwV9HK8sJhT3s+JGPeRPHEqk8bG09ccomZvCQWFn5E8fzEpMd/ISEVERERERPqNu/vcIjaN1+YfIP3AKl4O1LcWxzTxfVnBy3+sgD9G143Tlsn68Uv4RdTVOG+lJqrWLuWfrTNYOH8ydiNIw9F3WJPTwMqtM7n/1sQFemXWn8Eb/zRPXHeoH/GbtWHmvjXt6uDCjQie5cgxH9aJY1iY1HmiJucK3+bgKRfJz83sY6cG8ZnLWWjc5kAFgBmk9rSPq99P0w8EP2Z79tuYUxYzd8V9GOHPqMl/lWW1OWx5cViUAYsgnjfXk9fwY2KbfDReqzyviIiIiIjId0jfgxUAd8cyYfbvSG/0UHhiNzsC3k6PdfTGwGWbyKLhs8j4eSz33NDNb17zqXfI41m2rBjDQABiiJ2/CmPDAg6emsDKsXYAIk1nOX3qDI3mjxkyYgwp8S3pBpdrj1FvHYa9/iM8QSv3j51AslFPVcW/0IiLlIljGGJtvc4+nJj6j6ipN7EnjSRtRBw91TPp8V7heqryi6mqA+s+g0kTM0i0X3tc0TGIu89KzaEzZCWN7Ngwh89w5LQVt73ztSaXvR9TU+sjzH0kjh1DYozRaQ0SsHrL8FjHM8nuo8kexxC7EUW7YdgbPsZTb2IfMYa0pJjWNbl2u2i1rPkYUuJa2kXqP6LKHMYjbnuf5jN7bEz7tabVReKoMdxvBwhy7uhHfBrsFDUw4knJHN4ts8Pk3L63acz8dadskxieWJ1D+Nm3ONGwiyeiiu2EMd2LeO05K1XZr3Z6lVCYTyvOgPs+mk79gUYSSJk4EnvTR1RV+DDjHiJtorv1/7uzIJ+e+phz3s8hZhjJY4d3yiYyaaz9iJrTn0H8Q6TFf0FN0308OiKm69oZLpLHjuR++22I6omIiIiIyPfS9V9d2ot7YpOZPXsHHy86wIejVrA+ZhSpljic7VcYuCzxjHdksv5nm/hwRikVv1zK9DsYqABoOH2G5Ckju23krCSvKGgPVNBQwpqcIi7HDCcx3sDz+lJ2ng4DED59gJ2vH+CcEc/9dh952Ut5bfdZjPjhDAkeY+XaY1xuvS5vw1aOhONIHBFH+NCrrCls4KqXwjSU8JtVbfeCmg1LeddrgmEnLslF3L0/xu12YTd6ubYPrKNmMKmhhJqmjs8unyrhwtgZPNxpA3q5Ipdlb9YxwP0QyfFBDuZsoiZI+xps3/A2HiOBxDgr4dMHOFFvRtVu5+vv4CGexCQrta8v5WDt9dtFq/M4AML1x/igNtzn+VyuyGVNvo8B7uEMMerYmb0JTxDAwGqPITYujti4OIyGMgpOB7l6297AudM/5tFR3SISxjBmvxNtoAIgjpQeHxsJ8+mht9m++w8QN5whTcWsyVnBngoYMmIYxqn1rClsuKqN5/WlbD8FQ0Y9xBCO8dqqEhpbzzYeWs2afZ8RO2I4Q8w/sGfDW+w59Xn72q3c3bIeifY68rL7/rcRERERERGJ1o1lVnR3TyyJw2NJHD6J2bekw29WMGglptdvhcN49h1g4PxdPDHKCgwjMSbI0g3HaBwxDYCYiTN4YmwMcB+PH11K05SZpLgBt0nKjI9pYgJWwHTPYO4UNxYgMR7qnz2Ad0oO9i73KibmuV08kWQAw4i3fsbzhWd4fPVIhiQNY0hcmMQkN7GE8bx57Wu7bGiDXjxNMSR3TZVoYXWRNqWMLacaeCQzDmig6tB/MWmFC7P24/bLBo7NYfsoKwMMgHged2dR0wAprV3GTVnM7IktBRQuVBB1O/vYGTw1Ng4YRsysj1l5uoHZSfHXbXezop+Pl3fXGsx+61lSrLSMM7yE7aeaSJ4Sw5ARI1seyWk6xmv5CSzbNOHqDAbzLzSFY0hsH3uYxto6mlrjKNb4YVdlJjTXn6HBOqwP2SQGabOeJS0ecE+lasbHpG0dQ6IBicYYDu7z0ZwZ1+n/wkry/DfYYrW2ZLK4IW1fMQ3hDGKNs3ywj5Y521vmbA8uaAlomV6O5JtM3/osaa3nlpkrWFnoJWW+O8qxioiIiIiIRO/WBCu+ZQzDJBju7YogFxpiSOr8eEWcm/ubjtFkgh0YYG07Z4BhxWjbXxoGmCZm66b0fnenxz6sLtwxB2hsolOwIsiF+iZOvPkPXGjr0myiiR8Thm7fqEd/beOp3/FaxS/YvjWjh8KTBrGjJjMwp5RPpywmrr6UI/bJbIkzONH5snAT3qNl1NT6uBA0CTeFSRxrtsy5yxp0c512A+0dszesVsy2xbpOu5sW7XyCn1HfdJaqVUt5v7WpGWygaUQQaK1uadbz/tpS4l78Tc/BFMPAMMKEw4AVwCTYUM+nTV/QcLoIc9ZBVo7tPK8g3vxN5Ll/w65Z8VFOyE7nf8OWe3Yc97RqkWAdJ/Z9RG39Z1wOmzSFf9wSeAk30WQdxqROc4mJd2E0AeHPqDeGtQYqWgyMH4ZR8RmX6elRExERERERkZvzvQxWxCfFkHfKSyTJ3aV+ROPRrVTZn+apEQZWI0y489MV4TDhzpvBKDV37FaBMOHwvXT9Qt3Aao1j+vxf83i80eXzq2tbRH9t7JR/5OCUXgZmH8kk9zscqW0ireIMiVOeZQCdngshSM2GVzmSlMOCFc8SazU49/r0rsGMHt2Gdl3iF90egbEaXT8z/6vv/RsGhn0kC3MX4+72t2oRxvPmZmrGvswa97XqhbhIjq+jxhsmZYQVsJM4ZSaJBDlef4z6qzJ77KTkHiTlGr3dEuZZ9uS8g/3F5SyYE8dAo55/fvqdlnOGFWu4ruV/vnVo4WCw0zkfXeJ74b8QtsbdqjCSiIiIiIhIFzdVs+LbauDYp0k+vZldFW31I0wu1+5ne36Q2Hg7EEPiWCsnDp2lufV8Y0UJn44YQ7Tfebc5faiUT1v3zs2nSzlhHUlil1dPxpA4ymgpimgYWAwDs7aIg6da6w0YQPjz1sDJda7tE4PkiSM5t3s9efUjmZTUfdtpcjlsJSlpGLFWA8JnqaqNpjbGN92unn9evIT3W+tSNNef5UKcqz1TxWr/EedOneUyQNhL1dH6vo/LOoy0+LNU1YaxGAYWw6Th0NtUNbTW1ji6iZ3BGSzL7LlYamsnJM0aw6evb+J4fds2P8yFo1spCE5lkvsObPPNIEEjgcSkOAYaEKk/01G3xDqMh5PO8m6hl8smRJrOcORQXUvYx5pASvwZjlS0FakIUnPoDPePSujzK1hFRERERESi8b3MrMA6jLmbFvPB66/y1OthrIaJaR/Jgtyc9lT32InLmf3mepY9DXYjTDBmMstWDOtlc9qztBE/4oPsJVwmTJOZwLzVE4gFLnS6JnbKy8x+cz3PPw0x1jBNDGPh6tYKjPbhPJ5UzGszFvB47i6e6u3avnKP53GjiBNjl/fwutYY0mYNY82qudTE2TFxcX9MT53c7nbxTHpuGK+tmssRq0HYvI+5q8e0P4owcNTTTK94ldmTtxITN4GspIQbGJedtBcX07hhKQv22bGGmzDjn2bZFAPMsxx881+oN8+ycPLWlsuN4Sx7e9VVj4NY3M+yZsV+9mzI4o2gFasZxjxgMtIAAAHPSURBVJo0g+dzZzLkTqQkWIczfWIprz29hCExEIlxMbB9Dawkv/hrwrvf5rXFn0PceGZPGckRL7Svx9qlLCi0Yw0HGTAqmyVjb1ExERERERERkW5+cOXKlSt3ehB3lBmm2TQYYL3G7vF653txYfdcCuLfYOVYg+awee0aD1Hdq1vthpsYV5+YYZrDYNitfQvUfOPtTJrD9PJ3o+eiDX0cVyQcxjTainLeBDNMBCuW/vDchBnksmllYPe1M8NEjI51aa5YzfPeGex5rqOI5i1bDxERERERkV58PzMrOrvexuuWbMyiDCr0eq9uJ27XhtGwMuBGvkD/xtsZDOgt9nOttenjuCzWPgZbrjmeW9TPrWDYGXjV+ph8mr+U7U3jmT0lHiPo5Uj+50xa0fXBp1u2HiIiIiIiIr1QZsU3qLn+Yxqsw/vwKkqROynMhdMf46kPgmHn/hEjSYy7TjaQiIiIiIjIN0DBChERERERERHpV76XbwMRERERERERkf5LwQoRERERERER6VcUrBARERERERGRfkXBChERERERERHpVxSsEBEREREREZF+RcEKEREREREREelXFKwQERERERERkX5FwQoRERERERER6Vf+P0WHjbMIAFFAAAAAAElFTkSuQmCC)"
      ],
      "metadata": {
        "id": "2KTQYjbLG9UJ"
      }
    },
    {
      "cell_type": "markdown",
      "source": [
        "#####Modelo con texto preprocesado"
      ],
      "metadata": {
        "id": "2SF9g-049MCZ"
      }
    },
    {
      "cell_type": "markdown",
      "source": [
        "Ahora, realizaremos una predicción con el dataframe ya procesado."
      ],
      "metadata": {
        "id": "Q63UpZF09Oth"
      }
    },
    {
      "cell_type": "code",
      "execution_count": null,
      "metadata": {
        "id": "LbjGZNEd_HsR"
      },
      "outputs": [],
      "source": [
        "if exists('/content/modelos/ModeloBayes-base.joblib') == False:\n",
        "  bayesNaive = make_pipeline(TfidfVectorizer(), MultinomialNB())\n",
        "  bayesNaive.fit(x_train.texto_recodificado, y_train)\n",
        "\n",
        "  dump(bayesNaive, '/content/modelos/ModeloBayes-base.joblib')\n",
        "else:\n",
        "  bayesNaive = load('/content/modelos/ModeloBayes-base.joblib')"
      ]
    },
    {
      "cell_type": "markdown",
      "metadata": {
        "id": "Oj5TDoMu_w8i"
      },
      "source": [
        "Prediccion con el conjunto de prueba"
      ]
    },
    {
      "cell_type": "code",
      "execution_count": null,
      "metadata": {
        "id": "aF0B-wSr6qrY"
      },
      "outputs": [],
      "source": [
        "y_pred = bayesNaive.predict(x_test.review_es)"
      ]
    },
    {
      "cell_type": "code",
      "execution_count": null,
      "metadata": {
        "id": "a3gCBxdVcKK1",
        "colab": {
          "base_uri": "https://localhost:8080/",
          "height": 605
        },
        "outputId": "3f0897b0-c983-4c6a-d783-0773228b1f9d"
      },
      "outputs": [
        {
          "output_type": "stream",
          "name": "stdout",
          "text": [
            "              precision    recall  f1-score   support\n",
            "\n",
            "    negativo       0.84      0.83      0.84      7208\n",
            "    positivo       0.83      0.85      0.84      7247\n",
            "\n",
            "    accuracy                           0.84     14455\n",
            "   macro avg       0.84      0.84      0.84     14455\n",
            "weighted avg       0.84      0.84      0.84     14455\n",
            "\n"
          ]
        },
        {
          "output_type": "display_data",
          "data": {
            "text/plain": [
              "<Figure size 640x480 with 2 Axes>"
            ],
            "image/png": "[encoded data removed]"
          },
          "metadata": {}
        }
      ],
      "source": [
        "metricas(y_pred,y_test)"
      ]
    },
    {
      "cell_type": "markdown",
      "metadata": {
        "id": "w3laNSZ2_0Cm"
      },
      "source": [
        "Prediccion con el test"
      ]
    },
    {
      "cell_type": "code",
      "execution_count": null,
      "metadata": {
        "id": "-RmDej-q_sFa"
      },
      "outputs": [],
      "source": [
        "y_pred_naive = bayesNaive.predict(df_test.review_es)"
      ]
    },
    {
      "cell_type": "code",
      "execution_count": null,
      "metadata": {
        "id": "w0dfSz90_9eZ"
      },
      "outputs": [],
      "source": [
        "ds_resultados = pd.DataFrame({'id': df_test_reviews['ID'], 'sentimiento': y_pred_naive})\n",
        "ds_resultados.to_csv('bayes_base.csv', index=False)"
      ]
    },
    {
      "cell_type": "markdown",
      "metadata": {
        "id": "UZIVFsQ6GbPW"
      },
      "source": [
        "![image.png](data:image/png;base64,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)"
      ]
    },
    {
      "cell_type": "markdown",
      "source": [
        "Con la comparación entre el modelo inicial y el modelo base, observamos que el análisis profundo de las reseñas perjudicó al desempeño del modelo."
      ],
      "metadata": {
        "id": "Mx7dd4aqetaX"
      }
    },
    {
      "cell_type": "markdown",
      "metadata": {
        "id": "GIX3xIh9MKaX"
      },
      "source": [
        "###Búsqueda de mejores modelos/hiperparámetros"
      ]
    },
    {
      "cell_type": "markdown",
      "source": [
        "Luego de intentar entrenar el modelo con distintos conjuntos de entrenamiento (con el dataset preprocesado con ciertas características) concluímos que el preprocesamiento de los datos, sobre todo la lematización, perjudica el rendimiento del modelo. Por ese motivo, para el caso de Bayes, entrenamos el modelo con el dataset con el preprocesamiento de los datos pero sin la lematización."
      ],
      "metadata": {
        "id": "pRErxl4L5ktk"
      }
    },
    {
      "cell_type": "code",
      "execution_count": null,
      "metadata": {
        "id": "7JEgcnyfm8QL"
      },
      "outputs": [],
      "source": [
        "import sklearn"
      ]
    },
    {
      "cell_type": "code",
      "execution_count": null,
      "metadata": {
        "id": "xx70AeDNdcEw"
      },
      "outputs": [],
      "source": [
        "from scipy.stats import uniform\n",
        "from sklearn.metrics import make_scorer, f1_score"
      ]
    },
    {
      "cell_type": "code",
      "execution_count": null,
      "metadata": {
        "id": "pFPEg3eFv25p"
      },
      "outputs": [],
      "source": [
        "f1_scorer = make_scorer(sklearn.metrics.f1_score)"
      ]
    },
    {
      "cell_type": "code",
      "execution_count": null,
      "metadata": {
        "colab": {
          "base_uri": "https://localhost:8080/"
        },
        "id": "h0f8TWiqbA96",
        "outputId": "9d62b881-7ac5-4d69-da89-08f3da14adbc"
      },
      "outputs": [
        {
          "output_type": "stream",
          "name": "stderr",
          "text": [
            "[nltk_data] Downloading package stopwords to /root/nltk_data...\n",
            "[nltk_data]   Unzipping corpora/stopwords.zip.\n"
          ]
        },
        {
          "output_type": "execute_result",
          "data": {
            "text/plain": [
              "True"
            ]
          },
          "metadata": {},
          "execution_count": 87
        }
      ],
      "source": [
        "import nltk\n",
        "nltk.download('stopwords')"
      ]
    },
    {
      "cell_type": "code",
      "execution_count": null,
      "metadata": {
        "id": "9rwNQdMqa-Uy"
      },
      "outputs": [],
      "source": [
        "stopwords_es = nltk.corpus.stopwords.words('spanish')\n",
        "metrica = make_scorer(sklearn.metrics.f1_score)"
      ]
    },
    {
      "cell_type": "markdown",
      "metadata": {
        "id": "E58SDC6uvPna"
      },
      "source": [
        "####Bayes Multinomial"
      ]
    },
    {
      "cell_type": "markdown",
      "metadata": {
        "id": "6XxqnUfovOft"
      },
      "source": [
        "En scikit-learn, el clasificador MultinomialNB aplica el suavizado de Laplace de manera predeterminada. El parámetro correspondiente es alpha, y un valor positivo se utiliza para aplicar el suavizado."
      ]
    },
    {
      "cell_type": "code",
      "source": [
        "y_test_transformed = y_test.map(lambda x: 0 if x == 'positivo' else 1)\n",
        "y_train_transformed = y_train.map(lambda x: 0 if x == 'positivo' else 1)"
      ],
      "metadata": {
        "id": "uoKnCdOmfG7e"
      },
      "execution_count": null,
      "outputs": []
    },
    {
      "cell_type": "code",
      "execution_count": null,
      "metadata": {
        "id": "GYRPsHRYdg_S"
      },
      "outputs": [],
      "source": [
        "param_dist_multinomial = {\n",
        "    'multinomialnb__alpha': [0.1, 0.5, 1.0, 2.0, 0.8, 0.3, 1.5],\n",
        "    'multinomialnb__fit_prior': [True, False],\n",
        "    'multinomialnb__class_prior': [None, [0.2, 0.8], [0.5, 0.5], [0.3, 0.7]],\n",
        "    'tfidfvectorizer__stop_words': ['english', stopwords_es, None],\n",
        "    'tfidfvectorizer__max_df': [0.9, 0.95, 0.85, 0.98],\n",
        "    'tfidfvectorizer__min_df': [0.05, 0.07, 0.1, 0.03],\n",
        "    'tfidfvectorizer__ngram_range': [(1,1), (1,2), (2,2)],\n",
        "    'tfidfvectorizer__max_features': [10000, 15000, 20000, None],\n",
        "}"
      ]
    },
    {
      "cell_type": "code",
      "execution_count": null,
      "metadata": {
        "id": "vAZ6yM1UueDW"
      },
      "outputs": [],
      "source": [
        "model = Pipeline(steps=[('tfidfvectorizer', TfidfVectorizer()), ('multinomialnb', MultinomialNB())])\n",
        "\n",
        "random_search = RandomizedSearchCV(\n",
        "    model,\n",
        "    param_distributions=param_dist_multinomial,\n",
        "    n_iter=300,\n",
        "    cv=5,\n",
        "    scoring=f1_scorer,\n",
        "    random_state=42,\n",
        "    n_jobs=-1\n",
        ")"
      ]
    },
    {
      "cell_type": "code",
      "source": [
        "if exists('/content/modelos/ModeloBayes-Multinomial.joblib') == False:\n",
        "  random_search.fit(x_train.review_es, y_train_transformed)\n",
        "\n",
        "  multinomial_hiperparametros =  make_pipeline(TfidfVectorizer(), MultinomialNB()).set_params(**random_search.best_params_)\n",
        "  multinomial_hiperparametros.fit(x_train.review_es,y_train_transformed)\n",
        "\n",
        "  dump(multinomial_hiperparametros, '/content/modelos/ModeloBayes-Multinomial.joblib')\n",
        "else:\n",
        "  multinomial_hiperparametros = load('/content/modelos/ModeloBayes-Multinomial.joblib')"
      ],
      "metadata": {
        "id": "WekPymGEoDSq"
      },
      "execution_count": null,
      "outputs": []
    },
    {
      "cell_type": "code",
      "execution_count": null,
      "metadata": {
        "id": "UE_5MO9exrR7",
        "colab": {
          "base_uri": "https://localhost:8080/"
        },
        "outputId": "9055b26c-7575-4fd1-eb17-cefbd2185ea0"
      },
      "outputs": [
        {
          "output_type": "stream",
          "name": "stdout",
          "text": [
            "Mejores Parámetros: {'tfidfvectorizer__stop_words': 'english', 'tfidfvectorizer__ngram_range': (1, 1), 'tfidfvectorizer__min_df': 0.03, 'tfidfvectorizer__max_features': 15000, 'tfidfvectorizer__max_df': 0.95, 'multinomialnb__fit_prior': True, 'multinomialnb__class_prior': None, 'multinomialnb__alpha': 0.3}\n",
            "Mejor Puntuación F1 en Validación Cruzada: 0.8176773702430546\n"
          ]
        }
      ],
      "source": [
        "print(\"Mejores Parámetros:\", random_search.best_params_)\n",
        "print(\"Mejor Puntuación F1 en Validación Cruzada:\", random_search.best_score_)"
      ]
    },
    {
      "cell_type": "code",
      "execution_count": null,
      "metadata": {
        "id": "TllLqsk3zSUg"
      },
      "outputs": [],
      "source": [
        "y_pred = multinomial_hiperparametros.predict(x_test.review_es)"
      ]
    },
    {
      "cell_type": "code",
      "execution_count": null,
      "metadata": {
        "id": "_2wBe7AN0leZ",
        "colab": {
          "base_uri": "https://localhost:8080/",
          "height": 605
        },
        "outputId": "79ce635d-a041-4f10-e379-44b4857e7e84"
      },
      "outputs": [
        {
          "output_type": "stream",
          "name": "stdout",
          "text": [
            "              precision    recall  f1-score   support\n",
            "\n",
            "           0       0.81      0.84      0.83      7247\n",
            "           1       0.83      0.80      0.82      7208\n",
            "\n",
            "    accuracy                           0.82     14455\n",
            "   macro avg       0.82      0.82      0.82     14455\n",
            "weighted avg       0.82      0.82      0.82     14455\n",
            "\n"
          ]
        },
        {
          "output_type": "display_data",
          "data": {
            "text/plain": [
              "<Figure size 640x480 with 2 Axes>"
            ],
            "image/png": "[encoded data removed]"
          },
          "metadata": {}
        }
      ],
      "source": [
        "metricas(y_pred,y_test_transformed)"
      ]
    },
    {
      "cell_type": "markdown",
      "metadata": {
        "id": "3jfTlXo4zSUh"
      },
      "source": [
        "Prediccion con el test"
      ]
    },
    {
      "cell_type": "code",
      "execution_count": null,
      "metadata": {
        "id": "LT2XByxDzSUh"
      },
      "outputs": [],
      "source": [
        "y_pred_naive = multinomial_hiperparametros.predict(df_test.review_es)"
      ]
    },
    {
      "cell_type": "code",
      "execution_count": null,
      "metadata": {
        "id": "T5HgAYV2zSUh",
        "colab": {
          "base_uri": "https://localhost:8080/",
          "height": 363
        },
        "outputId": "1a30988b-1dc8-4123-90e5-72ce27f20c8a"
      },
      "outputs": [
        {
          "output_type": "execute_result",
          "data": {
            "text/plain": [
              "      id  sentimiento\n",
              "0  60000            1\n",
              "1  60001            0\n",
              "2  60002            1\n",
              "3  60003            1\n",
              "4  60004            1\n",
              "5  60005            1\n",
              "6  60006            1\n",
              "7  60007            1\n",
              "8  60008            1\n",
              "9  60009            1"
            ],
            "text/html": [
              "\n",
              "  <div id=\"df-93d68be6-ddc5-4a6a-8004-dae8e2841e65\" class=\"colab-df-container\">\n",
              "    <div>\n",
              "<style scoped>\n",
              "    .dataframe tbody tr th:only-of-type {\n",
              "        vertical-align: middle;\n",
              "    }\n",
              "\n",
              "    .dataframe tbody tr th {\n",
              "        vertical-align: top;\n",
              "    }\n",
              "\n",
              "    .dataframe thead th {\n",
              "        text-align: right;\n",
              "    }\n",
              "</style>\n",
              "<table border=\"1\" class=\"dataframe\">\n",
              "  <thead>\n",
              "    <tr style=\"text-align: right;\">\n",
              "      <th></th>\n",
              "      <th>id</th>\n",
              "      <th>sentimiento</th>\n",
              "    </tr>\n",
              "  </thead>\n",
              "  <tbody>\n",
              "    <tr>\n",
              "      <th>0</th>\n",
              "      <td>60000</td>\n",
              "      <td>1</td>\n",
              "    </tr>\n",
              "    <tr>\n",
              "      <th>1</th>\n",
              "      <td>60001</td>\n",
              "      <td>0</td>\n",
              "    </tr>\n",
              "    <tr>\n",
              "      <th>2</th>\n",
              "      <td>60002</td>\n",
              "      <td>1</td>\n",
              "    </tr>\n",
              "    <tr>\n",
              "      <th>3</th>\n",
              "      <td>60003</td>\n",
              "      <td>1</td>\n",
              "    </tr>\n",
              "    <tr>\n",
              "      <th>4</th>\n",
              "      <td>60004</td>\n",
              "      <td>1</td>\n",
              "    </tr>\n",
              "    <tr>\n",
              "      <th>5</th>\n",
              "      <td>60005</td>\n",
              "      <td>1</td>\n",
              "    </tr>\n",
              "    <tr>\n",
              "      <th>6</th>\n",
              "      <td>60006</td>\n",
              "      <td>1</td>\n",
              "    </tr>\n",
              "    <tr>\n",
              "      <th>7</th>\n",
              "      <td>60007</td>\n",
              "      <td>1</td>\n",
              "    </tr>\n",
              "    <tr>\n",
              "      <th>8</th>\n",
              "      <td>60008</td>\n",
              "      <td>1</td>\n",
              "    </tr>\n",
              "    <tr>\n",
              "      <th>9</th>\n",
              "      <td>60009</td>\n",
              "      <td>1</td>\n",
              "    </tr>\n",
              "  </tbody>\n",
              "</table>\n",
              "</div>\n",
              "    <div class=\"colab-df-buttons\">\n",
              "\n",
              "  <div class=\"colab-df-container\">\n",
              "    <button class=\"colab-df-convert\" onclick=\"convertToInteractive('df-93d68be6-ddc5-4a6a-8004-dae8e2841e65')\"\n",
              "            title=\"Convert this dataframe to an interactive table.\"\n",
              "            style=\"display:none;\">\n",
              "\n",
              "  <svg xmlns=\"http://www.w3.org/2000/svg\" height=\"24px\" viewBox=\"0 -960 960 960\">\n",
              "    <path d=\"M120-120v-720h720v720H120Zm60-500h600v-160H180v160Zm220 220h160v-160H400v160Zm0 220h160v-160H400v160ZM180-400h160v-160H180v160Zm440 0h160v-160H620v160ZM180-180h160v-160H180v160Zm440 0h160v-160H620v160Z\"/>\n",
              "  </svg>\n",
              "    </button>\n",
              "\n",
              "  <style>\n",
              "    .colab-df-container {\n",
              "      display:flex;\n",
              "      gap: 12px;\n",
              "    }\n",
              "\n",
              "    .colab-df-convert {\n",
              "      background-color: #E8F0FE;\n",
              "      border: none;\n",
              "      border-radius: 50%;\n",
              "      cursor: pointer;\n",
              "      display: none;\n",
              "      fill: #1967D2;\n",
              "      height: 32px;\n",
              "      padding: 0 0 0 0;\n",
              "      width: 32px;\n",
              "    }\n",
              "\n",
              "    .colab-df-convert:hover {\n",
              "      background-color: #E2EBFA;\n",
              "      box-shadow: 0px 1px 2px rgba(60, 64, 67, 0.3), 0px 1px 3px 1px rgba(60, 64, 67, 0.15);\n",
              "      fill: #174EA6;\n",
              "    }\n",
              "\n",
              "    .colab-df-buttons div {\n",
              "      margin-bottom: 4px;\n",
              "    }\n",
              "\n",
              "    [theme=dark] .colab-df-convert {\n",
              "      background-color: #3B4455;\n",
              "      fill: #D2E3FC;\n",
              "    }\n",
              "\n",
              "    [theme=dark] .colab-df-convert:hover {\n",
              "      background-color: #434B5C;\n",
              "      box-shadow: 0px 1px 3px 1px rgba(0, 0, 0, 0.15);\n",
              "      filter: drop-shadow(0px 1px 2px rgba(0, 0, 0, 0.3));\n",
              "      fill: #FFFFFF;\n",
              "    }\n",
              "  </style>\n",
              "\n",
              "    <script>\n",
              "      const buttonEl =\n",
              "        document.querySelector('#df-93d68be6-ddc5-4a6a-8004-dae8e2841e65 button.colab-df-convert');\n",
              "      buttonEl.style.display =\n",
              "        google.colab.kernel.accessAllowed ? 'block' : 'none';\n",
              "\n",
              "      async function convertToInteractive(key) {\n",
              "        const element = document.querySelector('#df-93d68be6-ddc5-4a6a-8004-dae8e2841e65');\n",
              "        const dataTable =\n",
              "          await google.colab.kernel.invokeFunction('convertToInteractive',\n",
              "                                                    [key], {});\n",
              "        if (!dataTable) return;\n",
              "\n",
              "        const docLinkHtml = 'Like what you see? Visit the ' +\n",
              "          '<a target=\"_blank\" href=https://colab.research.google.com/notebooks/data_table.ipynb>data table notebook</a>'\n",
              "          + ' to learn more about interactive tables.';\n",
              "        element.innerHTML = '';\n",
              "        dataTable['output_type'] = 'display_data';\n",
              "        await google.colab.output.renderOutput(dataTable, element);\n",
              "        const docLink = document.createElement('div');\n",
              "        docLink.innerHTML = docLinkHtml;\n",
              "        element.appendChild(docLink);\n",
              "      }\n",
              "    </script>\n",
              "  </div>\n",
              "\n",
              "\n",
              "<div id=\"df-24b78043-a85d-4e60-8e52-c772cde8757b\">\n",
              "  <button class=\"colab-df-quickchart\" onclick=\"quickchart('df-24b78043-a85d-4e60-8e52-c772cde8757b')\"\n",
              "            title=\"Suggest charts\"\n",
              "            style=\"display:none;\">\n",
              "\n",
              "<svg xmlns=\"http://www.w3.org/2000/svg\" height=\"24px\"viewBox=\"0 0 24 24\"\n",
              "     width=\"24px\">\n",
              "    <g>\n",
              "        <path d=\"M19 3H5c-1.1 0-2 .9-2 2v14c0 1.1.9 2 2 2h14c1.1 0 2-.9 2-2V5c0-1.1-.9-2-2-2zM9 17H7v-7h2v7zm4 0h-2V7h2v10zm4 0h-2v-4h2v4z\"/>\n",
              "    </g>\n",
              "</svg>\n",
              "  </button>\n",
              "\n",
              "<style>\n",
              "  .colab-df-quickchart {\n",
              "      --bg-color: #E8F0FE;\n",
              "      --fill-color: #1967D2;\n",
              "      --hover-bg-color: #E2EBFA;\n",
              "      --hover-fill-color: #174EA6;\n",
              "      --disabled-fill-color: #AAA;\n",
              "      --disabled-bg-color: #DDD;\n",
              "  }\n",
              "\n",
              "  [theme=dark] .colab-df-quickchart {\n",
              "      --bg-color: #3B4455;\n",
              "      --fill-color: #D2E3FC;\n",
              "      --hover-bg-color: #434B5C;\n",
              "      --hover-fill-color: #FFFFFF;\n",
              "      --disabled-bg-color: #3B4455;\n",
              "      --disabled-fill-color: #666;\n",
              "  }\n",
              "\n",
              "  .colab-df-quickchart {\n",
              "    background-color: var(--bg-color);\n",
              "    border: none;\n",
              "    border-radius: 50%;\n",
              "    cursor: pointer;\n",
              "    display: none;\n",
              "    fill: var(--fill-color);\n",
              "    height: 32px;\n",
              "    padding: 0;\n",
              "    width: 32px;\n",
              "  }\n",
              "\n",
              "  .colab-df-quickchart:hover {\n",
              "    background-color: var(--hover-bg-color);\n",
              "    box-shadow: 0 1px 2px rgba(60, 64, 67, 0.3), 0 1px 3px 1px rgba(60, 64, 67, 0.15);\n",
              "    fill: var(--button-hover-fill-color);\n",
              "  }\n",
              "\n",
              "  .colab-df-quickchart-complete:disabled,\n",
              "  .colab-df-quickchart-complete:disabled:hover {\n",
              "    background-color: var(--disabled-bg-color);\n",
              "    fill: var(--disabled-fill-color);\n",
              "    box-shadow: none;\n",
              "  }\n",
              "\n",
              "  .colab-df-spinner {\n",
              "    border: 2px solid var(--fill-color);\n",
              "    border-color: transparent;\n",
              "    border-bottom-color: var(--fill-color);\n",
              "    animation:\n",
              "      spin 1s steps(1) infinite;\n",
              "  }\n",
              "\n",
              "  @keyframes spin {\n",
              "    0% {\n",
              "      border-color: transparent;\n",
              "      border-bottom-color: var(--fill-color);\n",
              "      border-left-color: var(--fill-color);\n",
              "    }\n",
              "    20% {\n",
              "      border-color: transparent;\n",
              "      border-left-color: var(--fill-color);\n",
              "      border-top-color: var(--fill-color);\n",
              "    }\n",
              "    30% {\n",
              "      border-color: transparent;\n",
              "      border-left-color: var(--fill-color);\n",
              "      border-top-color: var(--fill-color);\n",
              "      border-right-color: var(--fill-color);\n",
              "    }\n",
              "    40% {\n",
              "      border-color: transparent;\n",
              "      border-right-color: var(--fill-color);\n",
              "      border-top-color: var(--fill-color);\n",
              "    }\n",
              "    60% {\n",
              "      border-color: transparent;\n",
              "      border-right-color: var(--fill-color);\n",
              "    }\n",
              "    80% {\n",
              "      border-color: transparent;\n",
              "      border-right-color: var(--fill-color);\n",
              "      border-bottom-color: var(--fill-color);\n",
              "    }\n",
              "    90% {\n",
              "      border-color: transparent;\n",
              "      border-bottom-color: var(--fill-color);\n",
              "    }\n",
              "  }\n",
              "</style>\n",
              "\n",
              "  <script>\n",
              "    async function quickchart(key) {\n",
              "      const quickchartButtonEl =\n",
              "        document.querySelector('#' + key + ' button');\n",
              "      quickchartButtonEl.disabled = true;  // To prevent multiple clicks.\n",
              "      quickchartButtonEl.classList.add('colab-df-spinner');\n",
              "      try {\n",
              "        const charts = await google.colab.kernel.invokeFunction(\n",
              "            'suggestCharts', [key], {});\n",
              "      } catch (error) {\n",
              "        console.error('Error during call to suggestCharts:', error);\n",
              "      }\n",
              "      quickchartButtonEl.classList.remove('colab-df-spinner');\n",
              "      quickchartButtonEl.classList.add('colab-df-quickchart-complete');\n",
              "    }\n",
              "    (() => {\n",
              "      let quickchartButtonEl =\n",
              "        document.querySelector('#df-24b78043-a85d-4e60-8e52-c772cde8757b button');\n",
              "      quickchartButtonEl.style.display =\n",
              "        google.colab.kernel.accessAllowed ? 'block' : 'none';\n",
              "    })();\n",
              "  </script>\n",
              "</div>\n",
              "    </div>\n",
              "  </div>\n"
            ]
          },
          "metadata": {},
          "execution_count": 34
        }
      ],
      "source": [
        "ds_resultados = pd.DataFrame({'id': df_test_reviews['ID'], 'sentimiento': y_pred_naive})\n",
        "ds_resultados.head(10)"
      ]
    },
    {
      "cell_type": "code",
      "source": [
        "ds_resultados['sentimiento'] = ds_resultados['sentimiento'].replace({0: 'positivo', 1: 'negativo'})"
      ],
      "metadata": {
        "id": "lB-dCvd5ZsjY"
      },
      "execution_count": null,
      "outputs": []
    },
    {
      "cell_type": "code",
      "source": [
        "ds_resultados.to_csv('bayes_multinomial.csv', index=False)"
      ],
      "metadata": {
        "id": "XiasywzHZr76"
      },
      "execution_count": null,
      "outputs": []
    },
    {
      "cell_type": "markdown",
      "source": [
        "![image.png](data:image/png;base64,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)"
      ],
      "metadata": {
        "id": "WG1Fawb2D0zL"
      }
    },
    {
      "cell_type": "markdown",
      "metadata": {
        "id": "eVN-wWbZiva2"
      },
      "source": [
        "####Bayes Bernoulli"
      ]
    },
    {
      "cell_type": "markdown",
      "metadata": {
        "id": "Py21NLmJiva3"
      },
      "source": [
        "* alpha: Parámetro de suavizado, que controla la fuerza del suavizado de Laplace. Valores más altos dan más suavizado.\n",
        "\n",
        "* binarize: Umbral para binarizar características (valores continuos se convierten en 0 o 1 según si son menores o iguales que el umbral). Si no se especifica, no se realiza binarización.\n",
        "\n",
        "* fit_prior: Indica si se deben aprender las probabilidades a priori de las clases a partir de los datos. Si es False, se asumen probabilidades a priori uniformes."
      ]
    },
    {
      "cell_type": "code",
      "execution_count": null,
      "metadata": {
        "id": "xe2FuxID2pWZ"
      },
      "outputs": [],
      "source": [
        "param_dist_bernoulli = {\n",
        "    'bernoullinb__alpha': uniform(0.1, 2.0),\n",
        "    'bernoullinb__binarize': uniform(0.1, 1.0),\n",
        "    'bernoullinb__fit_prior': [True, False],\n",
        "    'tfidfvectorizer__stop_words': ['english', stopwords_es, None],\n",
        "    'tfidfvectorizer__max_df': [0.9, 0.95, 0.85, 0.98],\n",
        "    'tfidfvectorizer__min_df': [0.05, 0.07, 0.1, 0.03],\n",
        "    'tfidfvectorizer__ngram_range': [(1,1), (1,2), (2,2)],\n",
        "    'tfidfvectorizer__max_features': [10000, 15000, 20000, None],\n",
        "}"
      ]
    },
    {
      "cell_type": "code",
      "execution_count": null,
      "metadata": {
        "id": "yBvjgreq5myk"
      },
      "outputs": [],
      "source": [
        "model = make_pipeline(TfidfVectorizer(), BernoulliNB())\n",
        "\n",
        "random_search = RandomizedSearchCV(\n",
        "    model,\n",
        "    param_distributions=param_dist_bernoulli,\n",
        "    n_iter=300,\n",
        "    cv=5,\n",
        "    scoring=f1_scorer,\n",
        "    random_state=42,\n",
        "    n_jobs=-1\n",
        ")"
      ]
    },
    {
      "cell_type": "code",
      "source": [
        "if exists('/content/modelos/ModeloBayes-Bernoulli.joblib') == False:\n",
        "  random_search.fit(x_train.texto_recodificado, y_train_transformed)\n",
        "\n",
        "  bernoulli_hiperparametros =  make_pipeline(TfidfVectorizer(), BernoulliNB()).set_params(**random_search.best_params_)\n",
        "  bernoulli_hiperparametros.fit(x_train.texto_recodificado,y_train_transformed)\n",
        "\n",
        "  dump(bernoulli_hiperparametros, '/content/modelos/ModeloBayes-Bernoulli.joblib')\n",
        "else:\n",
        "  bernoulli_hiperparametros = load('/content/modelos/ModeloBayes-Bernoulli.joblib')"
      ],
      "metadata": {
        "id": "kX8qW5s6vBNL"
      },
      "execution_count": null,
      "outputs": []
    },
    {
      "cell_type": "code",
      "execution_count": null,
      "metadata": {
        "id": "xWSuiaWB50P5",
        "colab": {
          "base_uri": "https://localhost:8080/"
        },
        "outputId": "46c34121-06c9-4532-fb97-d30f01f77e08"
      },
      "outputs": [
        {
          "output_type": "stream",
          "name": "stdout",
          "text": [
            "Mejores Parámetros: {'bernoullinb__alpha': 1.705706897196023, 'bernoullinb__binarize': 0.10463202300460286, 'bernoullinb__fit_prior': True, 'tfidfvectorizer__max_df': 0.85, 'tfidfvectorizer__max_features': 20000, 'tfidfvectorizer__min_df': 0.03, 'tfidfvectorizer__ngram_range': (1, 1), 'tfidfvectorizer__stop_words': ['de', 'la', 'que', 'el', 'en', 'y', 'a', 'los', 'del', 'se', 'las', 'por', 'un', 'para', 'con', 'no', 'una', 'su', 'al', 'lo', 'como', 'más', 'pero', 'sus', 'le', 'ya', 'o', 'este', 'sí', 'porque', 'esta', 'entre', 'cuando', 'muy', 'sin', 'sobre', 'también', 'me', 'hasta', 'hay', 'donde', 'quien', 'desde', 'todo', 'nos', 'durante', 'todos', 'uno', 'les', 'ni', 'contra', 'otros', 'ese', 'eso', 'ante', 'ellos', 'e', 'esto', 'mí', 'antes', 'algunos', 'qué', 'unos', 'yo', 'otro', 'otras', 'otra', 'él', 'tanto', 'esa', 'estos', 'mucho', 'quienes', 'nada', 'muchos', 'cual', 'poco', 'ella', 'estar', 'estas', 'algunas', 'algo', 'nosotros', 'mi', 'mis', 'tú', 'te', 'ti', 'tu', 'tus', 'ellas', 'nosotras', 'vosotros', 'vosotras', 'os', 'mío', 'mía', 'míos', 'mías', 'tuyo', 'tuya', 'tuyos', 'tuyas', 'suyo', 'suya', 'suyos', 'suyas', 'nuestro', 'nuestra', 'nuestros', 'nuestras', 'vuestro', 'vuestra', 'vuestros', 'vuestras', 'esos', 'esas', 'estoy', 'estás', 'está', 'estamos', 'estáis', 'están', 'esté', 'estés', 'estemos', 'estéis', 'estén', 'estaré', 'estarás', 'estará', 'estaremos', 'estaréis', 'estarán', 'estaría', 'estarías', 'estaríamos', 'estaríais', 'estarían', 'estaba', 'estabas', 'estábamos', 'estabais', 'estaban', 'estuve', 'estuviste', 'estuvo', 'estuvimos', 'estuvisteis', 'estuvieron', 'estuviera', 'estuvieras', 'estuviéramos', 'estuvierais', 'estuvieran', 'estuviese', 'estuvieses', 'estuviésemos', 'estuvieseis', 'estuviesen', 'estando', 'estado', 'estada', 'estados', 'estadas', 'estad', 'he', 'has', 'ha', 'hemos', 'habéis', 'han', 'haya', 'hayas', 'hayamos', 'hayáis', 'hayan', 'habré', 'habrás', 'habrá', 'habremos', 'habréis', 'habrán', 'habría', 'habrías', 'habríamos', 'habríais', 'habrían', 'había', 'habías', 'habíamos', 'habíais', 'habían', 'hube', 'hubiste', 'hubo', 'hubimos', 'hubisteis', 'hubieron', 'hubiera', 'hubieras', 'hubiéramos', 'hubierais', 'hubieran', 'hubiese', 'hubieses', 'hubiésemos', 'hubieseis', 'hubiesen', 'habiendo', 'habido', 'habida', 'habidos', 'habidas', 'soy', 'eres', 'es', 'somos', 'sois', 'son', 'sea', 'seas', 'seamos', 'seáis', 'sean', 'seré', 'serás', 'será', 'seremos', 'seréis', 'serán', 'sería', 'serías', 'seríamos', 'seríais', 'serían', 'era', 'eras', 'éramos', 'erais', 'eran', 'fui', 'fuiste', 'fue', 'fuimos', 'fuisteis', 'fueron', 'fuera', 'fueras', 'fuéramos', 'fuerais', 'fueran', 'fuese', 'fueses', 'fuésemos', 'fueseis', 'fuesen', 'sintiendo', 'sentido', 'sentida', 'sentidos', 'sentidas', 'siente', 'sentid', 'tengo', 'tienes', 'tiene', 'tenemos', 'tenéis', 'tienen', 'tenga', 'tengas', 'tengamos', 'tengáis', 'tengan', 'tendré', 'tendrás', 'tendrá', 'tendremos', 'tendréis', 'tendrán', 'tendría', 'tendrías', 'tendríamos', 'tendríais', 'tendrían', 'tenía', 'tenías', 'teníamos', 'teníais', 'tenían', 'tuve', 'tuviste', 'tuvo', 'tuvimos', 'tuvisteis', 'tuvieron', 'tuviera', 'tuvieras', 'tuviéramos', 'tuvierais', 'tuvieran', 'tuviese', 'tuvieses', 'tuviésemos', 'tuvieseis', 'tuviesen', 'teniendo', 'tenido', 'tenida', 'tenidos', 'tenidas', 'tened']}\n",
            "Mejor Puntuación F1 en Validación Cruzada: 0.8089736473990495\n"
          ]
        }
      ],
      "source": [
        "print(\"Mejores Parámetros:\", random_search.best_params_)\n",
        "print(\"Mejor Puntuación F1 en Validación Cruzada:\", random_search.best_score_)"
      ]
    },
    {
      "cell_type": "code",
      "execution_count": null,
      "metadata": {
        "id": "FzTJkpT950P6"
      },
      "outputs": [],
      "source": [
        "y_pred = bernoulli_hiperparametros.predict(x_test.review_es)"
      ]
    },
    {
      "cell_type": "code",
      "execution_count": null,
      "metadata": {
        "id": "jfcE3vqB50P6",
        "colab": {
          "base_uri": "https://localhost:8080/",
          "height": 605
        },
        "outputId": "05fa7de5-7331-4463-be1e-94e89a6d596a"
      },
      "outputs": [
        {
          "output_type": "stream",
          "name": "stdout",
          "text": [
            "              precision    recall  f1-score   support\n",
            "\n",
            "           0       0.78      0.84      0.81      7247\n",
            "           1       0.83      0.76      0.79      7208\n",
            "\n",
            "    accuracy                           0.80     14455\n",
            "   macro avg       0.80      0.80      0.80     14455\n",
            "weighted avg       0.80      0.80      0.80     14455\n",
            "\n"
          ]
        },
        {
          "output_type": "display_data",
          "data": {
            "text/plain": [
              "<Figure size 640x480 with 2 Axes>"
            ],
            "image/png": "[encoded data removed]"
          },
          "metadata": {}
        }
      ],
      "source": [
        "metricas(y_pred,y_test_transformed)"
      ]
    },
    {
      "cell_type": "markdown",
      "metadata": {
        "id": "buZP5MtN50P6"
      },
      "source": [
        "Prediccion con el test"
      ]
    },
    {
      "cell_type": "code",
      "execution_count": null,
      "metadata": {
        "id": "fIys8mre50P7"
      },
      "outputs": [],
      "source": [
        "y_pred_naive = bernoulli_hiperparametros.predict(df_test.review_es)"
      ]
    },
    {
      "cell_type": "code",
      "execution_count": null,
      "metadata": {
        "id": "5i5f3e1x50P7"
      },
      "outputs": [],
      "source": [
        "ds_resultados = pd.DataFrame({'id': df_test_reviews['ID'], 'sentimiento': y_pred_naive})\n",
        "ds_resultados['sentimiento'] = ds_resultados['sentimiento'].replace({0: 'positivo', 1: 'negativo'})"
      ]
    },
    {
      "cell_type": "code",
      "source": [
        "ds_resultados.to_csv('bayes_bernoulli.csv', index=False)"
      ],
      "metadata": {
        "id": "MlhRyiZtczoe"
      },
      "execution_count": null,
      "outputs": []
    },
    {
      "cell_type": "markdown",
      "source": [
        "![image.png](data:image/png;base64,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)"
      ],
      "metadata": {
        "id": "EoV9K4mK_jFg"
      }
    },
    {
      "cell_type": "markdown",
      "metadata": {
        "id": "DtLJdctmEDhj"
      },
      "source": [
        "##Modelo 2: Random Forest"
      ]
    },
    {
      "cell_type": "markdown",
      "source": [
        "####Modelo base"
      ],
      "metadata": {
        "id": "_FX5iV98Zz4w"
      }
    },
    {
      "cell_type": "markdown",
      "source": [
        "Entrenamos este modelo con el dataset analizado por completo, habiendo probado anteriormente distintas combinaciones de procesamiento, la completa resultó ser la mejor."
      ],
      "metadata": {
        "id": "CzQ6lphUe48H"
      }
    },
    {
      "cell_type": "code",
      "execution_count": null,
      "metadata": {
        "id": "OouSrvSXOI_s"
      },
      "outputs": [],
      "source": [
        "from sklearn.ensemble import RandomForestClassifier"
      ]
    },
    {
      "cell_type": "code",
      "execution_count": null,
      "metadata": {
        "id": "svOYXn7sPyBo",
        "colab": {
          "base_uri": "https://localhost:8080/"
        },
        "outputId": "f8c1cdc8-0d47-4db0-ac24-cd634bb4496d"
      },
      "outputs": [
        {
          "output_type": "stream",
          "name": "stderr",
          "text": [
            "/usr/local/lib/python3.10/dist-packages/sklearn/ensemble/_forest.py:424: FutureWarning: `max_features='auto'` has been deprecated in 1.1 and will be removed in 1.3. To keep the past behaviour, explicitly set `max_features='sqrt'` or remove this parameter as it is also the default value for RandomForestClassifiers and ExtraTreesClassifiers.\n",
            "  warn(\n"
          ]
        }
      ],
      "source": [
        "if exists('/content/modelos/ModeloRF-base.joblib') == False:\n",
        "  rfc = RandomForestClassifier(max_features='auto',\n",
        "                              oob_score=True,\n",
        "                              random_state=2,\n",
        "                              n_jobs=-1,\n",
        "                              criterion=\"entropy\",\n",
        "                              min_samples_leaf=5,\n",
        "                              min_samples_split=5,\n",
        "                              n_estimators=50 )\n",
        "  model = make_pipeline(TfidfVectorizer(), rfc)\n",
        "\n",
        "  model.fit(x_train.review_es, y_train)\n",
        "\n",
        "  dump(model, '/content/modelos/ModeloRF-base.joblib')\n",
        "else:\n",
        "  model = load('/content/modelos/ModeloRF-base.joblib')"
      ]
    },
    {
      "cell_type": "code",
      "execution_count": null,
      "metadata": {
        "id": "HOc0MJtXOFoJ"
      },
      "outputs": [],
      "source": [
        "y_pred = model.predict(x_test.review_es)"
      ]
    },
    {
      "cell_type": "code",
      "execution_count": null,
      "metadata": {
        "id": "GQVLdKn1ikYc",
        "colab": {
          "base_uri": "https://localhost:8080/",
          "height": 609
        },
        "outputId": "468c1974-f98c-4031-ab25-148cbc0a4536"
      },
      "outputs": [
        {
          "output_type": "stream",
          "name": "stdout",
          "text": [
            "              precision    recall  f1-score   support\n",
            "\n",
            "    negativo       0.83      0.84      0.83      7208\n",
            "    positivo       0.84      0.83      0.83      7247\n",
            "\n",
            "    accuracy                           0.83     14455\n",
            "   macro avg       0.83      0.83      0.83     14455\n",
            "weighted avg       0.83      0.83      0.83     14455\n",
            "\n"
          ]
        },
        {
          "output_type": "display_data",
          "data": {
            "text/plain": [
              "<Figure size 640x480 with 2 Axes>"
            ],
            "image/png": "[encoded data removed]"
          },
          "metadata": {}
        }
      ],
      "source": [
        "metricas(y_pred,y_test)"
      ]
    },
    {
      "cell_type": "code",
      "execution_count": null,
      "metadata": {
        "id": "2gqyL0hGOUR8"
      },
      "outputs": [],
      "source": [
        "y_pred_rf = model.predict(df_test.review_es)"
      ]
    },
    {
      "cell_type": "code",
      "execution_count": null,
      "metadata": {
        "id": "G1hKImHbRAJ0",
        "colab": {
          "base_uri": "https://localhost:8080/"
        },
        "outputId": "833e2525-b6e7-4d15-a8a9-c7eb4fc0b24f"
      },
      "outputs": [
        {
          "output_type": "execute_result",
          "data": {
            "text/plain": [
              "(8599,)"
            ]
          },
          "metadata": {},
          "execution_count": 20
        }
      ],
      "source": [
        "y_pred_rf.shape"
      ]
    },
    {
      "cell_type": "code",
      "execution_count": null,
      "metadata": {
        "id": "OxtaJWcTOYlW"
      },
      "outputs": [],
      "source": [
        "ds_resultados = pd.DataFrame({'id': df_test_reviews['ID'], 'sentimiento': y_pred_rf})\n",
        "ds_resultados.to_csv('rf_base_con_otros_parametros.csv', index=False)"
      ]
    },
    {
      "cell_type": "markdown",
      "metadata": {
        "id": "TwB3fe2oEp2m"
      },
      "source": [
        "![image.png](data:image/png;base64,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)"
      ]
    },
    {
      "cell_type": "markdown",
      "metadata": {
        "id": "baByQqnWVvpw"
      },
      "source": [
        "###Búsqueda de mejores modelos/hiperparámetros"
      ]
    },
    {
      "cell_type": "code",
      "execution_count": null,
      "metadata": {
        "id": "KB7xajB_OQyF"
      },
      "outputs": [],
      "source": [
        "y_test_numericos = y_test.map(lambda x: 1 if x == 'negativo' else 0)\n",
        "y_train_numericos = y_train.map(lambda x: 1 if x == 'negativo' else 0)"
      ]
    },
    {
      "cell_type": "code",
      "execution_count": null,
      "metadata": {
        "id": "BcZ_xZT1OTnl"
      },
      "outputs": [],
      "source": [
        "mini_y_train_numericos= mini_y_train.map(lambda x: 1 if x == 'negativo' else 0)\n",
        "gran_y_test_numericos= gran_y_test.map(lambda x: 1 if x == 'negativo' else 0)"
      ]
    },
    {
      "cell_type": "code",
      "execution_count": null,
      "metadata": {
        "id": "bXkdL8JEK04d"
      },
      "outputs": [],
      "source": [
        "params_grid = { \"randomforestclassifier__criterion\" : [\"gini\", \"entropy\"],\n",
        "                \"randomforestclassifier__min_samples_leaf\" : [15, 20, 30, 45, 60, 75, 80, 100],\n",
        "                \"randomforestclassifier__min_samples_split\" : [40, 50, 60, 70, 80],\n",
        "                \"randomforestclassifier__n_estimators\": [40, 50, 60, 70, 80, 90, 100]\n",
        "}"
      ]
    },
    {
      "cell_type": "markdown",
      "source": [
        "Buscamos los mejores hiperparámetros primero con RandomSearch, lo cual nos entregó\n",
        "\n",
        "{'randomforestclassifier__n_estimators': 100, 'randomforestclassifier__min_samples_split': 50, 'randomforestclassifier__min_samples_leaf': 45,\n",
        "'randomforestclassifier__criterion': 'gini'}\n",
        "\n",
        "Una vez subida la predicción a Kaggle, no encontramos mejora. Así que si nuestro modelo base con parámetros al azar (bastante pequeños) nos hizo conseguir un score de 0.75, probaremos con GridSearch que siempre elegirá valores medianamente pequeños para evitar el overfitting a ver cómo resulta."
      ],
      "metadata": {
        "id": "iSx7sNE_faY3"
      }
    },
    {
      "cell_type": "code",
      "execution_count": null,
      "metadata": {
        "id": "823s4JshLCSg",
        "colab": {
          "base_uri": "https://localhost:8080/"
        },
        "outputId": "fd8f3735-2678-4b99-92b2-8a132f828618"
      },
      "outputs": [
        {
          "output_type": "stream",
          "name": "stdout",
          "text": [
            "{'randomforestclassifier__criterion': 'entropy', 'randomforestclassifier__min_samples_leaf': 15, 'randomforestclassifier__min_samples_split': 60, 'randomforestclassifier__n_estimators': 100}\n",
            "0.8214451461055808\n"
          ]
        }
      ],
      "source": [
        "rf_model = make_pipeline(TfidfVectorizer(), RandomForestClassifier(class_weight=\"balanced\"))\n",
        "randomcv = GridSearchCV(rf_model, params_grid, cv=3, scoring='f1')\n",
        "\n",
        "randomcv_prueba = randomcv.fit(mini_x_train.review_es, mini_y_train_numericos)\n",
        "\n",
        "print(str(randomcv_prueba.best_params_))\n",
        "print(str(randomcv_prueba.best_score_))"
      ]
    },
    {
      "cell_type": "code",
      "execution_count": null,
      "metadata": {
        "id": "TB4DUEsLBRoi"
      },
      "outputs": [],
      "source": [
        "if exists('/content/modelos/ModeloRF-mejores-hiper.joblib') == False:\n",
        "  rf_mejorado =  make_pipeline(TfidfVectorizer(), RandomForestClassifier(class_weight=\"balanced\")).set_params(**randomcv_prueba.best_params_)\n",
        "\n",
        "  rf_mejorado.fit(x_train.review_es,y_train_numericos)\n",
        "\n",
        "  dump(rf_mejorado, '/content/modelos/ModeloRF-mejores-hiper.joblib')\n",
        "else:\n",
        "  rf_mejorado = load('/content/modelos/ModeloRF-mejores-hiper.joblib')"
      ]
    },
    {
      "cell_type": "code",
      "execution_count": null,
      "metadata": {
        "id": "2c5zlNuaCOwN"
      },
      "outputs": [],
      "source": [
        "y_pred = rf_mejorado.predict(x_test.review_es)"
      ]
    },
    {
      "cell_type": "code",
      "execution_count": null,
      "metadata": {
        "id": "xUmIjgoLCOcC",
        "colab": {
          "base_uri": "https://localhost:8080/",
          "height": 608
        },
        "outputId": "d3079c46-41df-46ee-eb16-08987871807a"
      },
      "outputs": [
        {
          "output_type": "stream",
          "name": "stdout",
          "text": [
            "              precision    recall  f1-score   support\n",
            "\n",
            "           0       0.82      0.83      0.83      7247\n",
            "           1       0.83      0.82      0.82      7208\n",
            "\n",
            "    accuracy                           0.83     14455\n",
            "   macro avg       0.83      0.83      0.83     14455\n",
            "weighted avg       0.83      0.83      0.83     14455\n",
            "\n"
          ]
        },
        {
          "output_type": "display_data",
          "data": {
            "text/plain": [
              "<Figure size 640x480 with 2 Axes>"
            ],
            "image/png": "[encoded data removed]"
          },
          "metadata": {}
        }
      ],
      "source": [
        "metricas(y_pred,y_test_numericos)"
      ]
    },
    {
      "cell_type": "code",
      "execution_count": null,
      "metadata": {
        "id": "Pfnnht64CyDE"
      },
      "outputs": [],
      "source": [
        "y_pred = rf_mejorado.predict(df_test.review_es)"
      ]
    },
    {
      "cell_type": "code",
      "execution_count": null,
      "metadata": {
        "id": "0kz9rxW9CxvQ"
      },
      "outputs": [],
      "source": [
        "ds_resultados = pd.DataFrame({'id': df_test_reviews['ID'], 'sentimiento': y_pred})\n",
        "ds_resultados['sentimiento'] = ds_resultados['sentimiento'].map({0: 'positivo', 1: 'negativo'})\n",
        "ds_resultados.to_csv('rf_mejores_hiperparametros.csv', index=False)"
      ]
    },
    {
      "cell_type": "markdown",
      "source": [
        "![image.png](data:image/png;base64,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)"
      ],
      "metadata": {
        "id": "qbRDBMCSAiXE"
      }
    },
    {
      "cell_type": "markdown",
      "metadata": {
        "id": "T9uzOkWTEHnj"
      },
      "source": [
        "##Modelo 3: XGBoost"
      ]
    },
    {
      "cell_type": "markdown",
      "source": [
        "####Modelo base"
      ],
      "metadata": {
        "id": "Ch_ZnPp7Z4Bm"
      }
    },
    {
      "cell_type": "code",
      "execution_count": null,
      "metadata": {
        "id": "8uJCcBYkWix5"
      },
      "outputs": [],
      "source": [
        "import xgboost as xgb"
      ]
    },
    {
      "cell_type": "markdown",
      "metadata": {
        "id": "DaHT7Bt1nNnP"
      },
      "source": [
        "La version que usamos de XGBoost no soporta las etiquetas positivo/negativo, asi que las transformamos en 1 y 0."
      ]
    },
    {
      "cell_type": "code",
      "execution_count": null,
      "metadata": {
        "id": "tMU3GqTAjdQQ"
      },
      "outputs": [],
      "source": [
        "y_test_numericos = y_test.map(lambda x: 1 if x == 'negativo' else 0)\n",
        "y_train_numericos = y_train.map(lambda x: 1 if x == 'negativo' else 0)"
      ]
    },
    {
      "cell_type": "code",
      "execution_count": null,
      "metadata": {
        "id": "4CqT8axx4Wbl"
      },
      "outputs": [],
      "source": [
        "mini_y_train_numericos= mini_y_train.map(lambda x: 1 if x == 'negativo' else 0)\n",
        "gran_y_test_numericos= gran_y_test.map(lambda x: 1 if x == 'negativo' else 0)"
      ]
    },
    {
      "cell_type": "code",
      "execution_count": null,
      "metadata": {
        "id": "UxVsNQiqD2Lt"
      },
      "outputs": [],
      "source": [
        "if exists('/content/modelos/ModeloXGB-base.joblib') == False:\n",
        "  xgb_model = make_pipeline(TfidfVectorizer(), xgb.XGBClassifier(random_state=0, n_estimators=100))\n",
        "  xgb_model.fit(x_train.review_es, y_train_numericos)\n",
        "\n",
        "  dump(xgb_model, '/content/modelos/ModeloXGB-base.joblib')\n",
        "else:\n",
        "  xgb_model = load('/content/modelos/ModeloXGB-base.joblib')"
      ]
    },
    {
      "cell_type": "code",
      "execution_count": null,
      "metadata": {
        "id": "bvIuW1_ycUW0"
      },
      "outputs": [],
      "source": [
        "y_pred = xgb_model.predict(x_test.review_es)"
      ]
    },
    {
      "cell_type": "code",
      "execution_count": null,
      "metadata": {
        "id": "F2Dszw_Ycfe4",
        "colab": {
          "base_uri": "https://localhost:8080/",
          "height": 605
        },
        "outputId": "98588b8f-d937-439c-f73c-931a586a4be4"
      },
      "outputs": [
        {
          "output_type": "stream",
          "name": "stdout",
          "text": [
            "              precision    recall  f1-score   support\n",
            "\n",
            "           0       0.83      0.86      0.84      7247\n",
            "           1       0.85      0.82      0.83      7208\n",
            "\n",
            "    accuracy                           0.84     14455\n",
            "   macro avg       0.84      0.84      0.84     14455\n",
            "weighted avg       0.84      0.84      0.84     14455\n",
            "\n"
          ]
        },
        {
          "output_type": "display_data",
          "data": {
            "text/plain": [
              "<Figure size 640x480 with 2 Axes>"
            ],
            "image/png": "[encoded data removed]"
          },
          "metadata": {}
        }
      ],
      "source": [
        "metricas(y_pred,y_test_numericos)"
      ]
    },
    {
      "cell_type": "code",
      "execution_count": null,
      "metadata": {
        "id": "F5AWCQWzckBQ"
      },
      "outputs": [],
      "source": [
        "y_pred_xgb = xgb_model.predict(df_test.review_es)"
      ]
    },
    {
      "cell_type": "code",
      "execution_count": null,
      "metadata": {
        "id": "sxzxV0qacs09"
      },
      "outputs": [],
      "source": [
        "ds_resultados = pd.DataFrame({'id': df_test_reviews['ID'], 'sentimiento': y_pred_xgb})\n",
        "ds_resultados['sentimiento'] = ds_resultados['sentimiento'].map({0: 'positivo', 1: 'negativo'})\n",
        "ds_resultados.to_csv('xgboost_base.csv', index=False)"
      ]
    },
    {
      "cell_type": "markdown",
      "metadata": {
        "id": "mOAXDgM0F0nY"
      },
      "source": [
        "![image.png](data:image/png;base64,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)"
      ]
    },
    {
      "cell_type": "markdown",
      "metadata": {
        "id": "5h2O9iNZVzCb"
      },
      "source": [
        "###Búsqueda de mejores modelos/hiperparámetros"
      ]
    },
    {
      "cell_type": "markdown",
      "source": [
        "El modelo XGBoost con la búsqueda de hiperparámetros ha funcionado más eficientemente utilizando el procesamiento sin tokenización, habiendo probado distintas combinaciones."
      ],
      "metadata": {
        "id": "wa7IKhAvaKQs"
      }
    },
    {
      "cell_type": "markdown",
      "metadata": {
        "id": "YIUiOvT5dppl"
      },
      "source": [
        "Para buscar los mejores hiperparametros, debemos tener en cuenta los del clasificador XGBoost y utilizaremos los hiperparametros default del TfidVectorizer, salvo la cantidad máxima de features y la máxima aparición de las palabras para no sobrecargar la notebook.\n"
      ]
    },
    {
      "cell_type": "code",
      "source": [
        "params_grid = {\n",
        "  'xgbclassifier__n_estimators': [50, 100, 150, 200],\n",
        "  'xgbclassifier__max_depth': [10, 15, 20, 25],\n",
        "  'xgbclassifier__learning_rate': [0.01, 0.1, 0.2, 0.3, 0.4, 0.5],\n",
        "  'xgbclassifier__min_child_weight': [1, 2, 3, 4, 5],\n",
        "  'xgbclassifier__colsample_bytree': [0.7, 0.8, 0.9, 1.0],\n",
        "  'xgbclassifier__reg_alpha': [0, 0.001, 0.01, 0.1, 1],\n",
        "  'xgbclassifier__reg_lambda': [0, 0.001, 0.01, 0.1, 1]\n",
        "}"
      ],
      "metadata": {
        "id": "JOA-vhdAo4Iz"
      },
      "execution_count": null,
      "outputs": []
    },
    {
      "cell_type": "code",
      "execution_count": null,
      "metadata": {
        "colab": {
          "base_uri": "https://localhost:8080/"
        },
        "outputId": "db9c765e-8eaa-409a-8b9d-35941e4dec86",
        "id": "L6sMQefmYvvM"
      },
      "outputs": [
        {
          "output_type": "stream",
          "name": "stdout",
          "text": [
            "{'xgbclassifier__reg_lambda': 1, 'xgbclassifier__reg_alpha': 0, 'xgbclassifier__n_estimators': 150, 'xgbclassifier__min_child_weight': 3, 'xgbclassifier__max_depth': 10, 'xgbclassifier__learning_rate': 0.4, 'xgbclassifier__colsample_bytree': 0.7}\n",
            "0.8291884358546106\n"
          ]
        }
      ],
      "source": [
        "xgb_model = make_pipeline(TfidfVectorizer(), xgb.XGBClassifier())\n",
        "\n",
        "randomcv = RandomizedSearchCV(xgb_model, params_grid, cv=3, scoring='f1', n_iter=2, random_state=5)\n",
        "\n",
        "randomcv_prueba = randomcv.fit(mini_x_train.review_es, mini_y_train_numericos)\n",
        "\n",
        "print(str(randomcv_prueba.best_params_))\n",
        "print(str(randomcv_prueba.best_score_))"
      ]
    },
    {
      "cell_type": "code",
      "execution_count": null,
      "metadata": {
        "id": "vAzBuKIvHmvn"
      },
      "outputs": [],
      "source": [
        "if exists('/content/modelos/ModeloXGB-mejores-hiper.joblib') == False:\n",
        "  xgb_mejorado = make_pipeline(TfidfVectorizer(max_features = 5000, max_df = 0.5), xgb.XGBClassifier(reg_lambda = 1, reg_alpha = 0,\n",
        "                                                              n_estimators = 150, min_child_weight =3, max_depth= 10,\n",
        "                                                              learning_rate = 0.4, colsample_bytree = 0.7))\n",
        "  xgb_mejorado.fit(x_train.review_es,y_train_numericos)\n",
        "\n",
        "  dump(xgb_mejorado, '/content/modelos/ModeloXGB-mejores-hiper.joblib')\n",
        "else:\n",
        "  xgb_mejorado = load('/content/modelos/ModeloXGB-mejores-hiper.joblib')"
      ]
    },
    {
      "cell_type": "code",
      "execution_count": null,
      "metadata": {
        "id": "jI5WD64-WxPm"
      },
      "outputs": [],
      "source": [
        "y_pred = xgb_mejorado.predict(x_test.review_es)"
      ]
    },
    {
      "cell_type": "code",
      "execution_count": null,
      "metadata": {
        "colab": {
          "base_uri": "https://localhost:8080/",
          "height": 605
        },
        "outputId": "97d1176d-3361-48d7-db7b-627ed7e1e1e5",
        "id": "YzvFfwmSZiJv"
      },
      "outputs": [
        {
          "output_type": "stream",
          "name": "stdout",
          "text": [
            "              precision    recall  f1-score   support\n",
            "\n",
            "           0       0.85      0.86      0.85      7247\n",
            "           1       0.86      0.84      0.85      7208\n",
            "\n",
            "    accuracy                           0.85     14455\n",
            "   macro avg       0.85      0.85      0.85     14455\n",
            "weighted avg       0.85      0.85      0.85     14455\n",
            "\n"
          ]
        },
        {
          "output_type": "display_data",
          "data": {
            "text/plain": [
              "<Figure size 640x480 with 2 Axes>"
            ],
            "image/png": "[encoded data removed]"
          },
          "metadata": {}
        }
      ],
      "source": [
        "metricas(y_pred,y_test_numericos)"
      ]
    },
    {
      "cell_type": "code",
      "execution_count": null,
      "metadata": {
        "id": "4DSmnofbdjAw"
      },
      "outputs": [],
      "source": [
        "y_pred = xgb_mejorado.predict(df_test.review_es)"
      ]
    },
    {
      "cell_type": "code",
      "execution_count": null,
      "metadata": {
        "id": "a16ZTkfEf8ZO"
      },
      "outputs": [],
      "source": [
        "ds_resultados = pd.DataFrame({'id': df_test_reviews['ID'], 'sentimiento': y_pred})\n",
        "ds_resultados['sentimiento'] = ds_resultados['sentimiento'].map({0: 'positivo', 1: 'negativo'})\n",
        "ds_resultados.to_csv('xgboost_mejores_hiperparametros.csv', index=False)"
      ]
    },
    {
      "cell_type": "markdown",
      "source": [
        "![image.png](data:image/png;base64,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)"
      ],
      "metadata": {
        "id": "J4Mm8OpXBStG"
      }
    },
    {
      "cell_type": "markdown",
      "metadata": {
        "id": "-Lm68ffqELik"
      },
      "source": [
        "##Modelo 4: Red Neuronal Recurrente"
      ]
    },
    {
      "cell_type": "markdown",
      "metadata": {
        "id": "Takf_pfByDB_"
      },
      "source": [
        "###Proceso del texto\n",
        "\n"
      ]
    },
    {
      "cell_type": "markdown",
      "metadata": {
        "id": "NHvmoCcfUc5f"
      },
      "source": [
        "Vamos a definir un vocabulario con el que utilizarmos para entrenar la red. Es necesario reducir la cantidad de palabras ya que esta va a ser la cantidad de neuronas en nuestra entrada y una red neuronal con muchas neuronas no es eficiente."
      ]
    },
    {
      "cell_type": "markdown",
      "metadata": {
        "id": "LUJ65EHYVSTI"
      },
      "source": [
        "Es importante previamente haber sacado las stopwords que son palabras altamaente frecuente pero que no aportan ningún tipo de significado a una reseña cinematográfica. Luego, para formar nuestro vocabulario necesitamos tokenizar. Esto ya fue implementado en el preprocesamiento del texto."
      ]
    },
    {
      "cell_type": "markdown",
      "source": [
        "Ahora, vamos a tokenizar las reseñas y extraer las palabras más importantes"
      ],
      "metadata": {
        "id": "SuGYO73liwe6"
      }
    },
    {
      "cell_type": "code",
      "execution_count": null,
      "metadata": {
        "id": "Ee_jIrpIF5Hv"
      },
      "outputs": [],
      "source": [
        "reviews = df_train['texto_recodificado'].tolist()"
      ]
    },
    {
      "cell_type": "code",
      "execution_count": null,
      "metadata": {
        "id": "p-eLicvgRxDX"
      },
      "outputs": [],
      "source": [
        "#Tokenización y secuenciación de texto\n",
        "max_words = 15000\n",
        "max_longitud_secuencia = 500\n",
        "tokenizer = Tokenizer(num_words=max_words)\n",
        "tokenizer.fit_on_texts(reviews)\n",
        "\n",
        "#Obtencion del diccionario de palabras a índices\n",
        "word_index = tokenizer.word_index\n",
        "\n",
        "#Secuencias de tokens\n",
        "sequences = tokenizer.texts_to_sequences(reviews)\n",
        "sequences_prueba = tokenizer.texts_to_sequences(df_test['review_es'].tolist())\n",
        "\n",
        "data = pad_sequences(sequences, maxlen=max_longitud_secuencia)\n",
        "test_padded = pad_sequences(sequences_prueba, maxlen=max_longitud_secuencia)"
      ]
    },
    {
      "cell_type": "markdown",
      "source": [
        "Para entrenar las redes, nuevamente definiremos el conjunto de entrenamiento, pero esta vez usando el dataframe obtenido en la tokenización"
      ],
      "metadata": {
        "id": "nJ2XxU3BjD57"
      }
    },
    {
      "cell_type": "code",
      "source": [
        "df_train['sentimiento'] = df_train['sentimiento'].map(lambda x: 1 if x == 'positivo' else 0)"
      ],
      "metadata": {
        "id": "fl7X5dgJwsBZ"
      },
      "execution_count": null,
      "outputs": []
    },
    {
      "cell_type": "code",
      "source": [
        "df_trabajo_x = df_train['texto_recodificado']\n",
        "\n",
        "df_trabajo_y = df_train['sentimiento'].copy()\n",
        "\n",
        "x_train_rnn, x_test_rnn, y_train_rnn, y_test_rnn = train_test_split(data,\n",
        "                                                    df_trabajo_y,\n",
        "                                                    test_size=0.30,\n",
        "                                                    random_state=9,\n",
        "                                                    shuffle=True\n",
        "                                                    )"
      ],
      "metadata": {
        "id": "uJDiNpUVjgow"
      },
      "execution_count": null,
      "outputs": []
    },
    {
      "cell_type": "code",
      "execution_count": null,
      "metadata": {
        "id": "9qA_3iSxYYFN"
      },
      "outputs": [],
      "source": [
        "training_padded = np.array(x_train_rnn)\n",
        "testing_padded = np.array(x_test_rnn)\n",
        "testing_prueba_padded = np.array(test_padded)"
      ]
    },
    {
      "cell_type": "code",
      "execution_count": null,
      "metadata": {
        "id": "gDLFl14_mdFM"
      },
      "outputs": [],
      "source": [
        "sequences = training_padded"
      ]
    },
    {
      "cell_type": "markdown",
      "source": [
        "###Modelo base (arquitectura)"
      ],
      "metadata": {
        "id": "TQThZnenga8r"
      }
    },
    {
      "cell_type": "markdown",
      "source": [
        "Luego de la búsqueda manual por una mejor arquitectura, optamos por un modelo con capa embedding y capas intermedias de 128 neuronas cada una."
      ],
      "metadata": {
        "id": "iO1qp9Uzjq99"
      }
    },
    {
      "cell_type": "code",
      "source": [
        "embed_size = 128\n",
        "vocab_size = max_words\n",
        "\n",
        "model = keras.models.Sequential([\n",
        "\n",
        "keras.layers.Embedding(vocab_size, embed_size,\n",
        "        input_shape=[None]),\n",
        "\n",
        "    keras.layers.GRU(128, return_sequences=True),\n",
        "\n",
        "    keras.layers.GRU(128),\n",
        "\n",
        "    keras.layers.Dropout(0.2),\n",
        "\n",
        "    keras.layers.Dense(1, activation=\"sigmoid\")\n",
        "])\n",
        "\n",
        "model.compile(\n",
        "  optimizer=keras.optimizers.Adam(learning_rate=0.001, beta_1=0.9, beta_2=0.999),\n",
        "  loss='binary_crossentropy',\n",
        "  metrics=['AUC']\n",
        ")"
      ],
      "metadata": {
        "id": "FVT3fYT1ghp9"
      },
      "execution_count": null,
      "outputs": []
    },
    {
      "cell_type": "code",
      "execution_count": null,
      "metadata": {
        "colab": {
          "base_uri": "https://localhost:8080/"
        },
        "id": "4SJuhtpalzBH",
        "outputId": "1c6fb282-6630-4c49-8eb1-d4df06482a7b"
      },
      "outputs": [
        {
          "output_type": "stream",
          "name": "stdout",
          "text": [
            "Model: \"sequential_4\"\n",
            "_________________________________________________________________\n",
            " Layer (type)                Output Shape              Param #   \n",
            "=================================================================\n",
            " embedding_4 (Embedding)     (None, None, 128)         1920000   \n",
            "                                                                 \n",
            " gru_8 (GRU)                 (None, None, 128)         99072     \n",
            "                                                                 \n",
            " gru_9 (GRU)                 (None, 128)               99072     \n",
            "                                                                 \n",
            " dropout_4 (Dropout)         (None, 128)               0         \n",
            "                                                                 \n",
            " dense_4 (Dense)             (None, 1)                 129       \n",
            "                                                                 \n",
            "=================================================================\n",
            "Total params: 2,118,273\n",
            "Trainable params: 2,118,273\n",
            "Non-trainable params: 0\n",
            "_________________________________________________________________\n"
          ]
        }
      ],
      "source": [
        "model.summary()"
      ]
    },
    {
      "cell_type": "code",
      "execution_count": null,
      "metadata": {
        "id": "2q2_GmHHmwh8"
      },
      "outputs": [],
      "source": [
        "if exists('/content/modelos/ModeloRNNs-inicial.joblib') == False:\n",
        "  model.fit(sequences, y_train_rnn, epochs=4)\n",
        "  dump(model, '/content/modelos/ModeloRNNs-inicial.joblib')\n",
        "else:\n",
        "  model = load('/content/modelos/ModeloRNNs-inicial.joblib')"
      ]
    },
    {
      "cell_type": "code",
      "execution_count": null,
      "metadata": {
        "colab": {
          "base_uri": "https://localhost:8080/"
        },
        "id": "Ryyiq9i_JO_A",
        "outputId": "50d3e827-dbfd-42b3-f499-29983a75fccd"
      },
      "outputs": [
        {
          "output_type": "stream",
          "name": "stdout",
          "text": [
            "452/452 [==============================] - 137s 299ms/step\n"
          ]
        },
        {
          "output_type": "execute_result",
          "data": {
            "text/plain": [
              "array([[1],\n",
              "       [1],\n",
              "       [1],\n",
              "       ...,\n",
              "       [0],\n",
              "       [0],\n",
              "       [1]])"
            ]
          },
          "metadata": {},
          "execution_count": 113
        }
      ],
      "source": [
        "y_pred = model.predict(testing_padded)\n",
        "\n",
        "y_predic_cat_ej1 = np.where(y_pred>0.5,1,0)\n",
        "\n",
        "y_predic_cat_ej1"
      ]
    },
    {
      "cell_type": "code",
      "execution_count": null,
      "metadata": {
        "colab": {
          "base_uri": "https://localhost:8080/",
          "height": 606
        },
        "id": "pMJTZhU5Lfhr",
        "outputId": "ed4df8d4-40ce-4e8d-c317-f031757a4e49"
      },
      "outputs": [
        {
          "output_type": "stream",
          "name": "stdout",
          "text": [
            "              precision    recall  f1-score   support\n",
            "\n",
            "           0       0.89      0.83      0.86      7208\n",
            "           1       0.84      0.90      0.87      7247\n",
            "\n",
            "    accuracy                           0.86     14455\n",
            "   macro avg       0.87      0.86      0.86     14455\n",
            "weighted avg       0.87      0.86      0.86     14455\n",
            "\n"
          ]
        },
        {
          "output_type": "display_data",
          "data": {
            "text/plain": [
              "<Figure size 640x480 with 2 Axes>"
            ],
            "image/png": "[encoded data removed]"
          },
          "metadata": {}
        }
      ],
      "source": [
        "ds_validacion=pd.DataFrame(y_predic_cat_ej1,y_test_rnn).reset_index()\n",
        "ds_validacion.columns=['y_pred','y_real']\n",
        "\n",
        "print(classification_report(y_test_rnn,y_predic_cat_ej1))\n",
        "\n",
        "tabla=pd.crosstab(ds_validacion.y_pred, ds_validacion.y_real)\n",
        "grf=sns.heatmap(tabla,annot=True, cmap = 'Blues', fmt='g')\n",
        "plt.show()"
      ]
    },
    {
      "cell_type": "code",
      "execution_count": null,
      "metadata": {
        "colab": {
          "base_uri": "https://localhost:8080/"
        },
        "id": "p0mRHG3XWEjp",
        "outputId": "0514af71-5473-4404-825b-5b10b139c73d"
      },
      "outputs": [
        {
          "output_type": "stream",
          "name": "stdout",
          "text": [
            "269/269 [==============================] - 77s 286ms/step\n"
          ]
        }
      ],
      "source": [
        "y_pred_final = model.predict(testing_prueba_padded)"
      ]
    },
    {
      "cell_type": "code",
      "execution_count": null,
      "metadata": {
        "colab": {
          "base_uri": "https://localhost:8080/"
        },
        "id": "COSqaVZbWT7x",
        "outputId": "0734e0c0-4d69-4b47-c106-a2387655ff33"
      },
      "outputs": [
        {
          "output_type": "execute_result",
          "data": {
            "text/plain": [
              "array([0, 0, 0, ..., 1, 1, 1])"
            ]
          },
          "metadata": {},
          "execution_count": 116
        }
      ],
      "source": [
        "y_pred_final = np.where(y_pred_final>0.5,1,0)\n",
        "y_pred_final = y_pred_final.ravel()\n",
        "y_pred_final"
      ]
    },
    {
      "cell_type": "code",
      "execution_count": null,
      "metadata": {
        "colab": {
          "base_uri": "https://localhost:8080/",
          "height": 363
        },
        "id": "d6th3ueSWV-H",
        "outputId": "3266372b-cc08-40ca-a799-da68c6416ab3"
      },
      "outputs": [
        {
          "output_type": "execute_result",
          "data": {
            "text/plain": [
              "      id  sentimiento\n",
              "0  60000            0\n",
              "1  60001            0\n",
              "2  60002            0\n",
              "3  60003            0\n",
              "4  60004            0\n",
              "5  60005            0\n",
              "6  60006            0\n",
              "7  60007            0\n",
              "8  60008            0\n",
              "9  60009            0"
            ],
            "text/html": [
              "\n",
              "  <div id=\"df-a5430939-1c35-405d-b71c-59762ada4243\" class=\"colab-df-container\">\n",
              "    <div>\n",
              "<style scoped>\n",
              "    .dataframe tbody tr th:only-of-type {\n",
              "        vertical-align: middle;\n",
              "    }\n",
              "\n",
              "    .dataframe tbody tr th {\n",
              "        vertical-align: top;\n",
              "    }\n",
              "\n",
              "    .dataframe thead th {\n",
              "        text-align: right;\n",
              "    }\n",
              "</style>\n",
              "<table border=\"1\" class=\"dataframe\">\n",
              "  <thead>\n",
              "    <tr style=\"text-align: right;\">\n",
              "      <th></th>\n",
              "      <th>id</th>\n",
              "      <th>sentimiento</th>\n",
              "    </tr>\n",
              "  </thead>\n",
              "  <tbody>\n",
              "    <tr>\n",
              "      <th>0</th>\n",
              "      <td>60000</td>\n",
              "      <td>0</td>\n",
              "    </tr>\n",
              "    <tr>\n",
              "      <th>1</th>\n",
              "      <td>60001</td>\n",
              "      <td>0</td>\n",
              "    </tr>\n",
              "    <tr>\n",
              "      <th>2</th>\n",
              "      <td>60002</td>\n",
              "      <td>0</td>\n",
              "    </tr>\n",
              "    <tr>\n",
              "      <th>3</th>\n",
              "      <td>60003</td>\n",
              "      <td>0</td>\n",
              "    </tr>\n",
              "    <tr>\n",
              "      <th>4</th>\n",
              "      <td>60004</td>\n",
              "      <td>0</td>\n",
              "    </tr>\n",
              "    <tr>\n",
              "      <th>5</th>\n",
              "      <td>60005</td>\n",
              "      <td>0</td>\n",
              "    </tr>\n",
              "    <tr>\n",
              "      <th>6</th>\n",
              "      <td>60006</td>\n",
              "      <td>0</td>\n",
              "    </tr>\n",
              "    <tr>\n",
              "      <th>7</th>\n",
              "      <td>60007</td>\n",
              "      <td>0</td>\n",
              "    </tr>\n",
              "    <tr>\n",
              "      <th>8</th>\n",
              "      <td>60008</td>\n",
              "      <td>0</td>\n",
              "    </tr>\n",
              "    <tr>\n",
              "      <th>9</th>\n",
              "      <td>60009</td>\n",
              "      <td>0</td>\n",
              "    </tr>\n",
              "  </tbody>\n",
              "</table>\n",
              "</div>\n",
              "    <div class=\"colab-df-buttons\">\n",
              "\n",
              "  <div class=\"colab-df-container\">\n",
              "    <button class=\"colab-df-convert\" onclick=\"convertToInteractive('df-a5430939-1c35-405d-b71c-59762ada4243')\"\n",
              "            title=\"Convert this dataframe to an interactive table.\"\n",
              "            style=\"display:none;\">\n",
              "\n",
              "  <svg xmlns=\"http://www.w3.org/2000/svg\" height=\"24px\" viewBox=\"0 -960 960 960\">\n",
              "    <path d=\"M120-120v-720h720v720H120Zm60-500h600v-160H180v160Zm220 220h160v-160H400v160Zm0 220h160v-160H400v160ZM180-400h160v-160H180v160Zm440 0h160v-160H620v160ZM180-180h160v-160H180v160Zm440 0h160v-160H620v160Z\"/>\n",
              "  </svg>\n",
              "    </button>\n",
              "\n",
              "  <style>\n",
              "    .colab-df-container {\n",
              "      display:flex;\n",
              "      gap: 12px;\n",
              "    }\n",
              "\n",
              "    .colab-df-convert {\n",
              "      background-color: #E8F0FE;\n",
              "      border: none;\n",
              "      border-radius: 50%;\n",
              "      cursor: pointer;\n",
              "      display: none;\n",
              "      fill: #1967D2;\n",
              "      height: 32px;\n",
              "      padding: 0 0 0 0;\n",
              "      width: 32px;\n",
              "    }\n",
              "\n",
              "    .colab-df-convert:hover {\n",
              "      background-color: #E2EBFA;\n",
              "      box-shadow: 0px 1px 2px rgba(60, 64, 67, 0.3), 0px 1px 3px 1px rgba(60, 64, 67, 0.15);\n",
              "      fill: #174EA6;\n",
              "    }\n",
              "\n",
              "    .colab-df-buttons div {\n",
              "      margin-bottom: 4px;\n",
              "    }\n",
              "\n",
              "    [theme=dark] .colab-df-convert {\n",
              "      background-color: #3B4455;\n",
              "      fill: #D2E3FC;\n",
              "    }\n",
              "\n",
              "    [theme=dark] .colab-df-convert:hover {\n",
              "      background-color: #434B5C;\n",
              "      box-shadow: 0px 1px 3px 1px rgba(0, 0, 0, 0.15);\n",
              "      filter: drop-shadow(0px 1px 2px rgba(0, 0, 0, 0.3));\n",
              "      fill: #FFFFFF;\n",
              "    }\n",
              "  </style>\n",
              "\n",
              "    <script>\n",
              "      const buttonEl =\n",
              "        document.querySelector('#df-a5430939-1c35-405d-b71c-59762ada4243 button.colab-df-convert');\n",
              "      buttonEl.style.display =\n",
              "        google.colab.kernel.accessAllowed ? 'block' : 'none';\n",
              "\n",
              "      async function convertToInteractive(key) {\n",
              "        const element = document.querySelector('#df-a5430939-1c35-405d-b71c-59762ada4243');\n",
              "        const dataTable =\n",
              "          await google.colab.kernel.invokeFunction('convertToInteractive',\n",
              "                                                    [key], {});\n",
              "        if (!dataTable) return;\n",
              "\n",
              "        const docLinkHtml = 'Like what you see? Visit the ' +\n",
              "          '<a target=\"_blank\" href=https://colab.research.google.com/notebooks/data_table.ipynb>data table notebook</a>'\n",
              "          + ' to learn more about interactive tables.';\n",
              "        element.innerHTML = '';\n",
              "        dataTable['output_type'] = 'display_data';\n",
              "        await google.colab.output.renderOutput(dataTable, element);\n",
              "        const docLink = document.createElement('div');\n",
              "        docLink.innerHTML = docLinkHtml;\n",
              "        element.appendChild(docLink);\n",
              "      }\n",
              "    </script>\n",
              "  </div>\n",
              "\n",
              "\n",
              "<div id=\"df-82ae6d50-45cf-423e-82ec-8c227b3bb728\">\n",
              "  <button class=\"colab-df-quickchart\" onclick=\"quickchart('df-82ae6d50-45cf-423e-82ec-8c227b3bb728')\"\n",
              "            title=\"Suggest charts\"\n",
              "            style=\"display:none;\">\n",
              "\n",
              "<svg xmlns=\"http://www.w3.org/2000/svg\" height=\"24px\"viewBox=\"0 0 24 24\"\n",
              "     width=\"24px\">\n",
              "    <g>\n",
              "        <path d=\"M19 3H5c-1.1 0-2 .9-2 2v14c0 1.1.9 2 2 2h14c1.1 0 2-.9 2-2V5c0-1.1-.9-2-2-2zM9 17H7v-7h2v7zm4 0h-2V7h2v10zm4 0h-2v-4h2v4z\"/>\n",
              "    </g>\n",
              "</svg>\n",
              "  </button>\n",
              "\n",
              "<style>\n",
              "  .colab-df-quickchart {\n",
              "      --bg-color: #E8F0FE;\n",
              "      --fill-color: #1967D2;\n",
              "      --hover-bg-color: #E2EBFA;\n",
              "      --hover-fill-color: #174EA6;\n",
              "      --disabled-fill-color: #AAA;\n",
              "      --disabled-bg-color: #DDD;\n",
              "  }\n",
              "\n",
              "  [theme=dark] .colab-df-quickchart {\n",
              "      --bg-color: #3B4455;\n",
              "      --fill-color: #D2E3FC;\n",
              "      --hover-bg-color: #434B5C;\n",
              "      --hover-fill-color: #FFFFFF;\n",
              "      --disabled-bg-color: #3B4455;\n",
              "      --disabled-fill-color: #666;\n",
              "  }\n",
              "\n",
              "  .colab-df-quickchart {\n",
              "    background-color: var(--bg-color);\n",
              "    border: none;\n",
              "    border-radius: 50%;\n",
              "    cursor: pointer;\n",
              "    display: none;\n",
              "    fill: var(--fill-color);\n",
              "    height: 32px;\n",
              "    padding: 0;\n",
              "    width: 32px;\n",
              "  }\n",
              "\n",
              "  .colab-df-quickchart:hover {\n",
              "    background-color: var(--hover-bg-color);\n",
              "    box-shadow: 0 1px 2px rgba(60, 64, 67, 0.3), 0 1px 3px 1px rgba(60, 64, 67, 0.15);\n",
              "    fill: var(--button-hover-fill-color);\n",
              "  }\n",
              "\n",
              "  .colab-df-quickchart-complete:disabled,\n",
              "  .colab-df-quickchart-complete:disabled:hover {\n",
              "    background-color: var(--disabled-bg-color);\n",
              "    fill: var(--disabled-fill-color);\n",
              "    box-shadow: none;\n",
              "  }\n",
              "\n",
              "  .colab-df-spinner {\n",
              "    border: 2px solid var(--fill-color);\n",
              "    border-color: transparent;\n",
              "    border-bottom-color: var(--fill-color);\n",
              "    animation:\n",
              "      spin 1s steps(1) infinite;\n",
              "  }\n",
              "\n",
              "  @keyframes spin {\n",
              "    0% {\n",
              "      border-color: transparent;\n",
              "      border-bottom-color: var(--fill-color);\n",
              "      border-left-color: var(--fill-color);\n",
              "    }\n",
              "    20% {\n",
              "      border-color: transparent;\n",
              "      border-left-color: var(--fill-color);\n",
              "      border-top-color: var(--fill-color);\n",
              "    }\n",
              "    30% {\n",
              "      border-color: transparent;\n",
              "      border-left-color: var(--fill-color);\n",
              "      border-top-color: var(--fill-color);\n",
              "      border-right-color: var(--fill-color);\n",
              "    }\n",
              "    40% {\n",
              "      border-color: transparent;\n",
              "      border-right-color: var(--fill-color);\n",
              "      border-top-color: var(--fill-color);\n",
              "    }\n",
              "    60% {\n",
              "      border-color: transparent;\n",
              "      border-right-color: var(--fill-color);\n",
              "    }\n",
              "    80% {\n",
              "      border-color: transparent;\n",
              "      border-right-color: var(--fill-color);\n",
              "      border-bottom-color: var(--fill-color);\n",
              "    }\n",
              "    90% {\n",
              "      border-color: transparent;\n",
              "      border-bottom-color: var(--fill-color);\n",
              "    }\n",
              "  }\n",
              "</style>\n",
              "\n",
              "  <script>\n",
              "    async function quickchart(key) {\n",
              "      const quickchartButtonEl =\n",
              "        document.querySelector('#' + key + ' button');\n",
              "      quickchartButtonEl.disabled = true;  // To prevent multiple clicks.\n",
              "      quickchartButtonEl.classList.add('colab-df-spinner');\n",
              "      try {\n",
              "        const charts = await google.colab.kernel.invokeFunction(\n",
              "            'suggestCharts', [key], {});\n",
              "      } catch (error) {\n",
              "        console.error('Error during call to suggestCharts:', error);\n",
              "      }\n",
              "      quickchartButtonEl.classList.remove('colab-df-spinner');\n",
              "      quickchartButtonEl.classList.add('colab-df-quickchart-complete');\n",
              "    }\n",
              "    (() => {\n",
              "      let quickchartButtonEl =\n",
              "        document.querySelector('#df-82ae6d50-45cf-423e-82ec-8c227b3bb728 button');\n",
              "      quickchartButtonEl.style.display =\n",
              "        google.colab.kernel.accessAllowed ? 'block' : 'none';\n",
              "    })();\n",
              "  </script>\n",
              "</div>\n",
              "    </div>\n",
              "  </div>\n"
            ]
          },
          "metadata": {},
          "execution_count": 117
        }
      ],
      "source": [
        "ds_resultados=pd.DataFrame({'id': df_test['ID'], 'sentimiento': y_pred_final})\n",
        "ds_resultados.head(10)"
      ]
    },
    {
      "cell_type": "code",
      "execution_count": null,
      "metadata": {
        "id": "EHmWeE5pXgql"
      },
      "outputs": [],
      "source": [
        "ds_resultados['sentimiento'] = ds_resultados['sentimiento'].replace({1: 'positivo', 0: 'negativo'})"
      ]
    },
    {
      "cell_type": "code",
      "execution_count": null,
      "metadata": {
        "id": "UVTqe7NeW8Uu"
      },
      "outputs": [],
      "source": [
        "ds_resultados.to_csv('red_neuronal_GRU.csv', index=False)"
      ]
    },
    {
      "cell_type": "markdown",
      "metadata": {
        "id": "3G0CiZMcESDF"
      },
      "source": [
        "##Modelo 5: Ensamble Voting"
      ]
    },
    {
      "cell_type": "code",
      "source": [
        "from sklearn.ensemble import VotingClassifier"
      ],
      "metadata": {
        "id": "A0uEnLOmqCQZ"
      },
      "execution_count": null,
      "outputs": []
    },
    {
      "cell_type": "markdown",
      "source": [
        "Realizamos un ensamble del tipo Voting para nuestros 3 modelos base de Bayes, Random Forest y XGBoost, la idea es convertir 3 predictores \"débiles\" en uno más fuerte."
      ],
      "metadata": {
        "id": "dpfqro9z392T"
      }
    },
    {
      "cell_type": "code",
      "execution_count": null,
      "metadata": {
        "id": "8Bzln3GzxALc"
      },
      "outputs": [],
      "source": [
        "xgb_model = load('/content/modelos/ModeloXGB-base.joblib')\n",
        "rf_model = load('/content/modelos/ModeloRF-base.joblib')\n",
        "bayes_model = load('/content/modelos/ModeloBayes-base.joblib')"
      ]
    },
    {
      "cell_type": "code",
      "execution_count": null,
      "metadata": {
        "id": "KGDZDWRAxAte",
        "colab": {
          "base_uri": "https://localhost:8080/"
        },
        "outputId": "589ccf04-4cd7-4a3b-aa32-5f9bbdfbc17f"
      },
      "outputs": [
        {
          "output_type": "stream",
          "name": "stderr",
          "text": [
            "/usr/local/lib/python3.10/dist-packages/sklearn/ensemble/_forest.py:424: FutureWarning: `max_features='auto'` has been deprecated in 1.1 and will be removed in 1.3. To keep the past behaviour, explicitly set `max_features='sqrt'` or remove this parameter as it is also the default value for RandomForestClassifiers and ExtraTreesClassifiers.\n",
            "  warn(\n"
          ]
        }
      ],
      "source": [
        "if exists('/content/modelos/ModeloVoting-base.joblib') == False:\n",
        "\n",
        "  vot_clf = VotingClassifier(estimators = [('xgb', xgb_model), ('rf', rf_model), ('bayes', bayes_model)], voting = 'hard')\n",
        "  vot_clf.fit(x_train.review_es,y_train)\n",
        "\n",
        "  dump(vot_clf, '/content/modelos/ModeloVoting-base.joblib')\n",
        "else:\n",
        "  vot_clf = load('/content/modelos/ModeloVoting-base.joblib')\n"
      ]
    },
    {
      "cell_type": "code",
      "execution_count": null,
      "metadata": {
        "id": "nE4qc9g6xBf-",
        "colab": {
          "base_uri": "https://localhost:8080/",
          "height": 660
        },
        "outputId": "3878d34d-bea3-4cdd-e484-7356ef171304"
      },
      "outputs": [
        {
          "output_type": "stream",
          "name": "stderr",
          "text": [
            "/usr/local/lib/python3.10/dist-packages/sklearn/ensemble/_forest.py:424: FutureWarning: `max_features='auto'` has been deprecated in 1.1 and will be removed in 1.3. To keep the past behaviour, explicitly set `max_features='sqrt'` or remove this parameter as it is also the default value for RandomForestClassifiers and ExtraTreesClassifiers.\n",
            "  warn(\n"
          ]
        },
        {
          "output_type": "stream",
          "name": "stdout",
          "text": [
            "              precision    recall  f1-score   support\n",
            "\n",
            "    negativo       0.87      0.87      0.87      7208\n",
            "    positivo       0.87      0.87      0.87      7247\n",
            "\n",
            "    accuracy                           0.87     14455\n",
            "   macro avg       0.87      0.87      0.87     14455\n",
            "weighted avg       0.87      0.87      0.87     14455\n",
            "\n"
          ]
        },
        {
          "output_type": "display_data",
          "data": {
            "text/plain": [
              "<Figure size 640x480 with 2 Axes>"
            ],
            "image/png": "[encoded data removed]"
          },
          "metadata": {}
        }
      ],
      "source": [
        "y_pred = vot_clf.predict(x_test.review_es)\n",
        "metricas(y_pred,y_test)"
      ]
    },
    {
      "cell_type": "code",
      "source": [
        "y_pred_voting = vot_clf.predict(df_test.review_es)"
      ],
      "metadata": {
        "id": "reo9lcLWqtwP"
      },
      "execution_count": null,
      "outputs": []
    },
    {
      "cell_type": "code",
      "source": [
        "ds_resultados = pd.DataFrame({'id': df_test_reviews['ID'], 'sentimiento': y_pred_voting})\n",
        "ds_resultados.to_csv('voting_con_modelos_base.csv', index=False)"
      ],
      "metadata": {
        "id": "SmaC5ytXq4sU"
      },
      "execution_count": null,
      "outputs": []
    },
    {
      "cell_type": "markdown",
      "source": [
        "![image.png](data:image/png;base64,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)"
      ],
      "metadata": {
        "id": "1RmS0qYQ_g0K"
      }
    }
  ],
  "metadata": {
    "colab": {
      "provenance": [],
      "toc_visible": true
    },
    "kernelspec": {
      "display_name": "Python 3",
      "name": "python3"
    },
    "language_info": {
      "name": "python"
    }
  },
  "nbformat": 4,
  "nbformat_minor": 0
}