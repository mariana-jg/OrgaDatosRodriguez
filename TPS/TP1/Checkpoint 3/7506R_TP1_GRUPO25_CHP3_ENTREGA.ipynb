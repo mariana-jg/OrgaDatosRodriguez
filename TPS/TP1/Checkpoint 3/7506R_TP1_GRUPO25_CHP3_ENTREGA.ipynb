{
  "nbformat": 4,
  "nbformat_minor": 0,
  "metadata": {
    "colab": {
      "provenance": []
    },
    "kernelspec": {
      "name": "python3",
      "display_name": "Python 3"
    },
    "language_info": {
      "name": "python"
    }
  },
  "cells": [
    {
      "cell_type": "markdown",
      "metadata": {
        "id": "QgBVJ4V6CZqL"
      },
      "source": [
        "#**Trabajo Práctico N°1: Reservas de Hotel**\n",
        "Organización de Datos (7506): cátedra Rodriguez\n",
        "\n",
        "Grupo 25:\n",
        "- Mariana Juarez Goldemberg - Padrón: 108441\n",
        "- Lisandro Roman - Padrón: 107274\n",
        "- Miranda Marenzi - Padrón: 109404\n",
        "\n",
        "Checkpoint N°3"
      ]
    },
    {
      "cell_type": "markdown",
      "source": [
        "a. Construir un clasificador KNN optimizar sus hiperparámetros mediante k-fold\n",
        "Cross Validation\n",
        "\n",
        "b. Construir un clasificador SVM variando el kernel y los parámetros.\n",
        "\n",
        "c. Construir un clasificador RF y optimizar sus hiperparámetros mediante k-fold\n",
        "Cross Validation\n",
        "\n",
        "d. Construir un clasificador XGBoost y optimizar sus hiperparámetros.\n",
        "\n",
        "e. Construir un ensamble híbrido tipo Voting y otro tipo Stacking.\n",
        "\n",
        "f. Evaluar la performance de todos los modelos en entrenamiento y validación,\n",
        "explicar todas las métricas y mostrar la matriz de confusión.\n",
        "\n",
        "g. Generar predicciones con el set de test y realizar los submits correspondientes en la competencia de Kaggle."
      ],
      "metadata": {
        "id": "ikHw5MXUgvRS"
      }
    },
    {
      "cell_type": "markdown",
      "source": [
        "Importamos las librerías que necesitaremos a lo largo del trabajo, y los datasets."
      ],
      "metadata": {
        "id": "fyOJK3cbO571"
      }
    },
    {
      "cell_type": "code",
      "source": [
        "import pandas as pd\n",
        "import numpy as np\n",
        "\n",
        "import sklearn as sk\n",
        "from sklearn.metrics import DistanceMetric\n",
        "\n",
        "import matplotlib.pyplot as plt\n",
        "import seaborn as sns\n",
        "\n",
        "#KNN\n",
        "from sklearn.model_selection import train_test_split\n",
        "from sklearn.neighbors import KNeighborsClassifier\n",
        "from sklearn.metrics import accuracy_score\n",
        "\n",
        "#SVM\n",
        "from sklearn import preprocessing\n",
        "from sklearn.svm import SVC\n",
        "from sklearn.datasets import make_classification\n",
        "from sklearn.metrics import confusion_matrix, classification_report\n",
        "\n",
        "from sklearn import tree\n",
        "from sklearn.tree import DecisionTreeClassifier\n",
        "\n",
        "#XGB\n",
        "\n",
        "import xgboost as xgb\n",
        "from sklearn.metrics import roc_auc_score\n",
        "\n",
        "#Ensamble hibrido\n",
        "from collections import defaultdict\n",
        "import plotly.graph_objects as go\n",
        "from sklearn.ensemble import RandomForestClassifier\n",
        "from sklearn.linear_model import LogisticRegression\n",
        "from sklearn.neural_network import MLPClassifier\n",
        "from sklearn.linear_model import LogisticRegressionCV\n",
        "from sklearn.model_selection import cross_val_score, RepeatedStratifiedKFold\n",
        "\n",
        "\n",
        "from sklearn.model_selection import GridSearchCV\n",
        "from sklearn.preprocessing import MinMaxScaler\n",
        "\n",
        "import warnings\n",
        "warnings.simplefilter(action='ignore', category=FutureWarning)\n",
        "warnings.simplefilter(action='ignore', category=UserWarning)\n",
        "\n",
        "from sklearn.model_selection import RandomizedSearchCV"
      ],
      "metadata": {
        "id": "M48Vu79SjdUD"
      },
      "execution_count": 1,
      "outputs": []
    },
    {
      "cell_type": "code",
      "source": [
        "df_check1 = pd.read_csv('/content/sample_data/df_redefinido.csv')\n",
        "df_test_check1 = pd.read_csv('/content/sample_data/dftest_redefinido.csv')\n",
        "df_id = pd.read_csv('/content/sample_data/df_test_id.csv')"
      ],
      "metadata": {
        "id": "gI-eISGzjxr5"
      },
      "execution_count": 2,
      "outputs": []
    },
    {
      "cell_type": "code",
      "source": [
        "df_train = df_check1.copy()\n",
        "df_test = df_test_check1.copy()\n",
        "\n",
        "df_test.drop(columns = ['reservation_status_date'], inplace = True)\n",
        "\n",
        "df_trabajo_x=df_train.drop(['is_canceled'], axis='columns', inplace=False)\n",
        "df_trabajo_y = df_train['is_canceled'].copy()\n",
        "x_train, x_test, y_train, y_test = train_test_split(df_trabajo_x,\n",
        "                                                    df_trabajo_y,\n",
        "                                                    test_size=0.3,\n",
        "                                                    random_state=9)"
      ],
      "metadata": {
        "id": "MyulwgYvj79Z"
      },
      "execution_count": 3,
      "outputs": []
    },
    {
      "cell_type": "code",
      "source": [
        "features = ['lead_time', 'arrival_date_year', 'arrival_date_month',\n",
        "       'arrival_date_day_of_month', 'stays_in_weekend_nights',\n",
        "       'stays_in_week_nights', 'adults', 'children', 'babies',\n",
        "       'is_repeated_guest', 'previous_cancellations',\n",
        "       'previous_bookings_not_canceled', 'reserved_room_type',\n",
        "       'assigned_room_type', 'booking_changes', 'agent', 'company',\n",
        "       'days_in_waiting_list', 'adr', 'required_car_parking_spaces',\n",
        "       'total_of_special_requests',\n",
        "       'total_people', 'total_days', 'customer_type_Group',\n",
        "       'customer_type_Transient', 'customer_type_Transient-Party',\n",
        "       'deposit_type_Non Refund', 'deposit_type_Refundable', 'meal_FB',\n",
        "       'meal_HB', 'meal_SC', 'meal_Undefined', 'hotel_Resort Hotel',\n",
        "       'market_segment_Complementary', 'market_segment_Corporate',\n",
        "       'market_segment_Direct', 'market_segment_Groups',\n",
        "       'market_segment_Offline TA/TO', 'market_segment_Online TA',\n",
        "       'distribution_channel_Direct', 'distribution_channel_GDS',\n",
        "       'distribution_channel_TA/TO', 'continent_America', 'continent_Asia',\n",
        "       'continent_Europa', 'continent_Oceania']"
      ],
      "metadata": {
        "id": "_3eMc5MmKhiw"
      },
      "execution_count": null,
      "outputs": []
    },
    {
      "cell_type": "code",
      "source": [
        "target = [\"is_canceled\"]"
      ],
      "metadata": {
        "id": "fmMKthc9Qrbq"
      },
      "execution_count": null,
      "outputs": []
    },
    {
      "cell_type": "code",
      "source": [
        "df_train.shape"
      ],
      "metadata": {
        "colab": {
          "base_uri": "https://localhost:8080/"
        },
        "id": "KIUmJd5Hk_zF",
        "outputId": "ca512f3b-b39d-4a92-9c4e-b13291b0fc03"
      },
      "execution_count": null,
      "outputs": [
        {
          "output_type": "execute_result",
          "data": {
            "text/plain": [
              "(57858, 47)"
            ]
          },
          "metadata": {},
          "execution_count": 40
        }
      ]
    },
    {
      "cell_type": "code",
      "source": [
        "def metricas(y_pred,y_test):\n",
        "\n",
        "  print(classification_report(y_test,y_pred))\n",
        "\n",
        "  cm = confusion_matrix(y_test,y_pred)\n",
        "  sns.heatmap(cm, cmap='Blues',annot=True,fmt='g')\n",
        "  plt.xlabel('Predicted')\n",
        "  plt.ylabel('True')"
      ],
      "metadata": {
        "id": "a57608COwU_S"
      },
      "execution_count": 4,
      "outputs": []
    },
    {
      "cell_type": "markdown",
      "source": [
        "##a. Clasificador KNN"
      ],
      "metadata": {
        "id": "QAM8_BCwi_VS"
      }
    },
    {
      "cell_type": "markdown",
      "source": [
        "El algoritmo K-Nearest Neighbors, KNN, es un algoritmo tal que dado un punto y evaluando sus \"k\" vecinos para encontrar similitudes, intenta predecir un atributo o propiedad de dicho punto. Se basa en que puntos de propiedades similares se encontrarán a poca distancia entre sí, en cambio, los que no son similares, estarán a mayor distancia."
      ],
      "metadata": {
        "id": "JVaYzHDOCmPk"
      }
    },
    {
      "cell_type": "markdown",
      "source": [
        "Para una primer idea, crearemos un modelo con sus parámetros por defecto:"
      ],
      "metadata": {
        "id": "y4ThfUqskRn_"
      }
    },
    {
      "cell_type": "code",
      "source": [
        "KNN_Classifier = KNeighborsClassifier()\n",
        "\n",
        "KNN_Classifier.get_params()"
      ],
      "metadata": {
        "colab": {
          "base_uri": "https://localhost:8080/"
        },
        "id": "N-w3E6F4i-g5",
        "outputId": "d7ce1a32-e838-4e5a-cedf-6bbced7dae32"
      },
      "execution_count": null,
      "outputs": [
        {
          "output_type": "execute_result",
          "data": {
            "text/plain": [
              "{'algorithm': 'auto',\n",
              " 'leaf_size': 30,\n",
              " 'metric': 'minkowski',\n",
              " 'metric_params': None,\n",
              " 'n_jobs': None,\n",
              " 'n_neighbors': 5,\n",
              " 'p': 2,\n",
              " 'weights': 'uniform'}"
            ]
          },
          "metadata": {},
          "execution_count": 8
        }
      ]
    },
    {
      "cell_type": "markdown",
      "source": [
        "Entre los hiperparámetros del clasificador tenemos:\n",
        "- metric: tipo de distancia a calcular (en este caso usaremos Minkowski)\n",
        "- weight: el peso de cada punto en función de la distancia (usaremos uniform, cada vecino tendrá el mismo peso)\n"
      ],
      "metadata": {
        "id": "UFk7UTV7D4lM"
      }
    },
    {
      "cell_type": "markdown",
      "source": [
        "\n",
        "Entrenamos el modelo con Cross Validation, y vemos cómo trabaja"
      ],
      "metadata": {
        "id": "wZAXBucxki1o"
      }
    },
    {
      "cell_type": "code",
      "source": [
        "KNN_Classifier.fit(x_train, y_train)\n",
        "\n",
        "y_pred = KNN_Classifier.predict(x_test)"
      ],
      "metadata": {
        "id": "U1vqChqKHHto"
      },
      "execution_count": null,
      "outputs": []
    },
    {
      "cell_type": "code",
      "source": [
        "print('correctas: ', np.sum(y_test == y_pred))\n",
        "print('total: ', len(y_test))"
      ],
      "metadata": {
        "colab": {
          "base_uri": "https://localhost:8080/"
        },
        "id": "697mNZNBIbas",
        "outputId": "a71ccb95-a6e0-4a5b-97ef-f56bec9f4fc4"
      },
      "execution_count": null,
      "outputs": [
        {
          "output_type": "stream",
          "name": "stdout",
          "text": [
            "correctas:  12646\n",
            "total:  17358\n"
          ]
        }
      ]
    },
    {
      "cell_type": "code",
      "source": [
        "accuracy_score(y_test,y_pred)"
      ],
      "metadata": {
        "colab": {
          "base_uri": "https://localhost:8080/"
        },
        "id": "MPTFpH0NlNH3",
        "outputId": "fd59bf11-67f5-4ffe-c3a8-aa8158dd3866"
      },
      "execution_count": null,
      "outputs": [
        {
          "output_type": "execute_result",
          "data": {
            "text/plain": [
              "0.7285401543956677"
            ]
          },
          "metadata": {},
          "execution_count": 11
        }
      ]
    },
    {
      "cell_type": "markdown",
      "source": [
        "###Búsqueda de mejores hiperparámetros"
      ],
      "metadata": {
        "id": "C6F_8VYGlUHd"
      }
    },
    {
      "cell_type": "markdown",
      "source": [
        "Veamos qué sucede cuando variamos la cantidad de vecinos"
      ],
      "metadata": {
        "id": "wpPD9AjmlkUB"
      }
    },
    {
      "cell_type": "code",
      "source": [
        "from sklearn.model_selection import cross_val_score\n",
        "\n",
        "k_range=range(1,30) #cantidad de vecinos a probar\n",
        "\n",
        "k_scores=[] # accuracy para cada K utilizado\n",
        "\n",
        "for k in k_range:\n",
        "    knn=KNeighborsClassifier(n_neighbors=k)\n",
        "    scores=cross_val_score(knn,x_train,y_train,cv=10,scoring='accuracy')\n",
        "    k_scores.append(scores.mean())"
      ],
      "metadata": {
        "id": "wyKK3D80m3ul"
      },
      "execution_count": null,
      "outputs": []
    },
    {
      "cell_type": "markdown",
      "source": [
        "La cantidad de K-Neighbours no es el único hiperparámetro a mejorar, también tenemos a metric y weight (nombrados anteriormente) y algorithm (algoritmo utilizado para calcular los vecinos más cercanos).\n",
        "\n",
        "Optimizamos los parámetros usando Random Search Cross Validation"
      ],
      "metadata": {
        "id": "nhdOUu94gNae"
      }
    },
    {
      "cell_type": "code",
      "source": [
        "#Grilla de Parámetros\n",
        "params_grid={ 'n_neighbors':range(1,30),\n",
        "              'weights':['distance','uniform'],\n",
        "              'algorithm':['ball_tree', 'kd_tree', 'brute'],\n",
        "              'metric':['euclidean','manhattan','chebyshev']\n",
        "             }\n",
        "\n",
        "#Clasificador KNN\n",
        "knn=KNeighborsClassifier()\n",
        "\n",
        "#Random Search con 10 Folds y 10 iteraciones\n",
        "rand = RandomizedSearchCV(knn, params_grid, cv=10, scoring='accuracy', n_iter=10, random_state=5)\n",
        "\n",
        "rand.fit(x_train, y_train)\n",
        "rand.cv_results_['mean_test_score']"
      ],
      "metadata": {
        "colab": {
          "base_uri": "https://localhost:8080/"
        },
        "id": "YvYuw96iPZdI",
        "outputId": "829015fc-9af0-4b86-f0fb-3320ecd17032"
      },
      "execution_count": null,
      "outputs": [
        {
          "output_type": "execute_result",
          "data": {
            "text/plain": [
              "array([0.76587654, 0.73644444, 0.70881481, 0.68217284, 0.74883951,\n",
              "       0.73809877, 0.72644444, 0.74190123, 0.77138272, 0.73846914])"
            ]
          },
          "metadata": {},
          "execution_count": 13
        }
      ]
    },
    {
      "cell_type": "code",
      "source": [
        "#Mejores hiperparametros\n",
        "print(rand.best_params_)\n",
        "#Mejor métrica\n",
        "print(rand.best_score_)"
      ],
      "metadata": {
        "colab": {
          "base_uri": "https://localhost:8080/"
        },
        "id": "xxB_LCSWSLhj",
        "outputId": "6252dfa5-a1c2-4ee9-aa4d-c49e585f9570"
      },
      "execution_count": null,
      "outputs": [
        {
          "output_type": "stream",
          "name": "stdout",
          "text": [
            "{'weights': 'distance', 'n_neighbors': 19, 'metric': 'manhattan', 'algorithm': 'brute'}\n",
            "0.7713827160493827\n"
          ]
        }
      ]
    },
    {
      "cell_type": "code",
      "source": [
        "#Mejor estimador\n",
        "best_knn=rand.best_estimator_\n",
        "\n",
        "#Predicción con mejor estimador\n",
        "y_pred=best_knn.predict(x_test)\n",
        "\n",
        "#Accuracy test\n",
        "accuracy_score(y_test,y_pred)"
      ],
      "metadata": {
        "colab": {
          "base_uri": "https://localhost:8080/"
        },
        "id": "DuOcgAoFSRsR",
        "outputId": "755dc78e-4b27-4a43-a819-e98ece9e10e8"
      },
      "execution_count": null,
      "outputs": [
        {
          "output_type": "execute_result",
          "data": {
            "text/plain": [
              "0.7741099204977532"
            ]
          },
          "metadata": {},
          "execution_count": 15
        }
      ]
    },
    {
      "cell_type": "code",
      "source": [
        "from sklearn.metrics import confusion_matrix,classification_report\n",
        "\n",
        "#Reporte de Clasificación\n",
        "print(classification_report(y_test,y_pred))\n",
        "\n",
        "#Matriz de Confusión\n",
        "cm = confusion_matrix(y_test,y_pred)\n",
        "sns.heatmap(cm, cmap='Blues',annot=True,fmt='g')\n",
        "plt.xlabel('Predicted')\n",
        "plt.ylabel('True')"
      ],
      "metadata": {
        "colab": {
          "base_uri": "https://localhost:8080/",
          "height": 622
        },
        "id": "wnsLaippwp6I",
        "outputId": "1aacbf49-77c7-42b7-f16c-f10c9e6bc667"
      },
      "execution_count": null,
      "outputs": [
        {
          "output_type": "stream",
          "name": "stdout",
          "text": [
            "              precision    recall  f1-score   support\n",
            "\n",
            "           0       0.81      0.73      0.77      8831\n",
            "           1       0.75      0.82      0.78      8527\n",
            "\n",
            "    accuracy                           0.77     17358\n",
            "   macro avg       0.78      0.77      0.77     17358\n",
            "weighted avg       0.78      0.77      0.77     17358\n",
            "\n"
          ]
        },
        {
          "output_type": "execute_result",
          "data": {
            "text/plain": [
              "Text(50.722222222222214, 0.5, 'True')"
            ]
          },
          "metadata": {},
          "execution_count": 16
        },
        {
          "output_type": "display_data",
          "data": {
            "text/plain": [
              "<Figure size 640x480 with 2 Axes>"
            ],
            "image/png": "[encoded data removed]"
          },
          "metadata": {}
        }
      ]
    },
    {
      "cell_type": "markdown",
      "source": [
        "##b. Clasificador SVM"
      ],
      "metadata": {
        "id": "iXucRZA8UgCd"
      }
    },
    {
      "cell_type": "markdown",
      "source": [
        "Reescalar los datos antes de usar un clasificador SVM a menudo mejora su rendimiento. Ayuda a garantizar que el modelo funcione de manera más eficiente y que los resultados sean más interpretables y confiables. Escalamos por min-max y con la normalización de los datos."
      ],
      "metadata": {
        "id": "Dk3OF30jV6Rj"
      }
    },
    {
      "cell_type": "code",
      "source": [
        "min_max_scaler = preprocessing.MinMaxScaler()\n",
        "x_train_minmax = min_max_scaler.fit_transform(x_train)\n",
        "x_test_minmax  = min_max_scaler.transform(x_test)\n",
        "\n",
        "stand_scaler = preprocessing.StandardScaler()\n",
        "x_train_norm = stand_scaler.fit_transform(x_train)\n",
        "x_test_norm=stand_scaler.transform(x_test)"
      ],
      "metadata": {
        "id": "i60dCM_YeAA9"
      },
      "execution_count": null,
      "outputs": []
    },
    {
      "cell_type": "markdown",
      "source": [
        "Construcción del modelo SVM"
      ],
      "metadata": {
        "id": "MlxP3vRoWZFM"
      }
    },
    {
      "cell_type": "markdown",
      "source": [
        "Modelo base: datos sin escalar."
      ],
      "metadata": {
        "id": "5_TOFABMcLRu"
      }
    },
    {
      "cell_type": "code",
      "source": [
        "#Construyo un modelo SVM\n",
        "svm = SVC()\n",
        "\n",
        "#Lo entreno con los datos sin escalar\n",
        "svm.fit(x_train, y_train)\n",
        "\n",
        "#Hago la prediccion y calculo las métricas\n",
        "y_pred=svm.predict(x_test)\n",
        "metricas(y_pred,y_test)"
      ],
      "metadata": {
        "id": "GOEfb4mxf6W4",
        "colab": {
          "base_uri": "https://localhost:8080/",
          "height": 605
        },
        "outputId": "78993319-3470-4bc9-f572-20319832f9d9"
      },
      "execution_count": null,
      "outputs": [
        {
          "output_type": "stream",
          "name": "stdout",
          "text": [
            "              precision    recall  f1-score   support\n",
            "\n",
            "           0       0.60      0.72      0.66      8831\n",
            "           1       0.64      0.51      0.56      8527\n",
            "\n",
            "    accuracy                           0.61     17358\n",
            "   macro avg       0.62      0.61      0.61     17358\n",
            "weighted avg       0.62      0.61      0.61     17358\n",
            "\n"
          ]
        },
        {
          "output_type": "display_data",
          "data": {
            "text/plain": [
              "<Figure size 640x480 with 2 Axes>"
            ],
            "image/png": "[encoded data removed]"
          },
          "metadata": {}
        }
      ]
    },
    {
      "cell_type": "markdown",
      "source": [
        "Modelo base: con datos escalados con normalización."
      ],
      "metadata": {
        "id": "bqLSVjjbcQ5X"
      }
    },
    {
      "cell_type": "code",
      "source": [
        "#Construyo un modelo SVM\n",
        "svm_norm= SVC()\n",
        "\n",
        "#Lo entreno con los datos escalados con normalizacion\n",
        "svm_norm.fit(x_train_norm, y_train)\n",
        "\n",
        "#Hago la prediccion y calculo las métricas\n",
        "y_pred_norm=svm_norm.predict(x_test_norm)\n",
        "metricas(y_pred_norm,y_test)"
      ],
      "metadata": {
        "id": "ubnleWGWavWW",
        "colab": {
          "base_uri": "https://localhost:8080/",
          "height": 605
        },
        "outputId": "186265f0-7fe0-4fc6-ee18-a4708b38e669"
      },
      "execution_count": null,
      "outputs": [
        {
          "output_type": "stream",
          "name": "stdout",
          "text": [
            "              precision    recall  f1-score   support\n",
            "\n",
            "           0       0.78      0.86      0.82      8831\n",
            "           1       0.84      0.75      0.79      8527\n",
            "\n",
            "    accuracy                           0.81     17358\n",
            "   macro avg       0.81      0.81      0.81     17358\n",
            "weighted avg       0.81      0.81      0.81     17358\n",
            "\n"
          ]
        },
        {
          "output_type": "display_data",
          "data": {
            "text/plain": [
              "<Figure size 640x480 with 2 Axes>"
            ],
            "image/png": "[encoded data removed]"
          },
          "metadata": {}
        }
      ]
    },
    {
      "cell_type": "markdown",
      "source": [
        "Modelo base: escalados por min-max."
      ],
      "metadata": {
        "id": "UxPw0RytccA0"
      }
    },
    {
      "cell_type": "code",
      "source": [
        "#Construyo un modelo SVM\n",
        "svm_minmax= SVC()\n",
        "\n",
        "#Lo entreno con los datos escalados con min max\n",
        "svm_minmax.fit(x_train_minmax, y_train)\n",
        "\n",
        "#Hago la prediccion y calculo las métricas\n",
        "y_pred_minmax=svm_minmax.predict(x_test_minmax)\n",
        "metricas(y_pred_minmax,y_test)"
      ],
      "metadata": {
        "id": "iBEM-zcwawQ5",
        "colab": {
          "base_uri": "https://localhost:8080/",
          "height": 605
        },
        "outputId": "6a17269f-13b6-4a1b-85f7-84ef68ac8564"
      },
      "execution_count": null,
      "outputs": [
        {
          "output_type": "stream",
          "name": "stdout",
          "text": [
            "              precision    recall  f1-score   support\n",
            "\n",
            "           0       0.76      0.85      0.81      8831\n",
            "           1       0.83      0.73      0.77      8527\n",
            "\n",
            "    accuracy                           0.79     17358\n",
            "   macro avg       0.80      0.79      0.79     17358\n",
            "weighted avg       0.80      0.79      0.79     17358\n",
            "\n"
          ]
        },
        {
          "output_type": "display_data",
          "data": {
            "text/plain": [
              "<Figure size 640x480 with 2 Axes>"
            ],
            "image/png": "[encoded data removed]"
          },
          "metadata": {}
        }
      ]
    },
    {
      "cell_type": "markdown",
      "source": [
        "###Kernel lineal"
      ],
      "metadata": {
        "id": "vEMaxSCnWfB7"
      }
    },
    {
      "cell_type": "code",
      "source": [
        "#Creo un clasificador con kernel lineal y lo entreno sobre los datos escalados min-max\n",
        "clf = SVC(kernel='linear', C=5)\n",
        "clf.fit(x_train_minmax, y_train)\n",
        "\n",
        "#Hago la predicción y calculo las métricas\n",
        "y_pred_lin=clf.predict(x_test_minmax)\n",
        "metricas(y_pred_lin,y_test)"
      ],
      "metadata": {
        "id": "2XaD-bic1KCD",
        "colab": {
          "base_uri": "https://localhost:8080/",
          "height": 605
        },
        "outputId": "0c564484-5c0e-42d1-cf35-45e4a3114def"
      },
      "execution_count": null,
      "outputs": [
        {
          "output_type": "stream",
          "name": "stdout",
          "text": [
            "              precision    recall  f1-score   support\n",
            "\n",
            "           0       0.75      0.82      0.78      8831\n",
            "           1       0.79      0.73      0.76      8527\n",
            "\n",
            "    accuracy                           0.77     17358\n",
            "   macro avg       0.77      0.77      0.77     17358\n",
            "weighted avg       0.77      0.77      0.77     17358\n",
            "\n"
          ]
        },
        {
          "output_type": "display_data",
          "data": {
            "text/plain": [
              "<Figure size 640x480 with 2 Axes>"
            ],
            "image/png": "[encoded data removed]"
          },
          "metadata": {}
        }
      ]
    },
    {
      "cell_type": "markdown",
      "source": [
        "####Búsqueda de mejores hiperparámetros"
      ],
      "metadata": {
        "id": "sdj4lXPYMfPz"
      }
    },
    {
      "cell_type": "code",
      "source": [
        "from sklearn.svm import SVC\n",
        "from sklearn.model_selection import RandomizedSearchCV\n",
        "from scipy.stats import uniform, randint\n",
        "param_dist = {'C': uniform(loc=0, scale=10)}\n",
        "svm = SVC(kernel='linear')\n",
        "\n",
        "#Busco hiperparametros\n",
        "random_search = RandomizedSearchCV(svm, param_distributions=param_dist, n_iter=10, scoring='accuracy', cv=5)\n",
        "random_search.fit(x_train_minmax, y_train)\n",
        "\n",
        "#Los guardo\n",
        "best_params = random_search.best_params_\n",
        "\n",
        "#Entreno el modelo\n",
        "best_svm = SVC(kernel='linear', C=best_params['C'])\n",
        "best_svm.fit(x_train_minmax, y_train)"
      ],
      "metadata": {
        "id": "KoF6cjkMMhdy",
        "colab": {
          "base_uri": "https://localhost:8080/",
          "height": 75
        },
        "outputId": "4caf6fdf-4b9a-4350-c60c-d77bed935a7a"
      },
      "execution_count": null,
      "outputs": [
        {
          "output_type": "execute_result",
          "data": {
            "text/plain": [
              "SVC(C=7.3881933240009, kernel='linear')"
            ],
            "text/html": [
              "<style>#sk-container-id-1 {color: black;background-color: white;}#sk-container-id-1 pre{padding: 0;}#sk-container-id-1 div.sk-toggleable {background-color: white;}#sk-container-id-1 label.sk-toggleable__label {cursor: pointer;display: block;width: 100%;margin-bottom: 0;padding: 0.3em;box-sizing: border-box;text-align: center;}#sk-container-id-1 label.sk-toggleable__label-arrow:before {content: \"▸\";float: left;margin-right: 0.25em;color: #696969;}#sk-container-id-1 label.sk-toggleable__label-arrow:hover:before {color: black;}#sk-container-id-1 div.sk-estimator:hover label.sk-toggleable__label-arrow:before {color: black;}#sk-container-id-1 div.sk-toggleable__content {max-height: 0;max-width: 0;overflow: hidden;text-align: left;background-color: #f0f8ff;}#sk-container-id-1 div.sk-toggleable__content pre {margin: 0.2em;color: black;border-radius: 0.25em;background-color: #f0f8ff;}#sk-container-id-1 input.sk-toggleable__control:checked~div.sk-toggleable__content {max-height: 200px;max-width: 100%;overflow: auto;}#sk-container-id-1 input.sk-toggleable__control:checked~label.sk-toggleable__label-arrow:before {content: \"▾\";}#sk-container-id-1 div.sk-estimator input.sk-toggleable__control:checked~label.sk-toggleable__label {background-color: #d4ebff;}#sk-container-id-1 div.sk-label input.sk-toggleable__control:checked~label.sk-toggleable__label {background-color: #d4ebff;}#sk-container-id-1 input.sk-hidden--visually {border: 0;clip: rect(1px 1px 1px 1px);clip: rect(1px, 1px, 1px, 1px);height: 1px;margin: -1px;overflow: hidden;padding: 0;position: absolute;width: 1px;}#sk-container-id-1 div.sk-estimator {font-family: monospace;background-color: #f0f8ff;border: 1px dotted black;border-radius: 0.25em;box-sizing: border-box;margin-bottom: 0.5em;}#sk-container-id-1 div.sk-estimator:hover {background-color: #d4ebff;}#sk-container-id-1 div.sk-parallel-item::after {content: \"\";width: 100%;border-bottom: 1px solid gray;flex-grow: 1;}#sk-container-id-1 div.sk-label:hover label.sk-toggleable__label {background-color: #d4ebff;}#sk-container-id-1 div.sk-serial::before {content: \"\";position: absolute;border-left: 1px solid gray;box-sizing: border-box;top: 0;bottom: 0;left: 50%;z-index: 0;}#sk-container-id-1 div.sk-serial {display: flex;flex-direction: column;align-items: center;background-color: white;padding-right: 0.2em;padding-left: 0.2em;position: relative;}#sk-container-id-1 div.sk-item {position: relative;z-index: 1;}#sk-container-id-1 div.sk-parallel {display: flex;align-items: stretch;justify-content: center;background-color: white;position: relative;}#sk-container-id-1 div.sk-item::before, #sk-container-id-1 div.sk-parallel-item::before {content: \"\";position: absolute;border-left: 1px solid gray;box-sizing: border-box;top: 0;bottom: 0;left: 50%;z-index: -1;}#sk-container-id-1 div.sk-parallel-item {display: flex;flex-direction: column;z-index: 1;position: relative;background-color: white;}#sk-container-id-1 div.sk-parallel-item:first-child::after {align-self: flex-end;width: 50%;}#sk-container-id-1 div.sk-parallel-item:last-child::after {align-self: flex-start;width: 50%;}#sk-container-id-1 div.sk-parallel-item:only-child::after {width: 0;}#sk-container-id-1 div.sk-dashed-wrapped {border: 1px dashed gray;margin: 0 0.4em 0.5em 0.4em;box-sizing: border-box;padding-bottom: 0.4em;background-color: white;}#sk-container-id-1 div.sk-label label {font-family: monospace;font-weight: bold;display: inline-block;line-height: 1.2em;}#sk-container-id-1 div.sk-label-container {text-align: center;}#sk-container-id-1 div.sk-container {/* jupyter's `normalize.less` sets `[hidden] { display: none; }` but bootstrap.min.css set `[hidden] { display: none !important; }` so we also need the `!important` here to be able to override the default hidden behavior on the sphinx rendered scikit-learn.org. See: https://github.com/scikit-learn/scikit-learn/issues/21755 */display: inline-block !important;position: relative;}#sk-container-id-1 div.sk-text-repr-fallback {display: none;}</style><div id=\"sk-container-id-1\" class=\"sk-top-container\"><div class=\"sk-text-repr-fallback\"><pre>SVC(C=7.3881933240009, kernel=&#x27;linear&#x27;)</pre><b>In a Jupyter environment, please rerun this cell to show the HTML representation or trust the notebook. <br />On GitHub, the HTML representation is unable to render, please try loading this page with nbviewer.org.</b></div><div class=\"sk-container\" hidden><div class=\"sk-item\"><div class=\"sk-estimator sk-toggleable\"><input class=\"sk-toggleable__control sk-hidden--visually\" id=\"sk-estimator-id-1\" type=\"checkbox\" checked><label for=\"sk-estimator-id-1\" class=\"sk-toggleable__label sk-toggleable__label-arrow\">SVC</label><div class=\"sk-toggleable__content\"><pre>SVC(C=7.3881933240009, kernel=&#x27;linear&#x27;)</pre></div></div></div></div></div>"
            ]
          },
          "metadata": {},
          "execution_count": 22
        }
      ]
    },
    {
      "cell_type": "code",
      "source": [
        "#Hago la predicción y calculo las métricas\n",
        "y_pred_lin_mejores_hiperparametros=best_svm.predict(x_test_minmax)\n",
        "metricas(y_pred_lin_mejores_hiperparametros,y_test)"
      ],
      "metadata": {
        "id": "uwvYXgPVOqR5",
        "colab": {
          "base_uri": "https://localhost:8080/",
          "height": 605
        },
        "outputId": "df5a525f-f755-42cf-cc75-4f32316eb9ec"
      },
      "execution_count": null,
      "outputs": [
        {
          "output_type": "stream",
          "name": "stdout",
          "text": [
            "              precision    recall  f1-score   support\n",
            "\n",
            "           0       0.76      0.82      0.78      8831\n",
            "           1       0.79      0.73      0.76      8527\n",
            "\n",
            "    accuracy                           0.77     17358\n",
            "   macro avg       0.77      0.77      0.77     17358\n",
            "weighted avg       0.77      0.77      0.77     17358\n",
            "\n"
          ]
        },
        {
          "output_type": "display_data",
          "data": {
            "text/plain": [
              "<Figure size 640x480 with 2 Axes>"
            ],
            "image/png": "[encoded data removed]"
          },
          "metadata": {}
        }
      ]
    },
    {
      "cell_type": "markdown",
      "source": [
        "###Kernel radial"
      ],
      "metadata": {
        "id": "UNmI4tINWmSY"
      }
    },
    {
      "cell_type": "markdown",
      "source": [
        "Hiperparametros:\n",
        "\n",
        "* C : Parámetro de regularización.\n",
        "\n",
        "* gamma: define cuánta influencia tiene un solo ejemplo de entrenamiento. Cuanto más grande es, más cerca deben estar otros ejemplos para verse afectados\n",
        "\n",
        "La elección adecuada de C y gamma es fundamental para el rendimiento de la SVM. Se recomienda usar GridSearchCV con C y gamma espaciado exponencialmente para elegir buenos valores."
      ],
      "metadata": {
        "id": "6v5ySlq-3HsB"
      }
    },
    {
      "cell_type": "code",
      "source": [
        "#Creo un clasificador con kernel radial y lo entreno sobre los datos escalados min-max\n",
        "clf = SVC(kernel='rbf', C=5, gamma=10)\n",
        "clf.fit(x_train_minmax, y_train)\n",
        "\n",
        "#Hago la predicción y calculo las métricas\n",
        "y_pred_rad=clf.predict(x_test_minmax)\n",
        "metricas(y_pred_rad,y_test)"
      ],
      "metadata": {
        "id": "OchSoy2f0ENC",
        "colab": {
          "base_uri": "https://localhost:8080/",
          "height": 605
        },
        "outputId": "ab3d2cb0-bf82-4536-dc50-ddc10a7c7a30"
      },
      "execution_count": null,
      "outputs": [
        {
          "output_type": "stream",
          "name": "stdout",
          "text": [
            "              precision    recall  f1-score   support\n",
            "\n",
            "           0       0.79      0.84      0.82      8831\n",
            "           1       0.82      0.77      0.80      8527\n",
            "\n",
            "    accuracy                           0.81     17358\n",
            "   macro avg       0.81      0.81      0.81     17358\n",
            "weighted avg       0.81      0.81      0.81     17358\n",
            "\n"
          ]
        },
        {
          "output_type": "display_data",
          "data": {
            "text/plain": [
              "<Figure size 640x480 with 2 Axes>"
            ],
            "image/png": "[encoded data removed]"
          },
          "metadata": {}
        }
      ]
    },
    {
      "cell_type": "markdown",
      "source": [
        "####Búsqueda de mejores hiperparámetros"
      ],
      "metadata": {
        "id": "Luel1DAVPfMl"
      }
    },
    {
      "cell_type": "code",
      "source": [
        "from sklearn.svm import SVC\n",
        "from sklearn.model_selection import RandomizedSearchCV\n",
        "\n",
        "param_dist = {'C': [0.1, 1, 10],'gamma': [0.001, 0.01, 0.1, 1]}\n",
        "svm = SVC(kernel='rbf')\n",
        "\n",
        "#Busco los mejores hiperparametros\n",
        "random_search = RandomizedSearchCV(svm, param_distributions=param_dist, n_iter=10, scoring='accuracy', cv=5)\n",
        "random_search.fit(x_train_minmax, y_train)\n",
        "\n",
        "#Los guardo\n",
        "best_params = random_search.best_params_\n",
        "\n",
        "#Entreno el modelo\n",
        "best_svm = SVC(kernel='rbf', C=best_params['C'], gamma=best_params['gamma'])\n",
        "best_svm.fit(x_train_minmax, y_train)"
      ],
      "metadata": {
        "id": "2tILU8ZNPh9j",
        "colab": {
          "base_uri": "https://localhost:8080/",
          "height": 75
        },
        "outputId": "4649ccff-d336-4d2e-8a02-44f7ec93511e"
      },
      "execution_count": null,
      "outputs": [
        {
          "output_type": "execute_result",
          "data": {
            "text/plain": [
              "SVC(C=10, gamma=1)"
            ],
            "text/html": [
              "<style>#sk-container-id-5 {color: black;background-color: white;}#sk-container-id-5 pre{padding: 0;}#sk-container-id-5 div.sk-toggleable {background-color: white;}#sk-container-id-5 label.sk-toggleable__label {cursor: pointer;display: block;width: 100%;margin-bottom: 0;padding: 0.3em;box-sizing: border-box;text-align: center;}#sk-container-id-5 label.sk-toggleable__label-arrow:before {content: \"▸\";float: left;margin-right: 0.25em;color: #696969;}#sk-container-id-5 label.sk-toggleable__label-arrow:hover:before {color: black;}#sk-container-id-5 div.sk-estimator:hover label.sk-toggleable__label-arrow:before {color: black;}#sk-container-id-5 div.sk-toggleable__content {max-height: 0;max-width: 0;overflow: hidden;text-align: left;background-color: #f0f8ff;}#sk-container-id-5 div.sk-toggleable__content pre {margin: 0.2em;color: black;border-radius: 0.25em;background-color: #f0f8ff;}#sk-container-id-5 input.sk-toggleable__control:checked~div.sk-toggleable__content {max-height: 200px;max-width: 100%;overflow: auto;}#sk-container-id-5 input.sk-toggleable__control:checked~label.sk-toggleable__label-arrow:before {content: \"▾\";}#sk-container-id-5 div.sk-estimator input.sk-toggleable__control:checked~label.sk-toggleable__label {background-color: #d4ebff;}#sk-container-id-5 div.sk-label input.sk-toggleable__control:checked~label.sk-toggleable__label {background-color: #d4ebff;}#sk-container-id-5 input.sk-hidden--visually {border: 0;clip: rect(1px 1px 1px 1px);clip: rect(1px, 1px, 1px, 1px);height: 1px;margin: -1px;overflow: hidden;padding: 0;position: absolute;width: 1px;}#sk-container-id-5 div.sk-estimator {font-family: monospace;background-color: #f0f8ff;border: 1px dotted black;border-radius: 0.25em;box-sizing: border-box;margin-bottom: 0.5em;}#sk-container-id-5 div.sk-estimator:hover {background-color: #d4ebff;}#sk-container-id-5 div.sk-parallel-item::after {content: \"\";width: 100%;border-bottom: 1px solid gray;flex-grow: 1;}#sk-container-id-5 div.sk-label:hover label.sk-toggleable__label {background-color: #d4ebff;}#sk-container-id-5 div.sk-serial::before {content: \"\";position: absolute;border-left: 1px solid gray;box-sizing: border-box;top: 0;bottom: 0;left: 50%;z-index: 0;}#sk-container-id-5 div.sk-serial {display: flex;flex-direction: column;align-items: center;background-color: white;padding-right: 0.2em;padding-left: 0.2em;position: relative;}#sk-container-id-5 div.sk-item {position: relative;z-index: 1;}#sk-container-id-5 div.sk-parallel {display: flex;align-items: stretch;justify-content: center;background-color: white;position: relative;}#sk-container-id-5 div.sk-item::before, #sk-container-id-5 div.sk-parallel-item::before {content: \"\";position: absolute;border-left: 1px solid gray;box-sizing: border-box;top: 0;bottom: 0;left: 50%;z-index: -1;}#sk-container-id-5 div.sk-parallel-item {display: flex;flex-direction: column;z-index: 1;position: relative;background-color: white;}#sk-container-id-5 div.sk-parallel-item:first-child::after {align-self: flex-end;width: 50%;}#sk-container-id-5 div.sk-parallel-item:last-child::after {align-self: flex-start;width: 50%;}#sk-container-id-5 div.sk-parallel-item:only-child::after {width: 0;}#sk-container-id-5 div.sk-dashed-wrapped {border: 1px dashed gray;margin: 0 0.4em 0.5em 0.4em;box-sizing: border-box;padding-bottom: 0.4em;background-color: white;}#sk-container-id-5 div.sk-label label {font-family: monospace;font-weight: bold;display: inline-block;line-height: 1.2em;}#sk-container-id-5 div.sk-label-container {text-align: center;}#sk-container-id-5 div.sk-container {/* jupyter's `normalize.less` sets `[hidden] { display: none; }` but bootstrap.min.css set `[hidden] { display: none !important; }` so we also need the `!important` here to be able to override the default hidden behavior on the sphinx rendered scikit-learn.org. See: https://github.com/scikit-learn/scikit-learn/issues/21755 */display: inline-block !important;position: relative;}#sk-container-id-5 div.sk-text-repr-fallback {display: none;}</style><div id=\"sk-container-id-5\" class=\"sk-top-container\"><div class=\"sk-text-repr-fallback\"><pre>SVC(C=10, gamma=1)</pre><b>In a Jupyter environment, please rerun this cell to show the HTML representation or trust the notebook. <br />On GitHub, the HTML representation is unable to render, please try loading this page with nbviewer.org.</b></div><div class=\"sk-container\" hidden><div class=\"sk-item\"><div class=\"sk-estimator sk-toggleable\"><input class=\"sk-toggleable__control sk-hidden--visually\" id=\"sk-estimator-id-5\" type=\"checkbox\" checked><label for=\"sk-estimator-id-5\" class=\"sk-toggleable__label sk-toggleable__label-arrow\">SVC</label><div class=\"sk-toggleable__content\"><pre>SVC(C=10, gamma=1)</pre></div></div></div></div></div>"
            ]
          },
          "metadata": {},
          "execution_count": 93
        }
      ]
    },
    {
      "cell_type": "code",
      "source": [
        "#Hago la predicción y calculo las métricas\n",
        "y_pred_rad_mejores_hiperparametros=best_svm.predict(x_test_minmax)\n",
        "metricas(y_pred_rad_mejores_hiperparametros,y_test)"
      ],
      "metadata": {
        "id": "PU_pi-YGQiUx",
        "colab": {
          "base_uri": "https://localhost:8080/",
          "height": 605
        },
        "outputId": "4b0816ad-09bc-403f-d043-964a125ba134"
      },
      "execution_count": null,
      "outputs": [
        {
          "output_type": "stream",
          "name": "stdout",
          "text": [
            "              precision    recall  f1-score   support\n",
            "\n",
            "           0       0.81      0.85      0.83      8831\n",
            "           1       0.83      0.79      0.81      8527\n",
            "\n",
            "    accuracy                           0.82     17358\n",
            "   macro avg       0.82      0.82      0.82     17358\n",
            "weighted avg       0.82      0.82      0.82     17358\n",
            "\n"
          ]
        },
        {
          "output_type": "display_data",
          "data": {
            "text/plain": [
              "<Figure size 640x480 with 2 Axes>"
            ],
            "image/png": "[encoded data removed]"
          },
          "metadata": {}
        }
      ]
    },
    {
      "cell_type": "code",
      "source": [
        "y_pred = best_svm.predict(df_test)"
      ],
      "metadata": {
        "id": "b_MUKNev-hZo"
      },
      "execution_count": null,
      "outputs": []
    },
    {
      "cell_type": "code",
      "source": [
        "ds_resultados=pd.DataFrame(zip(df_id['id'],y_pred),columns=['id','is_canceled'])\n",
        "ds_resultados.head(5)"
      ],
      "metadata": {
        "colab": {
          "base_uri": "https://localhost:8080/",
          "height": 206
        },
        "outputId": "ce2fcaac-7281-4b5d-a60f-9fe8ee2e8404",
        "id": "cP6ffRdY-hZo"
      },
      "execution_count": null,
      "outputs": [
        {
          "output_type": "execute_result",
          "data": {
            "text/plain": [
              "                                     id  is_canceled\n",
              "0  e6d0d58a-ab96-44d3-b28f-85df1cc15f1e            0\n",
              "1  aba9aac2-4495-4645-a60e-90328713c999            0\n",
              "2  b345b5dc-c804-4d77-a39f-1f4e65d1f1ad            0\n",
              "3  ce1b400e-afa1-4946-bdff-004b859eb61c            0\n",
              "4  c4fbec0d-8e2e-4db2-9d4f-a6ccb9f51214            0"
            ],
            "text/html": [
              "\n",
              "  <div id=\"df-21c78a82-8fe5-4b7f-a8ab-173a6a2fa48f\" class=\"colab-df-container\">\n",
              "    <div>\n",
              "<style scoped>\n",
              "    .dataframe tbody tr th:only-of-type {\n",
              "        vertical-align: middle;\n",
              "    }\n",
              "\n",
              "    .dataframe tbody tr th {\n",
              "        vertical-align: top;\n",
              "    }\n",
              "\n",
              "    .dataframe thead th {\n",
              "        text-align: right;\n",
              "    }\n",
              "</style>\n",
              "<table border=\"1\" class=\"dataframe\">\n",
              "  <thead>\n",
              "    <tr style=\"text-align: right;\">\n",
              "      <th></th>\n",
              "      <th>id</th>\n",
              "      <th>is_canceled</th>\n",
              "    </tr>\n",
              "  </thead>\n",
              "  <tbody>\n",
              "    <tr>\n",
              "      <th>0</th>\n",
              "      <td>e6d0d58a-ab96-44d3-b28f-85df1cc15f1e</td>\n",
              "      <td>0</td>\n",
              "    </tr>\n",
              "    <tr>\n",
              "      <th>1</th>\n",
              "      <td>aba9aac2-4495-4645-a60e-90328713c999</td>\n",
              "      <td>0</td>\n",
              "    </tr>\n",
              "    <tr>\n",
              "      <th>2</th>\n",
              "      <td>b345b5dc-c804-4d77-a39f-1f4e65d1f1ad</td>\n",
              "      <td>0</td>\n",
              "    </tr>\n",
              "    <tr>\n",
              "      <th>3</th>\n",
              "      <td>ce1b400e-afa1-4946-bdff-004b859eb61c</td>\n",
              "      <td>0</td>\n",
              "    </tr>\n",
              "    <tr>\n",
              "      <th>4</th>\n",
              "      <td>c4fbec0d-8e2e-4db2-9d4f-a6ccb9f51214</td>\n",
              "      <td>0</td>\n",
              "    </tr>\n",
              "  </tbody>\n",
              "</table>\n",
              "</div>\n",
              "    <div class=\"colab-df-buttons\">\n",
              "\n",
              "  <div class=\"colab-df-container\">\n",
              "    <button class=\"colab-df-convert\" onclick=\"convertToInteractive('df-21c78a82-8fe5-4b7f-a8ab-173a6a2fa48f')\"\n",
              "            title=\"Convert this dataframe to an interactive table.\"\n",
              "            style=\"display:none;\">\n",
              "\n",
              "  <svg xmlns=\"http://www.w3.org/2000/svg\" height=\"24px\" viewBox=\"0 -960 960 960\">\n",
              "    <path d=\"M120-120v-720h720v720H120Zm60-500h600v-160H180v160Zm220 220h160v-160H400v160Zm0 220h160v-160H400v160ZM180-400h160v-160H180v160Zm440 0h160v-160H620v160ZM180-180h160v-160H180v160Zm440 0h160v-160H620v160Z\"/>\n",
              "  </svg>\n",
              "    </button>\n",
              "\n",
              "  <style>\n",
              "    .colab-df-container {\n",
              "      display:flex;\n",
              "      gap: 12px;\n",
              "    }\n",
              "\n",
              "    .colab-df-convert {\n",
              "      background-color: #E8F0FE;\n",
              "      border: none;\n",
              "      border-radius: 50%;\n",
              "      cursor: pointer;\n",
              "      display: none;\n",
              "      fill: #1967D2;\n",
              "      height: 32px;\n",
              "      padding: 0 0 0 0;\n",
              "      width: 32px;\n",
              "    }\n",
              "\n",
              "    .colab-df-convert:hover {\n",
              "      background-color: #E2EBFA;\n",
              "      box-shadow: 0px 1px 2px rgba(60, 64, 67, 0.3), 0px 1px 3px 1px rgba(60, 64, 67, 0.15);\n",
              "      fill: #174EA6;\n",
              "    }\n",
              "\n",
              "    .colab-df-buttons div {\n",
              "      margin-bottom: 4px;\n",
              "    }\n",
              "\n",
              "    [theme=dark] .colab-df-convert {\n",
              "      background-color: #3B4455;\n",
              "      fill: #D2E3FC;\n",
              "    }\n",
              "\n",
              "    [theme=dark] .colab-df-convert:hover {\n",
              "      background-color: #434B5C;\n",
              "      box-shadow: 0px 1px 3px 1px rgba(0, 0, 0, 0.15);\n",
              "      filter: drop-shadow(0px 1px 2px rgba(0, 0, 0, 0.3));\n",
              "      fill: #FFFFFF;\n",
              "    }\n",
              "  </style>\n",
              "\n",
              "    <script>\n",
              "      const buttonEl =\n",
              "        document.querySelector('#df-21c78a82-8fe5-4b7f-a8ab-173a6a2fa48f button.colab-df-convert');\n",
              "      buttonEl.style.display =\n",
              "        google.colab.kernel.accessAllowed ? 'block' : 'none';\n",
              "\n",
              "      async function convertToInteractive(key) {\n",
              "        const element = document.querySelector('#df-21c78a82-8fe5-4b7f-a8ab-173a6a2fa48f');\n",
              "        const dataTable =\n",
              "          await google.colab.kernel.invokeFunction('convertToInteractive',\n",
              "                                                    [key], {});\n",
              "        if (!dataTable) return;\n",
              "\n",
              "        const docLinkHtml = 'Like what you see? Visit the ' +\n",
              "          '<a target=\"_blank\" href=https://colab.research.google.com/notebooks/data_table.ipynb>data table notebook</a>'\n",
              "          + ' to learn more about interactive tables.';\n",
              "        element.innerHTML = '';\n",
              "        dataTable['output_type'] = 'display_data';\n",
              "        await google.colab.output.renderOutput(dataTable, element);\n",
              "        const docLink = document.createElement('div');\n",
              "        docLink.innerHTML = docLinkHtml;\n",
              "        element.appendChild(docLink);\n",
              "      }\n",
              "    </script>\n",
              "  </div>\n",
              "\n",
              "\n",
              "<div id=\"df-15b6ce5c-cb8b-44bd-b47b-d9fad7c5b17e\">\n",
              "  <button class=\"colab-df-quickchart\" onclick=\"quickchart('df-15b6ce5c-cb8b-44bd-b47b-d9fad7c5b17e')\"\n",
              "            title=\"Suggest charts.\"\n",
              "            style=\"display:none;\">\n",
              "\n",
              "<svg xmlns=\"http://www.w3.org/2000/svg\" height=\"24px\"viewBox=\"0 0 24 24\"\n",
              "     width=\"24px\">\n",
              "    <g>\n",
              "        <path d=\"M19 3H5c-1.1 0-2 .9-2 2v14c0 1.1.9 2 2 2h14c1.1 0 2-.9 2-2V5c0-1.1-.9-2-2-2zM9 17H7v-7h2v7zm4 0h-2V7h2v10zm4 0h-2v-4h2v4z\"/>\n",
              "    </g>\n",
              "</svg>\n",
              "  </button>\n",
              "\n",
              "<style>\n",
              "  .colab-df-quickchart {\n",
              "      --bg-color: #E8F0FE;\n",
              "      --fill-color: #1967D2;\n",
              "      --hover-bg-color: #E2EBFA;\n",
              "      --hover-fill-color: #174EA6;\n",
              "      --disabled-fill-color: #AAA;\n",
              "      --disabled-bg-color: #DDD;\n",
              "  }\n",
              "\n",
              "  [theme=dark] .colab-df-quickchart {\n",
              "      --bg-color: #3B4455;\n",
              "      --fill-color: #D2E3FC;\n",
              "      --hover-bg-color: #434B5C;\n",
              "      --hover-fill-color: #FFFFFF;\n",
              "      --disabled-bg-color: #3B4455;\n",
              "      --disabled-fill-color: #666;\n",
              "  }\n",
              "\n",
              "  .colab-df-quickchart {\n",
              "    background-color: var(--bg-color);\n",
              "    border: none;\n",
              "    border-radius: 50%;\n",
              "    cursor: pointer;\n",
              "    display: none;\n",
              "    fill: var(--fill-color);\n",
              "    height: 32px;\n",
              "    padding: 0;\n",
              "    width: 32px;\n",
              "  }\n",
              "\n",
              "  .colab-df-quickchart:hover {\n",
              "    background-color: var(--hover-bg-color);\n",
              "    box-shadow: 0 1px 2px rgba(60, 64, 67, 0.3), 0 1px 3px 1px rgba(60, 64, 67, 0.15);\n",
              "    fill: var(--button-hover-fill-color);\n",
              "  }\n",
              "\n",
              "  .colab-df-quickchart-complete:disabled,\n",
              "  .colab-df-quickchart-complete:disabled:hover {\n",
              "    background-color: var(--disabled-bg-color);\n",
              "    fill: var(--disabled-fill-color);\n",
              "    box-shadow: none;\n",
              "  }\n",
              "\n",
              "  .colab-df-spinner {\n",
              "    border: 2px solid var(--fill-color);\n",
              "    border-color: transparent;\n",
              "    border-bottom-color: var(--fill-color);\n",
              "    animation:\n",
              "      spin 1s steps(1) infinite;\n",
              "  }\n",
              "\n",
              "  @keyframes spin {\n",
              "    0% {\n",
              "      border-color: transparent;\n",
              "      border-bottom-color: var(--fill-color);\n",
              "      border-left-color: var(--fill-color);\n",
              "    }\n",
              "    20% {\n",
              "      border-color: transparent;\n",
              "      border-left-color: var(--fill-color);\n",
              "      border-top-color: var(--fill-color);\n",
              "    }\n",
              "    30% {\n",
              "      border-color: transparent;\n",
              "      border-left-color: var(--fill-color);\n",
              "      border-top-color: var(--fill-color);\n",
              "      border-right-color: var(--fill-color);\n",
              "    }\n",
              "    40% {\n",
              "      border-color: transparent;\n",
              "      border-right-color: var(--fill-color);\n",
              "      border-top-color: var(--fill-color);\n",
              "    }\n",
              "    60% {\n",
              "      border-color: transparent;\n",
              "      border-right-color: var(--fill-color);\n",
              "    }\n",
              "    80% {\n",
              "      border-color: transparent;\n",
              "      border-right-color: var(--fill-color);\n",
              "      border-bottom-color: var(--fill-color);\n",
              "    }\n",
              "    90% {\n",
              "      border-color: transparent;\n",
              "      border-bottom-color: var(--fill-color);\n",
              "    }\n",
              "  }\n",
              "</style>\n",
              "\n",
              "  <script>\n",
              "    async function quickchart(key) {\n",
              "      const quickchartButtonEl =\n",
              "        document.querySelector('#' + key + ' button');\n",
              "      quickchartButtonEl.disabled = true;  // To prevent multiple clicks.\n",
              "      quickchartButtonEl.classList.add('colab-df-spinner');\n",
              "      try {\n",
              "        const charts = await google.colab.kernel.invokeFunction(\n",
              "            'suggestCharts', [key], {});\n",
              "      } catch (error) {\n",
              "        console.error('Error during call to suggestCharts:', error);\n",
              "      }\n",
              "      quickchartButtonEl.classList.remove('colab-df-spinner');\n",
              "      quickchartButtonEl.classList.add('colab-df-quickchart-complete');\n",
              "    }\n",
              "    (() => {\n",
              "      let quickchartButtonEl =\n",
              "        document.querySelector('#df-15b6ce5c-cb8b-44bd-b47b-d9fad7c5b17e button');\n",
              "      quickchartButtonEl.style.display =\n",
              "        google.colab.kernel.accessAllowed ? 'block' : 'none';\n",
              "    })();\n",
              "  </script>\n",
              "</div>\n",
              "    </div>\n",
              "  </div>\n"
            ]
          },
          "metadata": {},
          "execution_count": 96
        }
      ]
    },
    {
      "cell_type": "code",
      "source": [
        "ds_resultados.to_csv(\"prediccion_svm_radial_hotel.csv\", index = False)"
      ],
      "metadata": {
        "id": "vI-qIlNU-hZp"
      },
      "execution_count": null,
      "outputs": []
    },
    {
      "cell_type": "markdown",
      "source": [
        "##c. Ensamble Random Forest"
      ],
      "metadata": {
        "id": "1F8y_cZMjrzk"
      }
    },
    {
      "cell_type": "markdown",
      "source": [
        "Basados en el bootstrap vamos a usar bagging. Es un método para reducir la varianza dado un conjunto de observaciones independientes: promediar un conjunto de observaciones reduce la varianza. Con bootstrap tomamos muestras repetidas de un único conjunto de entrenamiento\n",
        "\n",
        "Vamos a construir un ensamble de árboles llamado random forest. Esto se hará tratando de construir árboles sin podar, que hagan overfitting, y cuando los promedio reduzco la varianza."
      ],
      "metadata": {
        "id": "Tbgzo9Ldj0WG"
      }
    },
    {
      "cell_type": "markdown",
      "source": [
        "Un ensamble Bagging con Random Forest reduce la varianza en el modelo predictivo al promover la diversidad entre los árboles y combinar sus predicciones."
      ],
      "metadata": {
        "id": "h4ZeJwXgllkG"
      }
    },
    {
      "cell_type": "markdown",
      "source": [
        "Vamos a tener un set de entrenamiento de n observaciones, tomamos una muestra de las observaciones de forma aleatoria y con reemplazo. Esta muestra construirá un arbol i.\n",
        "\n",
        "Si existen M variables de entrada, eligo m (un subconjunto de esas variables) tal que m < M, y cada vez que hago un split en un nodo voy a considerar sólo ese subconjunto de variables para encontrar la mejor división para ramificar el árbol\n",
        "\n",
        "El árbol crecerá hasta donde pueda. Se puede setear un ccp_alpha pero no es la idea.\n",
        "\n",
        "m es una constante que se puede setear, su hiperparámetro se llama max_features.\n"
      ],
      "metadata": {
        "id": "j5hQPOA7LpMV"
      }
    },
    {
      "cell_type": "markdown",
      "source": [
        "Cada uno de los siguientes parámetros se puede setear:"
      ],
      "metadata": {
        "id": "EW9OtX0lvHaM"
      }
    },
    {
      "cell_type": "code",
      "source": [
        "rfc_default = RandomForestClassifier()\n",
        "rfc_default.get_params()"
      ],
      "metadata": {
        "id": "42UjuJIG7bp9",
        "colab": {
          "base_uri": "https://localhost:8080/"
        },
        "outputId": "dc60e3cf-7405-4a10-dd37-aa3a46a4bd1a"
      },
      "execution_count": null,
      "outputs": [
        {
          "output_type": "execute_result",
          "data": {
            "text/plain": [
              "{'bootstrap': True,\n",
              " 'ccp_alpha': 0.0,\n",
              " 'class_weight': None,\n",
              " 'criterion': 'gini',\n",
              " 'max_depth': None,\n",
              " 'max_features': 'sqrt',\n",
              " 'max_leaf_nodes': None,\n",
              " 'max_samples': None,\n",
              " 'min_impurity_decrease': 0.0,\n",
              " 'min_samples_leaf': 1,\n",
              " 'min_samples_split': 2,\n",
              " 'min_weight_fraction_leaf': 0.0,\n",
              " 'n_estimators': 100,\n",
              " 'n_jobs': None,\n",
              " 'oob_score': False,\n",
              " 'random_state': None,\n",
              " 'verbose': 0,\n",
              " 'warm_start': False}"
            ]
          },
          "metadata": {},
          "execution_count": 27
        }
      ]
    },
    {
      "cell_type": "code",
      "execution_count": null,
      "metadata": {
        "id": "wR1GgL2TZruv",
        "colab": {
          "base_uri": "https://localhost:8080/",
          "height": 605
        },
        "outputId": "58e47866-05d3-4155-928c-a7fb2f32bcd4"
      },
      "outputs": [
        {
          "output_type": "stream",
          "name": "stdout",
          "text": [
            "              precision    recall  f1-score   support\n",
            "\n",
            "           0       0.81      0.88      0.85      8831\n",
            "           1       0.86      0.79      0.83      8527\n",
            "\n",
            "    accuracy                           0.84     17358\n",
            "   macro avg       0.84      0.84      0.84     17358\n",
            "weighted avg       0.84      0.84      0.84     17358\n",
            "\n"
          ]
        },
        {
          "output_type": "display_data",
          "data": {
            "text/plain": [
              "<Figure size 640x480 with 2 Axes>"
            ],
            "image/png": "[encoded data removed]"
          },
          "metadata": {}
        }
      ],
      "source": [
        "#Creamos un clasificador con hiperparámetros arbitrarios\n",
        "rfc = RandomForestClassifier(max_features='auto',\n",
        "                             oob_score=True,\n",
        "                             random_state=2,\n",
        "                             n_jobs=-1,\n",
        "                             criterion=\"entropy\",\n",
        "                             min_samples_leaf=5,\n",
        "                             min_samples_split=5,\n",
        "                             n_estimators=50 )\n",
        "#Entrenamos el modelo\n",
        "model = rfc.fit(X = x_train, y = y_train)\n",
        "\n",
        "#Realizamos una predicción sobre el set de test\n",
        "y_pred = model.predict(x_test)\n",
        "\n",
        "metricas(y_pred,y_test)"
      ]
    },
    {
      "cell_type": "code",
      "source": [
        "y_pred = model.predict(df_test)"
      ],
      "metadata": {
        "id": "PeB4Kp1sq4go"
      },
      "execution_count": null,
      "outputs": []
    },
    {
      "cell_type": "code",
      "source": [
        "ds_resultados=pd.DataFrame(zip(df_id['id'],y_pred),columns=['id','is_canceled'])\n",
        "ds_resultados.head(5)"
      ],
      "metadata": {
        "id": "Mmlzc4aiqdsz",
        "colab": {
          "base_uri": "https://localhost:8080/",
          "height": 206
        },
        "outputId": "d44233e5-58f2-4ba7-e325-6eb405fff2c5"
      },
      "execution_count": null,
      "outputs": [
        {
          "output_type": "execute_result",
          "data": {
            "text/plain": [
              "                                     id  is_canceled\n",
              "0  e6d0d58a-ab96-44d3-b28f-85df1cc15f1e            1\n",
              "1  aba9aac2-4495-4645-a60e-90328713c999            1\n",
              "2  b345b5dc-c804-4d77-a39f-1f4e65d1f1ad            0\n",
              "3  ce1b400e-afa1-4946-bdff-004b859eb61c            1\n",
              "4  c4fbec0d-8e2e-4db2-9d4f-a6ccb9f51214            1"
            ],
            "text/html": [
              "\n",
              "  <div id=\"df-59a3394c-4f5f-4791-8346-5df166aa1285\" class=\"colab-df-container\">\n",
              "    <div>\n",
              "<style scoped>\n",
              "    .dataframe tbody tr th:only-of-type {\n",
              "        vertical-align: middle;\n",
              "    }\n",
              "\n",
              "    .dataframe tbody tr th {\n",
              "        vertical-align: top;\n",
              "    }\n",
              "\n",
              "    .dataframe thead th {\n",
              "        text-align: right;\n",
              "    }\n",
              "</style>\n",
              "<table border=\"1\" class=\"dataframe\">\n",
              "  <thead>\n",
              "    <tr style=\"text-align: right;\">\n",
              "      <th></th>\n",
              "      <th>id</th>\n",
              "      <th>is_canceled</th>\n",
              "    </tr>\n",
              "  </thead>\n",
              "  <tbody>\n",
              "    <tr>\n",
              "      <th>0</th>\n",
              "      <td>e6d0d58a-ab96-44d3-b28f-85df1cc15f1e</td>\n",
              "      <td>1</td>\n",
              "    </tr>\n",
              "    <tr>\n",
              "      <th>1</th>\n",
              "      <td>aba9aac2-4495-4645-a60e-90328713c999</td>\n",
              "      <td>1</td>\n",
              "    </tr>\n",
              "    <tr>\n",
              "      <th>2</th>\n",
              "      <td>b345b5dc-c804-4d77-a39f-1f4e65d1f1ad</td>\n",
              "      <td>0</td>\n",
              "    </tr>\n",
              "    <tr>\n",
              "      <th>3</th>\n",
              "      <td>ce1b400e-afa1-4946-bdff-004b859eb61c</td>\n",
              "      <td>1</td>\n",
              "    </tr>\n",
              "    <tr>\n",
              "      <th>4</th>\n",
              "      <td>c4fbec0d-8e2e-4db2-9d4f-a6ccb9f51214</td>\n",
              "      <td>1</td>\n",
              "    </tr>\n",
              "  </tbody>\n",
              "</table>\n",
              "</div>\n",
              "    <div class=\"colab-df-buttons\">\n",
              "\n",
              "  <div class=\"colab-df-container\">\n",
              "    <button class=\"colab-df-convert\" onclick=\"convertToInteractive('df-59a3394c-4f5f-4791-8346-5df166aa1285')\"\n",
              "            title=\"Convert this dataframe to an interactive table.\"\n",
              "            style=\"display:none;\">\n",
              "\n",
              "  <svg xmlns=\"http://www.w3.org/2000/svg\" height=\"24px\" viewBox=\"0 -960 960 960\">\n",
              "    <path d=\"M120-120v-720h720v720H120Zm60-500h600v-160H180v160Zm220 220h160v-160H400v160Zm0 220h160v-160H400v160ZM180-400h160v-160H180v160Zm440 0h160v-160H620v160ZM180-180h160v-160H180v160Zm440 0h160v-160H620v160Z\"/>\n",
              "  </svg>\n",
              "    </button>\n",
              "\n",
              "  <style>\n",
              "    .colab-df-container {\n",
              "      display:flex;\n",
              "      gap: 12px;\n",
              "    }\n",
              "\n",
              "    .colab-df-convert {\n",
              "      background-color: #E8F0FE;\n",
              "      border: none;\n",
              "      border-radius: 50%;\n",
              "      cursor: pointer;\n",
              "      display: none;\n",
              "      fill: #1967D2;\n",
              "      height: 32px;\n",
              "      padding: 0 0 0 0;\n",
              "      width: 32px;\n",
              "    }\n",
              "\n",
              "    .colab-df-convert:hover {\n",
              "      background-color: #E2EBFA;\n",
              "      box-shadow: 0px 1px 2px rgba(60, 64, 67, 0.3), 0px 1px 3px 1px rgba(60, 64, 67, 0.15);\n",
              "      fill: #174EA6;\n",
              "    }\n",
              "\n",
              "    .colab-df-buttons div {\n",
              "      margin-bottom: 4px;\n",
              "    }\n",
              "\n",
              "    [theme=dark] .colab-df-convert {\n",
              "      background-color: #3B4455;\n",
              "      fill: #D2E3FC;\n",
              "    }\n",
              "\n",
              "    [theme=dark] .colab-df-convert:hover {\n",
              "      background-color: #434B5C;\n",
              "      box-shadow: 0px 1px 3px 1px rgba(0, 0, 0, 0.15);\n",
              "      filter: drop-shadow(0px 1px 2px rgba(0, 0, 0, 0.3));\n",
              "      fill: #FFFFFF;\n",
              "    }\n",
              "  </style>\n",
              "\n",
              "    <script>\n",
              "      const buttonEl =\n",
              "        document.querySelector('#df-59a3394c-4f5f-4791-8346-5df166aa1285 button.colab-df-convert');\n",
              "      buttonEl.style.display =\n",
              "        google.colab.kernel.accessAllowed ? 'block' : 'none';\n",
              "\n",
              "      async function convertToInteractive(key) {\n",
              "        const element = document.querySelector('#df-59a3394c-4f5f-4791-8346-5df166aa1285');\n",
              "        const dataTable =\n",
              "          await google.colab.kernel.invokeFunction('convertToInteractive',\n",
              "                                                    [key], {});\n",
              "        if (!dataTable) return;\n",
              "\n",
              "        const docLinkHtml = 'Like what you see? Visit the ' +\n",
              "          '<a target=\"_blank\" href=https://colab.research.google.com/notebooks/data_table.ipynb>data table notebook</a>'\n",
              "          + ' to learn more about interactive tables.';\n",
              "        element.innerHTML = '';\n",
              "        dataTable['output_type'] = 'display_data';\n",
              "        await google.colab.output.renderOutput(dataTable, element);\n",
              "        const docLink = document.createElement('div');\n",
              "        docLink.innerHTML = docLinkHtml;\n",
              "        element.appendChild(docLink);\n",
              "      }\n",
              "    </script>\n",
              "  </div>\n",
              "\n",
              "\n",
              "<div id=\"df-3621e266-b8cd-45b9-b4c1-dbd988acbc99\">\n",
              "  <button class=\"colab-df-quickchart\" onclick=\"quickchart('df-3621e266-b8cd-45b9-b4c1-dbd988acbc99')\"\n",
              "            title=\"Suggest charts.\"\n",
              "            style=\"display:none;\">\n",
              "\n",
              "<svg xmlns=\"http://www.w3.org/2000/svg\" height=\"24px\"viewBox=\"0 0 24 24\"\n",
              "     width=\"24px\">\n",
              "    <g>\n",
              "        <path d=\"M19 3H5c-1.1 0-2 .9-2 2v14c0 1.1.9 2 2 2h14c1.1 0 2-.9 2-2V5c0-1.1-.9-2-2-2zM9 17H7v-7h2v7zm4 0h-2V7h2v10zm4 0h-2v-4h2v4z\"/>\n",
              "    </g>\n",
              "</svg>\n",
              "  </button>\n",
              "\n",
              "<style>\n",
              "  .colab-df-quickchart {\n",
              "      --bg-color: #E8F0FE;\n",
              "      --fill-color: #1967D2;\n",
              "      --hover-bg-color: #E2EBFA;\n",
              "      --hover-fill-color: #174EA6;\n",
              "      --disabled-fill-color: #AAA;\n",
              "      --disabled-bg-color: #DDD;\n",
              "  }\n",
              "\n",
              "  [theme=dark] .colab-df-quickchart {\n",
              "      --bg-color: #3B4455;\n",
              "      --fill-color: #D2E3FC;\n",
              "      --hover-bg-color: #434B5C;\n",
              "      --hover-fill-color: #FFFFFF;\n",
              "      --disabled-bg-color: #3B4455;\n",
              "      --disabled-fill-color: #666;\n",
              "  }\n",
              "\n",
              "  .colab-df-quickchart {\n",
              "    background-color: var(--bg-color);\n",
              "    border: none;\n",
              "    border-radius: 50%;\n",
              "    cursor: pointer;\n",
              "    display: none;\n",
              "    fill: var(--fill-color);\n",
              "    height: 32px;\n",
              "    padding: 0;\n",
              "    width: 32px;\n",
              "  }\n",
              "\n",
              "  .colab-df-quickchart:hover {\n",
              "    background-color: var(--hover-bg-color);\n",
              "    box-shadow: 0 1px 2px rgba(60, 64, 67, 0.3), 0 1px 3px 1px rgba(60, 64, 67, 0.15);\n",
              "    fill: var(--button-hover-fill-color);\n",
              "  }\n",
              "\n",
              "  .colab-df-quickchart-complete:disabled,\n",
              "  .colab-df-quickchart-complete:disabled:hover {\n",
              "    background-color: var(--disabled-bg-color);\n",
              "    fill: var(--disabled-fill-color);\n",
              "    box-shadow: none;\n",
              "  }\n",
              "\n",
              "  .colab-df-spinner {\n",
              "    border: 2px solid var(--fill-color);\n",
              "    border-color: transparent;\n",
              "    border-bottom-color: var(--fill-color);\n",
              "    animation:\n",
              "      spin 1s steps(1) infinite;\n",
              "  }\n",
              "\n",
              "  @keyframes spin {\n",
              "    0% {\n",
              "      border-color: transparent;\n",
              "      border-bottom-color: var(--fill-color);\n",
              "      border-left-color: var(--fill-color);\n",
              "    }\n",
              "    20% {\n",
              "      border-color: transparent;\n",
              "      border-left-color: var(--fill-color);\n",
              "      border-top-color: var(--fill-color);\n",
              "    }\n",
              "    30% {\n",
              "      border-color: transparent;\n",
              "      border-left-color: var(--fill-color);\n",
              "      border-top-color: var(--fill-color);\n",
              "      border-right-color: var(--fill-color);\n",
              "    }\n",
              "    40% {\n",
              "      border-color: transparent;\n",
              "      border-right-color: var(--fill-color);\n",
              "      border-top-color: var(--fill-color);\n",
              "    }\n",
              "    60% {\n",
              "      border-color: transparent;\n",
              "      border-right-color: var(--fill-color);\n",
              "    }\n",
              "    80% {\n",
              "      border-color: transparent;\n",
              "      border-right-color: var(--fill-color);\n",
              "      border-bottom-color: var(--fill-color);\n",
              "    }\n",
              "    90% {\n",
              "      border-color: transparent;\n",
              "      border-bottom-color: var(--fill-color);\n",
              "    }\n",
              "  }\n",
              "</style>\n",
              "\n",
              "  <script>\n",
              "    async function quickchart(key) {\n",
              "      const quickchartButtonEl =\n",
              "        document.querySelector('#' + key + ' button');\n",
              "      quickchartButtonEl.disabled = true;  // To prevent multiple clicks.\n",
              "      quickchartButtonEl.classList.add('colab-df-spinner');\n",
              "      try {\n",
              "        const charts = await google.colab.kernel.invokeFunction(\n",
              "            'suggestCharts', [key], {});\n",
              "      } catch (error) {\n",
              "        console.error('Error during call to suggestCharts:', error);\n",
              "      }\n",
              "      quickchartButtonEl.classList.remove('colab-df-spinner');\n",
              "      quickchartButtonEl.classList.add('colab-df-quickchart-complete');\n",
              "    }\n",
              "    (() => {\n",
              "      let quickchartButtonEl =\n",
              "        document.querySelector('#df-3621e266-b8cd-45b9-b4c1-dbd988acbc99 button');\n",
              "      quickchartButtonEl.style.display =\n",
              "        google.colab.kernel.accessAllowed ? 'block' : 'none';\n",
              "    })();\n",
              "  </script>\n",
              "</div>\n",
              "    </div>\n",
              "  </div>\n"
            ]
          },
          "metadata": {},
          "execution_count": 30
        }
      ]
    },
    {
      "cell_type": "code",
      "source": [
        "ds_resultados.shape"
      ],
      "metadata": {
        "id": "e819gjh9qiEu",
        "colab": {
          "base_uri": "https://localhost:8080/"
        },
        "outputId": "1437c52e-43ac-424e-80e3-e98076fab469"
      },
      "execution_count": null,
      "outputs": [
        {
          "output_type": "execute_result",
          "data": {
            "text/plain": [
              "(26535, 2)"
            ]
          },
          "metadata": {},
          "execution_count": 31
        }
      ]
    },
    {
      "cell_type": "code",
      "source": [
        "ds_resultados.to_csv(\"prediccion_ensamble_RF_hotel.csv\", index = False)"
      ],
      "metadata": {
        "id": "j3iY33G4qdsz"
      },
      "execution_count": null,
      "outputs": []
    },
    {
      "cell_type": "markdown",
      "source": [
        "###Búsqueda de mejores hiperparámetros"
      ],
      "metadata": {
        "id": "bPhGg-6X2_Q5"
      }
    },
    {
      "cell_type": "code",
      "source": [
        "params_grid = {\n",
        "    'n_estimators': list(range(50,200)),  # Número de árboles en el ensamble\n",
        "    'max_features': ['auto', 'sqrt', 'log2'],  # Número máximo de características a considerar en cada división\n",
        "    'min_samples_split': list(range(5,15)),  # Número mínimo de muestras requeridas para dividir un nodo\n",
        "    'min_samples_leaf': list(range(5,15)),  # Número mínimo de muestras requeridas en un nodo hoja\n",
        "    'bootstrap': [True, False],  # Si se deben usar muestras de arranque en la construcción de árboles\n",
        "    'criterion': ['gini', 'entropy']  # Función para medir la calidad de la división\n",
        "    }"
      ],
      "metadata": {
        "id": "2E3-tUCi3Ejj"
      },
      "execution_count": null,
      "outputs": []
    },
    {
      "cell_type": "code",
      "source": [
        "#Clasificador RF\n",
        "rfc_default = RandomForestClassifier(random_state=2, n_jobs=-1,)\n",
        "\n",
        "#Random Search\n",
        "randomcv = RandomizedSearchCV(rfc_default, params_grid, cv=20, scoring='f1', n_iter=30, random_state=5)\n",
        "\n",
        "randomcv_prueba = randomcv.fit(x_train, y_train)\n",
        "\n",
        "print(str(randomcv_prueba.best_params_))\n",
        "print(str(randomcv_prueba.best_score_))"
      ],
      "metadata": {
        "id": "7dtqydzu3KpR",
        "colab": {
          "base_uri": "https://localhost:8080/"
        },
        "outputId": "07785d9c-85a1-48c2-c9b0-23f8f9cc26d0"
      },
      "execution_count": null,
      "outputs": [
        {
          "output_type": "stream",
          "name": "stdout",
          "text": [
            "{'n_estimators': 64, 'min_samples_split': 12, 'min_samples_leaf': 6, 'max_features': 'sqrt', 'criterion': 'gini', 'bootstrap': False}\n",
            "0.8301613946294399\n"
          ]
        }
      ]
    },
    {
      "cell_type": "code",
      "source": [
        "rf_final = randomcv_prueba.best_estimator_\n",
        "\n",
        "y_pred = rf_final.predict(x_test)\n",
        "\n",
        "metricas(y_pred,y_test)"
      ],
      "metadata": {
        "colab": {
          "base_uri": "https://localhost:8080/",
          "height": 605
        },
        "id": "W8arBI61Ye0O",
        "outputId": "e60fc241-1e2a-44dc-bd2b-ca5780cb6e6d"
      },
      "execution_count": null,
      "outputs": [
        {
          "output_type": "stream",
          "name": "stdout",
          "text": [
            "              precision    recall  f1-score   support\n",
            "\n",
            "           0       0.82      0.88      0.85      8831\n",
            "           1       0.87      0.80      0.83      8527\n",
            "\n",
            "    accuracy                           0.84     17358\n",
            "   macro avg       0.84      0.84      0.84     17358\n",
            "weighted avg       0.84      0.84      0.84     17358\n",
            "\n"
          ]
        },
        {
          "output_type": "display_data",
          "data": {
            "text/plain": [
              "<Figure size 640x480 with 2 Axes>"
            ],
            "image/png": "[encoded data removed]"
          },
          "metadata": {}
        }
      ]
    },
    {
      "cell_type": "code",
      "source": [
        "y_pred = rf_final.predict(df_test)"
      ],
      "metadata": {
        "id": "_VnjL6afRd52"
      },
      "execution_count": null,
      "outputs": []
    },
    {
      "cell_type": "code",
      "source": [
        "ds_resultados=pd.DataFrame(zip(df_id['id'],y_pred),columns=['id','is_canceled'])\n",
        "ds_resultados.head(5)"
      ],
      "metadata": {
        "colab": {
          "base_uri": "https://localhost:8080/",
          "height": 206
        },
        "outputId": "a532ef21-cbfe-4680-85fd-1423c67b686e",
        "id": "UPVQqaS8Rd53"
      },
      "execution_count": null,
      "outputs": [
        {
          "output_type": "execute_result",
          "data": {
            "text/plain": [
              "                                     id  is_canceled\n",
              "0  e6d0d58a-ab96-44d3-b28f-85df1cc15f1e            1\n",
              "1  aba9aac2-4495-4645-a60e-90328713c999            1\n",
              "2  b345b5dc-c804-4d77-a39f-1f4e65d1f1ad            0\n",
              "3  ce1b400e-afa1-4946-bdff-004b859eb61c            1\n",
              "4  c4fbec0d-8e2e-4db2-9d4f-a6ccb9f51214            1"
            ],
            "text/html": [
              "\n",
              "  <div id=\"df-74b18a3f-96bf-4c25-b1f3-5983a1459827\" class=\"colab-df-container\">\n",
              "    <div>\n",
              "<style scoped>\n",
              "    .dataframe tbody tr th:only-of-type {\n",
              "        vertical-align: middle;\n",
              "    }\n",
              "\n",
              "    .dataframe tbody tr th {\n",
              "        vertical-align: top;\n",
              "    }\n",
              "\n",
              "    .dataframe thead th {\n",
              "        text-align: right;\n",
              "    }\n",
              "</style>\n",
              "<table border=\"1\" class=\"dataframe\">\n",
              "  <thead>\n",
              "    <tr style=\"text-align: right;\">\n",
              "      <th></th>\n",
              "      <th>id</th>\n",
              "      <th>is_canceled</th>\n",
              "    </tr>\n",
              "  </thead>\n",
              "  <tbody>\n",
              "    <tr>\n",
              "      <th>0</th>\n",
              "      <td>e6d0d58a-ab96-44d3-b28f-85df1cc15f1e</td>\n",
              "      <td>1</td>\n",
              "    </tr>\n",
              "    <tr>\n",
              "      <th>1</th>\n",
              "      <td>aba9aac2-4495-4645-a60e-90328713c999</td>\n",
              "      <td>1</td>\n",
              "    </tr>\n",
              "    <tr>\n",
              "      <th>2</th>\n",
              "      <td>b345b5dc-c804-4d77-a39f-1f4e65d1f1ad</td>\n",
              "      <td>0</td>\n",
              "    </tr>\n",
              "    <tr>\n",
              "      <th>3</th>\n",
              "      <td>ce1b400e-afa1-4946-bdff-004b859eb61c</td>\n",
              "      <td>1</td>\n",
              "    </tr>\n",
              "    <tr>\n",
              "      <th>4</th>\n",
              "      <td>c4fbec0d-8e2e-4db2-9d4f-a6ccb9f51214</td>\n",
              "      <td>1</td>\n",
              "    </tr>\n",
              "  </tbody>\n",
              "</table>\n",
              "</div>\n",
              "    <div class=\"colab-df-buttons\">\n",
              "\n",
              "  <div class=\"colab-df-container\">\n",
              "    <button class=\"colab-df-convert\" onclick=\"convertToInteractive('df-74b18a3f-96bf-4c25-b1f3-5983a1459827')\"\n",
              "            title=\"Convert this dataframe to an interactive table.\"\n",
              "            style=\"display:none;\">\n",
              "\n",
              "  <svg xmlns=\"http://www.w3.org/2000/svg\" height=\"24px\" viewBox=\"0 -960 960 960\">\n",
              "    <path d=\"M120-120v-720h720v720H120Zm60-500h600v-160H180v160Zm220 220h160v-160H400v160Zm0 220h160v-160H400v160ZM180-400h160v-160H180v160Zm440 0h160v-160H620v160ZM180-180h160v-160H180v160Zm440 0h160v-160H620v160Z\"/>\n",
              "  </svg>\n",
              "    </button>\n",
              "\n",
              "  <style>\n",
              "    .colab-df-container {\n",
              "      display:flex;\n",
              "      gap: 12px;\n",
              "    }\n",
              "\n",
              "    .colab-df-convert {\n",
              "      background-color: #E8F0FE;\n",
              "      border: none;\n",
              "      border-radius: 50%;\n",
              "      cursor: pointer;\n",
              "      display: none;\n",
              "      fill: #1967D2;\n",
              "      height: 32px;\n",
              "      padding: 0 0 0 0;\n",
              "      width: 32px;\n",
              "    }\n",
              "\n",
              "    .colab-df-convert:hover {\n",
              "      background-color: #E2EBFA;\n",
              "      box-shadow: 0px 1px 2px rgba(60, 64, 67, 0.3), 0px 1px 3px 1px rgba(60, 64, 67, 0.15);\n",
              "      fill: #174EA6;\n",
              "    }\n",
              "\n",
              "    .colab-df-buttons div {\n",
              "      margin-bottom: 4px;\n",
              "    }\n",
              "\n",
              "    [theme=dark] .colab-df-convert {\n",
              "      background-color: #3B4455;\n",
              "      fill: #D2E3FC;\n",
              "    }\n",
              "\n",
              "    [theme=dark] .colab-df-convert:hover {\n",
              "      background-color: #434B5C;\n",
              "      box-shadow: 0px 1px 3px 1px rgba(0, 0, 0, 0.15);\n",
              "      filter: drop-shadow(0px 1px 2px rgba(0, 0, 0, 0.3));\n",
              "      fill: #FFFFFF;\n",
              "    }\n",
              "  </style>\n",
              "\n",
              "    <script>\n",
              "      const buttonEl =\n",
              "        document.querySelector('#df-74b18a3f-96bf-4c25-b1f3-5983a1459827 button.colab-df-convert');\n",
              "      buttonEl.style.display =\n",
              "        google.colab.kernel.accessAllowed ? 'block' : 'none';\n",
              "\n",
              "      async function convertToInteractive(key) {\n",
              "        const element = document.querySelector('#df-74b18a3f-96bf-4c25-b1f3-5983a1459827');\n",
              "        const dataTable =\n",
              "          await google.colab.kernel.invokeFunction('convertToInteractive',\n",
              "                                                    [key], {});\n",
              "        if (!dataTable) return;\n",
              "\n",
              "        const docLinkHtml = 'Like what you see? Visit the ' +\n",
              "          '<a target=\"_blank\" href=https://colab.research.google.com/notebooks/data_table.ipynb>data table notebook</a>'\n",
              "          + ' to learn more about interactive tables.';\n",
              "        element.innerHTML = '';\n",
              "        dataTable['output_type'] = 'display_data';\n",
              "        await google.colab.output.renderOutput(dataTable, element);\n",
              "        const docLink = document.createElement('div');\n",
              "        docLink.innerHTML = docLinkHtml;\n",
              "        element.appendChild(docLink);\n",
              "      }\n",
              "    </script>\n",
              "  </div>\n",
              "\n",
              "\n",
              "<div id=\"df-c34dde2c-8895-4693-9124-23f7ac1faaab\">\n",
              "  <button class=\"colab-df-quickchart\" onclick=\"quickchart('df-c34dde2c-8895-4693-9124-23f7ac1faaab')\"\n",
              "            title=\"Suggest charts.\"\n",
              "            style=\"display:none;\">\n",
              "\n",
              "<svg xmlns=\"http://www.w3.org/2000/svg\" height=\"24px\"viewBox=\"0 0 24 24\"\n",
              "     width=\"24px\">\n",
              "    <g>\n",
              "        <path d=\"M19 3H5c-1.1 0-2 .9-2 2v14c0 1.1.9 2 2 2h14c1.1 0 2-.9 2-2V5c0-1.1-.9-2-2-2zM9 17H7v-7h2v7zm4 0h-2V7h2v10zm4 0h-2v-4h2v4z\"/>\n",
              "    </g>\n",
              "</svg>\n",
              "  </button>\n",
              "\n",
              "<style>\n",
              "  .colab-df-quickchart {\n",
              "      --bg-color: #E8F0FE;\n",
              "      --fill-color: #1967D2;\n",
              "      --hover-bg-color: #E2EBFA;\n",
              "      --hover-fill-color: #174EA6;\n",
              "      --disabled-fill-color: #AAA;\n",
              "      --disabled-bg-color: #DDD;\n",
              "  }\n",
              "\n",
              "  [theme=dark] .colab-df-quickchart {\n",
              "      --bg-color: #3B4455;\n",
              "      --fill-color: #D2E3FC;\n",
              "      --hover-bg-color: #434B5C;\n",
              "      --hover-fill-color: #FFFFFF;\n",
              "      --disabled-bg-color: #3B4455;\n",
              "      --disabled-fill-color: #666;\n",
              "  }\n",
              "\n",
              "  .colab-df-quickchart {\n",
              "    background-color: var(--bg-color);\n",
              "    border: none;\n",
              "    border-radius: 50%;\n",
              "    cursor: pointer;\n",
              "    display: none;\n",
              "    fill: var(--fill-color);\n",
              "    height: 32px;\n",
              "    padding: 0;\n",
              "    width: 32px;\n",
              "  }\n",
              "\n",
              "  .colab-df-quickchart:hover {\n",
              "    background-color: var(--hover-bg-color);\n",
              "    box-shadow: 0 1px 2px rgba(60, 64, 67, 0.3), 0 1px 3px 1px rgba(60, 64, 67, 0.15);\n",
              "    fill: var(--button-hover-fill-color);\n",
              "  }\n",
              "\n",
              "  .colab-df-quickchart-complete:disabled,\n",
              "  .colab-df-quickchart-complete:disabled:hover {\n",
              "    background-color: var(--disabled-bg-color);\n",
              "    fill: var(--disabled-fill-color);\n",
              "    box-shadow: none;\n",
              "  }\n",
              "\n",
              "  .colab-df-spinner {\n",
              "    border: 2px solid var(--fill-color);\n",
              "    border-color: transparent;\n",
              "    border-bottom-color: var(--fill-color);\n",
              "    animation:\n",
              "      spin 1s steps(1) infinite;\n",
              "  }\n",
              "\n",
              "  @keyframes spin {\n",
              "    0% {\n",
              "      border-color: transparent;\n",
              "      border-bottom-color: var(--fill-color);\n",
              "      border-left-color: var(--fill-color);\n",
              "    }\n",
              "    20% {\n",
              "      border-color: transparent;\n",
              "      border-left-color: var(--fill-color);\n",
              "      border-top-color: var(--fill-color);\n",
              "    }\n",
              "    30% {\n",
              "      border-color: transparent;\n",
              "      border-left-color: var(--fill-color);\n",
              "      border-top-color: var(--fill-color);\n",
              "      border-right-color: var(--fill-color);\n",
              "    }\n",
              "    40% {\n",
              "      border-color: transparent;\n",
              "      border-right-color: var(--fill-color);\n",
              "      border-top-color: var(--fill-color);\n",
              "    }\n",
              "    60% {\n",
              "      border-color: transparent;\n",
              "      border-right-color: var(--fill-color);\n",
              "    }\n",
              "    80% {\n",
              "      border-color: transparent;\n",
              "      border-right-color: var(--fill-color);\n",
              "      border-bottom-color: var(--fill-color);\n",
              "    }\n",
              "    90% {\n",
              "      border-color: transparent;\n",
              "      border-bottom-color: var(--fill-color);\n",
              "    }\n",
              "  }\n",
              "</style>\n",
              "\n",
              "  <script>\n",
              "    async function quickchart(key) {\n",
              "      const quickchartButtonEl =\n",
              "        document.querySelector('#' + key + ' button');\n",
              "      quickchartButtonEl.disabled = true;  // To prevent multiple clicks.\n",
              "      quickchartButtonEl.classList.add('colab-df-spinner');\n",
              "      try {\n",
              "        const charts = await google.colab.kernel.invokeFunction(\n",
              "            'suggestCharts', [key], {});\n",
              "      } catch (error) {\n",
              "        console.error('Error during call to suggestCharts:', error);\n",
              "      }\n",
              "      quickchartButtonEl.classList.remove('colab-df-spinner');\n",
              "      quickchartButtonEl.classList.add('colab-df-quickchart-complete');\n",
              "    }\n",
              "    (() => {\n",
              "      let quickchartButtonEl =\n",
              "        document.querySelector('#df-c34dde2c-8895-4693-9124-23f7ac1faaab button');\n",
              "      quickchartButtonEl.style.display =\n",
              "        google.colab.kernel.accessAllowed ? 'block' : 'none';\n",
              "    })();\n",
              "  </script>\n",
              "</div>\n",
              "    </div>\n",
              "  </div>\n"
            ]
          },
          "metadata": {},
          "execution_count": 37
        }
      ]
    },
    {
      "cell_type": "code",
      "source": [
        "ds_resultados.to_csv(\"prediccion_ensamble_RF2_hotel.csv\", index = False)"
      ],
      "metadata": {
        "id": "un0c4furRd53"
      },
      "execution_count": null,
      "outputs": []
    },
    {
      "cell_type": "markdown",
      "source": [
        "## d. Clasificador XGBoost"
      ],
      "metadata": {
        "id": "bttlJpXcxfTo"
      }
    },
    {
      "cell_type": "markdown",
      "source": [
        "Está basado en boosting y construye un conjunto de árboles de forma secuencial, y cada uno se enfoca en corregir los errores de los anteriores. Incluye términos de regularización en la función de pérdida para controlar el sobreajuste y mejorar la generalización del modelo.\n"
      ],
      "metadata": {
        "id": "muWjUXm04ADw"
      }
    },
    {
      "cell_type": "code",
      "source": [
        "#Creo el modelo y lo entreno\n",
        "\n",
        "xgb_model = xgb.XGBClassifier(random_state=0, n_estimators=100)\n",
        "xgb_model.fit(x_train, y_train)"
      ],
      "metadata": {
        "id": "w0BEfzPF2p__",
        "colab": {
          "base_uri": "https://localhost:8080/",
          "height": 248
        },
        "outputId": "21fad01c-477a-4d24-acc4-d9efee3f552b"
      },
      "execution_count": null,
      "outputs": [
        {
          "output_type": "execute_result",
          "data": {
            "text/plain": [
              "XGBClassifier(base_score=None, booster=None, callbacks=None,\n",
              "              colsample_bylevel=None, colsample_bynode=None,\n",
              "              colsample_bytree=None, device=None, early_stopping_rounds=None,\n",
              "              enable_categorical=False, eval_metric=None, feature_types=None,\n",
              "              gamma=None, grow_policy=None, importance_type=None,\n",
              "              interaction_constraints=None, learning_rate=None, max_bin=None,\n",
              "              max_cat_threshold=None, max_cat_to_onehot=None,\n",
              "              max_delta_step=None, max_depth=None, max_leaves=None,\n",
              "              min_child_weight=None, missing=nan, monotone_constraints=None,\n",
              "              multi_strategy=None, n_estimators=100, n_jobs=None,\n",
              "              num_parallel_tree=None, random_state=0, ...)"
            ],
            "text/html": [
              "<style>#sk-container-id-3 {color: black;background-color: white;}#sk-container-id-3 pre{padding: 0;}#sk-container-id-3 div.sk-toggleable {background-color: white;}#sk-container-id-3 label.sk-toggleable__label {cursor: pointer;display: block;width: 100%;margin-bottom: 0;padding: 0.3em;box-sizing: border-box;text-align: center;}#sk-container-id-3 label.sk-toggleable__label-arrow:before {content: \"▸\";float: left;margin-right: 0.25em;color: #696969;}#sk-container-id-3 label.sk-toggleable__label-arrow:hover:before {color: black;}#sk-container-id-3 div.sk-estimator:hover label.sk-toggleable__label-arrow:before {color: black;}#sk-container-id-3 div.sk-toggleable__content {max-height: 0;max-width: 0;overflow: hidden;text-align: left;background-color: #f0f8ff;}#sk-container-id-3 div.sk-toggleable__content pre {margin: 0.2em;color: black;border-radius: 0.25em;background-color: #f0f8ff;}#sk-container-id-3 input.sk-toggleable__control:checked~div.sk-toggleable__content {max-height: 200px;max-width: 100%;overflow: auto;}#sk-container-id-3 input.sk-toggleable__control:checked~label.sk-toggleable__label-arrow:before {content: \"▾\";}#sk-container-id-3 div.sk-estimator input.sk-toggleable__control:checked~label.sk-toggleable__label {background-color: #d4ebff;}#sk-container-id-3 div.sk-label input.sk-toggleable__control:checked~label.sk-toggleable__label {background-color: #d4ebff;}#sk-container-id-3 input.sk-hidden--visually {border: 0;clip: rect(1px 1px 1px 1px);clip: rect(1px, 1px, 1px, 1px);height: 1px;margin: -1px;overflow: hidden;padding: 0;position: absolute;width: 1px;}#sk-container-id-3 div.sk-estimator {font-family: monospace;background-color: #f0f8ff;border: 1px dotted black;border-radius: 0.25em;box-sizing: border-box;margin-bottom: 0.5em;}#sk-container-id-3 div.sk-estimator:hover {background-color: #d4ebff;}#sk-container-id-3 div.sk-parallel-item::after {content: \"\";width: 100%;border-bottom: 1px solid gray;flex-grow: 1;}#sk-container-id-3 div.sk-label:hover label.sk-toggleable__label {background-color: #d4ebff;}#sk-container-id-3 div.sk-serial::before {content: \"\";position: absolute;border-left: 1px solid gray;box-sizing: border-box;top: 0;bottom: 0;left: 50%;z-index: 0;}#sk-container-id-3 div.sk-serial {display: flex;flex-direction: column;align-items: center;background-color: white;padding-right: 0.2em;padding-left: 0.2em;position: relative;}#sk-container-id-3 div.sk-item {position: relative;z-index: 1;}#sk-container-id-3 div.sk-parallel {display: flex;align-items: stretch;justify-content: center;background-color: white;position: relative;}#sk-container-id-3 div.sk-item::before, #sk-container-id-3 div.sk-parallel-item::before {content: \"\";position: absolute;border-left: 1px solid gray;box-sizing: border-box;top: 0;bottom: 0;left: 50%;z-index: -1;}#sk-container-id-3 div.sk-parallel-item {display: flex;flex-direction: column;z-index: 1;position: relative;background-color: white;}#sk-container-id-3 div.sk-parallel-item:first-child::after {align-self: flex-end;width: 50%;}#sk-container-id-3 div.sk-parallel-item:last-child::after {align-self: flex-start;width: 50%;}#sk-container-id-3 div.sk-parallel-item:only-child::after {width: 0;}#sk-container-id-3 div.sk-dashed-wrapped {border: 1px dashed gray;margin: 0 0.4em 0.5em 0.4em;box-sizing: border-box;padding-bottom: 0.4em;background-color: white;}#sk-container-id-3 div.sk-label label {font-family: monospace;font-weight: bold;display: inline-block;line-height: 1.2em;}#sk-container-id-3 div.sk-label-container {text-align: center;}#sk-container-id-3 div.sk-container {/* jupyter's `normalize.less` sets `[hidden] { display: none; }` but bootstrap.min.css set `[hidden] { display: none !important; }` so we also need the `!important` here to be able to override the default hidden behavior on the sphinx rendered scikit-learn.org. See: https://github.com/scikit-learn/scikit-learn/issues/21755 */display: inline-block !important;position: relative;}#sk-container-id-3 div.sk-text-repr-fallback {display: none;}</style><div id=\"sk-container-id-3\" class=\"sk-top-container\"><div class=\"sk-text-repr-fallback\"><pre>XGBClassifier(base_score=None, booster=None, callbacks=None,\n",
              "              colsample_bylevel=None, colsample_bynode=None,\n",
              "              colsample_bytree=None, device=None, early_stopping_rounds=None,\n",
              "              enable_categorical=False, eval_metric=None, feature_types=None,\n",
              "              gamma=None, grow_policy=None, importance_type=None,\n",
              "              interaction_constraints=None, learning_rate=None, max_bin=None,\n",
              "              max_cat_threshold=None, max_cat_to_onehot=None,\n",
              "              max_delta_step=None, max_depth=None, max_leaves=None,\n",
              "              min_child_weight=None, missing=nan, monotone_constraints=None,\n",
              "              multi_strategy=None, n_estimators=100, n_jobs=None,\n",
              "              num_parallel_tree=None, random_state=0, ...)</pre><b>In a Jupyter environment, please rerun this cell to show the HTML representation or trust the notebook. <br />On GitHub, the HTML representation is unable to render, please try loading this page with nbviewer.org.</b></div><div class=\"sk-container\" hidden><div class=\"sk-item\"><div class=\"sk-estimator sk-toggleable\"><input class=\"sk-toggleable__control sk-hidden--visually\" id=\"sk-estimator-id-3\" type=\"checkbox\" checked><label for=\"sk-estimator-id-3\" class=\"sk-toggleable__label sk-toggleable__label-arrow\">XGBClassifier</label><div class=\"sk-toggleable__content\"><pre>XGBClassifier(base_score=None, booster=None, callbacks=None,\n",
              "              colsample_bylevel=None, colsample_bynode=None,\n",
              "              colsample_bytree=None, device=None, early_stopping_rounds=None,\n",
              "              enable_categorical=False, eval_metric=None, feature_types=None,\n",
              "              gamma=None, grow_policy=None, importance_type=None,\n",
              "              interaction_constraints=None, learning_rate=None, max_bin=None,\n",
              "              max_cat_threshold=None, max_cat_to_onehot=None,\n",
              "              max_delta_step=None, max_depth=None, max_leaves=None,\n",
              "              min_child_weight=None, missing=nan, monotone_constraints=None,\n",
              "              multi_strategy=None, n_estimators=100, n_jobs=None,\n",
              "              num_parallel_tree=None, random_state=0, ...)</pre></div></div></div></div></div>"
            ]
          },
          "metadata": {},
          "execution_count": 40
        }
      ]
    },
    {
      "cell_type": "code",
      "source": [
        "#Evaluo en el set de test\n",
        "y_pred_proba= xgb_model.predict_proba(x_test)[:, 1]\n",
        "\n",
        "#Realizamos una predicción sobre el set de test\n",
        "y_pred = xgb_model.predict(x_test)\n",
        "\n",
        "metricas(y_pred,y_test)"
      ],
      "metadata": {
        "id": "4JKDZcD_yAw-",
        "colab": {
          "base_uri": "https://localhost:8080/",
          "height": 605
        },
        "outputId": "98c06e15-ebff-4ede-c498-8929ac1d036a"
      },
      "execution_count": null,
      "outputs": [
        {
          "output_type": "stream",
          "name": "stdout",
          "text": [
            "              precision    recall  f1-score   support\n",
            "\n",
            "           0       0.83      0.87      0.85      8831\n",
            "           1       0.85      0.81      0.83      8527\n",
            "\n",
            "    accuracy                           0.84     17358\n",
            "   macro avg       0.84      0.84      0.84     17358\n",
            "weighted avg       0.84      0.84      0.84     17358\n",
            "\n"
          ]
        },
        {
          "output_type": "display_data",
          "data": {
            "text/plain": [
              "<Figure size 640x480 with 2 Axes>"
            ],
            "image/png": "[encoded data removed]"
          },
          "metadata": {}
        }
      ]
    },
    {
      "cell_type": "code",
      "source": [
        "y_pred = xgb_model.predict(df_test)"
      ],
      "metadata": {
        "id": "oooz3Oo5dCrb"
      },
      "execution_count": null,
      "outputs": []
    },
    {
      "cell_type": "code",
      "source": [
        "ds_resultados=pd.DataFrame(zip(df_id['id'],y_pred),columns=['id','is_canceled'])\n",
        "ds_resultados.head(5)"
      ],
      "metadata": {
        "colab": {
          "base_uri": "https://localhost:8080/",
          "height": 206
        },
        "outputId": "8855283d-178f-472c-9835-1279356ecfd8",
        "id": "0jXnEPpSdCrb"
      },
      "execution_count": null,
      "outputs": [
        {
          "output_type": "execute_result",
          "data": {
            "text/plain": [
              "                                     id  is_canceled\n",
              "0  e6d0d58a-ab96-44d3-b28f-85df1cc15f1e            1\n",
              "1  aba9aac2-4495-4645-a60e-90328713c999            1\n",
              "2  b345b5dc-c804-4d77-a39f-1f4e65d1f1ad            0\n",
              "3  ce1b400e-afa1-4946-bdff-004b859eb61c            1\n",
              "4  c4fbec0d-8e2e-4db2-9d4f-a6ccb9f51214            1"
            ],
            "text/html": [
              "\n",
              "  <div id=\"df-2a01db91-0b74-4a3f-a21d-44055118ad60\" class=\"colab-df-container\">\n",
              "    <div>\n",
              "<style scoped>\n",
              "    .dataframe tbody tr th:only-of-type {\n",
              "        vertical-align: middle;\n",
              "    }\n",
              "\n",
              "    .dataframe tbody tr th {\n",
              "        vertical-align: top;\n",
              "    }\n",
              "\n",
              "    .dataframe thead th {\n",
              "        text-align: right;\n",
              "    }\n",
              "</style>\n",
              "<table border=\"1\" class=\"dataframe\">\n",
              "  <thead>\n",
              "    <tr style=\"text-align: right;\">\n",
              "      <th></th>\n",
              "      <th>id</th>\n",
              "      <th>is_canceled</th>\n",
              "    </tr>\n",
              "  </thead>\n",
              "  <tbody>\n",
              "    <tr>\n",
              "      <th>0</th>\n",
              "      <td>e6d0d58a-ab96-44d3-b28f-85df1cc15f1e</td>\n",
              "      <td>1</td>\n",
              "    </tr>\n",
              "    <tr>\n",
              "      <th>1</th>\n",
              "      <td>aba9aac2-4495-4645-a60e-90328713c999</td>\n",
              "      <td>1</td>\n",
              "    </tr>\n",
              "    <tr>\n",
              "      <th>2</th>\n",
              "      <td>b345b5dc-c804-4d77-a39f-1f4e65d1f1ad</td>\n",
              "      <td>0</td>\n",
              "    </tr>\n",
              "    <tr>\n",
              "      <th>3</th>\n",
              "      <td>ce1b400e-afa1-4946-bdff-004b859eb61c</td>\n",
              "      <td>1</td>\n",
              "    </tr>\n",
              "    <tr>\n",
              "      <th>4</th>\n",
              "      <td>c4fbec0d-8e2e-4db2-9d4f-a6ccb9f51214</td>\n",
              "      <td>1</td>\n",
              "    </tr>\n",
              "  </tbody>\n",
              "</table>\n",
              "</div>\n",
              "    <div class=\"colab-df-buttons\">\n",
              "\n",
              "  <div class=\"colab-df-container\">\n",
              "    <button class=\"colab-df-convert\" onclick=\"convertToInteractive('df-2a01db91-0b74-4a3f-a21d-44055118ad60')\"\n",
              "            title=\"Convert this dataframe to an interactive table.\"\n",
              "            style=\"display:none;\">\n",
              "\n",
              "  <svg xmlns=\"http://www.w3.org/2000/svg\" height=\"24px\" viewBox=\"0 -960 960 960\">\n",
              "    <path d=\"M120-120v-720h720v720H120Zm60-500h600v-160H180v160Zm220 220h160v-160H400v160Zm0 220h160v-160H400v160ZM180-400h160v-160H180v160Zm440 0h160v-160H620v160ZM180-180h160v-160H180v160Zm440 0h160v-160H620v160Z\"/>\n",
              "  </svg>\n",
              "    </button>\n",
              "\n",
              "  <style>\n",
              "    .colab-df-container {\n",
              "      display:flex;\n",
              "      gap: 12px;\n",
              "    }\n",
              "\n",
              "    .colab-df-convert {\n",
              "      background-color: #E8F0FE;\n",
              "      border: none;\n",
              "      border-radius: 50%;\n",
              "      cursor: pointer;\n",
              "      display: none;\n",
              "      fill: #1967D2;\n",
              "      height: 32px;\n",
              "      padding: 0 0 0 0;\n",
              "      width: 32px;\n",
              "    }\n",
              "\n",
              "    .colab-df-convert:hover {\n",
              "      background-color: #E2EBFA;\n",
              "      box-shadow: 0px 1px 2px rgba(60, 64, 67, 0.3), 0px 1px 3px 1px rgba(60, 64, 67, 0.15);\n",
              "      fill: #174EA6;\n",
              "    }\n",
              "\n",
              "    .colab-df-buttons div {\n",
              "      margin-bottom: 4px;\n",
              "    }\n",
              "\n",
              "    [theme=dark] .colab-df-convert {\n",
              "      background-color: #3B4455;\n",
              "      fill: #D2E3FC;\n",
              "    }\n",
              "\n",
              "    [theme=dark] .colab-df-convert:hover {\n",
              "      background-color: #434B5C;\n",
              "      box-shadow: 0px 1px 3px 1px rgba(0, 0, 0, 0.15);\n",
              "      filter: drop-shadow(0px 1px 2px rgba(0, 0, 0, 0.3));\n",
              "      fill: #FFFFFF;\n",
              "    }\n",
              "  </style>\n",
              "\n",
              "    <script>\n",
              "      const buttonEl =\n",
              "        document.querySelector('#df-2a01db91-0b74-4a3f-a21d-44055118ad60 button.colab-df-convert');\n",
              "      buttonEl.style.display =\n",
              "        google.colab.kernel.accessAllowed ? 'block' : 'none';\n",
              "\n",
              "      async function convertToInteractive(key) {\n",
              "        const element = document.querySelector('#df-2a01db91-0b74-4a3f-a21d-44055118ad60');\n",
              "        const dataTable =\n",
              "          await google.colab.kernel.invokeFunction('convertToInteractive',\n",
              "                                                    [key], {});\n",
              "        if (!dataTable) return;\n",
              "\n",
              "        const docLinkHtml = 'Like what you see? Visit the ' +\n",
              "          '<a target=\"_blank\" href=https://colab.research.google.com/notebooks/data_table.ipynb>data table notebook</a>'\n",
              "          + ' to learn more about interactive tables.';\n",
              "        element.innerHTML = '';\n",
              "        dataTable['output_type'] = 'display_data';\n",
              "        await google.colab.output.renderOutput(dataTable, element);\n",
              "        const docLink = document.createElement('div');\n",
              "        docLink.innerHTML = docLinkHtml;\n",
              "        element.appendChild(docLink);\n",
              "      }\n",
              "    </script>\n",
              "  </div>\n",
              "\n",
              "\n",
              "<div id=\"df-11cf8d96-6949-4b12-86a7-298020b173c0\">\n",
              "  <button class=\"colab-df-quickchart\" onclick=\"quickchart('df-11cf8d96-6949-4b12-86a7-298020b173c0')\"\n",
              "            title=\"Suggest charts.\"\n",
              "            style=\"display:none;\">\n",
              "\n",
              "<svg xmlns=\"http://www.w3.org/2000/svg\" height=\"24px\"viewBox=\"0 0 24 24\"\n",
              "     width=\"24px\">\n",
              "    <g>\n",
              "        <path d=\"M19 3H5c-1.1 0-2 .9-2 2v14c0 1.1.9 2 2 2h14c1.1 0 2-.9 2-2V5c0-1.1-.9-2-2-2zM9 17H7v-7h2v7zm4 0h-2V7h2v10zm4 0h-2v-4h2v4z\"/>\n",
              "    </g>\n",
              "</svg>\n",
              "  </button>\n",
              "\n",
              "<style>\n",
              "  .colab-df-quickchart {\n",
              "      --bg-color: #E8F0FE;\n",
              "      --fill-color: #1967D2;\n",
              "      --hover-bg-color: #E2EBFA;\n",
              "      --hover-fill-color: #174EA6;\n",
              "      --disabled-fill-color: #AAA;\n",
              "      --disabled-bg-color: #DDD;\n",
              "  }\n",
              "\n",
              "  [theme=dark] .colab-df-quickchart {\n",
              "      --bg-color: #3B4455;\n",
              "      --fill-color: #D2E3FC;\n",
              "      --hover-bg-color: #434B5C;\n",
              "      --hover-fill-color: #FFFFFF;\n",
              "      --disabled-bg-color: #3B4455;\n",
              "      --disabled-fill-color: #666;\n",
              "  }\n",
              "\n",
              "  .colab-df-quickchart {\n",
              "    background-color: var(--bg-color);\n",
              "    border: none;\n",
              "    border-radius: 50%;\n",
              "    cursor: pointer;\n",
              "    display: none;\n",
              "    fill: var(--fill-color);\n",
              "    height: 32px;\n",
              "    padding: 0;\n",
              "    width: 32px;\n",
              "  }\n",
              "\n",
              "  .colab-df-quickchart:hover {\n",
              "    background-color: var(--hover-bg-color);\n",
              "    box-shadow: 0 1px 2px rgba(60, 64, 67, 0.3), 0 1px 3px 1px rgba(60, 64, 67, 0.15);\n",
              "    fill: var(--button-hover-fill-color);\n",
              "  }\n",
              "\n",
              "  .colab-df-quickchart-complete:disabled,\n",
              "  .colab-df-quickchart-complete:disabled:hover {\n",
              "    background-color: var(--disabled-bg-color);\n",
              "    fill: var(--disabled-fill-color);\n",
              "    box-shadow: none;\n",
              "  }\n",
              "\n",
              "  .colab-df-spinner {\n",
              "    border: 2px solid var(--fill-color);\n",
              "    border-color: transparent;\n",
              "    border-bottom-color: var(--fill-color);\n",
              "    animation:\n",
              "      spin 1s steps(1) infinite;\n",
              "  }\n",
              "\n",
              "  @keyframes spin {\n",
              "    0% {\n",
              "      border-color: transparent;\n",
              "      border-bottom-color: var(--fill-color);\n",
              "      border-left-color: var(--fill-color);\n",
              "    }\n",
              "    20% {\n",
              "      border-color: transparent;\n",
              "      border-left-color: var(--fill-color);\n",
              "      border-top-color: var(--fill-color);\n",
              "    }\n",
              "    30% {\n",
              "      border-color: transparent;\n",
              "      border-left-color: var(--fill-color);\n",
              "      border-top-color: var(--fill-color);\n",
              "      border-right-color: var(--fill-color);\n",
              "    }\n",
              "    40% {\n",
              "      border-color: transparent;\n",
              "      border-right-color: var(--fill-color);\n",
              "      border-top-color: var(--fill-color);\n",
              "    }\n",
              "    60% {\n",
              "      border-color: transparent;\n",
              "      border-right-color: var(--fill-color);\n",
              "    }\n",
              "    80% {\n",
              "      border-color: transparent;\n",
              "      border-right-color: var(--fill-color);\n",
              "      border-bottom-color: var(--fill-color);\n",
              "    }\n",
              "    90% {\n",
              "      border-color: transparent;\n",
              "      border-bottom-color: var(--fill-color);\n",
              "    }\n",
              "  }\n",
              "</style>\n",
              "\n",
              "  <script>\n",
              "    async function quickchart(key) {\n",
              "      const quickchartButtonEl =\n",
              "        document.querySelector('#' + key + ' button');\n",
              "      quickchartButtonEl.disabled = true;  // To prevent multiple clicks.\n",
              "      quickchartButtonEl.classList.add('colab-df-spinner');\n",
              "      try {\n",
              "        const charts = await google.colab.kernel.invokeFunction(\n",
              "            'suggestCharts', [key], {});\n",
              "      } catch (error) {\n",
              "        console.error('Error during call to suggestCharts:', error);\n",
              "      }\n",
              "      quickchartButtonEl.classList.remove('colab-df-spinner');\n",
              "      quickchartButtonEl.classList.add('colab-df-quickchart-complete');\n",
              "    }\n",
              "    (() => {\n",
              "      let quickchartButtonEl =\n",
              "        document.querySelector('#df-11cf8d96-6949-4b12-86a7-298020b173c0 button');\n",
              "      quickchartButtonEl.style.display =\n",
              "        google.colab.kernel.accessAllowed ? 'block' : 'none';\n",
              "    })();\n",
              "  </script>\n",
              "</div>\n",
              "    </div>\n",
              "  </div>\n"
            ]
          },
          "metadata": {},
          "execution_count": 43
        }
      ]
    },
    {
      "cell_type": "code",
      "source": [
        "ds_resultados.shape"
      ],
      "metadata": {
        "colab": {
          "base_uri": "https://localhost:8080/"
        },
        "outputId": "c81e5249-8283-4b2d-819b-0dc51e01b869",
        "id": "tQDb_PtRdCrc"
      },
      "execution_count": null,
      "outputs": [
        {
          "output_type": "execute_result",
          "data": {
            "text/plain": [
              "(26535, 2)"
            ]
          },
          "metadata": {},
          "execution_count": 44
        }
      ]
    },
    {
      "cell_type": "code",
      "source": [
        "ds_resultados.to_csv(\"prediccion_ensamble_XGB1_hotel.csv\", index = False)"
      ],
      "metadata": {
        "id": "TarCzozfdCrc"
      },
      "execution_count": null,
      "outputs": []
    },
    {
      "cell_type": "markdown",
      "source": [
        "###Búsqueda de mejores hiperparámetros"
      ],
      "metadata": {
        "id": "RYDhFiCMWZYT"
      }
    },
    {
      "cell_type": "markdown",
      "source": [
        "**Hiper-parámetros**\n",
        "\n",
        "* learning_rate: tasa de aprendizaje\n",
        "+ max_depth: máxima profundidad de cada árbol\n",
        "* subsample: porcentaje de muestras usadas para cada árbol (valor muy bajo, posible underfitting)\n",
        "* colsample_bytree: porcentaje de features usadas para cada árbol (valores muy alto, posible overfitting)\n",
        "* n_estimators: cantidad de árboles a construir.\n",
        "* objective: función de error a utilizar (algunas: reg:linear para regresión, reg:logistic o binary:logistic para clasificación)\n",
        "\n",
        "**Parámetros de regularización:**\n",
        "\n",
        "* **gamma**: umbral para hacer split basado en la reducción de error de hacer el nuevo split.\n",
        "* **alpha**: regularización para los pesos de las hojas. Un valor más alto genera una mayor regularización.\n",
        "* **lambda**: similar alpha pero para la sintonia fina.\n",
        "\n",
        "Cuando 𝛌 > 0 es más probable tener que podar un árbol, ya que los Gain (ganancia total) calculados son menores. Con lambda > 0, los Similarity Scores son mucho más chicos.\n",
        "Aún eligiendo 𝜸 = 0 podemos tener que podar nodos, ya que la ganancia puede ser negativa.\n",
        "𝛌=1 previene el sobreentrenamiento o sobreajuste del modelo en el conjunto de entrenamiento."
      ],
      "metadata": {
        "id": "owiIVGPUWyvV"
      }
    },
    {
      "cell_type": "code",
      "source": [
        "params_grid = {\n",
        "    'n_estimators': list(range(50,200)),\n",
        "    'learning_rate': [0.01, 0.1, 0.2, 0.3, 0.4, 0.5],\n",
        "    'max_depth': list(range(10,25)),\n",
        "    'min_child_weight': [1, 2, 3, 4, 5],\n",
        "    'subsample': [0.7, 0.8, 0.9, 1.0],\n",
        "    'colsample_bytree': [0.7, 0.8, 0.9, 1.0],\n",
        "    'reg_alpha': [0, 0.001, 0.01, 0.1, 1],\n",
        "    'reg_lambda': [0, 0.001, 0.01, 0.1, 1],\n",
        "}"
      ],
      "metadata": {
        "id": "cXQt8hJxWoa4"
      },
      "execution_count": null,
      "outputs": []
    },
    {
      "cell_type": "markdown",
      "source": [
        "La función objetivo mide cuán bien un modelo se ajusta a los datos y cómo se comporta en relación con los objetivos del problema. Su objetivo es proporcionar una medida cuantitativa que se puede optimizar durante el proceso de entrenamiento o ajuste del modelo.\n",
        "\n",
        "Al modelo default le seteamos como objective 'binary:logistic'. Esta opción utiliza la función logística de pérdida logarítmica (log-loss) como función objetivo. Es una elección común para problemas de clasificación binaria."
      ],
      "metadata": {
        "id": "Ng1b4G5CafwA"
      }
    },
    {
      "cell_type": "code",
      "source": [
        "#Clasificador RF\n",
        "xgb_model = xgb.XGBClassifier(objective='binary:logistic', random_state=0)\n",
        "\n",
        "#Random Search con 10 Folds y 10 iteraciones\n",
        "randomcv = RandomizedSearchCV(xgb_model, params_grid, cv=20, scoring='f1', n_iter=30, random_state=5)\n",
        "\n",
        "randomcv_prueba = randomcv.fit(x_train, y_train)\n",
        "\n",
        "print(str(randomcv_prueba.best_params_))\n",
        "print(str(randomcv_prueba.best_score_))"
      ],
      "metadata": {
        "colab": {
          "base_uri": "https://localhost:8080/"
        },
        "outputId": "e16a0806-f96a-4962-b330-b304203c7b04",
        "id": "VEHpk354Woa5"
      },
      "execution_count": null,
      "outputs": [
        {
          "output_type": "stream",
          "name": "stdout",
          "text": [
            "{'subsample': 1.0, 'reg_lambda': 0.1, 'reg_alpha': 0.1, 'n_estimators': 198, 'min_child_weight': 1, 'max_depth': 11, 'learning_rate': 0.1, 'colsample_bytree': 0.7}\n",
            "0.8457723008904221\n"
          ]
        }
      ]
    },
    {
      "cell_type": "code",
      "source": [
        "xgb_prueba =  xgb.XGBClassifier().set_params(**randomcv_prueba.best_params_)\n",
        "xgb_prueba.fit(x_train,y_train)"
      ],
      "metadata": {
        "colab": {
          "base_uri": "https://localhost:8080/",
          "height": 248
        },
        "outputId": "16fbf506-148c-44c3-bd66-d3ec1099ef92",
        "id": "9Dz3Nt8ZWoa5"
      },
      "execution_count": null,
      "outputs": [
        {
          "output_type": "execute_result",
          "data": {
            "text/plain": [
              "XGBClassifier(base_score=None, booster=None, callbacks=None,\n",
              "              colsample_bylevel=None, colsample_bynode=None,\n",
              "              colsample_bytree=0.7, device=None, early_stopping_rounds=None,\n",
              "              enable_categorical=False, eval_metric=None, feature_types=None,\n",
              "              gamma=None, grow_policy=None, importance_type=None,\n",
              "              interaction_constraints=None, learning_rate=0.1, max_bin=None,\n",
              "              max_cat_threshold=None, max_cat_to_onehot=None,\n",
              "              max_delta_step=None, max_depth=11, max_leaves=None,\n",
              "              min_child_weight=1, missing=nan, monotone_constraints=None,\n",
              "              multi_strategy=None, n_estimators=198, n_jobs=None,\n",
              "              num_parallel_tree=None, random_state=None, ...)"
            ],
            "text/html": [
              "<style>#sk-container-id-4 {color: black;background-color: white;}#sk-container-id-4 pre{padding: 0;}#sk-container-id-4 div.sk-toggleable {background-color: white;}#sk-container-id-4 label.sk-toggleable__label {cursor: pointer;display: block;width: 100%;margin-bottom: 0;padding: 0.3em;box-sizing: border-box;text-align: center;}#sk-container-id-4 label.sk-toggleable__label-arrow:before {content: \"▸\";float: left;margin-right: 0.25em;color: #696969;}#sk-container-id-4 label.sk-toggleable__label-arrow:hover:before {color: black;}#sk-container-id-4 div.sk-estimator:hover label.sk-toggleable__label-arrow:before {color: black;}#sk-container-id-4 div.sk-toggleable__content {max-height: 0;max-width: 0;overflow: hidden;text-align: left;background-color: #f0f8ff;}#sk-container-id-4 div.sk-toggleable__content pre {margin: 0.2em;color: black;border-radius: 0.25em;background-color: #f0f8ff;}#sk-container-id-4 input.sk-toggleable__control:checked~div.sk-toggleable__content {max-height: 200px;max-width: 100%;overflow: auto;}#sk-container-id-4 input.sk-toggleable__control:checked~label.sk-toggleable__label-arrow:before {content: \"▾\";}#sk-container-id-4 div.sk-estimator input.sk-toggleable__control:checked~label.sk-toggleable__label {background-color: #d4ebff;}#sk-container-id-4 div.sk-label input.sk-toggleable__control:checked~label.sk-toggleable__label {background-color: #d4ebff;}#sk-container-id-4 input.sk-hidden--visually {border: 0;clip: rect(1px 1px 1px 1px);clip: rect(1px, 1px, 1px, 1px);height: 1px;margin: -1px;overflow: hidden;padding: 0;position: absolute;width: 1px;}#sk-container-id-4 div.sk-estimator {font-family: monospace;background-color: #f0f8ff;border: 1px dotted black;border-radius: 0.25em;box-sizing: border-box;margin-bottom: 0.5em;}#sk-container-id-4 div.sk-estimator:hover {background-color: #d4ebff;}#sk-container-id-4 div.sk-parallel-item::after {content: \"\";width: 100%;border-bottom: 1px solid gray;flex-grow: 1;}#sk-container-id-4 div.sk-label:hover label.sk-toggleable__label {background-color: #d4ebff;}#sk-container-id-4 div.sk-serial::before {content: \"\";position: absolute;border-left: 1px solid gray;box-sizing: border-box;top: 0;bottom: 0;left: 50%;z-index: 0;}#sk-container-id-4 div.sk-serial {display: flex;flex-direction: column;align-items: center;background-color: white;padding-right: 0.2em;padding-left: 0.2em;position: relative;}#sk-container-id-4 div.sk-item {position: relative;z-index: 1;}#sk-container-id-4 div.sk-parallel {display: flex;align-items: stretch;justify-content: center;background-color: white;position: relative;}#sk-container-id-4 div.sk-item::before, #sk-container-id-4 div.sk-parallel-item::before {content: \"\";position: absolute;border-left: 1px solid gray;box-sizing: border-box;top: 0;bottom: 0;left: 50%;z-index: -1;}#sk-container-id-4 div.sk-parallel-item {display: flex;flex-direction: column;z-index: 1;position: relative;background-color: white;}#sk-container-id-4 div.sk-parallel-item:first-child::after {align-self: flex-end;width: 50%;}#sk-container-id-4 div.sk-parallel-item:last-child::after {align-self: flex-start;width: 50%;}#sk-container-id-4 div.sk-parallel-item:only-child::after {width: 0;}#sk-container-id-4 div.sk-dashed-wrapped {border: 1px dashed gray;margin: 0 0.4em 0.5em 0.4em;box-sizing: border-box;padding-bottom: 0.4em;background-color: white;}#sk-container-id-4 div.sk-label label {font-family: monospace;font-weight: bold;display: inline-block;line-height: 1.2em;}#sk-container-id-4 div.sk-label-container {text-align: center;}#sk-container-id-4 div.sk-container {/* jupyter's `normalize.less` sets `[hidden] { display: none; }` but bootstrap.min.css set `[hidden] { display: none !important; }` so we also need the `!important` here to be able to override the default hidden behavior on the sphinx rendered scikit-learn.org. See: https://github.com/scikit-learn/scikit-learn/issues/21755 */display: inline-block !important;position: relative;}#sk-container-id-4 div.sk-text-repr-fallback {display: none;}</style><div id=\"sk-container-id-4\" class=\"sk-top-container\"><div class=\"sk-text-repr-fallback\"><pre>XGBClassifier(base_score=None, booster=None, callbacks=None,\n",
              "              colsample_bylevel=None, colsample_bynode=None,\n",
              "              colsample_bytree=0.7, device=None, early_stopping_rounds=None,\n",
              "              enable_categorical=False, eval_metric=None, feature_types=None,\n",
              "              gamma=None, grow_policy=None, importance_type=None,\n",
              "              interaction_constraints=None, learning_rate=0.1, max_bin=None,\n",
              "              max_cat_threshold=None, max_cat_to_onehot=None,\n",
              "              max_delta_step=None, max_depth=11, max_leaves=None,\n",
              "              min_child_weight=1, missing=nan, monotone_constraints=None,\n",
              "              multi_strategy=None, n_estimators=198, n_jobs=None,\n",
              "              num_parallel_tree=None, random_state=None, ...)</pre><b>In a Jupyter environment, please rerun this cell to show the HTML representation or trust the notebook. <br />On GitHub, the HTML representation is unable to render, please try loading this page with nbviewer.org.</b></div><div class=\"sk-container\" hidden><div class=\"sk-item\"><div class=\"sk-estimator sk-toggleable\"><input class=\"sk-toggleable__control sk-hidden--visually\" id=\"sk-estimator-id-4\" type=\"checkbox\" checked><label for=\"sk-estimator-id-4\" class=\"sk-toggleable__label sk-toggleable__label-arrow\">XGBClassifier</label><div class=\"sk-toggleable__content\"><pre>XGBClassifier(base_score=None, booster=None, callbacks=None,\n",
              "              colsample_bylevel=None, colsample_bynode=None,\n",
              "              colsample_bytree=0.7, device=None, early_stopping_rounds=None,\n",
              "              enable_categorical=False, eval_metric=None, feature_types=None,\n",
              "              gamma=None, grow_policy=None, importance_type=None,\n",
              "              interaction_constraints=None, learning_rate=0.1, max_bin=None,\n",
              "              max_cat_threshold=None, max_cat_to_onehot=None,\n",
              "              max_delta_step=None, max_depth=11, max_leaves=None,\n",
              "              min_child_weight=1, missing=nan, monotone_constraints=None,\n",
              "              multi_strategy=None, n_estimators=198, n_jobs=None,\n",
              "              num_parallel_tree=None, random_state=None, ...)</pre></div></div></div></div></div>"
            ]
          },
          "metadata": {},
          "execution_count": 48
        }
      ]
    },
    {
      "cell_type": "code",
      "source": [
        "y_pred = xgb_prueba.predict(x_test)\n",
        "\n",
        "metricas(y_pred,y_test)"
      ],
      "metadata": {
        "colab": {
          "base_uri": "https://localhost:8080/",
          "height": 605
        },
        "outputId": "116e7b51-77b6-4ddd-8922-a00e3c263bee",
        "id": "x9LvKDZnWoa6"
      },
      "execution_count": null,
      "outputs": [
        {
          "output_type": "stream",
          "name": "stdout",
          "text": [
            "              precision    recall  f1-score   support\n",
            "\n",
            "           0       0.85      0.87      0.86      8831\n",
            "           1       0.86      0.84      0.85      8527\n",
            "\n",
            "    accuracy                           0.85     17358\n",
            "   macro avg       0.85      0.85      0.85     17358\n",
            "weighted avg       0.85      0.85      0.85     17358\n",
            "\n"
          ]
        },
        {
          "output_type": "display_data",
          "data": {
            "text/plain": [
              "<Figure size 640x480 with 2 Axes>"
            ],
            "image/png": "[encoded data removed]"
          },
          "metadata": {}
        }
      ]
    },
    {
      "cell_type": "code",
      "source": [
        "y_pred = xgb_prueba.predict(df_test)"
      ],
      "metadata": {
        "id": "cWcrYVEAcdg1"
      },
      "execution_count": null,
      "outputs": []
    },
    {
      "cell_type": "code",
      "source": [
        "ds_resultados=pd.DataFrame(zip(df_id['id'],y_pred),columns=['id','is_canceled'])\n",
        "ds_resultados.head(5)"
      ],
      "metadata": {
        "colab": {
          "base_uri": "https://localhost:8080/",
          "height": 206
        },
        "outputId": "9456da9e-c3f3-4e76-8903-b50d7872a4b7",
        "id": "8KCmqDaMcdg2"
      },
      "execution_count": null,
      "outputs": [
        {
          "output_type": "execute_result",
          "data": {
            "text/plain": [
              "                                     id  is_canceled\n",
              "0  e6d0d58a-ab96-44d3-b28f-85df1cc15f1e            1\n",
              "1  aba9aac2-4495-4645-a60e-90328713c999            1\n",
              "2  b345b5dc-c804-4d77-a39f-1f4e65d1f1ad            0\n",
              "3  ce1b400e-afa1-4946-bdff-004b859eb61c            1\n",
              "4  c4fbec0d-8e2e-4db2-9d4f-a6ccb9f51214            1"
            ],
            "text/html": [
              "\n",
              "  <div id=\"df-ea2b6286-8d07-4302-91ed-060a037f0f56\" class=\"colab-df-container\">\n",
              "    <div>\n",
              "<style scoped>\n",
              "    .dataframe tbody tr th:only-of-type {\n",
              "        vertical-align: middle;\n",
              "    }\n",
              "\n",
              "    .dataframe tbody tr th {\n",
              "        vertical-align: top;\n",
              "    }\n",
              "\n",
              "    .dataframe thead th {\n",
              "        text-align: right;\n",
              "    }\n",
              "</style>\n",
              "<table border=\"1\" class=\"dataframe\">\n",
              "  <thead>\n",
              "    <tr style=\"text-align: right;\">\n",
              "      <th></th>\n",
              "      <th>id</th>\n",
              "      <th>is_canceled</th>\n",
              "    </tr>\n",
              "  </thead>\n",
              "  <tbody>\n",
              "    <tr>\n",
              "      <th>0</th>\n",
              "      <td>e6d0d58a-ab96-44d3-b28f-85df1cc15f1e</td>\n",
              "      <td>1</td>\n",
              "    </tr>\n",
              "    <tr>\n",
              "      <th>1</th>\n",
              "      <td>aba9aac2-4495-4645-a60e-90328713c999</td>\n",
              "      <td>1</td>\n",
              "    </tr>\n",
              "    <tr>\n",
              "      <th>2</th>\n",
              "      <td>b345b5dc-c804-4d77-a39f-1f4e65d1f1ad</td>\n",
              "      <td>0</td>\n",
              "    </tr>\n",
              "    <tr>\n",
              "      <th>3</th>\n",
              "      <td>ce1b400e-afa1-4946-bdff-004b859eb61c</td>\n",
              "      <td>1</td>\n",
              "    </tr>\n",
              "    <tr>\n",
              "      <th>4</th>\n",
              "      <td>c4fbec0d-8e2e-4db2-9d4f-a6ccb9f51214</td>\n",
              "      <td>1</td>\n",
              "    </tr>\n",
              "  </tbody>\n",
              "</table>\n",
              "</div>\n",
              "    <div class=\"colab-df-buttons\">\n",
              "\n",
              "  <div class=\"colab-df-container\">\n",
              "    <button class=\"colab-df-convert\" onclick=\"convertToInteractive('df-ea2b6286-8d07-4302-91ed-060a037f0f56')\"\n",
              "            title=\"Convert this dataframe to an interactive table.\"\n",
              "            style=\"display:none;\">\n",
              "\n",
              "  <svg xmlns=\"http://www.w3.org/2000/svg\" height=\"24px\" viewBox=\"0 -960 960 960\">\n",
              "    <path d=\"M120-120v-720h720v720H120Zm60-500h600v-160H180v160Zm220 220h160v-160H400v160Zm0 220h160v-160H400v160ZM180-400h160v-160H180v160Zm440 0h160v-160H620v160ZM180-180h160v-160H180v160Zm440 0h160v-160H620v160Z\"/>\n",
              "  </svg>\n",
              "    </button>\n",
              "\n",
              "  <style>\n",
              "    .colab-df-container {\n",
              "      display:flex;\n",
              "      gap: 12px;\n",
              "    }\n",
              "\n",
              "    .colab-df-convert {\n",
              "      background-color: #E8F0FE;\n",
              "      border: none;\n",
              "      border-radius: 50%;\n",
              "      cursor: pointer;\n",
              "      display: none;\n",
              "      fill: #1967D2;\n",
              "      height: 32px;\n",
              "      padding: 0 0 0 0;\n",
              "      width: 32px;\n",
              "    }\n",
              "\n",
              "    .colab-df-convert:hover {\n",
              "      background-color: #E2EBFA;\n",
              "      box-shadow: 0px 1px 2px rgba(60, 64, 67, 0.3), 0px 1px 3px 1px rgba(60, 64, 67, 0.15);\n",
              "      fill: #174EA6;\n",
              "    }\n",
              "\n",
              "    .colab-df-buttons div {\n",
              "      margin-bottom: 4px;\n",
              "    }\n",
              "\n",
              "    [theme=dark] .colab-df-convert {\n",
              "      background-color: #3B4455;\n",
              "      fill: #D2E3FC;\n",
              "    }\n",
              "\n",
              "    [theme=dark] .colab-df-convert:hover {\n",
              "      background-color: #434B5C;\n",
              "      box-shadow: 0px 1px 3px 1px rgba(0, 0, 0, 0.15);\n",
              "      filter: drop-shadow(0px 1px 2px rgba(0, 0, 0, 0.3));\n",
              "      fill: #FFFFFF;\n",
              "    }\n",
              "  </style>\n",
              "\n",
              "    <script>\n",
              "      const buttonEl =\n",
              "        document.querySelector('#df-ea2b6286-8d07-4302-91ed-060a037f0f56 button.colab-df-convert');\n",
              "      buttonEl.style.display =\n",
              "        google.colab.kernel.accessAllowed ? 'block' : 'none';\n",
              "\n",
              "      async function convertToInteractive(key) {\n",
              "        const element = document.querySelector('#df-ea2b6286-8d07-4302-91ed-060a037f0f56');\n",
              "        const dataTable =\n",
              "          await google.colab.kernel.invokeFunction('convertToInteractive',\n",
              "                                                    [key], {});\n",
              "        if (!dataTable) return;\n",
              "\n",
              "        const docLinkHtml = 'Like what you see? Visit the ' +\n",
              "          '<a target=\"_blank\" href=https://colab.research.google.com/notebooks/data_table.ipynb>data table notebook</a>'\n",
              "          + ' to learn more about interactive tables.';\n",
              "        element.innerHTML = '';\n",
              "        dataTable['output_type'] = 'display_data';\n",
              "        await google.colab.output.renderOutput(dataTable, element);\n",
              "        const docLink = document.createElement('div');\n",
              "        docLink.innerHTML = docLinkHtml;\n",
              "        element.appendChild(docLink);\n",
              "      }\n",
              "    </script>\n",
              "  </div>\n",
              "\n",
              "\n",
              "<div id=\"df-95bb7542-5c8e-4cd5-b2dc-4ad60309a9e4\">\n",
              "  <button class=\"colab-df-quickchart\" onclick=\"quickchart('df-95bb7542-5c8e-4cd5-b2dc-4ad60309a9e4')\"\n",
              "            title=\"Suggest charts.\"\n",
              "            style=\"display:none;\">\n",
              "\n",
              "<svg xmlns=\"http://www.w3.org/2000/svg\" height=\"24px\"viewBox=\"0 0 24 24\"\n",
              "     width=\"24px\">\n",
              "    <g>\n",
              "        <path d=\"M19 3H5c-1.1 0-2 .9-2 2v14c0 1.1.9 2 2 2h14c1.1 0 2-.9 2-2V5c0-1.1-.9-2-2-2zM9 17H7v-7h2v7zm4 0h-2V7h2v10zm4 0h-2v-4h2v4z\"/>\n",
              "    </g>\n",
              "</svg>\n",
              "  </button>\n",
              "\n",
              "<style>\n",
              "  .colab-df-quickchart {\n",
              "      --bg-color: #E8F0FE;\n",
              "      --fill-color: #1967D2;\n",
              "      --hover-bg-color: #E2EBFA;\n",
              "      --hover-fill-color: #174EA6;\n",
              "      --disabled-fill-color: #AAA;\n",
              "      --disabled-bg-color: #DDD;\n",
              "  }\n",
              "\n",
              "  [theme=dark] .colab-df-quickchart {\n",
              "      --bg-color: #3B4455;\n",
              "      --fill-color: #D2E3FC;\n",
              "      --hover-bg-color: #434B5C;\n",
              "      --hover-fill-color: #FFFFFF;\n",
              "      --disabled-bg-color: #3B4455;\n",
              "      --disabled-fill-color: #666;\n",
              "  }\n",
              "\n",
              "  .colab-df-quickchart {\n",
              "    background-color: var(--bg-color);\n",
              "    border: none;\n",
              "    border-radius: 50%;\n",
              "    cursor: pointer;\n",
              "    display: none;\n",
              "    fill: var(--fill-color);\n",
              "    height: 32px;\n",
              "    padding: 0;\n",
              "    width: 32px;\n",
              "  }\n",
              "\n",
              "  .colab-df-quickchart:hover {\n",
              "    background-color: var(--hover-bg-color);\n",
              "    box-shadow: 0 1px 2px rgba(60, 64, 67, 0.3), 0 1px 3px 1px rgba(60, 64, 67, 0.15);\n",
              "    fill: var(--button-hover-fill-color);\n",
              "  }\n",
              "\n",
              "  .colab-df-quickchart-complete:disabled,\n",
              "  .colab-df-quickchart-complete:disabled:hover {\n",
              "    background-color: var(--disabled-bg-color);\n",
              "    fill: var(--disabled-fill-color);\n",
              "    box-shadow: none;\n",
              "  }\n",
              "\n",
              "  .colab-df-spinner {\n",
              "    border: 2px solid var(--fill-color);\n",
              "    border-color: transparent;\n",
              "    border-bottom-color: var(--fill-color);\n",
              "    animation:\n",
              "      spin 1s steps(1) infinite;\n",
              "  }\n",
              "\n",
              "  @keyframes spin {\n",
              "    0% {\n",
              "      border-color: transparent;\n",
              "      border-bottom-color: var(--fill-color);\n",
              "      border-left-color: var(--fill-color);\n",
              "    }\n",
              "    20% {\n",
              "      border-color: transparent;\n",
              "      border-left-color: var(--fill-color);\n",
              "      border-top-color: var(--fill-color);\n",
              "    }\n",
              "    30% {\n",
              "      border-color: transparent;\n",
              "      border-left-color: var(--fill-color);\n",
              "      border-top-color: var(--fill-color);\n",
              "      border-right-color: var(--fill-color);\n",
              "    }\n",
              "    40% {\n",
              "      border-color: transparent;\n",
              "      border-right-color: var(--fill-color);\n",
              "      border-top-color: var(--fill-color);\n",
              "    }\n",
              "    60% {\n",
              "      border-color: transparent;\n",
              "      border-right-color: var(--fill-color);\n",
              "    }\n",
              "    80% {\n",
              "      border-color: transparent;\n",
              "      border-right-color: var(--fill-color);\n",
              "      border-bottom-color: var(--fill-color);\n",
              "    }\n",
              "    90% {\n",
              "      border-color: transparent;\n",
              "      border-bottom-color: var(--fill-color);\n",
              "    }\n",
              "  }\n",
              "</style>\n",
              "\n",
              "  <script>\n",
              "    async function quickchart(key) {\n",
              "      const quickchartButtonEl =\n",
              "        document.querySelector('#' + key + ' button');\n",
              "      quickchartButtonEl.disabled = true;  // To prevent multiple clicks.\n",
              "      quickchartButtonEl.classList.add('colab-df-spinner');\n",
              "      try {\n",
              "        const charts = await google.colab.kernel.invokeFunction(\n",
              "            'suggestCharts', [key], {});\n",
              "      } catch (error) {\n",
              "        console.error('Error during call to suggestCharts:', error);\n",
              "      }\n",
              "      quickchartButtonEl.classList.remove('colab-df-spinner');\n",
              "      quickchartButtonEl.classList.add('colab-df-quickchart-complete');\n",
              "    }\n",
              "    (() => {\n",
              "      let quickchartButtonEl =\n",
              "        document.querySelector('#df-95bb7542-5c8e-4cd5-b2dc-4ad60309a9e4 button');\n",
              "      quickchartButtonEl.style.display =\n",
              "        google.colab.kernel.accessAllowed ? 'block' : 'none';\n",
              "    })();\n",
              "  </script>\n",
              "</div>\n",
              "    </div>\n",
              "  </div>\n"
            ]
          },
          "metadata": {},
          "execution_count": 51
        }
      ]
    },
    {
      "cell_type": "code",
      "source": [
        "ds_resultados.shape"
      ],
      "metadata": {
        "colab": {
          "base_uri": "https://localhost:8080/"
        },
        "outputId": "ac43be5c-7d58-47f1-a4d9-bace99c75021",
        "id": "0zwgE0kVcdg2"
      },
      "execution_count": null,
      "outputs": [
        {
          "output_type": "execute_result",
          "data": {
            "text/plain": [
              "(26535, 2)"
            ]
          },
          "metadata": {},
          "execution_count": 52
        }
      ]
    },
    {
      "cell_type": "code",
      "source": [
        "ds_resultados.to_csv(\"prediccion_ensamble_XGB2_hotel.csv\", index = False)"
      ],
      "metadata": {
        "id": "98xQBrbVcdg3"
      },
      "execution_count": null,
      "outputs": []
    },
    {
      "cell_type": "markdown",
      "source": [
        "##e. Ensamble híbrido\n",
        "\n"
      ],
      "metadata": {
        "id": "DYLhZTC0xjiQ"
      }
    },
    {
      "cell_type": "markdown",
      "source": [
        "Ensemble Learning realiza una combinación estratégica de varios expertos o modelos ML con el fin de mejorar la eficacia obtenida utilizando un único modelo débil"
      ],
      "metadata": {
        "id": "hGRGu1gKDFfY"
      }
    },
    {
      "cell_type": "markdown",
      "source": [
        "###Stacking"
      ],
      "metadata": {
        "id": "PEY_2WTexxdz"
      }
    },
    {
      "cell_type": "markdown",
      "source": [
        "La idea principal es entrenar varios modelos dado un conjunto de datos y a continuación entrenar uno nuevo que, cuando reciba una nueva instancia de datos, determinará qué modelo es el más adecuado para dicha instancia.\n"
      ],
      "metadata": {
        "id": "bn92qCcxMrn9"
      }
    },
    {
      "cell_type": "markdown",
      "source": [
        "**Generación del conjunto de datos**\n",
        "\n",
        "La función make_classification de Scikit-learn es útil para generar conjuntos de datos sintéticos que se pueden usar para probar diferentes algoritmos. El conjunto de datos que generaremos está diseñado para representar un problema de clasificación binaria basado en los siguientes parámetros:\n",
        "\n",
        "\n",
        "* n_features: la cantidad de features en el conjunto de datos\n",
        "* n_informative y n_redundant: la cantidad de características informativas y redundantes en el conjunto de datos.\n",
        "* n_clusters_per_class: el número de clústeres incluidos en cada clase. Los valores más altos hacen que el problema sea más difícil.\n",
        "* class_sep: controla la separación entre grupos/clases. Los valores más grandes facilitan la tarea.\n",
        "* flip_y: especifica el porcentaje de etiquetas de clase que se asignarán al azar. Útil para agregar algo de ruido al conjunto de datos."
      ],
      "metadata": {
        "id": "NBNBWl9h4nV7"
      }
    },
    {
      "cell_type": "code",
      "source": [
        "#Creo un conjunto de datos para entrenar los modelos\n",
        "x, y = make_classification(n_samples=3000,\n",
        "                           n_features=20,\n",
        "                           n_informative=15,\n",
        "                           n_redundant=5,\n",
        "                           n_clusters_per_class=5,\n",
        "                           class_sep=0.7,\n",
        "                           flip_y=0.03,\n",
        "                           n_classes=2)"
      ],
      "metadata": {
        "id": "6PVEJWX1Ywsv"
      },
      "execution_count": null,
      "outputs": []
    },
    {
      "cell_type": "code",
      "source": [
        "#Funcion para evaluar los modelos 5fold -CV (repite 2 veces)\n",
        "def evaluate_model(model, x, y):\n",
        "    cv = RepeatedStratifiedKFold(n_splits=5, n_repeats=2, random_state=1)\n",
        "    scores = cross_val_score(model, x, y, scoring='accuracy', cv=cv, verbose=1, n_jobs=3, error_score='raise')\n",
        "    return scores"
      ],
      "metadata": {
        "id": "32J-g4eUuvLv"
      },
      "execution_count": null,
      "outputs": []
    },
    {
      "cell_type": "code",
      "source": [
        "#Funcion para plotear a performance\n",
        "def plot_results(model_scores, name):\n",
        "\n",
        "    model_names = list(model_scores.keys())\n",
        "    results = [model_scores[model] for model in model_names]\n",
        "    fig = go.Figure()\n",
        "    for model, result in zip(model_names, results):\n",
        "        fig.add_trace(go.Box(\n",
        "            y=result,\n",
        "            name=model,\n",
        "            boxpoints='all',\n",
        "            jitter=0.5,\n",
        "            whiskerwidth=0.2,\n",
        "            marker_size=2,\n",
        "            line_width=1)\n",
        "        )\n",
        "\n",
        "    fig.update_layout(\n",
        "    title='Performance of Different Models Using 5-Fold Cross-Validation',\n",
        "    paper_bgcolor='rgb(243, 243, 243)',\n",
        "    plot_bgcolor='rgb(243, 243, 243)',\n",
        "    xaxis_title='Model',\n",
        "    yaxis_title='Accuracy',\n",
        "    showlegend=False)\n",
        "    fig.show()"
      ],
      "metadata": {
        "id": "HUq4CDj3vA9Y"
      },
      "execution_count": null,
      "outputs": []
    },
    {
      "cell_type": "markdown",
      "source": [
        "**Entrenamiento y evaluación de modelos individuales**\n",
        "\n",
        "Para obtener un nivel de referencia de performance y poder compararlo con el ensamble, entrenaremos y evaluaremos individualmente los siguientes modelos base:\n",
        "\n",
        "* Bosque aleatorio con 50 árboles de decisión (RF).\n",
        "* Máquina de vectores de soporte (SVM)\n",
        "* Clasificador K-vecinos más cercanos (KNN)"
      ],
      "metadata": {
        "id": "PIYxZfwWxOWK"
      }
    },
    {
      "cell_type": "markdown",
      "source": [
        "Cada uno de los modelos se evaluará utilizando una estrategia de validación cruzada de cinco folds repetida dos veces. En cada iteracion cada modelo se entrenó en el 80 % de los datos y se validó en el 20 % restante.\n",
        "\n",
        "Este método da como resultado 10 puntajes de performance diferentes para cada modelo que se almacenarán en un diccionario."
      ],
      "metadata": {
        "id": "4fDugVuPZ-rA"
      }
    },
    {
      "cell_type": "code",
      "source": [
        "#Modelos Base\n",
        "base_models = {'random_forest':RandomForestClassifier(n_estimators=50),\n",
        "               'svm': SVC(),\n",
        "               'knn': KNeighborsClassifier(n_neighbors=11)}\n",
        "\n",
        "\n",
        "#Guarda los scores de cada modelo\n",
        "model_scores = defaultdict()\n",
        "\n",
        "#Entreno los clasificadores\n",
        "for name, model in base_models.items():\n",
        "    print('Evaluating {}'.format(name))\n",
        "    scores = evaluate_model(model, x_train, y_train)\n",
        "    model_scores[name] = scores"
      ],
      "metadata": {
        "id": "wbyuajOWZXAu",
        "colab": {
          "base_uri": "https://localhost:8080/"
        },
        "outputId": "2ac4679b-be55-4a73-c8ed-f28d1256e29e"
      },
      "execution_count": null,
      "outputs": [
        {
          "output_type": "stream",
          "name": "stdout",
          "text": [
            "Evaluating random_forest\n"
          ]
        },
        {
          "output_type": "stream",
          "name": "stderr",
          "text": [
            "[Parallel(n_jobs=3)]: Using backend LokyBackend with 3 concurrent workers.\n",
            "[Parallel(n_jobs=3)]: Done  10 out of  10 | elapsed:   40.1s finished\n",
            "[Parallel(n_jobs=3)]: Using backend LokyBackend with 3 concurrent workers.\n"
          ]
        },
        {
          "output_type": "stream",
          "name": "stdout",
          "text": [
            "Evaluating svm\n"
          ]
        },
        {
          "output_type": "stream",
          "name": "stderr",
          "text": [
            "[Parallel(n_jobs=3)]: Done  10 out of  10 | elapsed: 20.5min finished\n",
            "[Parallel(n_jobs=3)]: Using backend LokyBackend with 3 concurrent workers.\n"
          ]
        },
        {
          "output_type": "stream",
          "name": "stdout",
          "text": [
            "Evaluating knn\n"
          ]
        },
        {
          "output_type": "stream",
          "name": "stderr",
          "text": [
            "[Parallel(n_jobs=3)]: Done  10 out of  10 | elapsed:   24.5s finished\n"
          ]
        }
      ]
    },
    {
      "cell_type": "markdown",
      "source": [
        "####Elección de Meta-modelo"
      ],
      "metadata": {
        "id": "ORue6VWaVEkh"
      }
    },
    {
      "cell_type": "markdown",
      "source": [
        "A partir de la corrección proporcionada, estudiamos el rendimiento del ensamble Stacking con distintas opciones de meta learners: Random Forest, XGBoost, etc. Y sin embargo no logramos superar el accuracy obtenido con Regresión Logística, así que hemos decidido conservarlo."
      ],
      "metadata": {
        "id": "ZNZsc_egVLrJ"
      }
    },
    {
      "cell_type": "markdown",
      "source": [
        "Para un análisis más completo, agregaremos el modelo de Regresión Logística con mejora de hiperparámetros para observar su desempeño individualmente.\n",
        "\n",
        "Utilizamos el clasificador LogisticRegressionCV que es una versión de LogisticRegression que incluye cross validation para la selección automática de los mejores hiperparámetros."
      ],
      "metadata": {
        "id": "1GP6q4fMV814"
      }
    },
    {
      "cell_type": "code",
      "source": [
        "LR_Classifier = LogisticRegressionCV()\n",
        "LR_Classifier.get_params()"
      ],
      "metadata": {
        "colab": {
          "base_uri": "https://localhost:8080/"
        },
        "id": "cpEgjxcbWY5h",
        "outputId": "9a75dcff-2cb8-4150-e1cc-dc7c4cd4bb65"
      },
      "execution_count": null,
      "outputs": [
        {
          "output_type": "execute_result",
          "data": {
            "text/plain": [
              "{'Cs': 10,\n",
              " 'class_weight': None,\n",
              " 'cv': None,\n",
              " 'dual': False,\n",
              " 'fit_intercept': True,\n",
              " 'intercept_scaling': 1.0,\n",
              " 'l1_ratios': None,\n",
              " 'max_iter': 100,\n",
              " 'multi_class': 'auto',\n",
              " 'n_jobs': None,\n",
              " 'penalty': 'l2',\n",
              " 'random_state': None,\n",
              " 'refit': True,\n",
              " 'scoring': None,\n",
              " 'solver': 'lbfgs',\n",
              " 'tol': 0.0001,\n",
              " 'verbose': 0}"
            ]
          },
          "metadata": {},
          "execution_count": 41
        }
      ]
    },
    {
      "cell_type": "code",
      "source": [
        "LR_Classifier.fit(x_train, y_train)\n",
        "y_pred = LR_Classifier.predict(x_test)"
      ],
      "metadata": {
        "id": "s-a0JWfyW_TU"
      },
      "execution_count": null,
      "outputs": []
    },
    {
      "cell_type": "code",
      "source": [
        "print('correctas: ', np.sum(y_test == y_pred))\n",
        "print('total: ', len(y_test))"
      ],
      "metadata": {
        "colab": {
          "base_uri": "https://localhost:8080/"
        },
        "id": "4WBFVgrrXPw7",
        "outputId": "fa4123bd-319a-45e3-edc8-b432516f6e56"
      },
      "execution_count": null,
      "outputs": [
        {
          "output_type": "stream",
          "name": "stdout",
          "text": [
            "correctas:  13339\n",
            "total:  17358\n"
          ]
        }
      ]
    },
    {
      "cell_type": "code",
      "source": [
        "accuracy_score(y_test,y_pred)"
      ],
      "metadata": {
        "colab": {
          "base_uri": "https://localhost:8080/"
        },
        "id": "aRyV3U3SXTpn",
        "outputId": "c476ac19-cf3f-4540-84b7-6d514ce73133"
      },
      "execution_count": null,
      "outputs": [
        {
          "output_type": "execute_result",
          "data": {
            "text/plain": [
              "0.7684641087682913"
            ]
          },
          "metadata": {},
          "execution_count": 44
        }
      ]
    },
    {
      "cell_type": "code",
      "source": [
        "from sklearn.metrics import confusion_matrix,classification_report\n",
        "\n",
        "#Reporte de Clasificación\n",
        "print(classification_report(y_test,y_pred))\n",
        "\n",
        "#Matriz de Confusión\n",
        "cm = confusion_matrix(y_test,y_pred)\n",
        "sns.heatmap(cm, cmap='Blues',annot=True,fmt='g')\n",
        "plt.xlabel('Predicted')\n",
        "plt.ylabel('True')"
      ],
      "metadata": {
        "colab": {
          "base_uri": "https://localhost:8080/",
          "height": 623
        },
        "id": "AYAKK17-XWkq",
        "outputId": "cca57c17-16a6-4ead-82fe-8320db7e9802"
      },
      "execution_count": null,
      "outputs": [
        {
          "output_type": "stream",
          "name": "stdout",
          "text": [
            "              precision    recall  f1-score   support\n",
            "\n",
            "           0       0.76      0.81      0.78      8831\n",
            "           1       0.78      0.73      0.76      8527\n",
            "\n",
            "    accuracy                           0.77     17358\n",
            "   macro avg       0.77      0.77      0.77     17358\n",
            "weighted avg       0.77      0.77      0.77     17358\n",
            "\n"
          ]
        },
        {
          "output_type": "execute_result",
          "data": {
            "text/plain": [
              "Text(50.722222222222214, 0.5, 'True')"
            ]
          },
          "metadata": {},
          "execution_count": 45
        },
        {
          "output_type": "display_data",
          "data": {
            "text/plain": [
              "<Figure size 640x480 with 2 Axes>"
            ],
            "image/png": "[encoded data removed]"
          },
          "metadata": {}
        }
      ]
    },
    {
      "cell_type": "code",
      "source": [
        "y_pred = LR_Classifier.predict(df_test)"
      ],
      "metadata": {
        "id": "VPHNUFJKXcZo"
      },
      "execution_count": null,
      "outputs": []
    },
    {
      "cell_type": "code",
      "source": [
        "ds_resultados=pd.DataFrame(zip(df_id['id'],y_pred),columns=['id','is_canceled'])\n",
        "ds_resultados.head(5)"
      ],
      "metadata": {
        "colab": {
          "base_uri": "https://localhost:8080/",
          "height": 206
        },
        "id": "JdXa8SzZXkzu",
        "outputId": "58bbe65e-d1b3-4bbe-c776-fffc2794c224"
      },
      "execution_count": null,
      "outputs": [
        {
          "output_type": "execute_result",
          "data": {
            "text/plain": [
              "                                     id  is_canceled\n",
              "0  e6d0d58a-ab96-44d3-b28f-85df1cc15f1e            1\n",
              "1  aba9aac2-4495-4645-a60e-90328713c999            1\n",
              "2  b345b5dc-c804-4d77-a39f-1f4e65d1f1ad            0\n",
              "3  ce1b400e-afa1-4946-bdff-004b859eb61c            1\n",
              "4  c4fbec0d-8e2e-4db2-9d4f-a6ccb9f51214            1"
            ],
            "text/html": [
              "\n",
              "  <div id=\"df-3daf27bc-bc41-463a-9d99-3fcde6728466\" class=\"colab-df-container\">\n",
              "    <div>\n",
              "<style scoped>\n",
              "    .dataframe tbody tr th:only-of-type {\n",
              "        vertical-align: middle;\n",
              "    }\n",
              "\n",
              "    .dataframe tbody tr th {\n",
              "        vertical-align: top;\n",
              "    }\n",
              "\n",
              "    .dataframe thead th {\n",
              "        text-align: right;\n",
              "    }\n",
              "</style>\n",
              "<table border=\"1\" class=\"dataframe\">\n",
              "  <thead>\n",
              "    <tr style=\"text-align: right;\">\n",
              "      <th></th>\n",
              "      <th>id</th>\n",
              "      <th>is_canceled</th>\n",
              "    </tr>\n",
              "  </thead>\n",
              "  <tbody>\n",
              "    <tr>\n",
              "      <th>0</th>\n",
              "      <td>e6d0d58a-ab96-44d3-b28f-85df1cc15f1e</td>\n",
              "      <td>1</td>\n",
              "    </tr>\n",
              "    <tr>\n",
              "      <th>1</th>\n",
              "      <td>aba9aac2-4495-4645-a60e-90328713c999</td>\n",
              "      <td>1</td>\n",
              "    </tr>\n",
              "    <tr>\n",
              "      <th>2</th>\n",
              "      <td>b345b5dc-c804-4d77-a39f-1f4e65d1f1ad</td>\n",
              "      <td>0</td>\n",
              "    </tr>\n",
              "    <tr>\n",
              "      <th>3</th>\n",
              "      <td>ce1b400e-afa1-4946-bdff-004b859eb61c</td>\n",
              "      <td>1</td>\n",
              "    </tr>\n",
              "    <tr>\n",
              "      <th>4</th>\n",
              "      <td>c4fbec0d-8e2e-4db2-9d4f-a6ccb9f51214</td>\n",
              "      <td>1</td>\n",
              "    </tr>\n",
              "  </tbody>\n",
              "</table>\n",
              "</div>\n",
              "    <div class=\"colab-df-buttons\">\n",
              "\n",
              "  <div class=\"colab-df-container\">\n",
              "    <button class=\"colab-df-convert\" onclick=\"convertToInteractive('df-3daf27bc-bc41-463a-9d99-3fcde6728466')\"\n",
              "            title=\"Convert this dataframe to an interactive table.\"\n",
              "            style=\"display:none;\">\n",
              "\n",
              "  <svg xmlns=\"http://www.w3.org/2000/svg\" height=\"24px\" viewBox=\"0 -960 960 960\">\n",
              "    <path d=\"M120-120v-720h720v720H120Zm60-500h600v-160H180v160Zm220 220h160v-160H400v160Zm0 220h160v-160H400v160ZM180-400h160v-160H180v160Zm440 0h160v-160H620v160ZM180-180h160v-160H180v160Zm440 0h160v-160H620v160Z\"/>\n",
              "  </svg>\n",
              "    </button>\n",
              "\n",
              "  <style>\n",
              "    .colab-df-container {\n",
              "      display:flex;\n",
              "      gap: 12px;\n",
              "    }\n",
              "\n",
              "    .colab-df-convert {\n",
              "      background-color: #E8F0FE;\n",
              "      border: none;\n",
              "      border-radius: 50%;\n",
              "      cursor: pointer;\n",
              "      display: none;\n",
              "      fill: #1967D2;\n",
              "      height: 32px;\n",
              "      padding: 0 0 0 0;\n",
              "      width: 32px;\n",
              "    }\n",
              "\n",
              "    .colab-df-convert:hover {\n",
              "      background-color: #E2EBFA;\n",
              "      box-shadow: 0px 1px 2px rgba(60, 64, 67, 0.3), 0px 1px 3px 1px rgba(60, 64, 67, 0.15);\n",
              "      fill: #174EA6;\n",
              "    }\n",
              "\n",
              "    .colab-df-buttons div {\n",
              "      margin-bottom: 4px;\n",
              "    }\n",
              "\n",
              "    [theme=dark] .colab-df-convert {\n",
              "      background-color: #3B4455;\n",
              "      fill: #D2E3FC;\n",
              "    }\n",
              "\n",
              "    [theme=dark] .colab-df-convert:hover {\n",
              "      background-color: #434B5C;\n",
              "      box-shadow: 0px 1px 3px 1px rgba(0, 0, 0, 0.15);\n",
              "      filter: drop-shadow(0px 1px 2px rgba(0, 0, 0, 0.3));\n",
              "      fill: #FFFFFF;\n",
              "    }\n",
              "  </style>\n",
              "\n",
              "    <script>\n",
              "      const buttonEl =\n",
              "        document.querySelector('#df-3daf27bc-bc41-463a-9d99-3fcde6728466 button.colab-df-convert');\n",
              "      buttonEl.style.display =\n",
              "        google.colab.kernel.accessAllowed ? 'block' : 'none';\n",
              "\n",
              "      async function convertToInteractive(key) {\n",
              "        const element = document.querySelector('#df-3daf27bc-bc41-463a-9d99-3fcde6728466');\n",
              "        const dataTable =\n",
              "          await google.colab.kernel.invokeFunction('convertToInteractive',\n",
              "                                                    [key], {});\n",
              "        if (!dataTable) return;\n",
              "\n",
              "        const docLinkHtml = 'Like what you see? Visit the ' +\n",
              "          '<a target=\"_blank\" href=https://colab.research.google.com/notebooks/data_table.ipynb>data table notebook</a>'\n",
              "          + ' to learn more about interactive tables.';\n",
              "        element.innerHTML = '';\n",
              "        dataTable['output_type'] = 'display_data';\n",
              "        await google.colab.output.renderOutput(dataTable, element);\n",
              "        const docLink = document.createElement('div');\n",
              "        docLink.innerHTML = docLinkHtml;\n",
              "        element.appendChild(docLink);\n",
              "      }\n",
              "    </script>\n",
              "  </div>\n",
              "\n",
              "\n",
              "<div id=\"df-7bb2ebca-1467-4ba7-9d3c-1fd1b1ad17c5\">\n",
              "  <button class=\"colab-df-quickchart\" onclick=\"quickchart('df-7bb2ebca-1467-4ba7-9d3c-1fd1b1ad17c5')\"\n",
              "            title=\"Suggest charts.\"\n",
              "            style=\"display:none;\">\n",
              "\n",
              "<svg xmlns=\"http://www.w3.org/2000/svg\" height=\"24px\"viewBox=\"0 0 24 24\"\n",
              "     width=\"24px\">\n",
              "    <g>\n",
              "        <path d=\"M19 3H5c-1.1 0-2 .9-2 2v14c0 1.1.9 2 2 2h14c1.1 0 2-.9 2-2V5c0-1.1-.9-2-2-2zM9 17H7v-7h2v7zm4 0h-2V7h2v10zm4 0h-2v-4h2v4z\"/>\n",
              "    </g>\n",
              "</svg>\n",
              "  </button>\n",
              "\n",
              "<style>\n",
              "  .colab-df-quickchart {\n",
              "      --bg-color: #E8F0FE;\n",
              "      --fill-color: #1967D2;\n",
              "      --hover-bg-color: #E2EBFA;\n",
              "      --hover-fill-color: #174EA6;\n",
              "      --disabled-fill-color: #AAA;\n",
              "      --disabled-bg-color: #DDD;\n",
              "  }\n",
              "\n",
              "  [theme=dark] .colab-df-quickchart {\n",
              "      --bg-color: #3B4455;\n",
              "      --fill-color: #D2E3FC;\n",
              "      --hover-bg-color: #434B5C;\n",
              "      --hover-fill-color: #FFFFFF;\n",
              "      --disabled-bg-color: #3B4455;\n",
              "      --disabled-fill-color: #666;\n",
              "  }\n",
              "\n",
              "  .colab-df-quickchart {\n",
              "    background-color: var(--bg-color);\n",
              "    border: none;\n",
              "    border-radius: 50%;\n",
              "    cursor: pointer;\n",
              "    display: none;\n",
              "    fill: var(--fill-color);\n",
              "    height: 32px;\n",
              "    padding: 0;\n",
              "    width: 32px;\n",
              "  }\n",
              "\n",
              "  .colab-df-quickchart:hover {\n",
              "    background-color: var(--hover-bg-color);\n",
              "    box-shadow: 0 1px 2px rgba(60, 64, 67, 0.3), 0 1px 3px 1px rgba(60, 64, 67, 0.15);\n",
              "    fill: var(--button-hover-fill-color);\n",
              "  }\n",
              "\n",
              "  .colab-df-quickchart-complete:disabled,\n",
              "  .colab-df-quickchart-complete:disabled:hover {\n",
              "    background-color: var(--disabled-bg-color);\n",
              "    fill: var(--disabled-fill-color);\n",
              "    box-shadow: none;\n",
              "  }\n",
              "\n",
              "  .colab-df-spinner {\n",
              "    border: 2px solid var(--fill-color);\n",
              "    border-color: transparent;\n",
              "    border-bottom-color: var(--fill-color);\n",
              "    animation:\n",
              "      spin 1s steps(1) infinite;\n",
              "  }\n",
              "\n",
              "  @keyframes spin {\n",
              "    0% {\n",
              "      border-color: transparent;\n",
              "      border-bottom-color: var(--fill-color);\n",
              "      border-left-color: var(--fill-color);\n",
              "    }\n",
              "    20% {\n",
              "      border-color: transparent;\n",
              "      border-left-color: var(--fill-color);\n",
              "      border-top-color: var(--fill-color);\n",
              "    }\n",
              "    30% {\n",
              "      border-color: transparent;\n",
              "      border-left-color: var(--fill-color);\n",
              "      border-top-color: var(--fill-color);\n",
              "      border-right-color: var(--fill-color);\n",
              "    }\n",
              "    40% {\n",
              "      border-color: transparent;\n",
              "      border-right-color: var(--fill-color);\n",
              "      border-top-color: var(--fill-color);\n",
              "    }\n",
              "    60% {\n",
              "      border-color: transparent;\n",
              "      border-right-color: var(--fill-color);\n",
              "    }\n",
              "    80% {\n",
              "      border-color: transparent;\n",
              "      border-right-color: var(--fill-color);\n",
              "      border-bottom-color: var(--fill-color);\n",
              "    }\n",
              "    90% {\n",
              "      border-color: transparent;\n",
              "      border-bottom-color: var(--fill-color);\n",
              "    }\n",
              "  }\n",
              "</style>\n",
              "\n",
              "  <script>\n",
              "    async function quickchart(key) {\n",
              "      const quickchartButtonEl =\n",
              "        document.querySelector('#' + key + ' button');\n",
              "      quickchartButtonEl.disabled = true;  // To prevent multiple clicks.\n",
              "      quickchartButtonEl.classList.add('colab-df-spinner');\n",
              "      try {\n",
              "        const charts = await google.colab.kernel.invokeFunction(\n",
              "            'suggestCharts', [key], {});\n",
              "      } catch (error) {\n",
              "        console.error('Error during call to suggestCharts:', error);\n",
              "      }\n",
              "      quickchartButtonEl.classList.remove('colab-df-spinner');\n",
              "      quickchartButtonEl.classList.add('colab-df-quickchart-complete');\n",
              "    }\n",
              "    (() => {\n",
              "      let quickchartButtonEl =\n",
              "        document.querySelector('#df-7bb2ebca-1467-4ba7-9d3c-1fd1b1ad17c5 button');\n",
              "      quickchartButtonEl.style.display =\n",
              "        google.colab.kernel.accessAllowed ? 'block' : 'none';\n",
              "    })();\n",
              "  </script>\n",
              "</div>\n",
              "    </div>\n",
              "  </div>\n"
            ]
          },
          "metadata": {},
          "execution_count": 47
        }
      ]
    },
    {
      "cell_type": "code",
      "source": [
        "ds_resultados.to_csv(\"prediccion_logisticregression_hotel.csv\", index = False)"
      ],
      "metadata": {
        "id": "2bcAE3srXr_7"
      },
      "execution_count": null,
      "outputs": []
    },
    {
      "cell_type": "markdown",
      "source": [
        "####Performance del ensamble"
      ],
      "metadata": {
        "id": "LxLtE1uSWU5Y"
      }
    },
    {
      "cell_type": "code",
      "source": [
        "from sklearn.ensemble import StackingClassifier\n",
        "\n",
        "#Modelos Base\n",
        "base_models = [('random_forest', RandomForestClassifier(n_estimators=50)),\n",
        "               ('svm', SVC()),\n",
        "               ('knn', KNeighborsClassifier(n_neighbors=11))]\n",
        "\n",
        "#Meta Modelo\n",
        "meta_model = LogisticRegressionCV()\n",
        "\n",
        "#Ensemble Stacking\n",
        "stacking_model = StackingClassifier(estimators=base_models,\n",
        "                                    final_estimator=meta_model,\n",
        "                                    passthrough=True,\n",
        "                                    cv=5,\n",
        "                                    verbose=2)"
      ],
      "metadata": {
        "id": "5f5BaM07aRH3"
      },
      "execution_count": null,
      "outputs": []
    },
    {
      "cell_type": "code",
      "source": [
        "#Performance el modelo en entrenamiento\n",
        "stacking_scores = evaluate_model(stacking_model, x_train, y_train)\n",
        "model_scores['stacking'] = stacking_scores"
      ],
      "metadata": {
        "colab": {
          "base_uri": "https://localhost:8080/"
        },
        "id": "rBJ-OYP8aoGu",
        "outputId": "72d9455e-4341-40b0-aa28-adf01fc9c693"
      },
      "execution_count": null,
      "outputs": [
        {
          "output_type": "stream",
          "name": "stderr",
          "text": [
            "[Parallel(n_jobs=3)]: Using backend LokyBackend with 3 concurrent workers.\n",
            "[Parallel(n_jobs=3)]: Done  10 out of  10 | elapsed: 92.7min finished\n"
          ]
        }
      ]
    },
    {
      "cell_type": "code",
      "source": [
        "#Grafico performance\n",
        "plot_results(model_scores, name='stacking_model_cv')"
      ],
      "metadata": {
        "colab": {
          "base_uri": "https://localhost:8080/",
          "height": 542
        },
        "id": "ijQJJcJIayzo",
        "outputId": "eaf7bcf5-b8d5-465b-e4df-e6acf7836b88"
      },
      "execution_count": null,
      "outputs": [
        {
          "output_type": "display_data",
          "data": {
            "text/html": [
              "<html>\n",
              "<head><meta charset=\"utf-8\" /></head>\n",
              "<body>\n",
              "    <div>            <script src=\"https://cdnjs.cloudflare.com/ajax/libs/mathjax/2.7.5/MathJax.js?config=TeX-AMS-MML_SVG\"></script><script type=\"text/javascript\">if (window.MathJax && window.MathJax.Hub && window.MathJax.Hub.Config) {window.MathJax.Hub.Config({SVG: {font: \"STIX-Web\"}});}</script>                <script type=\"text/javascript\">window.PlotlyConfig = {MathJaxConfig: 'local'};</script>\n",
              "        <script charset=\"utf-8\" src=\"https://cdn.plot.ly/plotly-2.24.1.min.js\"></script>                <div id=\"caf33e1e-a7a3-4e6f-9461-302c27b8f48a\" class=\"plotly-graph-div\" style=\"height:525px; width:100%;\"></div>            <script type=\"text/javascript\">                                    window.PLOTLYENV=window.PLOTLYENV || {};                                    if (document.getElementById(\"caf33e1e-a7a3-4e6f-9461-302c27b8f48a\")) {                    Plotly.newPlot(                        \"caf33e1e-a7a3-4e6f-9461-302c27b8f48a\",                        [{\"boxpoints\":\"all\",\"jitter\":0.5,\"line\":{\"width\":1},\"marker\":{\"size\":2},\"name\":\"random_forest\",\"whiskerwidth\":0.2,\"y\":[0.8380246913580247,0.8455555555555555,0.8404938271604938,0.8465432098765432,0.8469135802469135,0.8507407407407407,0.8334567901234567,0.8422222222222222,0.8437037037037037,0.8437037037037037],\"type\":\"box\"},{\"boxpoints\":\"all\",\"jitter\":0.5,\"line\":{\"width\":1},\"marker\":{\"size\":2},\"name\":\"svm\",\"whiskerwidth\":0.2,\"y\":[0.6112345679012345,0.6101234567901235,0.6101234567901235,0.6164197530864197,0.6181481481481481,0.6108641975308642,0.614320987654321,0.6129629629629629,0.6139506172839506,0.6160493827160494],\"type\":\"box\"},{\"boxpoints\":\"all\",\"jitter\":0.5,\"line\":{\"width\":1},\"marker\":{\"size\":2},\"name\":\"knn\",\"whiskerwidth\":0.2,\"y\":[0.6961728395061728,0.7053086419753086,0.7101234567901235,0.7019753086419753,0.7053086419753086,0.7097530864197531,0.7035802469135802,0.7045679012345679,0.7058024691358025,0.7148148148148148],\"type\":\"box\"},{\"boxpoints\":\"all\",\"jitter\":0.5,\"line\":{\"width\":1},\"marker\":{\"size\":2},\"name\":\"stacking\",\"whiskerwidth\":0.2,\"y\":[0.8277777777777777,0.84,0.8408641975308642,0.8423456790123457,0.8390123456790124,0.8430864197530864,0.8328395061728395,0.8403703703703703,0.8408641975308642,0.8420987654320987],\"type\":\"box\"}],                        {\"template\":{\"data\":{\"histogram2dcontour\":[{\"type\":\"histogram2dcontour\",\"colorbar\":{\"outlinewidth\":0,\"ticks\":\"\"},\"colorscale\":[[0.0,\"#0d0887\"],[0.1111111111111111,\"#46039f\"],[0.2222222222222222,\"#7201a8\"],[0.3333333333333333,\"#9c179e\"],[0.4444444444444444,\"#bd3786\"],[0.5555555555555556,\"#d8576b\"],[0.6666666666666666,\"#ed7953\"],[0.7777777777777778,\"#fb9f3a\"],[0.8888888888888888,\"#fdca26\"],[1.0,\"#f0f921\"]]}],\"choropleth\":[{\"type\":\"choropleth\",\"colorbar\":{\"outlinewidth\":0,\"ticks\":\"\"}}],\"histogram2d\":[{\"type\":\"histogram2d\",\"colorbar\":{\"outlinewidth\":0,\"ticks\":\"\"},\"colorscale\":[[0.0,\"#0d0887\"],[0.1111111111111111,\"#46039f\"],[0.2222222222222222,\"#7201a8\"],[0.3333333333333333,\"#9c179e\"],[0.4444444444444444,\"#bd3786\"],[0.5555555555555556,\"#d8576b\"],[0.6666666666666666,\"#ed7953\"],[0.7777777777777778,\"#fb9f3a\"],[0.8888888888888888,\"#fdca26\"],[1.0,\"#f0f921\"]]}],\"heatmap\":[{\"type\":\"heatmap\",\"colorbar\":{\"outlinewidth\":0,\"ticks\":\"\"},\"colorscale\":[[0.0,\"#0d0887\"],[0.1111111111111111,\"#46039f\"],[0.2222222222222222,\"#7201a8\"],[0.3333333333333333,\"#9c179e\"],[0.4444444444444444,\"#bd3786\"],[0.5555555555555556,\"#d8576b\"],[0.6666666666666666,\"#ed7953\"],[0.7777777777777778,\"#fb9f3a\"],[0.8888888888888888,\"#fdca26\"],[1.0,\"#f0f921\"]]}],\"heatmapgl\":[{\"type\":\"heatmapgl\",\"colorbar\":{\"outlinewidth\":0,\"ticks\":\"\"},\"colorscale\":[[0.0,\"#0d0887\"],[0.1111111111111111,\"#46039f\"],[0.2222222222222222,\"#7201a8\"],[0.3333333333333333,\"#9c179e\"],[0.4444444444444444,\"#bd3786\"],[0.5555555555555556,\"#d8576b\"],[0.6666666666666666,\"#ed7953\"],[0.7777777777777778,\"#fb9f3a\"],[0.8888888888888888,\"#fdca26\"],[1.0,\"#f0f921\"]]}],\"contourcarpet\":[{\"type\":\"contourcarpet\",\"colorbar\":{\"outlinewidth\":0,\"ticks\":\"\"}}],\"contour\":[{\"type\":\"contour\",\"colorbar\":{\"outlinewidth\":0,\"ticks\":\"\"},\"colorscale\":[[0.0,\"#0d0887\"],[0.1111111111111111,\"#46039f\"],[0.2222222222222222,\"#7201a8\"],[0.3333333333333333,\"#9c179e\"],[0.4444444444444444,\"#bd3786\"],[0.5555555555555556,\"#d8576b\"],[0.6666666666666666,\"#ed7953\"],[0.7777777777777778,\"#fb9f3a\"],[0.8888888888888888,\"#fdca26\"],[1.0,\"#f0f921\"]]}],\"surface\":[{\"type\":\"surface\",\"colorbar\":{\"outlinewidth\":0,\"ticks\":\"\"},\"colorscale\":[[0.0,\"#0d0887\"],[0.1111111111111111,\"#46039f\"],[0.2222222222222222,\"#7201a8\"],[0.3333333333333333,\"#9c179e\"],[0.4444444444444444,\"#bd3786\"],[0.5555555555555556,\"#d8576b\"],[0.6666666666666666,\"#ed7953\"],[0.7777777777777778,\"#fb9f3a\"],[0.8888888888888888,\"#fdca26\"],[1.0,\"#f0f921\"]]}],\"mesh3d\":[{\"type\":\"mesh3d\",\"colorbar\":{\"outlinewidth\":0,\"ticks\":\"\"}}],\"scatter\":[{\"fillpattern\":{\"fillmode\":\"overlay\",\"size\":10,\"solidity\":0.2},\"type\":\"scatter\"}],\"parcoords\":[{\"type\":\"parcoords\",\"line\":{\"colorbar\":{\"outlinewidth\":0,\"ticks\":\"\"}}}],\"scatterpolargl\":[{\"type\":\"scatterpolargl\",\"marker\":{\"colorbar\":{\"outlinewidth\":0,\"ticks\":\"\"}}}],\"bar\":[{\"error_x\":{\"color\":\"#2a3f5f\"},\"error_y\":{\"color\":\"#2a3f5f\"},\"marker\":{\"line\":{\"color\":\"#E5ECF6\",\"width\":0.5},\"pattern\":{\"fillmode\":\"overlay\",\"size\":10,\"solidity\":0.2}},\"type\":\"bar\"}],\"scattergeo\":[{\"type\":\"scattergeo\",\"marker\":{\"colorbar\":{\"outlinewidth\":0,\"ticks\":\"\"}}}],\"scatterpolar\":[{\"type\":\"scatterpolar\",\"marker\":{\"colorbar\":{\"outlinewidth\":0,\"ticks\":\"\"}}}],\"histogram\":[{\"marker\":{\"pattern\":{\"fillmode\":\"overlay\",\"size\":10,\"solidity\":0.2}},\"type\":\"histogram\"}],\"scattergl\":[{\"type\":\"scattergl\",\"marker\":{\"colorbar\":{\"outlinewidth\":0,\"ticks\":\"\"}}}],\"scatter3d\":[{\"type\":\"scatter3d\",\"line\":{\"colorbar\":{\"outlinewidth\":0,\"ticks\":\"\"}},\"marker\":{\"colorbar\":{\"outlinewidth\":0,\"ticks\":\"\"}}}],\"scattermapbox\":[{\"type\":\"scattermapbox\",\"marker\":{\"colorbar\":{\"outlinewidth\":0,\"ticks\":\"\"}}}],\"scatterternary\":[{\"type\":\"scatterternary\",\"marker\":{\"colorbar\":{\"outlinewidth\":0,\"ticks\":\"\"}}}],\"scattercarpet\":[{\"type\":\"scattercarpet\",\"marker\":{\"colorbar\":{\"outlinewidth\":0,\"ticks\":\"\"}}}],\"carpet\":[{\"aaxis\":{\"endlinecolor\":\"#2a3f5f\",\"gridcolor\":\"white\",\"linecolor\":\"white\",\"minorgridcolor\":\"white\",\"startlinecolor\":\"#2a3f5f\"},\"baxis\":{\"endlinecolor\":\"#2a3f5f\",\"gridcolor\":\"white\",\"linecolor\":\"white\",\"minorgridcolor\":\"white\",\"startlinecolor\":\"#2a3f5f\"},\"type\":\"carpet\"}],\"table\":[{\"cells\":{\"fill\":{\"color\":\"#EBF0F8\"},\"line\":{\"color\":\"white\"}},\"header\":{\"fill\":{\"color\":\"#C8D4E3\"},\"line\":{\"color\":\"white\"}},\"type\":\"table\"}],\"barpolar\":[{\"marker\":{\"line\":{\"color\":\"#E5ECF6\",\"width\":0.5},\"pattern\":{\"fillmode\":\"overlay\",\"size\":10,\"solidity\":0.2}},\"type\":\"barpolar\"}],\"pie\":[{\"automargin\":true,\"type\":\"pie\"}]},\"layout\":{\"autotypenumbers\":\"strict\",\"colorway\":[\"#636efa\",\"#EF553B\",\"#00cc96\",\"#ab63fa\",\"#FFA15A\",\"#19d3f3\",\"#FF6692\",\"#B6E880\",\"#FF97FF\",\"#FECB52\"],\"font\":{\"color\":\"#2a3f5f\"},\"hovermode\":\"closest\",\"hoverlabel\":{\"align\":\"left\"},\"paper_bgcolor\":\"white\",\"plot_bgcolor\":\"#E5ECF6\",\"polar\":{\"bgcolor\":\"#E5ECF6\",\"angularaxis\":{\"gridcolor\":\"white\",\"linecolor\":\"white\",\"ticks\":\"\"},\"radialaxis\":{\"gridcolor\":\"white\",\"linecolor\":\"white\",\"ticks\":\"\"}},\"ternary\":{\"bgcolor\":\"#E5ECF6\",\"aaxis\":{\"gridcolor\":\"white\",\"linecolor\":\"white\",\"ticks\":\"\"},\"baxis\":{\"gridcolor\":\"white\",\"linecolor\":\"white\",\"ticks\":\"\"},\"caxis\":{\"gridcolor\":\"white\",\"linecolor\":\"white\",\"ticks\":\"\"}},\"coloraxis\":{\"colorbar\":{\"outlinewidth\":0,\"ticks\":\"\"}},\"colorscale\":{\"sequential\":[[0.0,\"#0d0887\"],[0.1111111111111111,\"#46039f\"],[0.2222222222222222,\"#7201a8\"],[0.3333333333333333,\"#9c179e\"],[0.4444444444444444,\"#bd3786\"],[0.5555555555555556,\"#d8576b\"],[0.6666666666666666,\"#ed7953\"],[0.7777777777777778,\"#fb9f3a\"],[0.8888888888888888,\"#fdca26\"],[1.0,\"#f0f921\"]],\"sequentialminus\":[[0.0,\"#0d0887\"],[0.1111111111111111,\"#46039f\"],[0.2222222222222222,\"#7201a8\"],[0.3333333333333333,\"#9c179e\"],[0.4444444444444444,\"#bd3786\"],[0.5555555555555556,\"#d8576b\"],[0.6666666666666666,\"#ed7953\"],[0.7777777777777778,\"#fb9f3a\"],[0.8888888888888888,\"#fdca26\"],[1.0,\"#f0f921\"]],\"diverging\":[[0,\"#8e0152\"],[0.1,\"#c51b7d\"],[0.2,\"#de77ae\"],[0.3,\"#f1b6da\"],[0.4,\"#fde0ef\"],[0.5,\"#f7f7f7\"],[0.6,\"#e6f5d0\"],[0.7,\"#b8e186\"],[0.8,\"#7fbc41\"],[0.9,\"#4d9221\"],[1,\"#276419\"]]},\"xaxis\":{\"gridcolor\":\"white\",\"linecolor\":\"white\",\"ticks\":\"\",\"title\":{\"standoff\":15},\"zerolinecolor\":\"white\",\"automargin\":true,\"zerolinewidth\":2},\"yaxis\":{\"gridcolor\":\"white\",\"linecolor\":\"white\",\"ticks\":\"\",\"title\":{\"standoff\":15},\"zerolinecolor\":\"white\",\"automargin\":true,\"zerolinewidth\":2},\"scene\":{\"xaxis\":{\"backgroundcolor\":\"#E5ECF6\",\"gridcolor\":\"white\",\"linecolor\":\"white\",\"showbackground\":true,\"ticks\":\"\",\"zerolinecolor\":\"white\",\"gridwidth\":2},\"yaxis\":{\"backgroundcolor\":\"#E5ECF6\",\"gridcolor\":\"white\",\"linecolor\":\"white\",\"showbackground\":true,\"ticks\":\"\",\"zerolinecolor\":\"white\",\"gridwidth\":2},\"zaxis\":{\"backgroundcolor\":\"#E5ECF6\",\"gridcolor\":\"white\",\"linecolor\":\"white\",\"showbackground\":true,\"ticks\":\"\",\"zerolinecolor\":\"white\",\"gridwidth\":2}},\"shapedefaults\":{\"line\":{\"color\":\"#2a3f5f\"}},\"annotationdefaults\":{\"arrowcolor\":\"#2a3f5f\",\"arrowhead\":0,\"arrowwidth\":1},\"geo\":{\"bgcolor\":\"white\",\"landcolor\":\"#E5ECF6\",\"subunitcolor\":\"white\",\"showland\":true,\"showlakes\":true,\"lakecolor\":\"white\"},\"title\":{\"x\":0.05},\"mapbox\":{\"style\":\"light\"}}},\"title\":{\"text\":\"Performance of Different Models Using 5-Fold Cross-Validation\"},\"paper_bgcolor\":\"rgb(243, 243, 243)\",\"plot_bgcolor\":\"rgb(243, 243, 243)\",\"xaxis\":{\"title\":{\"text\":\"Model\"}},\"yaxis\":{\"title\":{\"text\":\"Accuracy\"}},\"showlegend\":false},                        {\"responsive\": true}                    ).then(function(){\n",
              "                            \n",
              "var gd = document.getElementById('caf33e1e-a7a3-4e6f-9461-302c27b8f48a');\n",
              "var x = new MutationObserver(function (mutations, observer) {{\n",
              "        var display = window.getComputedStyle(gd).display;\n",
              "        if (!display || display === 'none') {{\n",
              "            console.log([gd, 'removed!']);\n",
              "            Plotly.purge(gd);\n",
              "            observer.disconnect();\n",
              "        }}\n",
              "}});\n",
              "\n",
              "// Listen for the removal of the full notebook cells\n",
              "var notebookContainer = gd.closest('#notebook-container');\n",
              "if (notebookContainer) {{\n",
              "    x.observe(notebookContainer, {childList: true});\n",
              "}}\n",
              "\n",
              "// Listen for the clearing of the current output cell\n",
              "var outputEl = gd.closest('.output');\n",
              "if (outputEl) {{\n",
              "    x.observe(outputEl, {childList: true});\n",
              "}}\n",
              "\n",
              "                        })                };                            </script>        </div>\n",
              "</body>\n",
              "</html>"
            ]
          },
          "metadata": {}
        }
      ]
    },
    {
      "cell_type": "code",
      "source": [
        "#Evaluo en conjunto de test\n",
        "stacking_model.fit(x_train,y_train)\n",
        "y_pred = stacking_model.predict(x_test)\n",
        "metricas(y_pred,y_test)"
      ],
      "metadata": {
        "colab": {
          "base_uri": "https://localhost:8080/",
          "height": 605
        },
        "id": "w7cjJgj13yie",
        "outputId": "61cdb0c1-d1eb-4a1e-ea61-194d4e42ea65"
      },
      "execution_count": null,
      "outputs": [
        {
          "output_type": "stream",
          "name": "stdout",
          "text": [
            "              precision    recall  f1-score   support\n",
            "\n",
            "           0       0.83      0.87      0.85      8831\n",
            "           1       0.86      0.82      0.84      8527\n",
            "\n",
            "    accuracy                           0.85     17358\n",
            "   macro avg       0.85      0.85      0.85     17358\n",
            "weighted avg       0.85      0.85      0.85     17358\n",
            "\n"
          ]
        },
        {
          "output_type": "display_data",
          "data": {
            "text/plain": [
              "<Figure size 640x480 with 2 Axes>"
            ],
            "image/png": "[encoded data removed]"
          },
          "metadata": {}
        }
      ]
    },
    {
      "cell_type": "code",
      "source": [
        "y_pred = stacking_model.predict(df_test)"
      ],
      "metadata": {
        "id": "NV8pWPjc_FZT"
      },
      "execution_count": null,
      "outputs": []
    },
    {
      "cell_type": "code",
      "source": [
        "ds_resultados=pd.DataFrame(zip(df_id['id'],y_pred),columns=['id','is_canceled'])\n",
        "ds_resultados.head(5)"
      ],
      "metadata": {
        "colab": {
          "base_uri": "https://localhost:8080/",
          "height": 206
        },
        "outputId": "8c35d4a9-29ec-4bb2-bcbb-f546eab7edd2",
        "id": "pkfGDy-l_FZU"
      },
      "execution_count": null,
      "outputs": [
        {
          "output_type": "execute_result",
          "data": {
            "text/plain": [
              "                                     id  is_canceled\n",
              "0  e6d0d58a-ab96-44d3-b28f-85df1cc15f1e            1\n",
              "1  aba9aac2-4495-4645-a60e-90328713c999            1\n",
              "2  b345b5dc-c804-4d77-a39f-1f4e65d1f1ad            0\n",
              "3  ce1b400e-afa1-4946-bdff-004b859eb61c            1\n",
              "4  c4fbec0d-8e2e-4db2-9d4f-a6ccb9f51214            1"
            ],
            "text/html": [
              "\n",
              "  <div id=\"df-9ab43c02-752c-4efa-b109-499886ae8f01\" class=\"colab-df-container\">\n",
              "    <div>\n",
              "<style scoped>\n",
              "    .dataframe tbody tr th:only-of-type {\n",
              "        vertical-align: middle;\n",
              "    }\n",
              "\n",
              "    .dataframe tbody tr th {\n",
              "        vertical-align: top;\n",
              "    }\n",
              "\n",
              "    .dataframe thead th {\n",
              "        text-align: right;\n",
              "    }\n",
              "</style>\n",
              "<table border=\"1\" class=\"dataframe\">\n",
              "  <thead>\n",
              "    <tr style=\"text-align: right;\">\n",
              "      <th></th>\n",
              "      <th>id</th>\n",
              "      <th>is_canceled</th>\n",
              "    </tr>\n",
              "  </thead>\n",
              "  <tbody>\n",
              "    <tr>\n",
              "      <th>0</th>\n",
              "      <td>e6d0d58a-ab96-44d3-b28f-85df1cc15f1e</td>\n",
              "      <td>1</td>\n",
              "    </tr>\n",
              "    <tr>\n",
              "      <th>1</th>\n",
              "      <td>aba9aac2-4495-4645-a60e-90328713c999</td>\n",
              "      <td>1</td>\n",
              "    </tr>\n",
              "    <tr>\n",
              "      <th>2</th>\n",
              "      <td>b345b5dc-c804-4d77-a39f-1f4e65d1f1ad</td>\n",
              "      <td>0</td>\n",
              "    </tr>\n",
              "    <tr>\n",
              "      <th>3</th>\n",
              "      <td>ce1b400e-afa1-4946-bdff-004b859eb61c</td>\n",
              "      <td>1</td>\n",
              "    </tr>\n",
              "    <tr>\n",
              "      <th>4</th>\n",
              "      <td>c4fbec0d-8e2e-4db2-9d4f-a6ccb9f51214</td>\n",
              "      <td>1</td>\n",
              "    </tr>\n",
              "  </tbody>\n",
              "</table>\n",
              "</div>\n",
              "    <div class=\"colab-df-buttons\">\n",
              "\n",
              "  <div class=\"colab-df-container\">\n",
              "    <button class=\"colab-df-convert\" onclick=\"convertToInteractive('df-9ab43c02-752c-4efa-b109-499886ae8f01')\"\n",
              "            title=\"Convert this dataframe to an interactive table.\"\n",
              "            style=\"display:none;\">\n",
              "\n",
              "  <svg xmlns=\"http://www.w3.org/2000/svg\" height=\"24px\" viewBox=\"0 -960 960 960\">\n",
              "    <path d=\"M120-120v-720h720v720H120Zm60-500h600v-160H180v160Zm220 220h160v-160H400v160Zm0 220h160v-160H400v160ZM180-400h160v-160H180v160Zm440 0h160v-160H620v160ZM180-180h160v-160H180v160Zm440 0h160v-160H620v160Z\"/>\n",
              "  </svg>\n",
              "    </button>\n",
              "\n",
              "  <style>\n",
              "    .colab-df-container {\n",
              "      display:flex;\n",
              "      gap: 12px;\n",
              "    }\n",
              "\n",
              "    .colab-df-convert {\n",
              "      background-color: #E8F0FE;\n",
              "      border: none;\n",
              "      border-radius: 50%;\n",
              "      cursor: pointer;\n",
              "      display: none;\n",
              "      fill: #1967D2;\n",
              "      height: 32px;\n",
              "      padding: 0 0 0 0;\n",
              "      width: 32px;\n",
              "    }\n",
              "\n",
              "    .colab-df-convert:hover {\n",
              "      background-color: #E2EBFA;\n",
              "      box-shadow: 0px 1px 2px rgba(60, 64, 67, 0.3), 0px 1px 3px 1px rgba(60, 64, 67, 0.15);\n",
              "      fill: #174EA6;\n",
              "    }\n",
              "\n",
              "    .colab-df-buttons div {\n",
              "      margin-bottom: 4px;\n",
              "    }\n",
              "\n",
              "    [theme=dark] .colab-df-convert {\n",
              "      background-color: #3B4455;\n",
              "      fill: #D2E3FC;\n",
              "    }\n",
              "\n",
              "    [theme=dark] .colab-df-convert:hover {\n",
              "      background-color: #434B5C;\n",
              "      box-shadow: 0px 1px 3px 1px rgba(0, 0, 0, 0.15);\n",
              "      filter: drop-shadow(0px 1px 2px rgba(0, 0, 0, 0.3));\n",
              "      fill: #FFFFFF;\n",
              "    }\n",
              "  </style>\n",
              "\n",
              "    <script>\n",
              "      const buttonEl =\n",
              "        document.querySelector('#df-9ab43c02-752c-4efa-b109-499886ae8f01 button.colab-df-convert');\n",
              "      buttonEl.style.display =\n",
              "        google.colab.kernel.accessAllowed ? 'block' : 'none';\n",
              "\n",
              "      async function convertToInteractive(key) {\n",
              "        const element = document.querySelector('#df-9ab43c02-752c-4efa-b109-499886ae8f01');\n",
              "        const dataTable =\n",
              "          await google.colab.kernel.invokeFunction('convertToInteractive',\n",
              "                                                    [key], {});\n",
              "        if (!dataTable) return;\n",
              "\n",
              "        const docLinkHtml = 'Like what you see? Visit the ' +\n",
              "          '<a target=\"_blank\" href=https://colab.research.google.com/notebooks/data_table.ipynb>data table notebook</a>'\n",
              "          + ' to learn more about interactive tables.';\n",
              "        element.innerHTML = '';\n",
              "        dataTable['output_type'] = 'display_data';\n",
              "        await google.colab.output.renderOutput(dataTable, element);\n",
              "        const docLink = document.createElement('div');\n",
              "        docLink.innerHTML = docLinkHtml;\n",
              "        element.appendChild(docLink);\n",
              "      }\n",
              "    </script>\n",
              "  </div>\n",
              "\n",
              "\n",
              "<div id=\"df-4674aa11-c11f-488c-afd0-9316a42c4131\">\n",
              "  <button class=\"colab-df-quickchart\" onclick=\"quickchart('df-4674aa11-c11f-488c-afd0-9316a42c4131')\"\n",
              "            title=\"Suggest charts.\"\n",
              "            style=\"display:none;\">\n",
              "\n",
              "<svg xmlns=\"http://www.w3.org/2000/svg\" height=\"24px\"viewBox=\"0 0 24 24\"\n",
              "     width=\"24px\">\n",
              "    <g>\n",
              "        <path d=\"M19 3H5c-1.1 0-2 .9-2 2v14c0 1.1.9 2 2 2h14c1.1 0 2-.9 2-2V5c0-1.1-.9-2-2-2zM9 17H7v-7h2v7zm4 0h-2V7h2v10zm4 0h-2v-4h2v4z\"/>\n",
              "    </g>\n",
              "</svg>\n",
              "  </button>\n",
              "\n",
              "<style>\n",
              "  .colab-df-quickchart {\n",
              "      --bg-color: #E8F0FE;\n",
              "      --fill-color: #1967D2;\n",
              "      --hover-bg-color: #E2EBFA;\n",
              "      --hover-fill-color: #174EA6;\n",
              "      --disabled-fill-color: #AAA;\n",
              "      --disabled-bg-color: #DDD;\n",
              "  }\n",
              "\n",
              "  [theme=dark] .colab-df-quickchart {\n",
              "      --bg-color: #3B4455;\n",
              "      --fill-color: #D2E3FC;\n",
              "      --hover-bg-color: #434B5C;\n",
              "      --hover-fill-color: #FFFFFF;\n",
              "      --disabled-bg-color: #3B4455;\n",
              "      --disabled-fill-color: #666;\n",
              "  }\n",
              "\n",
              "  .colab-df-quickchart {\n",
              "    background-color: var(--bg-color);\n",
              "    border: none;\n",
              "    border-radius: 50%;\n",
              "    cursor: pointer;\n",
              "    display: none;\n",
              "    fill: var(--fill-color);\n",
              "    height: 32px;\n",
              "    padding: 0;\n",
              "    width: 32px;\n",
              "  }\n",
              "\n",
              "  .colab-df-quickchart:hover {\n",
              "    background-color: var(--hover-bg-color);\n",
              "    box-shadow: 0 1px 2px rgba(60, 64, 67, 0.3), 0 1px 3px 1px rgba(60, 64, 67, 0.15);\n",
              "    fill: var(--button-hover-fill-color);\n",
              "  }\n",
              "\n",
              "  .colab-df-quickchart-complete:disabled,\n",
              "  .colab-df-quickchart-complete:disabled:hover {\n",
              "    background-color: var(--disabled-bg-color);\n",
              "    fill: var(--disabled-fill-color);\n",
              "    box-shadow: none;\n",
              "  }\n",
              "\n",
              "  .colab-df-spinner {\n",
              "    border: 2px solid var(--fill-color);\n",
              "    border-color: transparent;\n",
              "    border-bottom-color: var(--fill-color);\n",
              "    animation:\n",
              "      spin 1s steps(1) infinite;\n",
              "  }\n",
              "\n",
              "  @keyframes spin {\n",
              "    0% {\n",
              "      border-color: transparent;\n",
              "      border-bottom-color: var(--fill-color);\n",
              "      border-left-color: var(--fill-color);\n",
              "    }\n",
              "    20% {\n",
              "      border-color: transparent;\n",
              "      border-left-color: var(--fill-color);\n",
              "      border-top-color: var(--fill-color);\n",
              "    }\n",
              "    30% {\n",
              "      border-color: transparent;\n",
              "      border-left-color: var(--fill-color);\n",
              "      border-top-color: var(--fill-color);\n",
              "      border-right-color: var(--fill-color);\n",
              "    }\n",
              "    40% {\n",
              "      border-color: transparent;\n",
              "      border-right-color: var(--fill-color);\n",
              "      border-top-color: var(--fill-color);\n",
              "    }\n",
              "    60% {\n",
              "      border-color: transparent;\n",
              "      border-right-color: var(--fill-color);\n",
              "    }\n",
              "    80% {\n",
              "      border-color: transparent;\n",
              "      border-right-color: var(--fill-color);\n",
              "      border-bottom-color: var(--fill-color);\n",
              "    }\n",
              "    90% {\n",
              "      border-color: transparent;\n",
              "      border-bottom-color: var(--fill-color);\n",
              "    }\n",
              "  }\n",
              "</style>\n",
              "\n",
              "  <script>\n",
              "    async function quickchart(key) {\n",
              "      const quickchartButtonEl =\n",
              "        document.querySelector('#' + key + ' button');\n",
              "      quickchartButtonEl.disabled = true;  // To prevent multiple clicks.\n",
              "      quickchartButtonEl.classList.add('colab-df-spinner');\n",
              "      try {\n",
              "        const charts = await google.colab.kernel.invokeFunction(\n",
              "            'suggestCharts', [key], {});\n",
              "      } catch (error) {\n",
              "        console.error('Error during call to suggestCharts:', error);\n",
              "      }\n",
              "      quickchartButtonEl.classList.remove('colab-df-spinner');\n",
              "      quickchartButtonEl.classList.add('colab-df-quickchart-complete');\n",
              "    }\n",
              "    (() => {\n",
              "      let quickchartButtonEl =\n",
              "        document.querySelector('#df-4674aa11-c11f-488c-afd0-9316a42c4131 button');\n",
              "      quickchartButtonEl.style.display =\n",
              "        google.colab.kernel.accessAllowed ? 'block' : 'none';\n",
              "    })();\n",
              "  </script>\n",
              "</div>\n",
              "    </div>\n",
              "  </div>\n"
            ]
          },
          "metadata": {},
          "execution_count": 138
        }
      ]
    },
    {
      "cell_type": "code",
      "source": [
        "ds_resultados.to_csv(\"prediccion_stacking_hotel.csv\", index = False)"
      ],
      "metadata": {
        "id": "lu3ZL4Mr_FZV"
      },
      "execution_count": null,
      "outputs": []
    },
    {
      "cell_type": "markdown",
      "source": [
        "###Voting"
      ],
      "metadata": {
        "id": "qnKgcRI3xuGM"
      }
    },
    {
      "cell_type": "markdown",
      "source": [
        "Entrenar varios modelos distintos basados en el mismo dataset. La clasificación queda determinada por la mayoría."
      ],
      "metadata": {
        "id": "rUCL5cNJ4fTy"
      }
    },
    {
      "cell_type": "markdown",
      "source": [
        "El clasificador de votaciones tiene dos hiperparámetros básicos: estimadores y votaciones.\n",
        "\n",
        "El hiperparámetro estimators crea una lista los clasificadores y les asigna nombres.\n",
        "\n",
        "El hiperparámetro de votación se establece en \"hard\" o \"soft\".\n",
        "\n",
        "* hard: el clasificador de votación usa las etiquetas de clase predichas para la votación por regla de la mayoría.\n",
        "\n",
        "* soft: utilizará un enfoque ponderado para tomar su decisión (predice la etiqueta de clase en función del argmax de las sumas de las probabilidades predichas)"
      ],
      "metadata": {
        "id": "5GrBf4RbhzUo"
      }
    },
    {
      "cell_type": "code",
      "source": [
        "from sklearn.ensemble import RandomForestClassifier\n",
        "from sklearn.linear_model import LogisticRegression\n",
        "from sklearn.neighbors import KNeighborsClassifier\n",
        "from sklearn.ensemble import VotingClassifier\n",
        "from sklearn.model_selection import train_test_split\n",
        "from sklearn.metrics import accuracy_score\n",
        "from sklearn.metrics import f1_score"
      ],
      "metadata": {
        "id": "VMtNpKikhazK"
      },
      "execution_count": 5,
      "outputs": []
    },
    {
      "cell_type": "markdown",
      "source": [
        "Tomando en cuenta las correcciones otorgadas, utilizaremos como clasificadores:\n",
        "- Random Forest con los mejores hiperparámetros obtenidos.\n",
        "- XGBoost con los mejores hiperparámetros obtenidos.\n",
        "- KNN con los mejores hiperparámetros obtenidos."
      ],
      "metadata": {
        "id": "KmNxc3mEX-iA"
      }
    },
    {
      "cell_type": "code",
      "source": [
        "#Creo clasificadores con mejores hiperparámetros\n",
        "params_xgboost = {'subsample': 1.0, 'reg_lambda': 0.1, 'reg_alpha': 0.1, 'n_estimators': 198,\n",
        "                  'min_child_weight': 1, 'max_depth': 11, 'learning_rate': 0.1, 'colsample_bytree': 0.7}\n",
        "params_rf = {'n_estimators': 64, 'min_samples_split': 12, 'min_samples_leaf': 6, 'max_features': 'sqrt',\n",
        "           'criterion': 'gini', 'bootstrap': False}\n",
        "params_knn={'weights': 'distance', 'n_neighbors': 19, 'metric': 'manhattan', 'algorithm': 'brute'}\n",
        "\n",
        "xgb_clf =  xgb.XGBClassifier().set_params(**params_xgboost)\n",
        "rf_clf = RandomForestClassifier(**params_rf)\n",
        "knn_clf = KNeighborsClassifier(**params_knn)\n",
        "\n",
        "#Creo ensamble de Votación\n",
        "vot_clf = VotingClassifier(estimators = [('xgb', xgb_clf), ('rf', rf_clf), ('knn', knn_clf)], voting = 'hard')"
      ],
      "metadata": {
        "id": "XSl2CQ7w4XkW"
      },
      "execution_count": 6,
      "outputs": []
    },
    {
      "cell_type": "code",
      "source": [
        "#Evaluo en conjunto de test\n",
        "vot_clf.fit(x_train,y_train)\n",
        "y_pred = vot_clf.predict(x_test)\n",
        "metricas(y_pred,y_test)"
      ],
      "metadata": {
        "colab": {
          "base_uri": "https://localhost:8080/",
          "height": 605
        },
        "id": "swIM6a21KKaM",
        "outputId": "dad6450c-0610-4581-a84c-4539e387fa82"
      },
      "execution_count": 7,
      "outputs": [
        {
          "output_type": "stream",
          "name": "stdout",
          "text": [
            "              precision    recall  f1-score   support\n",
            "\n",
            "           0       0.84      0.87      0.86      8831\n",
            "           1       0.86      0.83      0.85      8527\n",
            "\n",
            "    accuracy                           0.85     17358\n",
            "   macro avg       0.85      0.85      0.85     17358\n",
            "weighted avg       0.85      0.85      0.85     17358\n",
            "\n"
          ]
        },
        {
          "output_type": "display_data",
          "data": {
            "text/plain": [
              "<Figure size 640x480 with 2 Axes>"
            ],
            "image/png": "[encoded data removed]"
          },
          "metadata": {}
        }
      ]
    },
    {
      "cell_type": "code",
      "source": [
        "y_pred = vot_clf.predict(df_test)"
      ],
      "metadata": {
        "id": "Ieg0t_hw_p2M"
      },
      "execution_count": 8,
      "outputs": []
    },
    {
      "cell_type": "code",
      "source": [
        "ds_resultados=pd.DataFrame(zip(df_id['id'],y_pred),columns=['id','is_canceled'])\n",
        "ds_resultados.head(5)"
      ],
      "metadata": {
        "colab": {
          "base_uri": "https://localhost:8080/",
          "height": 206
        },
        "outputId": "f7baa4ee-ac02-496b-ecf2-b1d3aa1150bd",
        "id": "HZxntASO_p2M"
      },
      "execution_count": 11,
      "outputs": [
        {
          "output_type": "execute_result",
          "data": {
            "text/plain": [
              "                                     id  is_canceled\n",
              "0  e6d0d58a-ab96-44d3-b28f-85df1cc15f1e            1\n",
              "1  aba9aac2-4495-4645-a60e-90328713c999            1\n",
              "2  b345b5dc-c804-4d77-a39f-1f4e65d1f1ad            0\n",
              "3  ce1b400e-afa1-4946-bdff-004b859eb61c            1\n",
              "4  c4fbec0d-8e2e-4db2-9d4f-a6ccb9f51214            1"
            ],
            "text/html": [
              "\n",
              "  <div id=\"df-5ffed049-b7c9-4f4a-8c75-80e32b1bcaa4\" class=\"colab-df-container\">\n",
              "    <div>\n",
              "<style scoped>\n",
              "    .dataframe tbody tr th:only-of-type {\n",
              "        vertical-align: middle;\n",
              "    }\n",
              "\n",
              "    .dataframe tbody tr th {\n",
              "        vertical-align: top;\n",
              "    }\n",
              "\n",
              "    .dataframe thead th {\n",
              "        text-align: right;\n",
              "    }\n",
              "</style>\n",
              "<table border=\"1\" class=\"dataframe\">\n",
              "  <thead>\n",
              "    <tr style=\"text-align: right;\">\n",
              "      <th></th>\n",
              "      <th>id</th>\n",
              "      <th>is_canceled</th>\n",
              "    </tr>\n",
              "  </thead>\n",
              "  <tbody>\n",
              "    <tr>\n",
              "      <th>0</th>\n",
              "      <td>e6d0d58a-ab96-44d3-b28f-85df1cc15f1e</td>\n",
              "      <td>1</td>\n",
              "    </tr>\n",
              "    <tr>\n",
              "      <th>1</th>\n",
              "      <td>aba9aac2-4495-4645-a60e-90328713c999</td>\n",
              "      <td>1</td>\n",
              "    </tr>\n",
              "    <tr>\n",
              "      <th>2</th>\n",
              "      <td>b345b5dc-c804-4d77-a39f-1f4e65d1f1ad</td>\n",
              "      <td>0</td>\n",
              "    </tr>\n",
              "    <tr>\n",
              "      <th>3</th>\n",
              "      <td>ce1b400e-afa1-4946-bdff-004b859eb61c</td>\n",
              "      <td>1</td>\n",
              "    </tr>\n",
              "    <tr>\n",
              "      <th>4</th>\n",
              "      <td>c4fbec0d-8e2e-4db2-9d4f-a6ccb9f51214</td>\n",
              "      <td>1</td>\n",
              "    </tr>\n",
              "  </tbody>\n",
              "</table>\n",
              "</div>\n",
              "    <div class=\"colab-df-buttons\">\n",
              "\n",
              "  <div class=\"colab-df-container\">\n",
              "    <button class=\"colab-df-convert\" onclick=\"convertToInteractive('df-5ffed049-b7c9-4f4a-8c75-80e32b1bcaa4')\"\n",
              "            title=\"Convert this dataframe to an interactive table.\"\n",
              "            style=\"display:none;\">\n",
              "\n",
              "  <svg xmlns=\"http://www.w3.org/2000/svg\" height=\"24px\" viewBox=\"0 -960 960 960\">\n",
              "    <path d=\"M120-120v-720h720v720H120Zm60-500h600v-160H180v160Zm220 220h160v-160H400v160Zm0 220h160v-160H400v160ZM180-400h160v-160H180v160Zm440 0h160v-160H620v160ZM180-180h160v-160H180v160Zm440 0h160v-160H620v160Z\"/>\n",
              "  </svg>\n",
              "    </button>\n",
              "\n",
              "  <style>\n",
              "    .colab-df-container {\n",
              "      display:flex;\n",
              "      gap: 12px;\n",
              "    }\n",
              "\n",
              "    .colab-df-convert {\n",
              "      background-color: #E8F0FE;\n",
              "      border: none;\n",
              "      border-radius: 50%;\n",
              "      cursor: pointer;\n",
              "      display: none;\n",
              "      fill: #1967D2;\n",
              "      height: 32px;\n",
              "      padding: 0 0 0 0;\n",
              "      width: 32px;\n",
              "    }\n",
              "\n",
              "    .colab-df-convert:hover {\n",
              "      background-color: #E2EBFA;\n",
              "      box-shadow: 0px 1px 2px rgba(60, 64, 67, 0.3), 0px 1px 3px 1px rgba(60, 64, 67, 0.15);\n",
              "      fill: #174EA6;\n",
              "    }\n",
              "\n",
              "    .colab-df-buttons div {\n",
              "      margin-bottom: 4px;\n",
              "    }\n",
              "\n",
              "    [theme=dark] .colab-df-convert {\n",
              "      background-color: #3B4455;\n",
              "      fill: #D2E3FC;\n",
              "    }\n",
              "\n",
              "    [theme=dark] .colab-df-convert:hover {\n",
              "      background-color: #434B5C;\n",
              "      box-shadow: 0px 1px 3px 1px rgba(0, 0, 0, 0.15);\n",
              "      filter: drop-shadow(0px 1px 2px rgba(0, 0, 0, 0.3));\n",
              "      fill: #FFFFFF;\n",
              "    }\n",
              "  </style>\n",
              "\n",
              "    <script>\n",
              "      const buttonEl =\n",
              "        document.querySelector('#df-5ffed049-b7c9-4f4a-8c75-80e32b1bcaa4 button.colab-df-convert');\n",
              "      buttonEl.style.display =\n",
              "        google.colab.kernel.accessAllowed ? 'block' : 'none';\n",
              "\n",
              "      async function convertToInteractive(key) {\n",
              "        const element = document.querySelector('#df-5ffed049-b7c9-4f4a-8c75-80e32b1bcaa4');\n",
              "        const dataTable =\n",
              "          await google.colab.kernel.invokeFunction('convertToInteractive',\n",
              "                                                    [key], {});\n",
              "        if (!dataTable) return;\n",
              "\n",
              "        const docLinkHtml = 'Like what you see? Visit the ' +\n",
              "          '<a target=\"_blank\" href=https://colab.research.google.com/notebooks/data_table.ipynb>data table notebook</a>'\n",
              "          + ' to learn more about interactive tables.';\n",
              "        element.innerHTML = '';\n",
              "        dataTable['output_type'] = 'display_data';\n",
              "        await google.colab.output.renderOutput(dataTable, element);\n",
              "        const docLink = document.createElement('div');\n",
              "        docLink.innerHTML = docLinkHtml;\n",
              "        element.appendChild(docLink);\n",
              "      }\n",
              "    </script>\n",
              "  </div>\n",
              "\n",
              "\n",
              "<div id=\"df-d6639c27-cf6d-4aca-9407-a9308f4e479e\">\n",
              "  <button class=\"colab-df-quickchart\" onclick=\"quickchart('df-d6639c27-cf6d-4aca-9407-a9308f4e479e')\"\n",
              "            title=\"Suggest charts.\"\n",
              "            style=\"display:none;\">\n",
              "\n",
              "<svg xmlns=\"http://www.w3.org/2000/svg\" height=\"24px\"viewBox=\"0 0 24 24\"\n",
              "     width=\"24px\">\n",
              "    <g>\n",
              "        <path d=\"M19 3H5c-1.1 0-2 .9-2 2v14c0 1.1.9 2 2 2h14c1.1 0 2-.9 2-2V5c0-1.1-.9-2-2-2zM9 17H7v-7h2v7zm4 0h-2V7h2v10zm4 0h-2v-4h2v4z\"/>\n",
              "    </g>\n",
              "</svg>\n",
              "  </button>\n",
              "\n",
              "<style>\n",
              "  .colab-df-quickchart {\n",
              "      --bg-color: #E8F0FE;\n",
              "      --fill-color: #1967D2;\n",
              "      --hover-bg-color: #E2EBFA;\n",
              "      --hover-fill-color: #174EA6;\n",
              "      --disabled-fill-color: #AAA;\n",
              "      --disabled-bg-color: #DDD;\n",
              "  }\n",
              "\n",
              "  [theme=dark] .colab-df-quickchart {\n",
              "      --bg-color: #3B4455;\n",
              "      --fill-color: #D2E3FC;\n",
              "      --hover-bg-color: #434B5C;\n",
              "      --hover-fill-color: #FFFFFF;\n",
              "      --disabled-bg-color: #3B4455;\n",
              "      --disabled-fill-color: #666;\n",
              "  }\n",
              "\n",
              "  .colab-df-quickchart {\n",
              "    background-color: var(--bg-color);\n",
              "    border: none;\n",
              "    border-radius: 50%;\n",
              "    cursor: pointer;\n",
              "    display: none;\n",
              "    fill: var(--fill-color);\n",
              "    height: 32px;\n",
              "    padding: 0;\n",
              "    width: 32px;\n",
              "  }\n",
              "\n",
              "  .colab-df-quickchart:hover {\n",
              "    background-color: var(--hover-bg-color);\n",
              "    box-shadow: 0 1px 2px rgba(60, 64, 67, 0.3), 0 1px 3px 1px rgba(60, 64, 67, 0.15);\n",
              "    fill: var(--button-hover-fill-color);\n",
              "  }\n",
              "\n",
              "  .colab-df-quickchart-complete:disabled,\n",
              "  .colab-df-quickchart-complete:disabled:hover {\n",
              "    background-color: var(--disabled-bg-color);\n",
              "    fill: var(--disabled-fill-color);\n",
              "    box-shadow: none;\n",
              "  }\n",
              "\n",
              "  .colab-df-spinner {\n",
              "    border: 2px solid var(--fill-color);\n",
              "    border-color: transparent;\n",
              "    border-bottom-color: var(--fill-color);\n",
              "    animation:\n",
              "      spin 1s steps(1) infinite;\n",
              "  }\n",
              "\n",
              "  @keyframes spin {\n",
              "    0% {\n",
              "      border-color: transparent;\n",
              "      border-bottom-color: var(--fill-color);\n",
              "      border-left-color: var(--fill-color);\n",
              "    }\n",
              "    20% {\n",
              "      border-color: transparent;\n",
              "      border-left-color: var(--fill-color);\n",
              "      border-top-color: var(--fill-color);\n",
              "    }\n",
              "    30% {\n",
              "      border-color: transparent;\n",
              "      border-left-color: var(--fill-color);\n",
              "      border-top-color: var(--fill-color);\n",
              "      border-right-color: var(--fill-color);\n",
              "    }\n",
              "    40% {\n",
              "      border-color: transparent;\n",
              "      border-right-color: var(--fill-color);\n",
              "      border-top-color: var(--fill-color);\n",
              "    }\n",
              "    60% {\n",
              "      border-color: transparent;\n",
              "      border-right-color: var(--fill-color);\n",
              "    }\n",
              "    80% {\n",
              "      border-color: transparent;\n",
              "      border-right-color: var(--fill-color);\n",
              "      border-bottom-color: var(--fill-color);\n",
              "    }\n",
              "    90% {\n",
              "      border-color: transparent;\n",
              "      border-bottom-color: var(--fill-color);\n",
              "    }\n",
              "  }\n",
              "</style>\n",
              "\n",
              "  <script>\n",
              "    async function quickchart(key) {\n",
              "      const quickchartButtonEl =\n",
              "        document.querySelector('#' + key + ' button');\n",
              "      quickchartButtonEl.disabled = true;  // To prevent multiple clicks.\n",
              "      quickchartButtonEl.classList.add('colab-df-spinner');\n",
              "      try {\n",
              "        const charts = await google.colab.kernel.invokeFunction(\n",
              "            'suggestCharts', [key], {});\n",
              "      } catch (error) {\n",
              "        console.error('Error during call to suggestCharts:', error);\n",
              "      }\n",
              "      quickchartButtonEl.classList.remove('colab-df-spinner');\n",
              "      quickchartButtonEl.classList.add('colab-df-quickchart-complete');\n",
              "    }\n",
              "    (() => {\n",
              "      let quickchartButtonEl =\n",
              "        document.querySelector('#df-d6639c27-cf6d-4aca-9407-a9308f4e479e button');\n",
              "      quickchartButtonEl.style.display =\n",
              "        google.colab.kernel.accessAllowed ? 'block' : 'none';\n",
              "    })();\n",
              "  </script>\n",
              "</div>\n",
              "    </div>\n",
              "  </div>\n"
            ]
          },
          "metadata": {},
          "execution_count": 11
        }
      ]
    },
    {
      "cell_type": "code",
      "source": [
        "ds_resultados.to_csv(\"prediccion_voting_hotel_corregido.csv\", index = False)"
      ],
      "metadata": {
        "id": "ync9AK_Z_p2M"
      },
      "execution_count": 12,
      "outputs": []
    },
    {
      "cell_type": "markdown",
      "source": [
        "##Conclusión"
      ],
      "metadata": {
        "id": "8ktgshEAPlWI"
      }
    },
    {
      "cell_type": "markdown",
      "source": [
        "Observemos, para un mejor análisis, los clasificadores junto con los valores de todas sus métricas en una tabla, de forma tal que sea más sencillo compararlos."
      ],
      "metadata": {
        "id": "9SX8S0O9EVI9"
      }
    },
    {
      "cell_type": "markdown",
      "source": [
        "Recordemos qué significa cada métrica:\n",
        "- **accuracy**: número de elementos clasificados correctamente en comparación con el número total.\n",
        "- **recall**: cantidad de verdaderos positivos que el modelo clasificó en función del número total de valores positivos.\n",
        "- **precision**: número de verdaderos positivos que son realmente positivos en comparación con el número total de valores positivos predichos.\n",
        "- **F1-score**: combinación de recall y precision.\n",
        "\n",
        "Para nuestro caso, evaluamos entre 2 valores posibles (0 - reserva no cancelada y 1 - reserva cancelada), obteniendo la siguiente tabla."
      ],
      "metadata": {
        "id": "Ld0LmtHuH4Bb"
      }
    },
    {
      "cell_type": "markdown",
      "source": [
        "![image.png](data:image/png;base64,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)"
      ],
      "metadata": {
        "id": "dfKxp-xu8nLt"
      }
    },
    {
      "cell_type": "markdown",
      "source": [
        "Como podemos observar, obtuvimos la mejor clasificación, utilizando el clasificador XGBoost, siendo este el que nos ha dado el mejor score ejecutándose relativamente en un tiempo que podemos no considerar extenso, como se analizó anteriormente."
      ],
      "metadata": {
        "id": "LdA8kETkOSfF"
      }
    },
    {
      "cell_type": "markdown",
      "source": [
        "##Correcciones"
      ],
      "metadata": {
        "id": "j3VVvhecc8CV"
      }
    },
    {
      "cell_type": "markdown",
      "source": [
        "Teniendo las correciones en cuenta, justificamos el uso de la regresión logística como el mejor meta modelo que logramos encontrar para el ensamble de Stacking, luego de haber experimentado con otros. Además, agregamos el análisis individual de regresión logística (y lo agregamos al cuadro).\n",
        "\n",
        "Luego, con el agregado del XGBoost al ensamble de Voting (y la mejora de parámetros de los demás clasificadores), se ha mejorado ampliamente el resultado obtenido. Esto comprueba que cuan mejores sean los modelos, mejor resultado en la votación obtendremos."
      ],
      "metadata": {
        "id": "A3HHcLN-c9SL"
      }
    }
  ]
}