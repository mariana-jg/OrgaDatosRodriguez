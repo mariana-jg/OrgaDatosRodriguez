{
  "nbformat": 4,
  "nbformat_minor": 0,
  "metadata": {
    "colab": {
      "provenance": [],
      "toc_visible": true
    },
    "kernelspec": {
      "name": "python3",
      "display_name": "Python 3"
    },
    "language_info": {
      "name": "python"
    }
  },
  "cells": [
    {
      "cell_type": "markdown",
      "metadata": {
        "id": "QgBVJ4V6CZqL"
      },
      "source": [
        "#**Trabajo Práctico N°1: Reservas de Hotel**\n",
        "Organización de Datos (7506): cátedra Rodriguez\n",
        "\n",
        "Grupo 25:\n",
        "- Mariana Juarez Goldemberg - Padrón: 108441\n",
        "- Lisandro Roman - Padrón: 107274\n",
        "- Miranda Marenzi - Padrón: 109404\n",
        "\n",
        "Checkpoint N°3"
      ]
    },
    {
      "cell_type": "markdown",
      "source": [
        "a. Construir un clasificador KNN optimizar sus hiperparámetros mediante k-fold\n",
        "Cross Validation\n",
        "\n",
        "b. Construir un clasificador SVM variando el kernel y los parámetros.\n",
        "\n",
        "c. Construir un clasificador RF y optimizar sus hiperparámetros mediante k-fold\n",
        "Cross Validation\n",
        "\n",
        "d. Construir un clasificador XGBoost y optimizar sus hiperparámetros.\n",
        "\n",
        "e. Construir un ensamble híbrido tipo Voting y otro tipo Stacking.\n",
        "\n",
        "f. Evaluar la performance de todos los modelos en entrenamiento y validación,\n",
        "explicar todas las métricas y mostrar la matriz de confusión.\n",
        "\n",
        "g. Generar predicciones con el set de test y realizar los submits correspondientes en la competencia de Kaggle."
      ],
      "metadata": {
        "id": "ikHw5MXUgvRS"
      }
    },
    {
      "cell_type": "markdown",
      "source": [
        "Importamos las librerías que necesitaremos a lo largo del trabajo, y los datasets."
      ],
      "metadata": {
        "id": "fyOJK3cbO571"
      }
    },
    {
      "cell_type": "code",
      "source": [
        "import pandas as pd\n",
        "import numpy as np\n",
        "\n",
        "import sklearn as sk\n",
        "from sklearn.metrics import DistanceMetric\n",
        "\n",
        "import matplotlib.pyplot as plt\n",
        "import seaborn as sns\n",
        "\n",
        "#KNN\n",
        "from sklearn.model_selection import train_test_split\n",
        "from sklearn.neighbors import KNeighborsClassifier\n",
        "from sklearn.metrics import accuracy_score\n",
        "\n",
        "#SVM\n",
        "from sklearn import preprocessing\n",
        "from sklearn.svm import SVC\n",
        "from sklearn.datasets import make_classification\n",
        "from sklearn.metrics import confusion_matrix, classification_report\n",
        "\n",
        "from sklearn import tree\n",
        "from sklearn.tree import DecisionTreeClassifier\n",
        "\n",
        "#XGB\n",
        "\n",
        "import xgboost as xgb\n",
        "from sklearn.metrics import roc_auc_score\n",
        "\n",
        "#Ensamble hibrido\n",
        "from collections import defaultdict\n",
        "import plotly.graph_objects as go\n",
        "from sklearn.ensemble import RandomForestClassifier\n",
        "from sklearn.linear_model import LogisticRegression\n",
        "from sklearn.neural_network import MLPClassifier\n",
        "from sklearn.linear_model import LogisticRegressionCV\n",
        "from sklearn.model_selection import cross_val_score, RepeatedStratifiedKFold\n",
        "\n",
        "\n",
        "from sklearn.model_selection import GridSearchCV\n",
        "from sklearn.preprocessing import MinMaxScaler\n",
        "\n",
        "import warnings\n",
        "warnings.simplefilter(action='ignore', category=FutureWarning)\n",
        "warnings.simplefilter(action='ignore', category=UserWarning)\n",
        "\n",
        "from sklearn.model_selection import RandomizedSearchCV"
      ],
      "metadata": {
        "id": "M48Vu79SjdUD"
      },
      "execution_count": null,
      "outputs": []
    },
    {
      "cell_type": "code",
      "source": [
        "df_check1 = pd.read_csv('/content/sample_data/df_redefinido.csv')\n",
        "df_test_check1 = pd.read_csv('/content/sample_data/dftest_redefinido.csv')\n",
        "df_id = pd.read_csv('/content/sample_data/df_test_id.csv')"
      ],
      "metadata": {
        "id": "gI-eISGzjxr5"
      },
      "execution_count": null,
      "outputs": []
    },
    {
      "cell_type": "code",
      "source": [
        "df_train = df_check1.copy()\n",
        "df_test = df_test_check1.copy()\n",
        "\n",
        "df_test.drop(columns = ['reservation_status_date'], inplace = True)\n",
        "\n",
        "df_trabajo_x=df_train.drop(['is_canceled'], axis='columns', inplace=False)\n",
        "df_trabajo_y = df_train['is_canceled'].copy()\n",
        "x_train, x_test, y_train, y_test = train_test_split(df_trabajo_x,\n",
        "                                                    df_trabajo_y,\n",
        "                                                    test_size=0.3,\n",
        "                                                    random_state=9)"
      ],
      "metadata": {
        "id": "MyulwgYvj79Z"
      },
      "execution_count": null,
      "outputs": []
    },
    {
      "cell_type": "code",
      "source": [
        "features = ['lead_time', 'arrival_date_year', 'arrival_date_month',\n",
        "       'arrival_date_day_of_month', 'stays_in_weekend_nights',\n",
        "       'stays_in_week_nights', 'adults', 'children', 'babies',\n",
        "       'is_repeated_guest', 'previous_cancellations',\n",
        "       'previous_bookings_not_canceled', 'reserved_room_type',\n",
        "       'assigned_room_type', 'booking_changes', 'agent', 'company',\n",
        "       'days_in_waiting_list', 'adr', 'required_car_parking_spaces',\n",
        "       'total_of_special_requests',\n",
        "       'total_people', 'total_days', 'customer_type_Group',\n",
        "       'customer_type_Transient', 'customer_type_Transient-Party',\n",
        "       'deposit_type_Non Refund', 'deposit_type_Refundable', 'meal_FB',\n",
        "       'meal_HB', 'meal_SC', 'meal_Undefined', 'hotel_Resort Hotel',\n",
        "       'market_segment_Complementary', 'market_segment_Corporate',\n",
        "       'market_segment_Direct', 'market_segment_Groups',\n",
        "       'market_segment_Offline TA/TO', 'market_segment_Online TA',\n",
        "       'distribution_channel_Direct', 'distribution_channel_GDS',\n",
        "       'distribution_channel_TA/TO', 'continent_America', 'continent_Asia',\n",
        "       'continent_Europa', 'continent_Oceania']"
      ],
      "metadata": {
        "id": "_3eMc5MmKhiw"
      },
      "execution_count": null,
      "outputs": []
    },
    {
      "cell_type": "code",
      "source": [
        "target = [\"is_canceled\"]"
      ],
      "metadata": {
        "id": "fmMKthc9Qrbq"
      },
      "execution_count": null,
      "outputs": []
    },
    {
      "cell_type": "code",
      "source": [
        "df_train.shape"
      ],
      "metadata": {
        "colab": {
          "base_uri": "https://localhost:8080/"
        },
        "id": "KIUmJd5Hk_zF",
        "outputId": "0ce7480f-c8be-4cd6-9b83-e8e1be25b277"
      },
      "execution_count": null,
      "outputs": [
        {
          "output_type": "execute_result",
          "data": {
            "text/plain": [
              "(57858, 47)"
            ]
          },
          "metadata": {},
          "execution_count": 127
        }
      ]
    },
    {
      "cell_type": "code",
      "source": [
        "def metricas(y_pred,y_test):\n",
        "\n",
        "  print(classification_report(y_test,y_pred))\n",
        "\n",
        "  cm = confusion_matrix(y_test,y_pred)\n",
        "  sns.heatmap(cm, cmap='Blues',annot=True,fmt='g')\n",
        "  plt.xlabel('Predicted')\n",
        "  plt.ylabel('True')"
      ],
      "metadata": {
        "id": "a57608COwU_S"
      },
      "execution_count": null,
      "outputs": []
    },
    {
      "cell_type": "markdown",
      "source": [
        "##a. Clasificador KNN"
      ],
      "metadata": {
        "id": "QAM8_BCwi_VS"
      }
    },
    {
      "cell_type": "markdown",
      "source": [
        "El algoritmo K-Nearest Neighbors, KNN, es un algoritmo tal que dado un punto y evaluando sus \"k\" vecinos para encontrar similitudes, intenta predecir un atributo o propiedad de dicho punto. Se basa en que puntos de propiedades similares se encontrarán a poca distancia entre sí, en cambio, los que no son similares, estarán a mayor distancia."
      ],
      "metadata": {
        "id": "JVaYzHDOCmPk"
      }
    },
    {
      "cell_type": "markdown",
      "source": [
        "Para una primer idea, crearemos un modelo con sus parámetros por defecto:"
      ],
      "metadata": {
        "id": "y4ThfUqskRn_"
      }
    },
    {
      "cell_type": "code",
      "source": [
        "KNN_Classifier = KNeighborsClassifier()\n",
        "\n",
        "KNN_Classifier.get_params()"
      ],
      "metadata": {
        "colab": {
          "base_uri": "https://localhost:8080/"
        },
        "id": "N-w3E6F4i-g5",
        "outputId": "d7ce1a32-e838-4e5a-cedf-6bbced7dae32"
      },
      "execution_count": null,
      "outputs": [
        {
          "output_type": "execute_result",
          "data": {
            "text/plain": [
              "{'algorithm': 'auto',\n",
              " 'leaf_size': 30,\n",
              " 'metric': 'minkowski',\n",
              " 'metric_params': None,\n",
              " 'n_jobs': None,\n",
              " 'n_neighbors': 5,\n",
              " 'p': 2,\n",
              " 'weights': 'uniform'}"
            ]
          },
          "metadata": {},
          "execution_count": 8
        }
      ]
    },
    {
      "cell_type": "markdown",
      "source": [
        "Entre los hiperparámetros del clasificador tenemos:\n",
        "- metric: tipo de distancia a calcular (en este caso usaremos Minkowski)\n",
        "- weight: el peso de cada punto en función de la distancia (usaremos uniform, cada vecino tendrá el mismo peso)\n"
      ],
      "metadata": {
        "id": "UFk7UTV7D4lM"
      }
    },
    {
      "cell_type": "markdown",
      "source": [
        "\n",
        "Entrenamos el modelo con Cross Validation, y vemos cómo trabaja"
      ],
      "metadata": {
        "id": "wZAXBucxki1o"
      }
    },
    {
      "cell_type": "code",
      "source": [
        "KNN_Classifier.fit(x_train, y_train)\n",
        "\n",
        "y_pred = KNN_Classifier.predict(x_test)"
      ],
      "metadata": {
        "id": "U1vqChqKHHto"
      },
      "execution_count": null,
      "outputs": []
    },
    {
      "cell_type": "code",
      "source": [
        "print('correctas: ', np.sum(y_test == y_pred))\n",
        "print('total: ', len(y_test))"
      ],
      "metadata": {
        "colab": {
          "base_uri": "https://localhost:8080/"
        },
        "id": "697mNZNBIbas",
        "outputId": "a71ccb95-a6e0-4a5b-97ef-f56bec9f4fc4"
      },
      "execution_count": null,
      "outputs": [
        {
          "output_type": "stream",
          "name": "stdout",
          "text": [
            "correctas:  12646\n",
            "total:  17358\n"
          ]
        }
      ]
    },
    {
      "cell_type": "code",
      "source": [
        "accuracy_score(y_test,y_pred)"
      ],
      "metadata": {
        "colab": {
          "base_uri": "https://localhost:8080/"
        },
        "id": "MPTFpH0NlNH3",
        "outputId": "fd59bf11-67f5-4ffe-c3a8-aa8158dd3866"
      },
      "execution_count": null,
      "outputs": [
        {
          "output_type": "execute_result",
          "data": {
            "text/plain": [
              "0.7285401543956677"
            ]
          },
          "metadata": {},
          "execution_count": 11
        }
      ]
    },
    {
      "cell_type": "markdown",
      "source": [
        "###Búsqueda de mejores hiperparámetros"
      ],
      "metadata": {
        "id": "C6F_8VYGlUHd"
      }
    },
    {
      "cell_type": "markdown",
      "source": [
        "Veamos qué sucede cuando variamos la cantidad de vecinos"
      ],
      "metadata": {
        "id": "wpPD9AjmlkUB"
      }
    },
    {
      "cell_type": "code",
      "source": [
        "from sklearn.model_selection import cross_val_score\n",
        "\n",
        "k_range=range(1,30) #cantidad de vecinos a probar\n",
        "\n",
        "k_scores=[] # accuracy para cada K utilizado\n",
        "\n",
        "for k in k_range:\n",
        "    knn=KNeighborsClassifier(n_neighbors=k)\n",
        "    scores=cross_val_score(knn,x_train,y_train,cv=10,scoring='accuracy')\n",
        "    k_scores.append(scores.mean())"
      ],
      "metadata": {
        "id": "wyKK3D80m3ul"
      },
      "execution_count": null,
      "outputs": []
    },
    {
      "cell_type": "markdown",
      "source": [
        "La cantidad de K-Neighbours no es el único hiperparámetro a mejorar, también tenemos a metric y weight (nombrados anteriormente) y algorithm (algoritmo utilizado para calcular los vecinos más cercanos).\n",
        "\n",
        "Optimizamos los parámetros usando Random Search Cross Validation"
      ],
      "metadata": {
        "id": "nhdOUu94gNae"
      }
    },
    {
      "cell_type": "code",
      "source": [
        "#Grilla de Parámetros\n",
        "params_grid={ 'n_neighbors':range(1,30),\n",
        "              'weights':['distance','uniform'],\n",
        "              'algorithm':['ball_tree', 'kd_tree', 'brute'],\n",
        "              'metric':['euclidean','manhattan','chebyshev']\n",
        "             }\n",
        "\n",
        "#Clasificador KNN\n",
        "knn=KNeighborsClassifier()\n",
        "\n",
        "#Random Search con 10 Folds y 10 iteraciones\n",
        "rand = RandomizedSearchCV(knn, params_grid, cv=10, scoring='accuracy', n_iter=10, random_state=5)\n",
        "\n",
        "rand.fit(x_train, y_train)\n",
        "rand.cv_results_['mean_test_score']"
      ],
      "metadata": {
        "colab": {
          "base_uri": "https://localhost:8080/"
        },
        "id": "YvYuw96iPZdI",
        "outputId": "829015fc-9af0-4b86-f0fb-3320ecd17032"
      },
      "execution_count": null,
      "outputs": [
        {
          "output_type": "execute_result",
          "data": {
            "text/plain": [
              "array([0.76587654, 0.73644444, 0.70881481, 0.68217284, 0.74883951,\n",
              "       0.73809877, 0.72644444, 0.74190123, 0.77138272, 0.73846914])"
            ]
          },
          "metadata": {},
          "execution_count": 13
        }
      ]
    },
    {
      "cell_type": "code",
      "source": [
        "#Mejores hiperparametros\n",
        "print(rand.best_params_)\n",
        "#Mejor métrica\n",
        "print(rand.best_score_)"
      ],
      "metadata": {
        "colab": {
          "base_uri": "https://localhost:8080/"
        },
        "id": "xxB_LCSWSLhj",
        "outputId": "6252dfa5-a1c2-4ee9-aa4d-c49e585f9570"
      },
      "execution_count": null,
      "outputs": [
        {
          "output_type": "stream",
          "name": "stdout",
          "text": [
            "{'weights': 'distance', 'n_neighbors': 19, 'metric': 'manhattan', 'algorithm': 'brute'}\n",
            "0.7713827160493827\n"
          ]
        }
      ]
    },
    {
      "cell_type": "code",
      "source": [
        "#Mejor estimador\n",
        "best_knn=rand.best_estimator_\n",
        "\n",
        "#Predicción con mejor estimador\n",
        "y_pred=best_knn.predict(x_test)\n",
        "\n",
        "#Accuracy test\n",
        "accuracy_score(y_test,y_pred)"
      ],
      "metadata": {
        "colab": {
          "base_uri": "https://localhost:8080/"
        },
        "id": "DuOcgAoFSRsR",
        "outputId": "755dc78e-4b27-4a43-a819-e98ece9e10e8"
      },
      "execution_count": null,
      "outputs": [
        {
          "output_type": "execute_result",
          "data": {
            "text/plain": [
              "0.7741099204977532"
            ]
          },
          "metadata": {},
          "execution_count": 15
        }
      ]
    },
    {
      "cell_type": "code",
      "source": [
        "from sklearn.metrics import confusion_matrix,classification_report\n",
        "\n",
        "#Reporte de Clasificación\n",
        "print(classification_report(y_test,y_pred))\n",
        "\n",
        "#Matriz de Confusión\n",
        "cm = confusion_matrix(y_test,y_pred)\n",
        "sns.heatmap(cm, cmap='Blues',annot=True,fmt='g')\n",
        "plt.xlabel('Predicted')\n",
        "plt.ylabel('True')"
      ],
      "metadata": {
        "colab": {
          "base_uri": "https://localhost:8080/",
          "height": 622
        },
        "id": "wnsLaippwp6I",
        "outputId": "1aacbf49-77c7-42b7-f16c-f10c9e6bc667"
      },
      "execution_count": null,
      "outputs": [
        {
          "output_type": "stream",
          "name": "stdout",
          "text": [
            "              precision    recall  f1-score   support\n",
            "\n",
            "           0       0.81      0.73      0.77      8831\n",
            "           1       0.75      0.82      0.78      8527\n",
            "\n",
            "    accuracy                           0.77     17358\n",
            "   macro avg       0.78      0.77      0.77     17358\n",
            "weighted avg       0.78      0.77      0.77     17358\n",
            "\n"
          ]
        },
        {
          "output_type": "execute_result",
          "data": {
            "text/plain": [
              "Text(50.722222222222214, 0.5, 'True')"
            ]
          },
          "metadata": {},
          "execution_count": 16
        },
        {
          "output_type": "display_data",
          "data": {
            "text/plain": [
              "<Figure size 640x480 with 2 Axes>"
            ],
            "image/png": "[encoded data removed]"
          },
          "metadata": {}
        }
      ]
    },
    {
      "cell_type": "markdown",
      "source": [
        "##b. Clasificador SVM"
      ],
      "metadata": {
        "id": "iXucRZA8UgCd"
      }
    },
    {
      "cell_type": "markdown",
      "source": [
        "Reescalar los datos antes de usar un clasificador SVM a menudo mejora su rendimiento. Ayuda a garantizar que el modelo funcione de manera más eficiente y que los resultados sean más interpretables y confiables. Escalamos por min-max y con la normalización de los datos."
      ],
      "metadata": {
        "id": "Dk3OF30jV6Rj"
      }
    },
    {
      "cell_type": "code",
      "source": [
        "min_max_scaler = preprocessing.MinMaxScaler()\n",
        "x_train_minmax = min_max_scaler.fit_transform(x_train)\n",
        "x_test_minmax  = min_max_scaler.transform(x_test)\n",
        "\n",
        "stand_scaler = preprocessing.StandardScaler()\n",
        "x_train_norm = stand_scaler.fit_transform(x_train)\n",
        "x_test_norm=stand_scaler.transform(x_test)"
      ],
      "metadata": {
        "id": "i60dCM_YeAA9"
      },
      "execution_count": null,
      "outputs": []
    },
    {
      "cell_type": "markdown",
      "source": [
        "Construcción del modelo SVM"
      ],
      "metadata": {
        "id": "MlxP3vRoWZFM"
      }
    },
    {
      "cell_type": "markdown",
      "source": [
        "Modelo base: datos sin escalar."
      ],
      "metadata": {
        "id": "5_TOFABMcLRu"
      }
    },
    {
      "cell_type": "code",
      "source": [
        "#Construyo un modelo SVM\n",
        "svm = SVC()\n",
        "\n",
        "#Lo entreno con los datos sin escalar\n",
        "svm.fit(x_train, y_train)\n",
        "\n",
        "#Hago la prediccion y calculo las métricas\n",
        "y_pred=svm.predict(x_test)\n",
        "metricas(y_pred,y_test)"
      ],
      "metadata": {
        "id": "GOEfb4mxf6W4",
        "colab": {
          "base_uri": "https://localhost:8080/",
          "height": 605
        },
        "outputId": "78993319-3470-4bc9-f572-20319832f9d9"
      },
      "execution_count": null,
      "outputs": [
        {
          "output_type": "stream",
          "name": "stdout",
          "text": [
            "              precision    recall  f1-score   support\n",
            "\n",
            "           0       0.60      0.72      0.66      8831\n",
            "           1       0.64      0.51      0.56      8527\n",
            "\n",
            "    accuracy                           0.61     17358\n",
            "   macro avg       0.62      0.61      0.61     17358\n",
            "weighted avg       0.62      0.61      0.61     17358\n",
            "\n"
          ]
        },
        {
          "output_type": "display_data",
          "data": {
            "text/plain": [
              "<Figure size 640x480 with 2 Axes>"
            ],
            "image/png": "[encoded data removed]"
          },
          "metadata": {}
        }
      ]
    },
    {
      "cell_type": "markdown",
      "source": [
        "Modelo base: con datos escalados con normalización."
      ],
      "metadata": {
        "id": "bqLSVjjbcQ5X"
      }
    },
    {
      "cell_type": "code",
      "source": [
        "#Construyo un modelo SVM\n",
        "svm_norm= SVC()\n",
        "\n",
        "#Lo entreno con los datos escalados con normalizacion\n",
        "svm_norm.fit(x_train_norm, y_train)\n",
        "\n",
        "#Hago la prediccion y calculo las métricas\n",
        "y_pred_norm=svm_norm.predict(x_test_norm)\n",
        "metricas(y_pred_norm,y_test)"
      ],
      "metadata": {
        "id": "ubnleWGWavWW",
        "colab": {
          "base_uri": "https://localhost:8080/",
          "height": 605
        },
        "outputId": "186265f0-7fe0-4fc6-ee18-a4708b38e669"
      },
      "execution_count": null,
      "outputs": [
        {
          "output_type": "stream",
          "name": "stdout",
          "text": [
            "              precision    recall  f1-score   support\n",
            "\n",
            "           0       0.78      0.86      0.82      8831\n",
            "           1       0.84      0.75      0.79      8527\n",
            "\n",
            "    accuracy                           0.81     17358\n",
            "   macro avg       0.81      0.81      0.81     17358\n",
            "weighted avg       0.81      0.81      0.81     17358\n",
            "\n"
          ]
        },
        {
          "output_type": "display_data",
          "data": {
            "text/plain": [
              "<Figure size 640x480 with 2 Axes>"
            ],
            "image/png": "[encoded data removed]"
          },
          "metadata": {}
        }
      ]
    },
    {
      "cell_type": "markdown",
      "source": [
        "Modelo base: escalados por min-max."
      ],
      "metadata": {
        "id": "UxPw0RytccA0"
      }
    },
    {
      "cell_type": "code",
      "source": [
        "#Construyo un modelo SVM\n",
        "svm_minmax= SVC()\n",
        "\n",
        "#Lo entreno con los datos escalados con min max\n",
        "svm_minmax.fit(x_train_minmax, y_train)\n",
        "\n",
        "#Hago la prediccion y calculo las métricas\n",
        "y_pred_minmax=svm_minmax.predict(x_test_minmax)\n",
        "metricas(y_pred_minmax,y_test)"
      ],
      "metadata": {
        "id": "iBEM-zcwawQ5",
        "colab": {
          "base_uri": "https://localhost:8080/",
          "height": 605
        },
        "outputId": "6a17269f-13b6-4a1b-85f7-84ef68ac8564"
      },
      "execution_count": null,
      "outputs": [
        {
          "output_type": "stream",
          "name": "stdout",
          "text": [
            "              precision    recall  f1-score   support\n",
            "\n",
            "           0       0.76      0.85      0.81      8831\n",
            "           1       0.83      0.73      0.77      8527\n",
            "\n",
            "    accuracy                           0.79     17358\n",
            "   macro avg       0.80      0.79      0.79     17358\n",
            "weighted avg       0.80      0.79      0.79     17358\n",
            "\n"
          ]
        },
        {
          "output_type": "display_data",
          "data": {
            "text/plain": [
              "<Figure size 640x480 with 2 Axes>"
            ],
            "image/png": "[encoded data removed]"
          },
          "metadata": {}
        }
      ]
    },
    {
      "cell_type": "markdown",
      "source": [
        "###Kernel lineal"
      ],
      "metadata": {
        "id": "vEMaxSCnWfB7"
      }
    },
    {
      "cell_type": "code",
      "source": [
        "#Creo un clasificador con kernel lineal y lo entreno sobre los datos escalados min-max\n",
        "clf = SVC(kernel='linear', C=5)\n",
        "clf.fit(x_train_minmax, y_train)\n",
        "\n",
        "#Hago la predicción y calculo las métricas\n",
        "y_pred_lin=clf.predict(x_test_minmax)\n",
        "metricas(y_pred_lin,y_test)"
      ],
      "metadata": {
        "id": "2XaD-bic1KCD",
        "colab": {
          "base_uri": "https://localhost:8080/",
          "height": 605
        },
        "outputId": "0c564484-5c0e-42d1-cf35-45e4a3114def"
      },
      "execution_count": null,
      "outputs": [
        {
          "output_type": "stream",
          "name": "stdout",
          "text": [
            "              precision    recall  f1-score   support\n",
            "\n",
            "           0       0.75      0.82      0.78      8831\n",
            "           1       0.79      0.73      0.76      8527\n",
            "\n",
            "    accuracy                           0.77     17358\n",
            "   macro avg       0.77      0.77      0.77     17358\n",
            "weighted avg       0.77      0.77      0.77     17358\n",
            "\n"
          ]
        },
        {
          "output_type": "display_data",
          "data": {
            "text/plain": [
              "<Figure size 640x480 with 2 Axes>"
            ],
            "image/png": "[encoded data removed]"
          },
          "metadata": {}
        }
      ]
    },
    {
      "cell_type": "markdown",
      "source": [
        "####Búsqueda de mejores hiperparámetros"
      ],
      "metadata": {
        "id": "sdj4lXPYMfPz"
      }
    },
    {
      "cell_type": "code",
      "source": [
        "from sklearn.svm import SVC\n",
        "from sklearn.model_selection import RandomizedSearchCV\n",
        "from scipy.stats import uniform, randint\n",
        "param_dist = {'C': uniform(loc=0, scale=10)}\n",
        "svm = SVC(kernel='linear')\n",
        "\n",
        "#Busco hiperparametros\n",
        "random_search = RandomizedSearchCV(svm, param_distributions=param_dist, n_iter=10, scoring='accuracy', cv=5)\n",
        "random_search.fit(x_train_minmax, y_train)\n",
        "\n",
        "#Los guardo\n",
        "best_params = random_search.best_params_\n",
        "\n",
        "#Entreno el modelo\n",
        "best_svm = SVC(kernel='linear', C=best_params['C'])\n",
        "best_svm.fit(x_train_minmax, y_train)"
      ],
      "metadata": {
        "id": "KoF6cjkMMhdy",
        "colab": {
          "base_uri": "https://localhost:8080/",
          "height": 75
        },
        "outputId": "4caf6fdf-4b9a-4350-c60c-d77bed935a7a"
      },
      "execution_count": null,
      "outputs": [
        {
          "output_type": "execute_result",
          "data": {
            "text/plain": [
              "SVC(C=7.3881933240009, kernel='linear')"
            ],
            "text/html": [
              "<style>#sk-container-id-1 {color: black;background-color: white;}#sk-container-id-1 pre{padding: 0;}#sk-container-id-1 div.sk-toggleable {background-color: white;}#sk-container-id-1 label.sk-toggleable__label {cursor: pointer;display: block;width: 100%;margin-bottom: 0;padding: 0.3em;box-sizing: border-box;text-align: center;}#sk-container-id-1 label.sk-toggleable__label-arrow:before {content: \"▸\";float: left;margin-right: 0.25em;color: #696969;}#sk-container-id-1 label.sk-toggleable__label-arrow:hover:before {color: black;}#sk-container-id-1 div.sk-estimator:hover label.sk-toggleable__label-arrow:before {color: black;}#sk-container-id-1 div.sk-toggleable__content {max-height: 0;max-width: 0;overflow: hidden;text-align: left;background-color: #f0f8ff;}#sk-container-id-1 div.sk-toggleable__content pre {margin: 0.2em;color: black;border-radius: 0.25em;background-color: #f0f8ff;}#sk-container-id-1 input.sk-toggleable__control:checked~div.sk-toggleable__content {max-height: 200px;max-width: 100%;overflow: auto;}#sk-container-id-1 input.sk-toggleable__control:checked~label.sk-toggleable__label-arrow:before {content: \"▾\";}#sk-container-id-1 div.sk-estimator input.sk-toggleable__control:checked~label.sk-toggleable__label {background-color: #d4ebff;}#sk-container-id-1 div.sk-label input.sk-toggleable__control:checked~label.sk-toggleable__label {background-color: #d4ebff;}#sk-container-id-1 input.sk-hidden--visually {border: 0;clip: rect(1px 1px 1px 1px);clip: rect(1px, 1px, 1px, 1px);height: 1px;margin: -1px;overflow: hidden;padding: 0;position: absolute;width: 1px;}#sk-container-id-1 div.sk-estimator {font-family: monospace;background-color: #f0f8ff;border: 1px dotted black;border-radius: 0.25em;box-sizing: border-box;margin-bottom: 0.5em;}#sk-container-id-1 div.sk-estimator:hover {background-color: #d4ebff;}#sk-container-id-1 div.sk-parallel-item::after {content: \"\";width: 100%;border-bottom: 1px solid gray;flex-grow: 1;}#sk-container-id-1 div.sk-label:hover label.sk-toggleable__label {background-color: #d4ebff;}#sk-container-id-1 div.sk-serial::before {content: \"\";position: absolute;border-left: 1px solid gray;box-sizing: border-box;top: 0;bottom: 0;left: 50%;z-index: 0;}#sk-container-id-1 div.sk-serial {display: flex;flex-direction: column;align-items: center;background-color: white;padding-right: 0.2em;padding-left: 0.2em;position: relative;}#sk-container-id-1 div.sk-item {position: relative;z-index: 1;}#sk-container-id-1 div.sk-parallel {display: flex;align-items: stretch;justify-content: center;background-color: white;position: relative;}#sk-container-id-1 div.sk-item::before, #sk-container-id-1 div.sk-parallel-item::before {content: \"\";position: absolute;border-left: 1px solid gray;box-sizing: border-box;top: 0;bottom: 0;left: 50%;z-index: -1;}#sk-container-id-1 div.sk-parallel-item {display: flex;flex-direction: column;z-index: 1;position: relative;background-color: white;}#sk-container-id-1 div.sk-parallel-item:first-child::after {align-self: flex-end;width: 50%;}#sk-container-id-1 div.sk-parallel-item:last-child::after {align-self: flex-start;width: 50%;}#sk-container-id-1 div.sk-parallel-item:only-child::after {width: 0;}#sk-container-id-1 div.sk-dashed-wrapped {border: 1px dashed gray;margin: 0 0.4em 0.5em 0.4em;box-sizing: border-box;padding-bottom: 0.4em;background-color: white;}#sk-container-id-1 div.sk-label label {font-family: monospace;font-weight: bold;display: inline-block;line-height: 1.2em;}#sk-container-id-1 div.sk-label-container {text-align: center;}#sk-container-id-1 div.sk-container {/* jupyter's `normalize.less` sets `[hidden] { display: none; }` but bootstrap.min.css set `[hidden] { display: none !important; }` so we also need the `!important` here to be able to override the default hidden behavior on the sphinx rendered scikit-learn.org. See: https://github.com/scikit-learn/scikit-learn/issues/21755 */display: inline-block !important;position: relative;}#sk-container-id-1 div.sk-text-repr-fallback {display: none;}</style><div id=\"sk-container-id-1\" class=\"sk-top-container\"><div class=\"sk-text-repr-fallback\"><pre>SVC(C=7.3881933240009, kernel=&#x27;linear&#x27;)</pre><b>In a Jupyter environment, please rerun this cell to show the HTML representation or trust the notebook. <br />On GitHub, the HTML representation is unable to render, please try loading this page with nbviewer.org.</b></div><div class=\"sk-container\" hidden><div class=\"sk-item\"><div class=\"sk-estimator sk-toggleable\"><input class=\"sk-toggleable__control sk-hidden--visually\" id=\"sk-estimator-id-1\" type=\"checkbox\" checked><label for=\"sk-estimator-id-1\" class=\"sk-toggleable__label sk-toggleable__label-arrow\">SVC</label><div class=\"sk-toggleable__content\"><pre>SVC(C=7.3881933240009, kernel=&#x27;linear&#x27;)</pre></div></div></div></div></div>"
            ]
          },
          "metadata": {},
          "execution_count": 22
        }
      ]
    },
    {
      "cell_type": "code",
      "source": [
        "#Hago la predicción y calculo las métricas\n",
        "y_pred_lin_mejores_hiperparametros=best_svm.predict(x_test_minmax)\n",
        "metricas(y_pred_lin_mejores_hiperparametros,y_test)"
      ],
      "metadata": {
        "id": "uwvYXgPVOqR5",
        "colab": {
          "base_uri": "https://localhost:8080/",
          "height": 605
        },
        "outputId": "df5a525f-f755-42cf-cc75-4f32316eb9ec"
      },
      "execution_count": null,
      "outputs": [
        {
          "output_type": "stream",
          "name": "stdout",
          "text": [
            "              precision    recall  f1-score   support\n",
            "\n",
            "           0       0.76      0.82      0.78      8831\n",
            "           1       0.79      0.73      0.76      8527\n",
            "\n",
            "    accuracy                           0.77     17358\n",
            "   macro avg       0.77      0.77      0.77     17358\n",
            "weighted avg       0.77      0.77      0.77     17358\n",
            "\n"
          ]
        },
        {
          "output_type": "display_data",
          "data": {
            "text/plain": [
              "<Figure size 640x480 with 2 Axes>"
            ],
            "image/png": "[encoded data removed]"
          },
          "metadata": {}
        }
      ]
    },
    {
      "cell_type": "markdown",
      "source": [
        "###Kernel radial"
      ],
      "metadata": {
        "id": "UNmI4tINWmSY"
      }
    },
    {
      "cell_type": "markdown",
      "source": [
        "Hiperparametros:\n",
        "\n",
        "* C : Parámetro de regularización.\n",
        "\n",
        "* gamma: define cuánta influencia tiene un solo ejemplo de entrenamiento. Cuanto más grande es, más cerca deben estar otros ejemplos para verse afectados\n",
        "\n",
        "La elección adecuada de C y gamma es fundamental para el rendimiento de la SVM. Se recomienda usar GridSearchCV con C y gamma espaciado exponencialmente para elegir buenos valores."
      ],
      "metadata": {
        "id": "6v5ySlq-3HsB"
      }
    },
    {
      "cell_type": "code",
      "source": [
        "#Creo un clasificador con kernel radial y lo entreno sobre los datos escalados min-max\n",
        "clf = SVC(kernel='rbf', C=5, gamma=10)\n",
        "clf.fit(x_train_minmax, y_train)\n",
        "\n",
        "#Hago la predicción y calculo las métricas\n",
        "y_pred_rad=clf.predict(x_test_minmax)\n",
        "metricas(y_pred_rad,y_test)"
      ],
      "metadata": {
        "id": "OchSoy2f0ENC",
        "colab": {
          "base_uri": "https://localhost:8080/",
          "height": 605
        },
        "outputId": "ab3d2cb0-bf82-4536-dc50-ddc10a7c7a30"
      },
      "execution_count": null,
      "outputs": [
        {
          "output_type": "stream",
          "name": "stdout",
          "text": [
            "              precision    recall  f1-score   support\n",
            "\n",
            "           0       0.79      0.84      0.82      8831\n",
            "           1       0.82      0.77      0.80      8527\n",
            "\n",
            "    accuracy                           0.81     17358\n",
            "   macro avg       0.81      0.81      0.81     17358\n",
            "weighted avg       0.81      0.81      0.81     17358\n",
            "\n"
          ]
        },
        {
          "output_type": "display_data",
          "data": {
            "text/plain": [
              "<Figure size 640x480 with 2 Axes>"
            ],
            "image/png": "[encoded data removed]"
          },
          "metadata": {}
        }
      ]
    },
    {
      "cell_type": "markdown",
      "source": [
        "####Búsqueda de mejores hiperparámetros"
      ],
      "metadata": {
        "id": "Luel1DAVPfMl"
      }
    },
    {
      "cell_type": "code",
      "source": [
        "from sklearn.svm import SVC\n",
        "from sklearn.model_selection import RandomizedSearchCV\n",
        "\n",
        "param_dist = {'C': [0.1, 1, 10],'gamma': [0.001, 0.01, 0.1, 1]}\n",
        "svm = SVC(kernel='rbf')\n",
        "\n",
        "#Busco los mejores hiperparametros\n",
        "random_search = RandomizedSearchCV(svm, param_distributions=param_dist, n_iter=10, scoring='accuracy', cv=5)\n",
        "random_search.fit(x_train_minmax, y_train)\n",
        "\n",
        "#Los guardo\n",
        "best_params = random_search.best_params_\n",
        "\n",
        "#Entreno el modelo\n",
        "best_svm = SVC(kernel='rbf', C=best_params['C'], gamma=best_params['gamma'])\n",
        "best_svm.fit(x_train_minmax, y_train)"
      ],
      "metadata": {
        "id": "2tILU8ZNPh9j",
        "colab": {
          "base_uri": "https://localhost:8080/",
          "height": 75
        },
        "outputId": "4649ccff-d336-4d2e-8a02-44f7ec93511e"
      },
      "execution_count": null,
      "outputs": [
        {
          "output_type": "execute_result",
          "data": {
            "text/plain": [
              "SVC(C=10, gamma=1)"
            ],
            "text/html": [
              "<style>#sk-container-id-5 {color: black;background-color: white;}#sk-container-id-5 pre{padding: 0;}#sk-container-id-5 div.sk-toggleable {background-color: white;}#sk-container-id-5 label.sk-toggleable__label {cursor: pointer;display: block;width: 100%;margin-bottom: 0;padding: 0.3em;box-sizing: border-box;text-align: center;}#sk-container-id-5 label.sk-toggleable__label-arrow:before {content: \"▸\";float: left;margin-right: 0.25em;color: #696969;}#sk-container-id-5 label.sk-toggleable__label-arrow:hover:before {color: black;}#sk-container-id-5 div.sk-estimator:hover label.sk-toggleable__label-arrow:before {color: black;}#sk-container-id-5 div.sk-toggleable__content {max-height: 0;max-width: 0;overflow: hidden;text-align: left;background-color: #f0f8ff;}#sk-container-id-5 div.sk-toggleable__content pre {margin: 0.2em;color: black;border-radius: 0.25em;background-color: #f0f8ff;}#sk-container-id-5 input.sk-toggleable__control:checked~div.sk-toggleable__content {max-height: 200px;max-width: 100%;overflow: auto;}#sk-container-id-5 input.sk-toggleable__control:checked~label.sk-toggleable__label-arrow:before {content: \"▾\";}#sk-container-id-5 div.sk-estimator input.sk-toggleable__control:checked~label.sk-toggleable__label {background-color: #d4ebff;}#sk-container-id-5 div.sk-label input.sk-toggleable__control:checked~label.sk-toggleable__label {background-color: #d4ebff;}#sk-container-id-5 input.sk-hidden--visually {border: 0;clip: rect(1px 1px 1px 1px);clip: rect(1px, 1px, 1px, 1px);height: 1px;margin: -1px;overflow: hidden;padding: 0;position: absolute;width: 1px;}#sk-container-id-5 div.sk-estimator {font-family: monospace;background-color: #f0f8ff;border: 1px dotted black;border-radius: 0.25em;box-sizing: border-box;margin-bottom: 0.5em;}#sk-container-id-5 div.sk-estimator:hover {background-color: #d4ebff;}#sk-container-id-5 div.sk-parallel-item::after {content: \"\";width: 100%;border-bottom: 1px solid gray;flex-grow: 1;}#sk-container-id-5 div.sk-label:hover label.sk-toggleable__label {background-color: #d4ebff;}#sk-container-id-5 div.sk-serial::before {content: \"\";position: absolute;border-left: 1px solid gray;box-sizing: border-box;top: 0;bottom: 0;left: 50%;z-index: 0;}#sk-container-id-5 div.sk-serial {display: flex;flex-direction: column;align-items: center;background-color: white;padding-right: 0.2em;padding-left: 0.2em;position: relative;}#sk-container-id-5 div.sk-item {position: relative;z-index: 1;}#sk-container-id-5 div.sk-parallel {display: flex;align-items: stretch;justify-content: center;background-color: white;position: relative;}#sk-container-id-5 div.sk-item::before, #sk-container-id-5 div.sk-parallel-item::before {content: \"\";position: absolute;border-left: 1px solid gray;box-sizing: border-box;top: 0;bottom: 0;left: 50%;z-index: -1;}#sk-container-id-5 div.sk-parallel-item {display: flex;flex-direction: column;z-index: 1;position: relative;background-color: white;}#sk-container-id-5 div.sk-parallel-item:first-child::after {align-self: flex-end;width: 50%;}#sk-container-id-5 div.sk-parallel-item:last-child::after {align-self: flex-start;width: 50%;}#sk-container-id-5 div.sk-parallel-item:only-child::after {width: 0;}#sk-container-id-5 div.sk-dashed-wrapped {border: 1px dashed gray;margin: 0 0.4em 0.5em 0.4em;box-sizing: border-box;padding-bottom: 0.4em;background-color: white;}#sk-container-id-5 div.sk-label label {font-family: monospace;font-weight: bold;display: inline-block;line-height: 1.2em;}#sk-container-id-5 div.sk-label-container {text-align: center;}#sk-container-id-5 div.sk-container {/* jupyter's `normalize.less` sets `[hidden] { display: none; }` but bootstrap.min.css set `[hidden] { display: none !important; }` so we also need the `!important` here to be able to override the default hidden behavior on the sphinx rendered scikit-learn.org. See: https://github.com/scikit-learn/scikit-learn/issues/21755 */display: inline-block !important;position: relative;}#sk-container-id-5 div.sk-text-repr-fallback {display: none;}</style><div id=\"sk-container-id-5\" class=\"sk-top-container\"><div class=\"sk-text-repr-fallback\"><pre>SVC(C=10, gamma=1)</pre><b>In a Jupyter environment, please rerun this cell to show the HTML representation or trust the notebook. <br />On GitHub, the HTML representation is unable to render, please try loading this page with nbviewer.org.</b></div><div class=\"sk-container\" hidden><div class=\"sk-item\"><div class=\"sk-estimator sk-toggleable\"><input class=\"sk-toggleable__control sk-hidden--visually\" id=\"sk-estimator-id-5\" type=\"checkbox\" checked><label for=\"sk-estimator-id-5\" class=\"sk-toggleable__label sk-toggleable__label-arrow\">SVC</label><div class=\"sk-toggleable__content\"><pre>SVC(C=10, gamma=1)</pre></div></div></div></div></div>"
            ]
          },
          "metadata": {},
          "execution_count": 93
        }
      ]
    },
    {
      "cell_type": "code",
      "source": [
        "#Hago la predicción y calculo las métricas\n",
        "y_pred_rad_mejores_hiperparametros=best_svm.predict(x_test_minmax)\n",
        "metricas(y_pred_rad_mejores_hiperparametros,y_test)"
      ],
      "metadata": {
        "id": "PU_pi-YGQiUx",
        "colab": {
          "base_uri": "https://localhost:8080/",
          "height": 605
        },
        "outputId": "4b0816ad-09bc-403f-d043-964a125ba134"
      },
      "execution_count": null,
      "outputs": [
        {
          "output_type": "stream",
          "name": "stdout",
          "text": [
            "              precision    recall  f1-score   support\n",
            "\n",
            "           0       0.81      0.85      0.83      8831\n",
            "           1       0.83      0.79      0.81      8527\n",
            "\n",
            "    accuracy                           0.82     17358\n",
            "   macro avg       0.82      0.82      0.82     17358\n",
            "weighted avg       0.82      0.82      0.82     17358\n",
            "\n"
          ]
        },
        {
          "output_type": "display_data",
          "data": {
            "text/plain": [
              "<Figure size 640x480 with 2 Axes>"
            ],
            "image/png": "[encoded data removed]"
          },
          "metadata": {}
        }
      ]
    },
    {
      "cell_type": "code",
      "source": [
        "y_pred = best_svm.predict(df_test)"
      ],
      "metadata": {
        "id": "b_MUKNev-hZo"
      },
      "execution_count": null,
      "outputs": []
    },
    {
      "cell_type": "code",
      "source": [
        "ds_resultados=pd.DataFrame(zip(df_id['id'],y_pred),columns=['id','is_canceled'])\n",
        "ds_resultados.head(5)"
      ],
      "metadata": {
        "colab": {
          "base_uri": "https://localhost:8080/",
          "height": 206
        },
        "outputId": "ce2fcaac-7281-4b5d-a60f-9fe8ee2e8404",
        "id": "cP6ffRdY-hZo"
      },
      "execution_count": null,
      "outputs": [
        {
          "output_type": "execute_result",
          "data": {
            "text/plain": [
              "                                     id  is_canceled\n",
              "0  e6d0d58a-ab96-44d3-b28f-85df1cc15f1e            0\n",
              "1  aba9aac2-4495-4645-a60e-90328713c999            0\n",
              "2  b345b5dc-c804-4d77-a39f-1f4e65d1f1ad            0\n",
              "3  ce1b400e-afa1-4946-bdff-004b859eb61c            0\n",
              "4  c4fbec0d-8e2e-4db2-9d4f-a6ccb9f51214            0"
            ],
            "text/html": [
              "\n",
              "  <div id=\"df-21c78a82-8fe5-4b7f-a8ab-173a6a2fa48f\" class=\"colab-df-container\">\n",
              "    <div>\n",
              "<style scoped>\n",
              "    .dataframe tbody tr th:only-of-type {\n",
              "        vertical-align: middle;\n",
              "    }\n",
              "\n",
              "    .dataframe tbody tr th {\n",
              "        vertical-align: top;\n",
              "    }\n",
              "\n",
              "    .dataframe thead th {\n",
              "        text-align: right;\n",
              "    }\n",
              "</style>\n",
              "<table border=\"1\" class=\"dataframe\">\n",
              "  <thead>\n",
              "    <tr style=\"text-align: right;\">\n",
              "      <th></th>\n",
              "      <th>id</th>\n",
              "      <th>is_canceled</th>\n",
              "    </tr>\n",
              "  </thead>\n",
              "  <tbody>\n",
              "    <tr>\n",
              "      <th>0</th>\n",
              "      <td>e6d0d58a-ab96-44d3-b28f-85df1cc15f1e</td>\n",
              "      <td>0</td>\n",
              "    </tr>\n",
              "    <tr>\n",
              "      <th>1</th>\n",
              "      <td>aba9aac2-4495-4645-a60e-90328713c999</td>\n",
              "      <td>0</td>\n",
              "    </tr>\n",
              "    <tr>\n",
              "      <th>2</th>\n",
              "      <td>b345b5dc-c804-4d77-a39f-1f4e65d1f1ad</td>\n",
              "      <td>0</td>\n",
              "    </tr>\n",
              "    <tr>\n",
              "      <th>3</th>\n",
              "      <td>ce1b400e-afa1-4946-bdff-004b859eb61c</td>\n",
              "      <td>0</td>\n",
              "    </tr>\n",
              "    <tr>\n",
              "      <th>4</th>\n",
              "      <td>c4fbec0d-8e2e-4db2-9d4f-a6ccb9f51214</td>\n",
              "      <td>0</td>\n",
              "    </tr>\n",
              "  </tbody>\n",
              "</table>\n",
              "</div>\n",
              "    <div class=\"colab-df-buttons\">\n",
              "\n",
              "  <div class=\"colab-df-container\">\n",
              "    <button class=\"colab-df-convert\" onclick=\"convertToInteractive('df-21c78a82-8fe5-4b7f-a8ab-173a6a2fa48f')\"\n",
              "            title=\"Convert this dataframe to an interactive table.\"\n",
              "            style=\"display:none;\">\n",
              "\n",
              "  <svg xmlns=\"http://www.w3.org/2000/svg\" height=\"24px\" viewBox=\"0 -960 960 960\">\n",
              "    <path d=\"M120-120v-720h720v720H120Zm60-500h600v-160H180v160Zm220 220h160v-160H400v160Zm0 220h160v-160H400v160ZM180-400h160v-160H180v160Zm440 0h160v-160H620v160ZM180-180h160v-160H180v160Zm440 0h160v-160H620v160Z\"/>\n",
              "  </svg>\n",
              "    </button>\n",
              "\n",
              "  <style>\n",
              "    .colab-df-container {\n",
              "      display:flex;\n",
              "      gap: 12px;\n",
              "    }\n",
              "\n",
              "    .colab-df-convert {\n",
              "      background-color: #E8F0FE;\n",
              "      border: none;\n",
              "      border-radius: 50%;\n",
              "      cursor: pointer;\n",
              "      display: none;\n",
              "      fill: #1967D2;\n",
              "      height: 32px;\n",
              "      padding: 0 0 0 0;\n",
              "      width: 32px;\n",
              "    }\n",
              "\n",
              "    .colab-df-convert:hover {\n",
              "      background-color: #E2EBFA;\n",
              "      box-shadow: 0px 1px 2px rgba(60, 64, 67, 0.3), 0px 1px 3px 1px rgba(60, 64, 67, 0.15);\n",
              "      fill: #174EA6;\n",
              "    }\n",
              "\n",
              "    .colab-df-buttons div {\n",
              "      margin-bottom: 4px;\n",
              "    }\n",
              "\n",
              "    [theme=dark] .colab-df-convert {\n",
              "      background-color: #3B4455;\n",
              "      fill: #D2E3FC;\n",
              "    }\n",
              "\n",
              "    [theme=dark] .colab-df-convert:hover {\n",
              "      background-color: #434B5C;\n",
              "      box-shadow: 0px 1px 3px 1px rgba(0, 0, 0, 0.15);\n",
              "      filter: drop-shadow(0px 1px 2px rgba(0, 0, 0, 0.3));\n",
              "      fill: #FFFFFF;\n",
              "    }\n",
              "  </style>\n",
              "\n",
              "    <script>\n",
              "      const buttonEl =\n",
              "        document.querySelector('#df-21c78a82-8fe5-4b7f-a8ab-173a6a2fa48f button.colab-df-convert');\n",
              "      buttonEl.style.display =\n",
              "        google.colab.kernel.accessAllowed ? 'block' : 'none';\n",
              "\n",
              "      async function convertToInteractive(key) {\n",
              "        const element = document.querySelector('#df-21c78a82-8fe5-4b7f-a8ab-173a6a2fa48f');\n",
              "        const dataTable =\n",
              "          await google.colab.kernel.invokeFunction('convertToInteractive',\n",
              "                                                    [key], {});\n",
              "        if (!dataTable) return;\n",
              "\n",
              "        const docLinkHtml = 'Like what you see? Visit the ' +\n",
              "          '<a target=\"_blank\" href=https://colab.research.google.com/notebooks/data_table.ipynb>data table notebook</a>'\n",
              "          + ' to learn more about interactive tables.';\n",
              "        element.innerHTML = '';\n",
              "        dataTable['output_type'] = 'display_data';\n",
              "        await google.colab.output.renderOutput(dataTable, element);\n",
              "        const docLink = document.createElement('div');\n",
              "        docLink.innerHTML = docLinkHtml;\n",
              "        element.appendChild(docLink);\n",
              "      }\n",
              "    </script>\n",
              "  </div>\n",
              "\n",
              "\n",
              "<div id=\"df-15b6ce5c-cb8b-44bd-b47b-d9fad7c5b17e\">\n",
              "  <button class=\"colab-df-quickchart\" onclick=\"quickchart('df-15b6ce5c-cb8b-44bd-b47b-d9fad7c5b17e')\"\n",
              "            title=\"Suggest charts.\"\n",
              "            style=\"display:none;\">\n",
              "\n",
              "<svg xmlns=\"http://www.w3.org/2000/svg\" height=\"24px\"viewBox=\"0 0 24 24\"\n",
              "     width=\"24px\">\n",
              "    <g>\n",
              "        <path d=\"M19 3H5c-1.1 0-2 .9-2 2v14c0 1.1.9 2 2 2h14c1.1 0 2-.9 2-2V5c0-1.1-.9-2-2-2zM9 17H7v-7h2v7zm4 0h-2V7h2v10zm4 0h-2v-4h2v4z\"/>\n",
              "    </g>\n",
              "</svg>\n",
              "  </button>\n",
              "\n",
              "<style>\n",
              "  .colab-df-quickchart {\n",
              "      --bg-color: #E8F0FE;\n",
              "      --fill-color: #1967D2;\n",
              "      --hover-bg-color: #E2EBFA;\n",
              "      --hover-fill-color: #174EA6;\n",
              "      --disabled-fill-color: #AAA;\n",
              "      --disabled-bg-color: #DDD;\n",
              "  }\n",
              "\n",
              "  [theme=dark] .colab-df-quickchart {\n",
              "      --bg-color: #3B4455;\n",
              "      --fill-color: #D2E3FC;\n",
              "      --hover-bg-color: #434B5C;\n",
              "      --hover-fill-color: #FFFFFF;\n",
              "      --disabled-bg-color: #3B4455;\n",
              "      --disabled-fill-color: #666;\n",
              "  }\n",
              "\n",
              "  .colab-df-quickchart {\n",
              "    background-color: var(--bg-color);\n",
              "    border: none;\n",
              "    border-radius: 50%;\n",
              "    cursor: pointer;\n",
              "    display: none;\n",
              "    fill: var(--fill-color);\n",
              "    height: 32px;\n",
              "    padding: 0;\n",
              "    width: 32px;\n",
              "  }\n",
              "\n",
              "  .colab-df-quickchart:hover {\n",
              "    background-color: var(--hover-bg-color);\n",
              "    box-shadow: 0 1px 2px rgba(60, 64, 67, 0.3), 0 1px 3px 1px rgba(60, 64, 67, 0.15);\n",
              "    fill: var(--button-hover-fill-color);\n",
              "  }\n",
              "\n",
              "  .colab-df-quickchart-complete:disabled,\n",
              "  .colab-df-quickchart-complete:disabled:hover {\n",
              "    background-color: var(--disabled-bg-color);\n",
              "    fill: var(--disabled-fill-color);\n",
              "    box-shadow: none;\n",
              "  }\n",
              "\n",
              "  .colab-df-spinner {\n",
              "    border: 2px solid var(--fill-color);\n",
              "    border-color: transparent;\n",
              "    border-bottom-color: var(--fill-color);\n",
              "    animation:\n",
              "      spin 1s steps(1) infinite;\n",
              "  }\n",
              "\n",
              "  @keyframes spin {\n",
              "    0% {\n",
              "      border-color: transparent;\n",
              "      border-bottom-color: var(--fill-color);\n",
              "      border-left-color: var(--fill-color);\n",
              "    }\n",
              "    20% {\n",
              "      border-color: transparent;\n",
              "      border-left-color: var(--fill-color);\n",
              "      border-top-color: var(--fill-color);\n",
              "    }\n",
              "    30% {\n",
              "      border-color: transparent;\n",
              "      border-left-color: var(--fill-color);\n",
              "      border-top-color: var(--fill-color);\n",
              "      border-right-color: var(--fill-color);\n",
              "    }\n",
              "    40% {\n",
              "      border-color: transparent;\n",
              "      border-right-color: var(--fill-color);\n",
              "      border-top-color: var(--fill-color);\n",
              "    }\n",
              "    60% {\n",
              "      border-color: transparent;\n",
              "      border-right-color: var(--fill-color);\n",
              "    }\n",
              "    80% {\n",
              "      border-color: transparent;\n",
              "      border-right-color: var(--fill-color);\n",
              "      border-bottom-color: var(--fill-color);\n",
              "    }\n",
              "    90% {\n",
              "      border-color: transparent;\n",
              "      border-bottom-color: var(--fill-color);\n",
              "    }\n",
              "  }\n",
              "</style>\n",
              "\n",
              "  <script>\n",
              "    async function quickchart(key) {\n",
              "      const quickchartButtonEl =\n",
              "        document.querySelector('#' + key + ' button');\n",
              "      quickchartButtonEl.disabled = true;  // To prevent multiple clicks.\n",
              "      quickchartButtonEl.classList.add('colab-df-spinner');\n",
              "      try {\n",
              "        const charts = await google.colab.kernel.invokeFunction(\n",
              "            'suggestCharts', [key], {});\n",
              "      } catch (error) {\n",
              "        console.error('Error during call to suggestCharts:', error);\n",
              "      }\n",
              "      quickchartButtonEl.classList.remove('colab-df-spinner');\n",
              "      quickchartButtonEl.classList.add('colab-df-quickchart-complete');\n",
              "    }\n",
              "    (() => {\n",
              "      let quickchartButtonEl =\n",
              "        document.querySelector('#df-15b6ce5c-cb8b-44bd-b47b-d9fad7c5b17e button');\n",
              "      quickchartButtonEl.style.display =\n",
              "        google.colab.kernel.accessAllowed ? 'block' : 'none';\n",
              "    })();\n",
              "  </script>\n",
              "</div>\n",
              "    </div>\n",
              "  </div>\n"
            ]
          },
          "metadata": {},
          "execution_count": 96
        }
      ]
    },
    {
      "cell_type": "code",
      "source": [
        "ds_resultados.to_csv(\"prediccion_svm_radial_hotel.csv\", index = False)"
      ],
      "metadata": {
        "id": "vI-qIlNU-hZp"
      },
      "execution_count": null,
      "outputs": []
    },
    {
      "cell_type": "markdown",
      "source": [
        "##c. Ensamble Random Forest"
      ],
      "metadata": {
        "id": "1F8y_cZMjrzk"
      }
    },
    {
      "cell_type": "markdown",
      "source": [
        "Basados en el bootstrap vamos a usar bagging. Es un método para reducir la varianza dado un conjunto de observaciones independientes: promediar un conjunto de observaciones reduce la varianza. Con bootstrap tomamos muestras repetidas de un único conjunto de entrenamiento\n",
        "\n",
        "Vamos a construir un ensamble de árboles llamado random forest. Esto se hará tratando de construir árboles sin podar, que hagan overfitting, y cuando los promedio reduzco la varianza."
      ],
      "metadata": {
        "id": "Tbgzo9Ldj0WG"
      }
    },
    {
      "cell_type": "markdown",
      "source": [
        "Un ensamble Bagging con Random Forest reduce la varianza en el modelo predictivo al promover la diversidad entre los árboles y combinar sus predicciones."
      ],
      "metadata": {
        "id": "h4ZeJwXgllkG"
      }
    },
    {
      "cell_type": "markdown",
      "source": [
        "Vamos a tener un set de entrenamiento de n observaciones, tomamos una muestra de las observaciones de forma aleatoria y con reemplazo. Esta muestra construirá un arbol i.\n",
        "\n",
        "Si existen M variables de entrada, eligo m (un subconjunto de esas variables) tal que m < M, y cada vez que hago un split en un nodo voy a considerar sólo ese subconjunto de variables para encontrar la mejor división para ramificar el árbol\n",
        "\n",
        "El árbol crecerá hasta donde pueda. Se puede setear un ccp_alpha pero no es la idea.\n",
        "\n",
        "m es una constante que se puede setear, su hiperparámetro se llama max_features.\n"
      ],
      "metadata": {
        "id": "j5hQPOA7LpMV"
      }
    },
    {
      "cell_type": "markdown",
      "source": [
        "Cada uno de los siguientes parámetros se puede setear:"
      ],
      "metadata": {
        "id": "EW9OtX0lvHaM"
      }
    },
    {
      "cell_type": "code",
      "source": [
        "rfc_default = RandomForestClassifier()\n",
        "rfc_default.get_params()"
      ],
      "metadata": {
        "id": "42UjuJIG7bp9",
        "colab": {
          "base_uri": "https://localhost:8080/"
        },
        "outputId": "dc60e3cf-7405-4a10-dd37-aa3a46a4bd1a"
      },
      "execution_count": null,
      "outputs": [
        {
          "output_type": "execute_result",
          "data": {
            "text/plain": [
              "{'bootstrap': True,\n",
              " 'ccp_alpha': 0.0,\n",
              " 'class_weight': None,\n",
              " 'criterion': 'gini',\n",
              " 'max_depth': None,\n",
              " 'max_features': 'sqrt',\n",
              " 'max_leaf_nodes': None,\n",
              " 'max_samples': None,\n",
              " 'min_impurity_decrease': 0.0,\n",
              " 'min_samples_leaf': 1,\n",
              " 'min_samples_split': 2,\n",
              " 'min_weight_fraction_leaf': 0.0,\n",
              " 'n_estimators': 100,\n",
              " 'n_jobs': None,\n",
              " 'oob_score': False,\n",
              " 'random_state': None,\n",
              " 'verbose': 0,\n",
              " 'warm_start': False}"
            ]
          },
          "metadata": {},
          "execution_count": 27
        }
      ]
    },
    {
      "cell_type": "code",
      "execution_count": null,
      "metadata": {
        "id": "wR1GgL2TZruv",
        "colab": {
          "base_uri": "https://localhost:8080/",
          "height": 605
        },
        "outputId": "58e47866-05d3-4155-928c-a7fb2f32bcd4"
      },
      "outputs": [
        {
          "output_type": "stream",
          "name": "stdout",
          "text": [
            "              precision    recall  f1-score   support\n",
            "\n",
            "           0       0.81      0.88      0.85      8831\n",
            "           1       0.86      0.79      0.83      8527\n",
            "\n",
            "    accuracy                           0.84     17358\n",
            "   macro avg       0.84      0.84      0.84     17358\n",
            "weighted avg       0.84      0.84      0.84     17358\n",
            "\n"
          ]
        },
        {
          "output_type": "display_data",
          "data": {
            "text/plain": [
              "<Figure size 640x480 with 2 Axes>"
            ],
            "image/png": "[encoded data removed]"
          },
          "metadata": {}
        }
      ],
      "source": [
        "#Creamos un clasificador con hiperparámetros arbitrarios\n",
        "rfc = RandomForestClassifier(max_features='auto',\n",
        "                             oob_score=True,\n",
        "                             random_state=2,\n",
        "                             n_jobs=-1,\n",
        "                             criterion=\"entropy\",\n",
        "                             min_samples_leaf=5,\n",
        "                             min_samples_split=5,\n",
        "                             n_estimators=50 )\n",
        "#Entrenamos el modelo\n",
        "model = rfc.fit(X = x_train, y = y_train)\n",
        "\n",
        "#Realizamos una predicción sobre el set de test\n",
        "y_pred = model.predict(x_test)\n",
        "\n",
        "metricas(y_pred,y_test)"
      ]
    },
    {
      "cell_type": "code",
      "source": [
        "y_pred = model.predict(df_test)"
      ],
      "metadata": {
        "id": "PeB4Kp1sq4go"
      },
      "execution_count": null,
      "outputs": []
    },
    {
      "cell_type": "code",
      "source": [
        "ds_resultados=pd.DataFrame(zip(df_id['id'],y_pred),columns=['id','is_canceled'])\n",
        "ds_resultados.head(5)"
      ],
      "metadata": {
        "id": "Mmlzc4aiqdsz",
        "colab": {
          "base_uri": "https://localhost:8080/",
          "height": 206
        },
        "outputId": "d44233e5-58f2-4ba7-e325-6eb405fff2c5"
      },
      "execution_count": null,
      "outputs": [
        {
          "output_type": "execute_result",
          "data": {
            "text/plain": [
              "                                     id  is_canceled\n",
              "0  e6d0d58a-ab96-44d3-b28f-85df1cc15f1e            1\n",
              "1  aba9aac2-4495-4645-a60e-90328713c999            1\n",
              "2  b345b5dc-c804-4d77-a39f-1f4e65d1f1ad            0\n",
              "3  ce1b400e-afa1-4946-bdff-004b859eb61c            1\n",
              "4  c4fbec0d-8e2e-4db2-9d4f-a6ccb9f51214            1"
            ],
            "text/html": [
              "\n",
              "  <div id=\"df-59a3394c-4f5f-4791-8346-5df166aa1285\" class=\"colab-df-container\">\n",
              "    <div>\n",
              "<style scoped>\n",
              "    .dataframe tbody tr th:only-of-type {\n",
              "        vertical-align: middle;\n",
              "    }\n",
              "\n",
              "    .dataframe tbody tr th {\n",
              "        vertical-align: top;\n",
              "    }\n",
              "\n",
              "    .dataframe thead th {\n",
              "        text-align: right;\n",
              "    }\n",
              "</style>\n",
              "<table border=\"1\" class=\"dataframe\">\n",
              "  <thead>\n",
              "    <tr style=\"text-align: right;\">\n",
              "      <th></th>\n",
              "      <th>id</th>\n",
              "      <th>is_canceled</th>\n",
              "    </tr>\n",
              "  </thead>\n",
              "  <tbody>\n",
              "    <tr>\n",
              "      <th>0</th>\n",
              "      <td>e6d0d58a-ab96-44d3-b28f-85df1cc15f1e</td>\n",
              "      <td>1</td>\n",
              "    </tr>\n",
              "    <tr>\n",
              "      <th>1</th>\n",
              "      <td>aba9aac2-4495-4645-a60e-90328713c999</td>\n",
              "      <td>1</td>\n",
              "    </tr>\n",
              "    <tr>\n",
              "      <th>2</th>\n",
              "      <td>b345b5dc-c804-4d77-a39f-1f4e65d1f1ad</td>\n",
              "      <td>0</td>\n",
              "    </tr>\n",
              "    <tr>\n",
              "      <th>3</th>\n",
              "      <td>ce1b400e-afa1-4946-bdff-004b859eb61c</td>\n",
              "      <td>1</td>\n",
              "    </tr>\n",
              "    <tr>\n",
              "      <th>4</th>\n",
              "      <td>c4fbec0d-8e2e-4db2-9d4f-a6ccb9f51214</td>\n",
              "      <td>1</td>\n",
              "    </tr>\n",
              "  </tbody>\n",
              "</table>\n",
              "</div>\n",
              "    <div class=\"colab-df-buttons\">\n",
              "\n",
              "  <div class=\"colab-df-container\">\n",
              "    <button class=\"colab-df-convert\" onclick=\"convertToInteractive('df-59a3394c-4f5f-4791-8346-5df166aa1285')\"\n",
              "            title=\"Convert this dataframe to an interactive table.\"\n",
              "            style=\"display:none;\">\n",
              "\n",
              "  <svg xmlns=\"http://www.w3.org/2000/svg\" height=\"24px\" viewBox=\"0 -960 960 960\">\n",
              "    <path d=\"M120-120v-720h720v720H120Zm60-500h600v-160H180v160Zm220 220h160v-160H400v160Zm0 220h160v-160H400v160ZM180-400h160v-160H180v160Zm440 0h160v-160H620v160ZM180-180h160v-160H180v160Zm440 0h160v-160H620v160Z\"/>\n",
              "  </svg>\n",
              "    </button>\n",
              "\n",
              "  <style>\n",
              "    .colab-df-container {\n",
              "      display:flex;\n",
              "      gap: 12px;\n",
              "    }\n",
              "\n",
              "    .colab-df-convert {\n",
              "      background-color: #E8F0FE;\n",
              "      border: none;\n",
              "      border-radius: 50%;\n",
              "      cursor: pointer;\n",
              "      display: none;\n",
              "      fill: #1967D2;\n",
              "      height: 32px;\n",
              "      padding: 0 0 0 0;\n",
              "      width: 32px;\n",
              "    }\n",
              "\n",
              "    .colab-df-convert:hover {\n",
              "      background-color: #E2EBFA;\n",
              "      box-shadow: 0px 1px 2px rgba(60, 64, 67, 0.3), 0px 1px 3px 1px rgba(60, 64, 67, 0.15);\n",
              "      fill: #174EA6;\n",
              "    }\n",
              "\n",
              "    .colab-df-buttons div {\n",
              "      margin-bottom: 4px;\n",
              "    }\n",
              "\n",
              "    [theme=dark] .colab-df-convert {\n",
              "      background-color: #3B4455;\n",
              "      fill: #D2E3FC;\n",
              "    }\n",
              "\n",
              "    [theme=dark] .colab-df-convert:hover {\n",
              "      background-color: #434B5C;\n",
              "      box-shadow: 0px 1px 3px 1px rgba(0, 0, 0, 0.15);\n",
              "      filter: drop-shadow(0px 1px 2px rgba(0, 0, 0, 0.3));\n",
              "      fill: #FFFFFF;\n",
              "    }\n",
              "  </style>\n",
              "\n",
              "    <script>\n",
              "      const buttonEl =\n",
              "        document.querySelector('#df-59a3394c-4f5f-4791-8346-5df166aa1285 button.colab-df-convert');\n",
              "      buttonEl.style.display =\n",
              "        google.colab.kernel.accessAllowed ? 'block' : 'none';\n",
              "\n",
              "      async function convertToInteractive(key) {\n",
              "        const element = document.querySelector('#df-59a3394c-4f5f-4791-8346-5df166aa1285');\n",
              "        const dataTable =\n",
              "          await google.colab.kernel.invokeFunction('convertToInteractive',\n",
              "                                                    [key], {});\n",
              "        if (!dataTable) return;\n",
              "\n",
              "        const docLinkHtml = 'Like what you see? Visit the ' +\n",
              "          '<a target=\"_blank\" href=https://colab.research.google.com/notebooks/data_table.ipynb>data table notebook</a>'\n",
              "          + ' to learn more about interactive tables.';\n",
              "        element.innerHTML = '';\n",
              "        dataTable['output_type'] = 'display_data';\n",
              "        await google.colab.output.renderOutput(dataTable, element);\n",
              "        const docLink = document.createElement('div');\n",
              "        docLink.innerHTML = docLinkHtml;\n",
              "        element.appendChild(docLink);\n",
              "      }\n",
              "    </script>\n",
              "  </div>\n",
              "\n",
              "\n",
              "<div id=\"df-3621e266-b8cd-45b9-b4c1-dbd988acbc99\">\n",
              "  <button class=\"colab-df-quickchart\" onclick=\"quickchart('df-3621e266-b8cd-45b9-b4c1-dbd988acbc99')\"\n",
              "            title=\"Suggest charts.\"\n",
              "            style=\"display:none;\">\n",
              "\n",
              "<svg xmlns=\"http://www.w3.org/2000/svg\" height=\"24px\"viewBox=\"0 0 24 24\"\n",
              "     width=\"24px\">\n",
              "    <g>\n",
              "        <path d=\"M19 3H5c-1.1 0-2 .9-2 2v14c0 1.1.9 2 2 2h14c1.1 0 2-.9 2-2V5c0-1.1-.9-2-2-2zM9 17H7v-7h2v7zm4 0h-2V7h2v10zm4 0h-2v-4h2v4z\"/>\n",
              "    </g>\n",
              "</svg>\n",
              "  </button>\n",
              "\n",
              "<style>\n",
              "  .colab-df-quickchart {\n",
              "      --bg-color: #E8F0FE;\n",
              "      --fill-color: #1967D2;\n",
              "      --hover-bg-color: #E2EBFA;\n",
              "      --hover-fill-color: #174EA6;\n",
              "      --disabled-fill-color: #AAA;\n",
              "      --disabled-bg-color: #DDD;\n",
              "  }\n",
              "\n",
              "  [theme=dark] .colab-df-quickchart {\n",
              "      --bg-color: #3B4455;\n",
              "      --fill-color: #D2E3FC;\n",
              "      --hover-bg-color: #434B5C;\n",
              "      --hover-fill-color: #FFFFFF;\n",
              "      --disabled-bg-color: #3B4455;\n",
              "      --disabled-fill-color: #666;\n",
              "  }\n",
              "\n",
              "  .colab-df-quickchart {\n",
              "    background-color: var(--bg-color);\n",
              "    border: none;\n",
              "    border-radius: 50%;\n",
              "    cursor: pointer;\n",
              "    display: none;\n",
              "    fill: var(--fill-color);\n",
              "    height: 32px;\n",
              "    padding: 0;\n",
              "    width: 32px;\n",
              "  }\n",
              "\n",
              "  .colab-df-quickchart:hover {\n",
              "    background-color: var(--hover-bg-color);\n",
              "    box-shadow: 0 1px 2px rgba(60, 64, 67, 0.3), 0 1px 3px 1px rgba(60, 64, 67, 0.15);\n",
              "    fill: var(--button-hover-fill-color);\n",
              "  }\n",
              "\n",
              "  .colab-df-quickchart-complete:disabled,\n",
              "  .colab-df-quickchart-complete:disabled:hover {\n",
              "    background-color: var(--disabled-bg-color);\n",
              "    fill: var(--disabled-fill-color);\n",
              "    box-shadow: none;\n",
              "  }\n",
              "\n",
              "  .colab-df-spinner {\n",
              "    border: 2px solid var(--fill-color);\n",
              "    border-color: transparent;\n",
              "    border-bottom-color: var(--fill-color);\n",
              "    animation:\n",
              "      spin 1s steps(1) infinite;\n",
              "  }\n",
              "\n",
              "  @keyframes spin {\n",
              "    0% {\n",
              "      border-color: transparent;\n",
              "      border-bottom-color: var(--fill-color);\n",
              "      border-left-color: var(--fill-color);\n",
              "    }\n",
              "    20% {\n",
              "      border-color: transparent;\n",
              "      border-left-color: var(--fill-color);\n",
              "      border-top-color: var(--fill-color);\n",
              "    }\n",
              "    30% {\n",
              "      border-color: transparent;\n",
              "      border-left-color: var(--fill-color);\n",
              "      border-top-color: var(--fill-color);\n",
              "      border-right-color: var(--fill-color);\n",
              "    }\n",
              "    40% {\n",
              "      border-color: transparent;\n",
              "      border-right-color: var(--fill-color);\n",
              "      border-top-color: var(--fill-color);\n",
              "    }\n",
              "    60% {\n",
              "      border-color: transparent;\n",
              "      border-right-color: var(--fill-color);\n",
              "    }\n",
              "    80% {\n",
              "      border-color: transparent;\n",
              "      border-right-color: var(--fill-color);\n",
              "      border-bottom-color: var(--fill-color);\n",
              "    }\n",
              "    90% {\n",
              "      border-color: transparent;\n",
              "      border-bottom-color: var(--fill-color);\n",
              "    }\n",
              "  }\n",
              "</style>\n",
              "\n",
              "  <script>\n",
              "    async function quickchart(key) {\n",
              "      const quickchartButtonEl =\n",
              "        document.querySelector('#' + key + ' button');\n",
              "      quickchartButtonEl.disabled = true;  // To prevent multiple clicks.\n",
              "      quickchartButtonEl.classList.add('colab-df-spinner');\n",
              "      try {\n",
              "        const charts = await google.colab.kernel.invokeFunction(\n",
              "            'suggestCharts', [key], {});\n",
              "      } catch (error) {\n",
              "        console.error('Error during call to suggestCharts:', error);\n",
              "      }\n",
              "      quickchartButtonEl.classList.remove('colab-df-spinner');\n",
              "      quickchartButtonEl.classList.add('colab-df-quickchart-complete');\n",
              "    }\n",
              "    (() => {\n",
              "      let quickchartButtonEl =\n",
              "        document.querySelector('#df-3621e266-b8cd-45b9-b4c1-dbd988acbc99 button');\n",
              "      quickchartButtonEl.style.display =\n",
              "        google.colab.kernel.accessAllowed ? 'block' : 'none';\n",
              "    })();\n",
              "  </script>\n",
              "</div>\n",
              "    </div>\n",
              "  </div>\n"
            ]
          },
          "metadata": {},
          "execution_count": 30
        }
      ]
    },
    {
      "cell_type": "code",
      "source": [
        "ds_resultados.shape"
      ],
      "metadata": {
        "id": "e819gjh9qiEu",
        "colab": {
          "base_uri": "https://localhost:8080/"
        },
        "outputId": "1437c52e-43ac-424e-80e3-e98076fab469"
      },
      "execution_count": null,
      "outputs": [
        {
          "output_type": "execute_result",
          "data": {
            "text/plain": [
              "(26535, 2)"
            ]
          },
          "metadata": {},
          "execution_count": 31
        }
      ]
    },
    {
      "cell_type": "code",
      "source": [
        "ds_resultados.to_csv(\"prediccion_ensamble_RF_hotel.csv\", index = False)"
      ],
      "metadata": {
        "id": "j3iY33G4qdsz"
      },
      "execution_count": null,
      "outputs": []
    },
    {
      "cell_type": "markdown",
      "source": [
        "###Búsqueda de mejores hiperparámetros"
      ],
      "metadata": {
        "id": "bPhGg-6X2_Q5"
      }
    },
    {
      "cell_type": "code",
      "source": [
        "params_grid = {\n",
        "    'n_estimators': list(range(50,200)),  # Número de árboles en el ensamble\n",
        "    'max_features': ['auto', 'sqrt', 'log2'],  # Número máximo de características a considerar en cada división\n",
        "    'min_samples_split': list(range(5,15)),  # Número mínimo de muestras requeridas para dividir un nodo\n",
        "    'min_samples_leaf': list(range(5,15)),  # Número mínimo de muestras requeridas en un nodo hoja\n",
        "    'bootstrap': [True, False],  # Si se deben usar muestras de arranque en la construcción de árboles\n",
        "    'criterion': ['gini', 'entropy']  # Función para medir la calidad de la división\n",
        "    }"
      ],
      "metadata": {
        "id": "2E3-tUCi3Ejj"
      },
      "execution_count": null,
      "outputs": []
    },
    {
      "cell_type": "code",
      "source": [
        "#Clasificador RF\n",
        "rfc_default = RandomForestClassifier(random_state=2, n_jobs=-1,)\n",
        "\n",
        "#Random Search\n",
        "randomcv = RandomizedSearchCV(rfc_default, params_grid, cv=20, scoring='f1', n_iter=30, random_state=5)\n",
        "\n",
        "randomcv_prueba = randomcv.fit(x_train, y_train)\n",
        "\n",
        "print(str(randomcv_prueba.best_params_))\n",
        "print(str(randomcv_prueba.best_score_))"
      ],
      "metadata": {
        "id": "7dtqydzu3KpR",
        "colab": {
          "base_uri": "https://localhost:8080/"
        },
        "outputId": "07785d9c-85a1-48c2-c9b0-23f8f9cc26d0"
      },
      "execution_count": null,
      "outputs": [
        {
          "output_type": "stream",
          "name": "stdout",
          "text": [
            "{'n_estimators': 64, 'min_samples_split': 12, 'min_samples_leaf': 6, 'max_features': 'sqrt', 'criterion': 'gini', 'bootstrap': False}\n",
            "0.8301613946294399\n"
          ]
        }
      ]
    },
    {
      "cell_type": "code",
      "source": [
        "rf_final = randomcv_prueba.best_estimator_\n",
        "\n",
        "y_pred = rf_final.predict(x_test)\n",
        "\n",
        "metricas(y_pred,y_test)"
      ],
      "metadata": {
        "colab": {
          "base_uri": "https://localhost:8080/",
          "height": 605
        },
        "id": "W8arBI61Ye0O",
        "outputId": "e60fc241-1e2a-44dc-bd2b-ca5780cb6e6d"
      },
      "execution_count": null,
      "outputs": [
        {
          "output_type": "stream",
          "name": "stdout",
          "text": [
            "              precision    recall  f1-score   support\n",
            "\n",
            "           0       0.82      0.88      0.85      8831\n",
            "           1       0.87      0.80      0.83      8527\n",
            "\n",
            "    accuracy                           0.84     17358\n",
            "   macro avg       0.84      0.84      0.84     17358\n",
            "weighted avg       0.84      0.84      0.84     17358\n",
            "\n"
          ]
        },
        {
          "output_type": "display_data",
          "data": {
            "text/plain": [
              "<Figure size 640x480 with 2 Axes>"
            ],
            "image/png": "[encoded data removed]"
          },
          "metadata": {}
        }
      ]
    },
    {
      "cell_type": "code",
      "source": [
        "y_pred = rf_final.predict(df_test)"
      ],
      "metadata": {
        "id": "_VnjL6afRd52"
      },
      "execution_count": null,
      "outputs": []
    },
    {
      "cell_type": "code",
      "source": [
        "ds_resultados=pd.DataFrame(zip(df_id['id'],y_pred),columns=['id','is_canceled'])\n",
        "ds_resultados.head(5)"
      ],
      "metadata": {
        "colab": {
          "base_uri": "https://localhost:8080/",
          "height": 206
        },
        "outputId": "a532ef21-cbfe-4680-85fd-1423c67b686e",
        "id": "UPVQqaS8Rd53"
      },
      "execution_count": null,
      "outputs": [
        {
          "output_type": "execute_result",
          "data": {
            "text/plain": [
              "                                     id  is_canceled\n",
              "0  e6d0d58a-ab96-44d3-b28f-85df1cc15f1e            1\n",
              "1  aba9aac2-4495-4645-a60e-90328713c999            1\n",
              "2  b345b5dc-c804-4d77-a39f-1f4e65d1f1ad            0\n",
              "3  ce1b400e-afa1-4946-bdff-004b859eb61c            1\n",
              "4  c4fbec0d-8e2e-4db2-9d4f-a6ccb9f51214            1"
            ],
            "text/html": [
              "\n",
              "  <div id=\"df-74b18a3f-96bf-4c25-b1f3-5983a1459827\" class=\"colab-df-container\">\n",
              "    <div>\n",
              "<style scoped>\n",
              "    .dataframe tbody tr th:only-of-type {\n",
              "        vertical-align: middle;\n",
              "    }\n",
              "\n",
              "    .dataframe tbody tr th {\n",
              "        vertical-align: top;\n",
              "    }\n",
              "\n",
              "    .dataframe thead th {\n",
              "        text-align: right;\n",
              "    }\n",
              "</style>\n",
              "<table border=\"1\" class=\"dataframe\">\n",
              "  <thead>\n",
              "    <tr style=\"text-align: right;\">\n",
              "      <th></th>\n",
              "      <th>id</th>\n",
              "      <th>is_canceled</th>\n",
              "    </tr>\n",
              "  </thead>\n",
              "  <tbody>\n",
              "    <tr>\n",
              "      <th>0</th>\n",
              "      <td>e6d0d58a-ab96-44d3-b28f-85df1cc15f1e</td>\n",
              "      <td>1</td>\n",
              "    </tr>\n",
              "    <tr>\n",
              "      <th>1</th>\n",
              "      <td>aba9aac2-4495-4645-a60e-90328713c999</td>\n",
              "      <td>1</td>\n",
              "    </tr>\n",
              "    <tr>\n",
              "      <th>2</th>\n",
              "      <td>b345b5dc-c804-4d77-a39f-1f4e65d1f1ad</td>\n",
              "      <td>0</td>\n",
              "    </tr>\n",
              "    <tr>\n",
              "      <th>3</th>\n",
              "      <td>ce1b400e-afa1-4946-bdff-004b859eb61c</td>\n",
              "      <td>1</td>\n",
              "    </tr>\n",
              "    <tr>\n",
              "      <th>4</th>\n",
              "      <td>c4fbec0d-8e2e-4db2-9d4f-a6ccb9f51214</td>\n",
              "      <td>1</td>\n",
              "    </tr>\n",
              "  </tbody>\n",
              "</table>\n",
              "</div>\n",
              "    <div class=\"colab-df-buttons\">\n",
              "\n",
              "  <div class=\"colab-df-container\">\n",
              "    <button class=\"colab-df-convert\" onclick=\"convertToInteractive('df-74b18a3f-96bf-4c25-b1f3-5983a1459827')\"\n",
              "            title=\"Convert this dataframe to an interactive table.\"\n",
              "            style=\"display:none;\">\n",
              "\n",
              "  <svg xmlns=\"http://www.w3.org/2000/svg\" height=\"24px\" viewBox=\"0 -960 960 960\">\n",
              "    <path d=\"M120-120v-720h720v720H120Zm60-500h600v-160H180v160Zm220 220h160v-160H400v160Zm0 220h160v-160H400v160ZM180-400h160v-160H180v160Zm440 0h160v-160H620v160ZM180-180h160v-160H180v160Zm440 0h160v-160H620v160Z\"/>\n",
              "  </svg>\n",
              "    </button>\n",
              "\n",
              "  <style>\n",
              "    .colab-df-container {\n",
              "      display:flex;\n",
              "      gap: 12px;\n",
              "    }\n",
              "\n",
              "    .colab-df-convert {\n",
              "      background-color: #E8F0FE;\n",
              "      border: none;\n",
              "      border-radius: 50%;\n",
              "      cursor: pointer;\n",
              "      display: none;\n",
              "      fill: #1967D2;\n",
              "      height: 32px;\n",
              "      padding: 0 0 0 0;\n",
              "      width: 32px;\n",
              "    }\n",
              "\n",
              "    .colab-df-convert:hover {\n",
              "      background-color: #E2EBFA;\n",
              "      box-shadow: 0px 1px 2px rgba(60, 64, 67, 0.3), 0px 1px 3px 1px rgba(60, 64, 67, 0.15);\n",
              "      fill: #174EA6;\n",
              "    }\n",
              "\n",
              "    .colab-df-buttons div {\n",
              "      margin-bottom: 4px;\n",
              "    }\n",
              "\n",
              "    [theme=dark] .colab-df-convert {\n",
              "      background-color: #3B4455;\n",
              "      fill: #D2E3FC;\n",
              "    }\n",
              "\n",
              "    [theme=dark] .colab-df-convert:hover {\n",
              "      background-color: #434B5C;\n",
              "      box-shadow: 0px 1px 3px 1px rgba(0, 0, 0, 0.15);\n",
              "      filter: drop-shadow(0px 1px 2px rgba(0, 0, 0, 0.3));\n",
              "      fill: #FFFFFF;\n",
              "    }\n",
              "  </style>\n",
              "\n",
              "    <script>\n",
              "      const buttonEl =\n",
              "        document.querySelector('#df-74b18a3f-96bf-4c25-b1f3-5983a1459827 button.colab-df-convert');\n",
              "      buttonEl.style.display =\n",
              "        google.colab.kernel.accessAllowed ? 'block' : 'none';\n",
              "\n",
              "      async function convertToInteractive(key) {\n",
              "        const element = document.querySelector('#df-74b18a3f-96bf-4c25-b1f3-5983a1459827');\n",
              "        const dataTable =\n",
              "          await google.colab.kernel.invokeFunction('convertToInteractive',\n",
              "                                                    [key], {});\n",
              "        if (!dataTable) return;\n",
              "\n",
              "        const docLinkHtml = 'Like what you see? Visit the ' +\n",
              "          '<a target=\"_blank\" href=https://colab.research.google.com/notebooks/data_table.ipynb>data table notebook</a>'\n",
              "          + ' to learn more about interactive tables.';\n",
              "        element.innerHTML = '';\n",
              "        dataTable['output_type'] = 'display_data';\n",
              "        await google.colab.output.renderOutput(dataTable, element);\n",
              "        const docLink = document.createElement('div');\n",
              "        docLink.innerHTML = docLinkHtml;\n",
              "        element.appendChild(docLink);\n",
              "      }\n",
              "    </script>\n",
              "  </div>\n",
              "\n",
              "\n",
              "<div id=\"df-c34dde2c-8895-4693-9124-23f7ac1faaab\">\n",
              "  <button class=\"colab-df-quickchart\" onclick=\"quickchart('df-c34dde2c-8895-4693-9124-23f7ac1faaab')\"\n",
              "            title=\"Suggest charts.\"\n",
              "            style=\"display:none;\">\n",
              "\n",
              "<svg xmlns=\"http://www.w3.org/2000/svg\" height=\"24px\"viewBox=\"0 0 24 24\"\n",
              "     width=\"24px\">\n",
              "    <g>\n",
              "        <path d=\"M19 3H5c-1.1 0-2 .9-2 2v14c0 1.1.9 2 2 2h14c1.1 0 2-.9 2-2V5c0-1.1-.9-2-2-2zM9 17H7v-7h2v7zm4 0h-2V7h2v10zm4 0h-2v-4h2v4z\"/>\n",
              "    </g>\n",
              "</svg>\n",
              "  </button>\n",
              "\n",
              "<style>\n",
              "  .colab-df-quickchart {\n",
              "      --bg-color: #E8F0FE;\n",
              "      --fill-color: #1967D2;\n",
              "      --hover-bg-color: #E2EBFA;\n",
              "      --hover-fill-color: #174EA6;\n",
              "      --disabled-fill-color: #AAA;\n",
              "      --disabled-bg-color: #DDD;\n",
              "  }\n",
              "\n",
              "  [theme=dark] .colab-df-quickchart {\n",
              "      --bg-color: #3B4455;\n",
              "      --fill-color: #D2E3FC;\n",
              "      --hover-bg-color: #434B5C;\n",
              "      --hover-fill-color: #FFFFFF;\n",
              "      --disabled-bg-color: #3B4455;\n",
              "      --disabled-fill-color: #666;\n",
              "  }\n",
              "\n",
              "  .colab-df-quickchart {\n",
              "    background-color: var(--bg-color);\n",
              "    border: none;\n",
              "    border-radius: 50%;\n",
              "    cursor: pointer;\n",
              "    display: none;\n",
              "    fill: var(--fill-color);\n",
              "    height: 32px;\n",
              "    padding: 0;\n",
              "    width: 32px;\n",
              "  }\n",
              "\n",
              "  .colab-df-quickchart:hover {\n",
              "    background-color: var(--hover-bg-color);\n",
              "    box-shadow: 0 1px 2px rgba(60, 64, 67, 0.3), 0 1px 3px 1px rgba(60, 64, 67, 0.15);\n",
              "    fill: var(--button-hover-fill-color);\n",
              "  }\n",
              "\n",
              "  .colab-df-quickchart-complete:disabled,\n",
              "  .colab-df-quickchart-complete:disabled:hover {\n",
              "    background-color: var(--disabled-bg-color);\n",
              "    fill: var(--disabled-fill-color);\n",
              "    box-shadow: none;\n",
              "  }\n",
              "\n",
              "  .colab-df-spinner {\n",
              "    border: 2px solid var(--fill-color);\n",
              "    border-color: transparent;\n",
              "    border-bottom-color: var(--fill-color);\n",
              "    animation:\n",
              "      spin 1s steps(1) infinite;\n",
              "  }\n",
              "\n",
              "  @keyframes spin {\n",
              "    0% {\n",
              "      border-color: transparent;\n",
              "      border-bottom-color: var(--fill-color);\n",
              "      border-left-color: var(--fill-color);\n",
              "    }\n",
              "    20% {\n",
              "      border-color: transparent;\n",
              "      border-left-color: var(--fill-color);\n",
              "      border-top-color: var(--fill-color);\n",
              "    }\n",
              "    30% {\n",
              "      border-color: transparent;\n",
              "      border-left-color: var(--fill-color);\n",
              "      border-top-color: var(--fill-color);\n",
              "      border-right-color: var(--fill-color);\n",
              "    }\n",
              "    40% {\n",
              "      border-color: transparent;\n",
              "      border-right-color: var(--fill-color);\n",
              "      border-top-color: var(--fill-color);\n",
              "    }\n",
              "    60% {\n",
              "      border-color: transparent;\n",
              "      border-right-color: var(--fill-color);\n",
              "    }\n",
              "    80% {\n",
              "      border-color: transparent;\n",
              "      border-right-color: var(--fill-color);\n",
              "      border-bottom-color: var(--fill-color);\n",
              "    }\n",
              "    90% {\n",
              "      border-color: transparent;\n",
              "      border-bottom-color: var(--fill-color);\n",
              "    }\n",
              "  }\n",
              "</style>\n",
              "\n",
              "  <script>\n",
              "    async function quickchart(key) {\n",
              "      const quickchartButtonEl =\n",
              "        document.querySelector('#' + key + ' button');\n",
              "      quickchartButtonEl.disabled = true;  // To prevent multiple clicks.\n",
              "      quickchartButtonEl.classList.add('colab-df-spinner');\n",
              "      try {\n",
              "        const charts = await google.colab.kernel.invokeFunction(\n",
              "            'suggestCharts', [key], {});\n",
              "      } catch (error) {\n",
              "        console.error('Error during call to suggestCharts:', error);\n",
              "      }\n",
              "      quickchartButtonEl.classList.remove('colab-df-spinner');\n",
              "      quickchartButtonEl.classList.add('colab-df-quickchart-complete');\n",
              "    }\n",
              "    (() => {\n",
              "      let quickchartButtonEl =\n",
              "        document.querySelector('#df-c34dde2c-8895-4693-9124-23f7ac1faaab button');\n",
              "      quickchartButtonEl.style.display =\n",
              "        google.colab.kernel.accessAllowed ? 'block' : 'none';\n",
              "    })();\n",
              "  </script>\n",
              "</div>\n",
              "    </div>\n",
              "  </div>\n"
            ]
          },
          "metadata": {},
          "execution_count": 37
        }
      ]
    },
    {
      "cell_type": "code",
      "source": [
        "ds_resultados.to_csv(\"prediccion_ensamble_RF2_hotel.csv\", index = False)"
      ],
      "metadata": {
        "id": "un0c4furRd53"
      },
      "execution_count": null,
      "outputs": []
    },
    {
      "cell_type": "markdown",
      "source": [
        "## d. Clasificador XGBoost"
      ],
      "metadata": {
        "id": "bttlJpXcxfTo"
      }
    },
    {
      "cell_type": "markdown",
      "source": [
        "Está basado en boosting y construye un conjunto de árboles de forma secuencial, y cada uno se enfoca en corregir los errores de los anteriores. Incluye términos de regularización en la función de pérdida para controlar el sobreajuste y mejorar la generalización del modelo.\n"
      ],
      "metadata": {
        "id": "muWjUXm04ADw"
      }
    },
    {
      "cell_type": "code",
      "source": [
        "#Creo el modelo y lo entreno\n",
        "\n",
        "xgb_model = xgb.XGBClassifier(random_state=0, n_estimators=100)\n",
        "xgb_model.fit(x_train, y_train)"
      ],
      "metadata": {
        "id": "w0BEfzPF2p__",
        "colab": {
          "base_uri": "https://localhost:8080/",
          "height": 248
        },
        "outputId": "21fad01c-477a-4d24-acc4-d9efee3f552b"
      },
      "execution_count": null,
      "outputs": [
        {
          "output_type": "execute_result",
          "data": {
            "text/plain": [
              "XGBClassifier(base_score=None, booster=None, callbacks=None,\n",
              "              colsample_bylevel=None, colsample_bynode=None,\n",
              "              colsample_bytree=None, device=None, early_stopping_rounds=None,\n",
              "              enable_categorical=False, eval_metric=None, feature_types=None,\n",
              "              gamma=None, grow_policy=None, importance_type=None,\n",
              "              interaction_constraints=None, learning_rate=None, max_bin=None,\n",
              "              max_cat_threshold=None, max_cat_to_onehot=None,\n",
              "              max_delta_step=None, max_depth=None, max_leaves=None,\n",
              "              min_child_weight=None, missing=nan, monotone_constraints=None,\n",
              "              multi_strategy=None, n_estimators=100, n_jobs=None,\n",
              "              num_parallel_tree=None, random_state=0, ...)"
            ],
            "text/html": [
              "<style>#sk-container-id-3 {color: black;background-color: white;}#sk-container-id-3 pre{padding: 0;}#sk-container-id-3 div.sk-toggleable {background-color: white;}#sk-container-id-3 label.sk-toggleable__label {cursor: pointer;display: block;width: 100%;margin-bottom: 0;padding: 0.3em;box-sizing: border-box;text-align: center;}#sk-container-id-3 label.sk-toggleable__label-arrow:before {content: \"▸\";float: left;margin-right: 0.25em;color: #696969;}#sk-container-id-3 label.sk-toggleable__label-arrow:hover:before {color: black;}#sk-container-id-3 div.sk-estimator:hover label.sk-toggleable__label-arrow:before {color: black;}#sk-container-id-3 div.sk-toggleable__content {max-height: 0;max-width: 0;overflow: hidden;text-align: left;background-color: #f0f8ff;}#sk-container-id-3 div.sk-toggleable__content pre {margin: 0.2em;color: black;border-radius: 0.25em;background-color: #f0f8ff;}#sk-container-id-3 input.sk-toggleable__control:checked~div.sk-toggleable__content {max-height: 200px;max-width: 100%;overflow: auto;}#sk-container-id-3 input.sk-toggleable__control:checked~label.sk-toggleable__label-arrow:before {content: \"▾\";}#sk-container-id-3 div.sk-estimator input.sk-toggleable__control:checked~label.sk-toggleable__label {background-color: #d4ebff;}#sk-container-id-3 div.sk-label input.sk-toggleable__control:checked~label.sk-toggleable__label {background-color: #d4ebff;}#sk-container-id-3 input.sk-hidden--visually {border: 0;clip: rect(1px 1px 1px 1px);clip: rect(1px, 1px, 1px, 1px);height: 1px;margin: -1px;overflow: hidden;padding: 0;position: absolute;width: 1px;}#sk-container-id-3 div.sk-estimator {font-family: monospace;background-color: #f0f8ff;border: 1px dotted black;border-radius: 0.25em;box-sizing: border-box;margin-bottom: 0.5em;}#sk-container-id-3 div.sk-estimator:hover {background-color: #d4ebff;}#sk-container-id-3 div.sk-parallel-item::after {content: \"\";width: 100%;border-bottom: 1px solid gray;flex-grow: 1;}#sk-container-id-3 div.sk-label:hover label.sk-toggleable__label {background-color: #d4ebff;}#sk-container-id-3 div.sk-serial::before {content: \"\";position: absolute;border-left: 1px solid gray;box-sizing: border-box;top: 0;bottom: 0;left: 50%;z-index: 0;}#sk-container-id-3 div.sk-serial {display: flex;flex-direction: column;align-items: center;background-color: white;padding-right: 0.2em;padding-left: 0.2em;position: relative;}#sk-container-id-3 div.sk-item {position: relative;z-index: 1;}#sk-container-id-3 div.sk-parallel {display: flex;align-items: stretch;justify-content: center;background-color: white;position: relative;}#sk-container-id-3 div.sk-item::before, #sk-container-id-3 div.sk-parallel-item::before {content: \"\";position: absolute;border-left: 1px solid gray;box-sizing: border-box;top: 0;bottom: 0;left: 50%;z-index: -1;}#sk-container-id-3 div.sk-parallel-item {display: flex;flex-direction: column;z-index: 1;position: relative;background-color: white;}#sk-container-id-3 div.sk-parallel-item:first-child::after {align-self: flex-end;width: 50%;}#sk-container-id-3 div.sk-parallel-item:last-child::after {align-self: flex-start;width: 50%;}#sk-container-id-3 div.sk-parallel-item:only-child::after {width: 0;}#sk-container-id-3 div.sk-dashed-wrapped {border: 1px dashed gray;margin: 0 0.4em 0.5em 0.4em;box-sizing: border-box;padding-bottom: 0.4em;background-color: white;}#sk-container-id-3 div.sk-label label {font-family: monospace;font-weight: bold;display: inline-block;line-height: 1.2em;}#sk-container-id-3 div.sk-label-container {text-align: center;}#sk-container-id-3 div.sk-container {/* jupyter's `normalize.less` sets `[hidden] { display: none; }` but bootstrap.min.css set `[hidden] { display: none !important; }` so we also need the `!important` here to be able to override the default hidden behavior on the sphinx rendered scikit-learn.org. See: https://github.com/scikit-learn/scikit-learn/issues/21755 */display: inline-block !important;position: relative;}#sk-container-id-3 div.sk-text-repr-fallback {display: none;}</style><div id=\"sk-container-id-3\" class=\"sk-top-container\"><div class=\"sk-text-repr-fallback\"><pre>XGBClassifier(base_score=None, booster=None, callbacks=None,\n",
              "              colsample_bylevel=None, colsample_bynode=None,\n",
              "              colsample_bytree=None, device=None, early_stopping_rounds=None,\n",
              "              enable_categorical=False, eval_metric=None, feature_types=None,\n",
              "              gamma=None, grow_policy=None, importance_type=None,\n",
              "              interaction_constraints=None, learning_rate=None, max_bin=None,\n",
              "              max_cat_threshold=None, max_cat_to_onehot=None,\n",
              "              max_delta_step=None, max_depth=None, max_leaves=None,\n",
              "              min_child_weight=None, missing=nan, monotone_constraints=None,\n",
              "              multi_strategy=None, n_estimators=100, n_jobs=None,\n",
              "              num_parallel_tree=None, random_state=0, ...)</pre><b>In a Jupyter environment, please rerun this cell to show the HTML representation or trust the notebook. <br />On GitHub, the HTML representation is unable to render, please try loading this page with nbviewer.org.</b></div><div class=\"sk-container\" hidden><div class=\"sk-item\"><div class=\"sk-estimator sk-toggleable\"><input class=\"sk-toggleable__control sk-hidden--visually\" id=\"sk-estimator-id-3\" type=\"checkbox\" checked><label for=\"sk-estimator-id-3\" class=\"sk-toggleable__label sk-toggleable__label-arrow\">XGBClassifier</label><div class=\"sk-toggleable__content\"><pre>XGBClassifier(base_score=None, booster=None, callbacks=None,\n",
              "              colsample_bylevel=None, colsample_bynode=None,\n",
              "              colsample_bytree=None, device=None, early_stopping_rounds=None,\n",
              "              enable_categorical=False, eval_metric=None, feature_types=None,\n",
              "              gamma=None, grow_policy=None, importance_type=None,\n",
              "              interaction_constraints=None, learning_rate=None, max_bin=None,\n",
              "              max_cat_threshold=None, max_cat_to_onehot=None,\n",
              "              max_delta_step=None, max_depth=None, max_leaves=None,\n",
              "              min_child_weight=None, missing=nan, monotone_constraints=None,\n",
              "              multi_strategy=None, n_estimators=100, n_jobs=None,\n",
              "              num_parallel_tree=None, random_state=0, ...)</pre></div></div></div></div></div>"
            ]
          },
          "metadata": {},
          "execution_count": 40
        }
      ]
    },
    {
      "cell_type": "code",
      "source": [
        "#Evaluo en el set de test\n",
        "y_pred_proba= xgb_model.predict_proba(x_test)[:, 1]\n",
        "\n",
        "#Realizamos una predicción sobre el set de test\n",
        "y_pred = xgb_model.predict(x_test)\n",
        "\n",
        "metricas(y_pred,y_test)"
      ],
      "metadata": {
        "id": "4JKDZcD_yAw-",
        "colab": {
          "base_uri": "https://localhost:8080/",
          "height": 605
        },
        "outputId": "98c06e15-ebff-4ede-c498-8929ac1d036a"
      },
      "execution_count": null,
      "outputs": [
        {
          "output_type": "stream",
          "name": "stdout",
          "text": [
            "              precision    recall  f1-score   support\n",
            "\n",
            "           0       0.83      0.87      0.85      8831\n",
            "           1       0.85      0.81      0.83      8527\n",
            "\n",
            "    accuracy                           0.84     17358\n",
            "   macro avg       0.84      0.84      0.84     17358\n",
            "weighted avg       0.84      0.84      0.84     17358\n",
            "\n"
          ]
        },
        {
          "output_type": "display_data",
          "data": {
            "text/plain": [
              "<Figure size 640x480 with 2 Axes>"
            ],
            "image/png": "[encoded data removed]"
          },
          "metadata": {}
        }
      ]
    },
    {
      "cell_type": "code",
      "source": [
        "y_pred = xgb_model.predict(df_test)"
      ],
      "metadata": {
        "id": "oooz3Oo5dCrb"
      },
      "execution_count": null,
      "outputs": []
    },
    {
      "cell_type": "code",
      "source": [
        "ds_resultados=pd.DataFrame(zip(df_id['id'],y_pred),columns=['id','is_canceled'])\n",
        "ds_resultados.head(5)"
      ],
      "metadata": {
        "colab": {
          "base_uri": "https://localhost:8080/",
          "height": 206
        },
        "outputId": "8855283d-178f-472c-9835-1279356ecfd8",
        "id": "0jXnEPpSdCrb"
      },
      "execution_count": null,
      "outputs": [
        {
          "output_type": "execute_result",
          "data": {
            "text/plain": [
              "                                     id  is_canceled\n",
              "0  e6d0d58a-ab96-44d3-b28f-85df1cc15f1e            1\n",
              "1  aba9aac2-4495-4645-a60e-90328713c999            1\n",
              "2  b345b5dc-c804-4d77-a39f-1f4e65d1f1ad            0\n",
              "3  ce1b400e-afa1-4946-bdff-004b859eb61c            1\n",
              "4  c4fbec0d-8e2e-4db2-9d4f-a6ccb9f51214            1"
            ],
            "text/html": [
              "\n",
              "  <div id=\"df-2a01db91-0b74-4a3f-a21d-44055118ad60\" class=\"colab-df-container\">\n",
              "    <div>\n",
              "<style scoped>\n",
              "    .dataframe tbody tr th:only-of-type {\n",
              "        vertical-align: middle;\n",
              "    }\n",
              "\n",
              "    .dataframe tbody tr th {\n",
              "        vertical-align: top;\n",
              "    }\n",
              "\n",
              "    .dataframe thead th {\n",
              "        text-align: right;\n",
              "    }\n",
              "</style>\n",
              "<table border=\"1\" class=\"dataframe\">\n",
              "  <thead>\n",
              "    <tr style=\"text-align: right;\">\n",
              "      <th></th>\n",
              "      <th>id</th>\n",
              "      <th>is_canceled</th>\n",
              "    </tr>\n",
              "  </thead>\n",
              "  <tbody>\n",
              "    <tr>\n",
              "      <th>0</th>\n",
              "      <td>e6d0d58a-ab96-44d3-b28f-85df1cc15f1e</td>\n",
              "      <td>1</td>\n",
              "    </tr>\n",
              "    <tr>\n",
              "      <th>1</th>\n",
              "      <td>aba9aac2-4495-4645-a60e-90328713c999</td>\n",
              "      <td>1</td>\n",
              "    </tr>\n",
              "    <tr>\n",
              "      <th>2</th>\n",
              "      <td>b345b5dc-c804-4d77-a39f-1f4e65d1f1ad</td>\n",
              "      <td>0</td>\n",
              "    </tr>\n",
              "    <tr>\n",
              "      <th>3</th>\n",
              "      <td>ce1b400e-afa1-4946-bdff-004b859eb61c</td>\n",
              "      <td>1</td>\n",
              "    </tr>\n",
              "    <tr>\n",
              "      <th>4</th>\n",
              "      <td>c4fbec0d-8e2e-4db2-9d4f-a6ccb9f51214</td>\n",
              "      <td>1</td>\n",
              "    </tr>\n",
              "  </tbody>\n",
              "</table>\n",
              "</div>\n",
              "    <div class=\"colab-df-buttons\">\n",
              "\n",
              "  <div class=\"colab-df-container\">\n",
              "    <button class=\"colab-df-convert\" onclick=\"convertToInteractive('df-2a01db91-0b74-4a3f-a21d-44055118ad60')\"\n",
              "            title=\"Convert this dataframe to an interactive table.\"\n",
              "            style=\"display:none;\">\n",
              "\n",
              "  <svg xmlns=\"http://www.w3.org/2000/svg\" height=\"24px\" viewBox=\"0 -960 960 960\">\n",
              "    <path d=\"M120-120v-720h720v720H120Zm60-500h600v-160H180v160Zm220 220h160v-160H400v160Zm0 220h160v-160H400v160ZM180-400h160v-160H180v160Zm440 0h160v-160H620v160ZM180-180h160v-160H180v160Zm440 0h160v-160H620v160Z\"/>\n",
              "  </svg>\n",
              "    </button>\n",
              "\n",
              "  <style>\n",
              "    .colab-df-container {\n",
              "      display:flex;\n",
              "      gap: 12px;\n",
              "    }\n",
              "\n",
              "    .colab-df-convert {\n",
              "      background-color: #E8F0FE;\n",
              "      border: none;\n",
              "      border-radius: 50%;\n",
              "      cursor: pointer;\n",
              "      display: none;\n",
              "      fill: #1967D2;\n",
              "      height: 32px;\n",
              "      padding: 0 0 0 0;\n",
              "      width: 32px;\n",
              "    }\n",
              "\n",
              "    .colab-df-convert:hover {\n",
              "      background-color: #E2EBFA;\n",
              "      box-shadow: 0px 1px 2px rgba(60, 64, 67, 0.3), 0px 1px 3px 1px rgba(60, 64, 67, 0.15);\n",
              "      fill: #174EA6;\n",
              "    }\n",
              "\n",
              "    .colab-df-buttons div {\n",
              "      margin-bottom: 4px;\n",
              "    }\n",
              "\n",
              "    [theme=dark] .colab-df-convert {\n",
              "      background-color: #3B4455;\n",
              "      fill: #D2E3FC;\n",
              "    }\n",
              "\n",
              "    [theme=dark] .colab-df-convert:hover {\n",
              "      background-color: #434B5C;\n",
              "      box-shadow: 0px 1px 3px 1px rgba(0, 0, 0, 0.15);\n",
              "      filter: drop-shadow(0px 1px 2px rgba(0, 0, 0, 0.3));\n",
              "      fill: #FFFFFF;\n",
              "    }\n",
              "  </style>\n",
              "\n",
              "    <script>\n",
              "      const buttonEl =\n",
              "        document.querySelector('#df-2a01db91-0b74-4a3f-a21d-44055118ad60 button.colab-df-convert');\n",
              "      buttonEl.style.display =\n",
              "        google.colab.kernel.accessAllowed ? 'block' : 'none';\n",
              "\n",
              "      async function convertToInteractive(key) {\n",
              "        const element = document.querySelector('#df-2a01db91-0b74-4a3f-a21d-44055118ad60');\n",
              "        const dataTable =\n",
              "          await google.colab.kernel.invokeFunction('convertToInteractive',\n",
              "                                                    [key], {});\n",
              "        if (!dataTable) return;\n",
              "\n",
              "        const docLinkHtml = 'Like what you see? Visit the ' +\n",
              "          '<a target=\"_blank\" href=https://colab.research.google.com/notebooks/data_table.ipynb>data table notebook</a>'\n",
              "          + ' to learn more about interactive tables.';\n",
              "        element.innerHTML = '';\n",
              "        dataTable['output_type'] = 'display_data';\n",
              "        await google.colab.output.renderOutput(dataTable, element);\n",
              "        const docLink = document.createElement('div');\n",
              "        docLink.innerHTML = docLinkHtml;\n",
              "        element.appendChild(docLink);\n",
              "      }\n",
              "    </script>\n",
              "  </div>\n",
              "\n",
              "\n",
              "<div id=\"df-11cf8d96-6949-4b12-86a7-298020b173c0\">\n",
              "  <button class=\"colab-df-quickchart\" onclick=\"quickchart('df-11cf8d96-6949-4b12-86a7-298020b173c0')\"\n",
              "            title=\"Suggest charts.\"\n",
              "            style=\"display:none;\">\n",
              "\n",
              "<svg xmlns=\"http://www.w3.org/2000/svg\" height=\"24px\"viewBox=\"0 0 24 24\"\n",
              "     width=\"24px\">\n",
              "    <g>\n",
              "        <path d=\"M19 3H5c-1.1 0-2 .9-2 2v14c0 1.1.9 2 2 2h14c1.1 0 2-.9 2-2V5c0-1.1-.9-2-2-2zM9 17H7v-7h2v7zm4 0h-2V7h2v10zm4 0h-2v-4h2v4z\"/>\n",
              "    </g>\n",
              "</svg>\n",
              "  </button>\n",
              "\n",
              "<style>\n",
              "  .colab-df-quickchart {\n",
              "      --bg-color: #E8F0FE;\n",
              "      --fill-color: #1967D2;\n",
              "      --hover-bg-color: #E2EBFA;\n",
              "      --hover-fill-color: #174EA6;\n",
              "      --disabled-fill-color: #AAA;\n",
              "      --disabled-bg-color: #DDD;\n",
              "  }\n",
              "\n",
              "  [theme=dark] .colab-df-quickchart {\n",
              "      --bg-color: #3B4455;\n",
              "      --fill-color: #D2E3FC;\n",
              "      --hover-bg-color: #434B5C;\n",
              "      --hover-fill-color: #FFFFFF;\n",
              "      --disabled-bg-color: #3B4455;\n",
              "      --disabled-fill-color: #666;\n",
              "  }\n",
              "\n",
              "  .colab-df-quickchart {\n",
              "    background-color: var(--bg-color);\n",
              "    border: none;\n",
              "    border-radius: 50%;\n",
              "    cursor: pointer;\n",
              "    display: none;\n",
              "    fill: var(--fill-color);\n",
              "    height: 32px;\n",
              "    padding: 0;\n",
              "    width: 32px;\n",
              "  }\n",
              "\n",
              "  .colab-df-quickchart:hover {\n",
              "    background-color: var(--hover-bg-color);\n",
              "    box-shadow: 0 1px 2px rgba(60, 64, 67, 0.3), 0 1px 3px 1px rgba(60, 64, 67, 0.15);\n",
              "    fill: var(--button-hover-fill-color);\n",
              "  }\n",
              "\n",
              "  .colab-df-quickchart-complete:disabled,\n",
              "  .colab-df-quickchart-complete:disabled:hover {\n",
              "    background-color: var(--disabled-bg-color);\n",
              "    fill: var(--disabled-fill-color);\n",
              "    box-shadow: none;\n",
              "  }\n",
              "\n",
              "  .colab-df-spinner {\n",
              "    border: 2px solid var(--fill-color);\n",
              "    border-color: transparent;\n",
              "    border-bottom-color: var(--fill-color);\n",
              "    animation:\n",
              "      spin 1s steps(1) infinite;\n",
              "  }\n",
              "\n",
              "  @keyframes spin {\n",
              "    0% {\n",
              "      border-color: transparent;\n",
              "      border-bottom-color: var(--fill-color);\n",
              "      border-left-color: var(--fill-color);\n",
              "    }\n",
              "    20% {\n",
              "      border-color: transparent;\n",
              "      border-left-color: var(--fill-color);\n",
              "      border-top-color: var(--fill-color);\n",
              "    }\n",
              "    30% {\n",
              "      border-color: transparent;\n",
              "      border-left-color: var(--fill-color);\n",
              "      border-top-color: var(--fill-color);\n",
              "      border-right-color: var(--fill-color);\n",
              "    }\n",
              "    40% {\n",
              "      border-color: transparent;\n",
              "      border-right-color: var(--fill-color);\n",
              "      border-top-color: var(--fill-color);\n",
              "    }\n",
              "    60% {\n",
              "      border-color: transparent;\n",
              "      border-right-color: var(--fill-color);\n",
              "    }\n",
              "    80% {\n",
              "      border-color: transparent;\n",
              "      border-right-color: var(--fill-color);\n",
              "      border-bottom-color: var(--fill-color);\n",
              "    }\n",
              "    90% {\n",
              "      border-color: transparent;\n",
              "      border-bottom-color: var(--fill-color);\n",
              "    }\n",
              "  }\n",
              "</style>\n",
              "\n",
              "  <script>\n",
              "    async function quickchart(key) {\n",
              "      const quickchartButtonEl =\n",
              "        document.querySelector('#' + key + ' button');\n",
              "      quickchartButtonEl.disabled = true;  // To prevent multiple clicks.\n",
              "      quickchartButtonEl.classList.add('colab-df-spinner');\n",
              "      try {\n",
              "        const charts = await google.colab.kernel.invokeFunction(\n",
              "            'suggestCharts', [key], {});\n",
              "      } catch (error) {\n",
              "        console.error('Error during call to suggestCharts:', error);\n",
              "      }\n",
              "      quickchartButtonEl.classList.remove('colab-df-spinner');\n",
              "      quickchartButtonEl.classList.add('colab-df-quickchart-complete');\n",
              "    }\n",
              "    (() => {\n",
              "      let quickchartButtonEl =\n",
              "        document.querySelector('#df-11cf8d96-6949-4b12-86a7-298020b173c0 button');\n",
              "      quickchartButtonEl.style.display =\n",
              "        google.colab.kernel.accessAllowed ? 'block' : 'none';\n",
              "    })();\n",
              "  </script>\n",
              "</div>\n",
              "    </div>\n",
              "  </div>\n"
            ]
          },
          "metadata": {},
          "execution_count": 43
        }
      ]
    },
    {
      "cell_type": "code",
      "source": [
        "ds_resultados.shape"
      ],
      "metadata": {
        "colab": {
          "base_uri": "https://localhost:8080/"
        },
        "outputId": "c81e5249-8283-4b2d-819b-0dc51e01b869",
        "id": "tQDb_PtRdCrc"
      },
      "execution_count": null,
      "outputs": [
        {
          "output_type": "execute_result",
          "data": {
            "text/plain": [
              "(26535, 2)"
            ]
          },
          "metadata": {},
          "execution_count": 44
        }
      ]
    },
    {
      "cell_type": "code",
      "source": [
        "ds_resultados.to_csv(\"prediccion_ensamble_XGB1_hotel.csv\", index = False)"
      ],
      "metadata": {
        "id": "TarCzozfdCrc"
      },
      "execution_count": null,
      "outputs": []
    },
    {
      "cell_type": "markdown",
      "source": [
        "###Búsqueda de mejores hiperparámetros"
      ],
      "metadata": {
        "id": "RYDhFiCMWZYT"
      }
    },
    {
      "cell_type": "markdown",
      "source": [
        "**Hiper-parámetros**\n",
        "\n",
        "* learning_rate: tasa de aprendizaje\n",
        "+ max_depth: máxima profundidad de cada árbol\n",
        "* subsample: porcentaje de muestras usadas para cada árbol (valor muy bajo, posible underfitting)\n",
        "* colsample_bytree: porcentaje de features usadas para cada árbol (valores muy alto, posible overfitting)\n",
        "* n_estimators: cantidad de árboles a construir.\n",
        "* objective: función de error a utilizar (algunas: reg:linear para regresión, reg:logistic o binary:logistic para clasificación)\n",
        "\n",
        "**Parámetros de regularización:**\n",
        "\n",
        "* **gamma**: umbral para hacer split basado en la reducción de error de hacer el nuevo split.\n",
        "* **alpha**: regularización para los pesos de las hojas. Un valor más alto genera una mayor regularización.\n",
        "* **lambda**: similar alpha pero para la sintonia fina.\n",
        "\n",
        "Cuando 𝛌 > 0 es más probable tener que podar un árbol, ya que los Gain (ganancia total) calculados son menores. Con lambda > 0, los Similarity Scores son mucho más chicos.\n",
        "Aún eligiendo 𝜸 = 0 podemos tener que podar nodos, ya que la ganancia puede ser negativa.\n",
        "𝛌=1 previene el sobreentrenamiento o sobreajuste del modelo en el conjunto de entrenamiento."
      ],
      "metadata": {
        "id": "owiIVGPUWyvV"
      }
    },
    {
      "cell_type": "code",
      "source": [
        "params_grid = {\n",
        "    'n_estimators': list(range(50,200)),\n",
        "    'learning_rate': [0.01, 0.1, 0.2, 0.3, 0.4, 0.5],\n",
        "    'max_depth': list(range(10,25)),\n",
        "    'min_child_weight': [1, 2, 3, 4, 5],\n",
        "    'subsample': [0.7, 0.8, 0.9, 1.0],\n",
        "    'colsample_bytree': [0.7, 0.8, 0.9, 1.0],\n",
        "    'reg_alpha': [0, 0.001, 0.01, 0.1, 1],\n",
        "    'reg_lambda': [0, 0.001, 0.01, 0.1, 1],\n",
        "}"
      ],
      "metadata": {
        "id": "cXQt8hJxWoa4"
      },
      "execution_count": null,
      "outputs": []
    },
    {
      "cell_type": "markdown",
      "source": [
        "La función objetivo mide cuán bien un modelo se ajusta a los datos y cómo se comporta en relación con los objetivos del problema. Su objetivo es proporcionar una medida cuantitativa que se puede optimizar durante el proceso de entrenamiento o ajuste del modelo.\n",
        "\n",
        "Al modelo default le seteamos como objective 'binary:logistic'. Esta opción utiliza la función logística de pérdida logarítmica (log-loss) como función objetivo. Es una elección común para problemas de clasificación binaria."
      ],
      "metadata": {
        "id": "Ng1b4G5CafwA"
      }
    },
    {
      "cell_type": "code",
      "source": [
        "#Clasificador RF\n",
        "xgb_model = xgb.XGBClassifier(objective='binary:logistic', random_state=0)\n",
        "\n",
        "#Random Search con 10 Folds y 10 iteraciones\n",
        "randomcv = RandomizedSearchCV(xgb_model, params_grid, cv=20, scoring='f1', n_iter=30, random_state=5)\n",
        "\n",
        "randomcv_prueba = randomcv.fit(x_train, y_train)\n",
        "\n",
        "print(str(randomcv_prueba.best_params_))\n",
        "print(str(randomcv_prueba.best_score_))"
      ],
      "metadata": {
        "colab": {
          "base_uri": "https://localhost:8080/"
        },
        "outputId": "e16a0806-f96a-4962-b330-b304203c7b04",
        "id": "VEHpk354Woa5"
      },
      "execution_count": null,
      "outputs": [
        {
          "output_type": "stream",
          "name": "stdout",
          "text": [
            "{'subsample': 1.0, 'reg_lambda': 0.1, 'reg_alpha': 0.1, 'n_estimators': 198, 'min_child_weight': 1, 'max_depth': 11, 'learning_rate': 0.1, 'colsample_bytree': 0.7}\n",
            "0.8457723008904221\n"
          ]
        }
      ]
    },
    {
      "cell_type": "code",
      "source": [
        "xgb_prueba =  xgb.XGBClassifier().set_params(**randomcv_prueba.best_params_)\n",
        "xgb_prueba.fit(x_train,y_train)"
      ],
      "metadata": {
        "colab": {
          "base_uri": "https://localhost:8080/",
          "height": 248
        },
        "outputId": "16fbf506-148c-44c3-bd66-d3ec1099ef92",
        "id": "9Dz3Nt8ZWoa5"
      },
      "execution_count": null,
      "outputs": [
        {
          "output_type": "execute_result",
          "data": {
            "text/plain": [
              "XGBClassifier(base_score=None, booster=None, callbacks=None,\n",
              "              colsample_bylevel=None, colsample_bynode=None,\n",
              "              colsample_bytree=0.7, device=None, early_stopping_rounds=None,\n",
              "              enable_categorical=False, eval_metric=None, feature_types=None,\n",
              "              gamma=None, grow_policy=None, importance_type=None,\n",
              "              interaction_constraints=None, learning_rate=0.1, max_bin=None,\n",
              "              max_cat_threshold=None, max_cat_to_onehot=None,\n",
              "              max_delta_step=None, max_depth=11, max_leaves=None,\n",
              "              min_child_weight=1, missing=nan, monotone_constraints=None,\n",
              "              multi_strategy=None, n_estimators=198, n_jobs=None,\n",
              "              num_parallel_tree=None, random_state=None, ...)"
            ],
            "text/html": [
              "<style>#sk-container-id-4 {color: black;background-color: white;}#sk-container-id-4 pre{padding: 0;}#sk-container-id-4 div.sk-toggleable {background-color: white;}#sk-container-id-4 label.sk-toggleable__label {cursor: pointer;display: block;width: 100%;margin-bottom: 0;padding: 0.3em;box-sizing: border-box;text-align: center;}#sk-container-id-4 label.sk-toggleable__label-arrow:before {content: \"▸\";float: left;margin-right: 0.25em;color: #696969;}#sk-container-id-4 label.sk-toggleable__label-arrow:hover:before {color: black;}#sk-container-id-4 div.sk-estimator:hover label.sk-toggleable__label-arrow:before {color: black;}#sk-container-id-4 div.sk-toggleable__content {max-height: 0;max-width: 0;overflow: hidden;text-align: left;background-color: #f0f8ff;}#sk-container-id-4 div.sk-toggleable__content pre {margin: 0.2em;color: black;border-radius: 0.25em;background-color: #f0f8ff;}#sk-container-id-4 input.sk-toggleable__control:checked~div.sk-toggleable__content {max-height: 200px;max-width: 100%;overflow: auto;}#sk-container-id-4 input.sk-toggleable__control:checked~label.sk-toggleable__label-arrow:before {content: \"▾\";}#sk-container-id-4 div.sk-estimator input.sk-toggleable__control:checked~label.sk-toggleable__label {background-color: #d4ebff;}#sk-container-id-4 div.sk-label input.sk-toggleable__control:checked~label.sk-toggleable__label {background-color: #d4ebff;}#sk-container-id-4 input.sk-hidden--visually {border: 0;clip: rect(1px 1px 1px 1px);clip: rect(1px, 1px, 1px, 1px);height: 1px;margin: -1px;overflow: hidden;padding: 0;position: absolute;width: 1px;}#sk-container-id-4 div.sk-estimator {font-family: monospace;background-color: #f0f8ff;border: 1px dotted black;border-radius: 0.25em;box-sizing: border-box;margin-bottom: 0.5em;}#sk-container-id-4 div.sk-estimator:hover {background-color: #d4ebff;}#sk-container-id-4 div.sk-parallel-item::after {content: \"\";width: 100%;border-bottom: 1px solid gray;flex-grow: 1;}#sk-container-id-4 div.sk-label:hover label.sk-toggleable__label {background-color: #d4ebff;}#sk-container-id-4 div.sk-serial::before {content: \"\";position: absolute;border-left: 1px solid gray;box-sizing: border-box;top: 0;bottom: 0;left: 50%;z-index: 0;}#sk-container-id-4 div.sk-serial {display: flex;flex-direction: column;align-items: center;background-color: white;padding-right: 0.2em;padding-left: 0.2em;position: relative;}#sk-container-id-4 div.sk-item {position: relative;z-index: 1;}#sk-container-id-4 div.sk-parallel {display: flex;align-items: stretch;justify-content: center;background-color: white;position: relative;}#sk-container-id-4 div.sk-item::before, #sk-container-id-4 div.sk-parallel-item::before {content: \"\";position: absolute;border-left: 1px solid gray;box-sizing: border-box;top: 0;bottom: 0;left: 50%;z-index: -1;}#sk-container-id-4 div.sk-parallel-item {display: flex;flex-direction: column;z-index: 1;position: relative;background-color: white;}#sk-container-id-4 div.sk-parallel-item:first-child::after {align-self: flex-end;width: 50%;}#sk-container-id-4 div.sk-parallel-item:last-child::after {align-self: flex-start;width: 50%;}#sk-container-id-4 div.sk-parallel-item:only-child::after {width: 0;}#sk-container-id-4 div.sk-dashed-wrapped {border: 1px dashed gray;margin: 0 0.4em 0.5em 0.4em;box-sizing: border-box;padding-bottom: 0.4em;background-color: white;}#sk-container-id-4 div.sk-label label {font-family: monospace;font-weight: bold;display: inline-block;line-height: 1.2em;}#sk-container-id-4 div.sk-label-container {text-align: center;}#sk-container-id-4 div.sk-container {/* jupyter's `normalize.less` sets `[hidden] { display: none; }` but bootstrap.min.css set `[hidden] { display: none !important; }` so we also need the `!important` here to be able to override the default hidden behavior on the sphinx rendered scikit-learn.org. See: https://github.com/scikit-learn/scikit-learn/issues/21755 */display: inline-block !important;position: relative;}#sk-container-id-4 div.sk-text-repr-fallback {display: none;}</style><div id=\"sk-container-id-4\" class=\"sk-top-container\"><div class=\"sk-text-repr-fallback\"><pre>XGBClassifier(base_score=None, booster=None, callbacks=None,\n",
              "              colsample_bylevel=None, colsample_bynode=None,\n",
              "              colsample_bytree=0.7, device=None, early_stopping_rounds=None,\n",
              "              enable_categorical=False, eval_metric=None, feature_types=None,\n",
              "              gamma=None, grow_policy=None, importance_type=None,\n",
              "              interaction_constraints=None, learning_rate=0.1, max_bin=None,\n",
              "              max_cat_threshold=None, max_cat_to_onehot=None,\n",
              "              max_delta_step=None, max_depth=11, max_leaves=None,\n",
              "              min_child_weight=1, missing=nan, monotone_constraints=None,\n",
              "              multi_strategy=None, n_estimators=198, n_jobs=None,\n",
              "              num_parallel_tree=None, random_state=None, ...)</pre><b>In a Jupyter environment, please rerun this cell to show the HTML representation or trust the notebook. <br />On GitHub, the HTML representation is unable to render, please try loading this page with nbviewer.org.</b></div><div class=\"sk-container\" hidden><div class=\"sk-item\"><div class=\"sk-estimator sk-toggleable\"><input class=\"sk-toggleable__control sk-hidden--visually\" id=\"sk-estimator-id-4\" type=\"checkbox\" checked><label for=\"sk-estimator-id-4\" class=\"sk-toggleable__label sk-toggleable__label-arrow\">XGBClassifier</label><div class=\"sk-toggleable__content\"><pre>XGBClassifier(base_score=None, booster=None, callbacks=None,\n",
              "              colsample_bylevel=None, colsample_bynode=None,\n",
              "              colsample_bytree=0.7, device=None, early_stopping_rounds=None,\n",
              "              enable_categorical=False, eval_metric=None, feature_types=None,\n",
              "              gamma=None, grow_policy=None, importance_type=None,\n",
              "              interaction_constraints=None, learning_rate=0.1, max_bin=None,\n",
              "              max_cat_threshold=None, max_cat_to_onehot=None,\n",
              "              max_delta_step=None, max_depth=11, max_leaves=None,\n",
              "              min_child_weight=1, missing=nan, monotone_constraints=None,\n",
              "              multi_strategy=None, n_estimators=198, n_jobs=None,\n",
              "              num_parallel_tree=None, random_state=None, ...)</pre></div></div></div></div></div>"
            ]
          },
          "metadata": {},
          "execution_count": 48
        }
      ]
    },
    {
      "cell_type": "code",
      "source": [
        "y_pred = xgb_prueba.predict(x_test)\n",
        "\n",
        "metricas(y_pred,y_test)"
      ],
      "metadata": {
        "colab": {
          "base_uri": "https://localhost:8080/",
          "height": 605
        },
        "outputId": "116e7b51-77b6-4ddd-8922-a00e3c263bee",
        "id": "x9LvKDZnWoa6"
      },
      "execution_count": null,
      "outputs": [
        {
          "output_type": "stream",
          "name": "stdout",
          "text": [
            "              precision    recall  f1-score   support\n",
            "\n",
            "           0       0.85      0.87      0.86      8831\n",
            "           1       0.86      0.84      0.85      8527\n",
            "\n",
            "    accuracy                           0.85     17358\n",
            "   macro avg       0.85      0.85      0.85     17358\n",
            "weighted avg       0.85      0.85      0.85     17358\n",
            "\n"
          ]
        },
        {
          "output_type": "display_data",
          "data": {
            "text/plain": [
              "<Figure size 640x480 with 2 Axes>"
            ],
            "image/png": "[encoded data removed]"
          },
          "metadata": {}
        }
      ]
    },
    {
      "cell_type": "code",
      "source": [
        "y_pred = xgb_prueba.predict(df_test)"
      ],
      "metadata": {
        "id": "cWcrYVEAcdg1"
      },
      "execution_count": null,
      "outputs": []
    },
    {
      "cell_type": "code",
      "source": [
        "ds_resultados=pd.DataFrame(zip(df_id['id'],y_pred),columns=['id','is_canceled'])\n",
        "ds_resultados.head(5)"
      ],
      "metadata": {
        "colab": {
          "base_uri": "https://localhost:8080/",
          "height": 206
        },
        "outputId": "9456da9e-c3f3-4e76-8903-b50d7872a4b7",
        "id": "8KCmqDaMcdg2"
      },
      "execution_count": null,
      "outputs": [
        {
          "output_type": "execute_result",
          "data": {
            "text/plain": [
              "                                     id  is_canceled\n",
              "0  e6d0d58a-ab96-44d3-b28f-85df1cc15f1e            1\n",
              "1  aba9aac2-4495-4645-a60e-90328713c999            1\n",
              "2  b345b5dc-c804-4d77-a39f-1f4e65d1f1ad            0\n",
              "3  ce1b400e-afa1-4946-bdff-004b859eb61c            1\n",
              "4  c4fbec0d-8e2e-4db2-9d4f-a6ccb9f51214            1"
            ],
            "text/html": [
              "\n",
              "  <div id=\"df-ea2b6286-8d07-4302-91ed-060a037f0f56\" class=\"colab-df-container\">\n",
              "    <div>\n",
              "<style scoped>\n",
              "    .dataframe tbody tr th:only-of-type {\n",
              "        vertical-align: middle;\n",
              "    }\n",
              "\n",
              "    .dataframe tbody tr th {\n",
              "        vertical-align: top;\n",
              "    }\n",
              "\n",
              "    .dataframe thead th {\n",
              "        text-align: right;\n",
              "    }\n",
              "</style>\n",
              "<table border=\"1\" class=\"dataframe\">\n",
              "  <thead>\n",
              "    <tr style=\"text-align: right;\">\n",
              "      <th></th>\n",
              "      <th>id</th>\n",
              "      <th>is_canceled</th>\n",
              "    </tr>\n",
              "  </thead>\n",
              "  <tbody>\n",
              "    <tr>\n",
              "      <th>0</th>\n",
              "      <td>e6d0d58a-ab96-44d3-b28f-85df1cc15f1e</td>\n",
              "      <td>1</td>\n",
              "    </tr>\n",
              "    <tr>\n",
              "      <th>1</th>\n",
              "      <td>aba9aac2-4495-4645-a60e-90328713c999</td>\n",
              "      <td>1</td>\n",
              "    </tr>\n",
              "    <tr>\n",
              "      <th>2</th>\n",
              "      <td>b345b5dc-c804-4d77-a39f-1f4e65d1f1ad</td>\n",
              "      <td>0</td>\n",
              "    </tr>\n",
              "    <tr>\n",
              "      <th>3</th>\n",
              "      <td>ce1b400e-afa1-4946-bdff-004b859eb61c</td>\n",
              "      <td>1</td>\n",
              "    </tr>\n",
              "    <tr>\n",
              "      <th>4</th>\n",
              "      <td>c4fbec0d-8e2e-4db2-9d4f-a6ccb9f51214</td>\n",
              "      <td>1</td>\n",
              "    </tr>\n",
              "  </tbody>\n",
              "</table>\n",
              "</div>\n",
              "    <div class=\"colab-df-buttons\">\n",
              "\n",
              "  <div class=\"colab-df-container\">\n",
              "    <button class=\"colab-df-convert\" onclick=\"convertToInteractive('df-ea2b6286-8d07-4302-91ed-060a037f0f56')\"\n",
              "            title=\"Convert this dataframe to an interactive table.\"\n",
              "            style=\"display:none;\">\n",
              "\n",
              "  <svg xmlns=\"http://www.w3.org/2000/svg\" height=\"24px\" viewBox=\"0 -960 960 960\">\n",
              "    <path d=\"M120-120v-720h720v720H120Zm60-500h600v-160H180v160Zm220 220h160v-160H400v160Zm0 220h160v-160H400v160ZM180-400h160v-160H180v160Zm440 0h160v-160H620v160ZM180-180h160v-160H180v160Zm440 0h160v-160H620v160Z\"/>\n",
              "  </svg>\n",
              "    </button>\n",
              "\n",
              "  <style>\n",
              "    .colab-df-container {\n",
              "      display:flex;\n",
              "      gap: 12px;\n",
              "    }\n",
              "\n",
              "    .colab-df-convert {\n",
              "      background-color: #E8F0FE;\n",
              "      border: none;\n",
              "      border-radius: 50%;\n",
              "      cursor: pointer;\n",
              "      display: none;\n",
              "      fill: #1967D2;\n",
              "      height: 32px;\n",
              "      padding: 0 0 0 0;\n",
              "      width: 32px;\n",
              "    }\n",
              "\n",
              "    .colab-df-convert:hover {\n",
              "      background-color: #E2EBFA;\n",
              "      box-shadow: 0px 1px 2px rgba(60, 64, 67, 0.3), 0px 1px 3px 1px rgba(60, 64, 67, 0.15);\n",
              "      fill: #174EA6;\n",
              "    }\n",
              "\n",
              "    .colab-df-buttons div {\n",
              "      margin-bottom: 4px;\n",
              "    }\n",
              "\n",
              "    [theme=dark] .colab-df-convert {\n",
              "      background-color: #3B4455;\n",
              "      fill: #D2E3FC;\n",
              "    }\n",
              "\n",
              "    [theme=dark] .colab-df-convert:hover {\n",
              "      background-color: #434B5C;\n",
              "      box-shadow: 0px 1px 3px 1px rgba(0, 0, 0, 0.15);\n",
              "      filter: drop-shadow(0px 1px 2px rgba(0, 0, 0, 0.3));\n",
              "      fill: #FFFFFF;\n",
              "    }\n",
              "  </style>\n",
              "\n",
              "    <script>\n",
              "      const buttonEl =\n",
              "        document.querySelector('#df-ea2b6286-8d07-4302-91ed-060a037f0f56 button.colab-df-convert');\n",
              "      buttonEl.style.display =\n",
              "        google.colab.kernel.accessAllowed ? 'block' : 'none';\n",
              "\n",
              "      async function convertToInteractive(key) {\n",
              "        const element = document.querySelector('#df-ea2b6286-8d07-4302-91ed-060a037f0f56');\n",
              "        const dataTable =\n",
              "          await google.colab.kernel.invokeFunction('convertToInteractive',\n",
              "                                                    [key], {});\n",
              "        if (!dataTable) return;\n",
              "\n",
              "        const docLinkHtml = 'Like what you see? Visit the ' +\n",
              "          '<a target=\"_blank\" href=https://colab.research.google.com/notebooks/data_table.ipynb>data table notebook</a>'\n",
              "          + ' to learn more about interactive tables.';\n",
              "        element.innerHTML = '';\n",
              "        dataTable['output_type'] = 'display_data';\n",
              "        await google.colab.output.renderOutput(dataTable, element);\n",
              "        const docLink = document.createElement('div');\n",
              "        docLink.innerHTML = docLinkHtml;\n",
              "        element.appendChild(docLink);\n",
              "      }\n",
              "    </script>\n",
              "  </div>\n",
              "\n",
              "\n",
              "<div id=\"df-95bb7542-5c8e-4cd5-b2dc-4ad60309a9e4\">\n",
              "  <button class=\"colab-df-quickchart\" onclick=\"quickchart('df-95bb7542-5c8e-4cd5-b2dc-4ad60309a9e4')\"\n",
              "            title=\"Suggest charts.\"\n",
              "            style=\"display:none;\">\n",
              "\n",
              "<svg xmlns=\"http://www.w3.org/2000/svg\" height=\"24px\"viewBox=\"0 0 24 24\"\n",
              "     width=\"24px\">\n",
              "    <g>\n",
              "        <path d=\"M19 3H5c-1.1 0-2 .9-2 2v14c0 1.1.9 2 2 2h14c1.1 0 2-.9 2-2V5c0-1.1-.9-2-2-2zM9 17H7v-7h2v7zm4 0h-2V7h2v10zm4 0h-2v-4h2v4z\"/>\n",
              "    </g>\n",
              "</svg>\n",
              "  </button>\n",
              "\n",
              "<style>\n",
              "  .colab-df-quickchart {\n",
              "      --bg-color: #E8F0FE;\n",
              "      --fill-color: #1967D2;\n",
              "      --hover-bg-color: #E2EBFA;\n",
              "      --hover-fill-color: #174EA6;\n",
              "      --disabled-fill-color: #AAA;\n",
              "      --disabled-bg-color: #DDD;\n",
              "  }\n",
              "\n",
              "  [theme=dark] .colab-df-quickchart {\n",
              "      --bg-color: #3B4455;\n",
              "      --fill-color: #D2E3FC;\n",
              "      --hover-bg-color: #434B5C;\n",
              "      --hover-fill-color: #FFFFFF;\n",
              "      --disabled-bg-color: #3B4455;\n",
              "      --disabled-fill-color: #666;\n",
              "  }\n",
              "\n",
              "  .colab-df-quickchart {\n",
              "    background-color: var(--bg-color);\n",
              "    border: none;\n",
              "    border-radius: 50%;\n",
              "    cursor: pointer;\n",
              "    display: none;\n",
              "    fill: var(--fill-color);\n",
              "    height: 32px;\n",
              "    padding: 0;\n",
              "    width: 32px;\n",
              "  }\n",
              "\n",
              "  .colab-df-quickchart:hover {\n",
              "    background-color: var(--hover-bg-color);\n",
              "    box-shadow: 0 1px 2px rgba(60, 64, 67, 0.3), 0 1px 3px 1px rgba(60, 64, 67, 0.15);\n",
              "    fill: var(--button-hover-fill-color);\n",
              "  }\n",
              "\n",
              "  .colab-df-quickchart-complete:disabled,\n",
              "  .colab-df-quickchart-complete:disabled:hover {\n",
              "    background-color: var(--disabled-bg-color);\n",
              "    fill: var(--disabled-fill-color);\n",
              "    box-shadow: none;\n",
              "  }\n",
              "\n",
              "  .colab-df-spinner {\n",
              "    border: 2px solid var(--fill-color);\n",
              "    border-color: transparent;\n",
              "    border-bottom-color: var(--fill-color);\n",
              "    animation:\n",
              "      spin 1s steps(1) infinite;\n",
              "  }\n",
              "\n",
              "  @keyframes spin {\n",
              "    0% {\n",
              "      border-color: transparent;\n",
              "      border-bottom-color: var(--fill-color);\n",
              "      border-left-color: var(--fill-color);\n",
              "    }\n",
              "    20% {\n",
              "      border-color: transparent;\n",
              "      border-left-color: var(--fill-color);\n",
              "      border-top-color: var(--fill-color);\n",
              "    }\n",
              "    30% {\n",
              "      border-color: transparent;\n",
              "      border-left-color: var(--fill-color);\n",
              "      border-top-color: var(--fill-color);\n",
              "      border-right-color: var(--fill-color);\n",
              "    }\n",
              "    40% {\n",
              "      border-color: transparent;\n",
              "      border-right-color: var(--fill-color);\n",
              "      border-top-color: var(--fill-color);\n",
              "    }\n",
              "    60% {\n",
              "      border-color: transparent;\n",
              "      border-right-color: var(--fill-color);\n",
              "    }\n",
              "    80% {\n",
              "      border-color: transparent;\n",
              "      border-right-color: var(--fill-color);\n",
              "      border-bottom-color: var(--fill-color);\n",
              "    }\n",
              "    90% {\n",
              "      border-color: transparent;\n",
              "      border-bottom-color: var(--fill-color);\n",
              "    }\n",
              "  }\n",
              "</style>\n",
              "\n",
              "  <script>\n",
              "    async function quickchart(key) {\n",
              "      const quickchartButtonEl =\n",
              "        document.querySelector('#' + key + ' button');\n",
              "      quickchartButtonEl.disabled = true;  // To prevent multiple clicks.\n",
              "      quickchartButtonEl.classList.add('colab-df-spinner');\n",
              "      try {\n",
              "        const charts = await google.colab.kernel.invokeFunction(\n",
              "            'suggestCharts', [key], {});\n",
              "      } catch (error) {\n",
              "        console.error('Error during call to suggestCharts:', error);\n",
              "      }\n",
              "      quickchartButtonEl.classList.remove('colab-df-spinner');\n",
              "      quickchartButtonEl.classList.add('colab-df-quickchart-complete');\n",
              "    }\n",
              "    (() => {\n",
              "      let quickchartButtonEl =\n",
              "        document.querySelector('#df-95bb7542-5c8e-4cd5-b2dc-4ad60309a9e4 button');\n",
              "      quickchartButtonEl.style.display =\n",
              "        google.colab.kernel.accessAllowed ? 'block' : 'none';\n",
              "    })();\n",
              "  </script>\n",
              "</div>\n",
              "    </div>\n",
              "  </div>\n"
            ]
          },
          "metadata": {},
          "execution_count": 51
        }
      ]
    },
    {
      "cell_type": "code",
      "source": [
        "ds_resultados.shape"
      ],
      "metadata": {
        "colab": {
          "base_uri": "https://localhost:8080/"
        },
        "outputId": "ac43be5c-7d58-47f1-a4d9-bace99c75021",
        "id": "0zwgE0kVcdg2"
      },
      "execution_count": null,
      "outputs": [
        {
          "output_type": "execute_result",
          "data": {
            "text/plain": [
              "(26535, 2)"
            ]
          },
          "metadata": {},
          "execution_count": 52
        }
      ]
    },
    {
      "cell_type": "code",
      "source": [
        "ds_resultados.to_csv(\"prediccion_ensamble_XGB2_hotel.csv\", index = False)"
      ],
      "metadata": {
        "id": "98xQBrbVcdg3"
      },
      "execution_count": null,
      "outputs": []
    },
    {
      "cell_type": "markdown",
      "source": [
        "##e. Ensamble híbrido\n",
        "\n"
      ],
      "metadata": {
        "id": "DYLhZTC0xjiQ"
      }
    },
    {
      "cell_type": "markdown",
      "source": [
        "Ensemble Learning realiza una combinación estratégica de varios expertos o modelos ML con el fin de mejorar la eficacia obtenida utilizando un único modelo débil"
      ],
      "metadata": {
        "id": "hGRGu1gKDFfY"
      }
    },
    {
      "cell_type": "markdown",
      "source": [
        "###Stacking"
      ],
      "metadata": {
        "id": "PEY_2WTexxdz"
      }
    },
    {
      "cell_type": "markdown",
      "source": [
        "La idea principal es entrenar varios modelos dado un conjunto de datos y a continuación entrenar uno nuevo que, cuando reciba una nueva instancia de datos, determinará qué modelo es el más adecuado para dicha instancia.\n"
      ],
      "metadata": {
        "id": "bn92qCcxMrn9"
      }
    },
    {
      "cell_type": "markdown",
      "source": [
        "**Generación del conjunto de datos**\n",
        "\n",
        "La función make_classification de Scikit-learn es útil para generar conjuntos de datos sintéticos que se pueden usar para probar diferentes algoritmos. El conjunto de datos que generaremos está diseñado para representar un problema de clasificación binaria basado en los siguientes parámetros:\n",
        "\n",
        "\n",
        "* n_features: la cantidad de features en el conjunto de datos\n",
        "* n_informative y n_redundant: la cantidad de características informativas y redundantes en el conjunto de datos.\n",
        "* n_clusters_per_class: el número de clústeres incluidos en cada clase. Los valores más altos hacen que el problema sea más difícil.\n",
        "* class_sep: controla la separación entre grupos/clases. Los valores más grandes facilitan la tarea.\n",
        "* flip_y: especifica el porcentaje de etiquetas de clase que se asignarán al azar. Útil para agregar algo de ruido al conjunto de datos."
      ],
      "metadata": {
        "id": "NBNBWl9h4nV7"
      }
    },
    {
      "cell_type": "code",
      "source": [
        "#Creo un conjunto de datos para entrenar los modelos\n",
        "x, y = make_classification(n_samples=3000,\n",
        "                           n_features=20,\n",
        "                           n_informative=15,\n",
        "                           n_redundant=5,\n",
        "                           n_clusters_per_class=5,\n",
        "                           class_sep=0.7,\n",
        "                           flip_y=0.03,\n",
        "                           n_classes=2)"
      ],
      "metadata": {
        "id": "6PVEJWX1Ywsv"
      },
      "execution_count": null,
      "outputs": []
    },
    {
      "cell_type": "code",
      "source": [
        "#Funcion para evaluar los modelos 5fold -CV (repite 2 veces)\n",
        "def evaluate_model(model, x, y):\n",
        "    cv = RepeatedStratifiedKFold(n_splits=5, n_repeats=2, random_state=1)\n",
        "    scores = cross_val_score(model, x, y, scoring='accuracy', cv=cv, verbose=1, n_jobs=3, error_score='raise')\n",
        "    return scores"
      ],
      "metadata": {
        "id": "32J-g4eUuvLv"
      },
      "execution_count": null,
      "outputs": []
    },
    {
      "cell_type": "code",
      "source": [
        "#Funcion para plotear a performance\n",
        "def plot_results(model_scores, name):\n",
        "\n",
        "    model_names = list(model_scores.keys())\n",
        "    results = [model_scores[model] for model in model_names]\n",
        "    fig = go.Figure()\n",
        "    for model, result in zip(model_names, results):\n",
        "        fig.add_trace(go.Box(\n",
        "            y=result,\n",
        "            name=model,\n",
        "            boxpoints='all',\n",
        "            jitter=0.5,\n",
        "            whiskerwidth=0.2,\n",
        "            marker_size=2,\n",
        "            line_width=1)\n",
        "        )\n",
        "\n",
        "    fig.update_layout(\n",
        "    title='Performance of Different Models Using 5-Fold Cross-Validation',\n",
        "    paper_bgcolor='rgb(243, 243, 243)',\n",
        "    plot_bgcolor='rgb(243, 243, 243)',\n",
        "    xaxis_title='Model',\n",
        "    yaxis_title='Accuracy',\n",
        "    showlegend=False)\n",
        "    fig.show()"
      ],
      "metadata": {
        "id": "HUq4CDj3vA9Y"
      },
      "execution_count": null,
      "outputs": []
    },
    {
      "cell_type": "markdown",
      "source": [
        "**Entrenamiento y evaluación de modelos individuales**\n",
        "\n",
        "Para obtener un nivel de referencia de performance y poder compararlo con el ensamble, entrenaremos y evaluaremos individualmente los siguientes modelos base:\n",
        "\n",
        "* Bosque aleatorio con 50 árboles de decisión (RF).\n",
        "* Máquina de vectores de soporte (SVM)\n",
        "* Clasificador K-vecinos más cercanos (KNN)"
      ],
      "metadata": {
        "id": "PIYxZfwWxOWK"
      }
    },
    {
      "cell_type": "markdown",
      "source": [
        "Cada uno de los modelos se evaluará utilizando una estrategia de validación cruzada de cinco folds repetida dos veces. En cada iteracion cada modelo se entrenó en el 80 % de los datos y se validó en el 20 % restante.\n",
        "\n",
        "Este método da como resultado 10 puntajes de performance diferentes para cada modelo que se almacenarán en un diccionario."
      ],
      "metadata": {
        "id": "4fDugVuPZ-rA"
      }
    },
    {
      "cell_type": "code",
      "source": [
        "#Modelos Base\n",
        "base_models = {'random_forest':RandomForestClassifier(n_estimators=50),\n",
        "               'svm': SVC(),\n",
        "               'knn': KNeighborsClassifier(n_neighbors=11)}\n",
        "\n",
        "\n",
        "#Guarda los scores de cada modelo\n",
        "model_scores = defaultdict()\n",
        "\n",
        "#Entreno los clasificadores\n",
        "for name, model in base_models.items():\n",
        "    print('Evaluating {}'.format(name))\n",
        "    scores = evaluate_model(model, x_train, y_train)\n",
        "    model_scores[name] = scores"
      ],
      "metadata": {
        "id": "wbyuajOWZXAu",
        "colab": {
          "base_uri": "https://localhost:8080/"
        },
        "outputId": "2ac4679b-be55-4a73-c8ed-f28d1256e29e"
      },
      "execution_count": null,
      "outputs": [
        {
          "output_type": "stream",
          "name": "stdout",
          "text": [
            "Evaluating random_forest\n"
          ]
        },
        {
          "output_type": "stream",
          "name": "stderr",
          "text": [
            "[Parallel(n_jobs=3)]: Using backend LokyBackend with 3 concurrent workers.\n",
            "[Parallel(n_jobs=3)]: Done  10 out of  10 | elapsed:   40.1s finished\n",
            "[Parallel(n_jobs=3)]: Using backend LokyBackend with 3 concurrent workers.\n"
          ]
        },
        {
          "output_type": "stream",
          "name": "stdout",
          "text": [
            "Evaluating svm\n"
          ]
        },
        {
          "output_type": "stream",
          "name": "stderr",
          "text": [
            "[Parallel(n_jobs=3)]: Done  10 out of  10 | elapsed: 20.5min finished\n",
            "[Parallel(n_jobs=3)]: Using backend LokyBackend with 3 concurrent workers.\n"
          ]
        },
        {
          "output_type": "stream",
          "name": "stdout",
          "text": [
            "Evaluating knn\n"
          ]
        },
        {
          "output_type": "stream",
          "name": "stderr",
          "text": [
            "[Parallel(n_jobs=3)]: Done  10 out of  10 | elapsed:   24.5s finished\n"
          ]
        }
      ]
    },
    {
      "cell_type": "code",
      "source": [
        "from sklearn.ensemble import StackingClassifier\n",
        "\n",
        "#Modelos Base\n",
        "base_models = [('random_forest', RandomForestClassifier(n_estimators=50)),\n",
        "               ('svm', SVC()),\n",
        "               ('knn', KNeighborsClassifier(n_neighbors=11))]\n",
        "\n",
        "#Meta Modelo\n",
        "meta_model = LogisticRegressionCV()\n",
        "\n",
        "#Ensemble Stacking\n",
        "stacking_model = StackingClassifier(estimators=base_models,\n",
        "                                    final_estimator=meta_model,\n",
        "                                    passthrough=True,\n",
        "                                    cv=5,\n",
        "                                    verbose=2)"
      ],
      "metadata": {
        "id": "5f5BaM07aRH3"
      },
      "execution_count": null,
      "outputs": []
    },
    {
      "cell_type": "code",
      "source": [
        "#Performance el modelo en entrenamiento\n",
        "stacking_scores = evaluate_model(stacking_model, x_train, y_train)\n",
        "model_scores['stacking'] = stacking_scores"
      ],
      "metadata": {
        "colab": {
          "base_uri": "https://localhost:8080/"
        },
        "id": "rBJ-OYP8aoGu",
        "outputId": "72d9455e-4341-40b0-aa28-adf01fc9c693"
      },
      "execution_count": null,
      "outputs": [
        {
          "output_type": "stream",
          "name": "stderr",
          "text": [
            "[Parallel(n_jobs=3)]: Using backend LokyBackend with 3 concurrent workers.\n",
            "[Parallel(n_jobs=3)]: Done  10 out of  10 | elapsed: 92.7min finished\n"
          ]
        }
      ]
    },
    {
      "cell_type": "code",
      "source": [
        "#Grafico performance\n",
        "plot_results(model_scores, name='stacking_model_cv')"
      ],
      "metadata": {
        "colab": {
          "base_uri": "https://localhost:8080/",
          "height": 542
        },
        "id": "ijQJJcJIayzo",
        "outputId": "eaf7bcf5-b8d5-465b-e4df-e6acf7836b88"
      },
      "execution_count": null,
      "outputs": [
        {
          "output_type": "display_data",
          "data": {
            "text/html": [
              "<html>\n",
              "<head><meta charset=\"utf-8\" /></head>\n",
              "<body>\n",
              "    <div>            <script src=\"https://cdnjs.cloudflare.com/ajax/libs/mathjax/2.7.5/MathJax.js?config=TeX-AMS-MML_SVG\"></script><script type=\"text/javascript\">if (window.MathJax && window.MathJax.Hub && window.MathJax.Hub.Config) {window.MathJax.Hub.Config({SVG: {font: \"STIX-Web\"}});}</script>                <script type=\"text/javascript\">window.PlotlyConfig = {MathJaxConfig: 'local'};</script>\n",
              "        <script charset=\"utf-8\" src=\"https://cdn.plot.ly/plotly-2.24.1.min.js\"></script>                <div id=\"caf33e1e-a7a3-4e6f-9461-302c27b8f48a\" class=\"plotly-graph-div\" style=\"height:525px; width:100%;\"></div>            <script type=\"text/javascript\">                                    window.PLOTLYENV=window.PLOTLYENV || {};                                    if (document.getElementById(\"caf33e1e-a7a3-4e6f-9461-302c27b8f48a\")) {                    Plotly.newPlot(                        \"caf33e1e-a7a3-4e6f-9461-302c27b8f48a\",                        [{\"boxpoints\":\"all\",\"jitter\":0.5,\"line\":{\"width\":1},\"marker\":{\"size\":2},\"name\":\"random_forest\",\"whiskerwidth\":0.2,\"y\":[0.8380246913580247,0.8455555555555555,0.8404938271604938,0.8465432098765432,0.8469135802469135,0.8507407407407407,0.8334567901234567,0.8422222222222222,0.8437037037037037,0.8437037037037037],\"type\":\"box\"},{\"boxpoints\":\"all\",\"jitter\":0.5,\"line\":{\"width\":1},\"marker\":{\"size\":2},\"name\":\"svm\",\"whiskerwidth\":0.2,\"y\":[0.6112345679012345,0.6101234567901235,0.6101234567901235,0.6164197530864197,0.6181481481481481,0.6108641975308642,0.614320987654321,0.6129629629629629,0.6139506172839506,0.6160493827160494],\"type\":\"box\"},{\"boxpoints\":\"all\",\"jitter\":0.5,\"line\":{\"width\":1},\"marker\":{\"size\":2},\"name\":\"knn\",\"whiskerwidth\":0.2,\"y\":[0.6961728395061728,0.7053086419753086,0.7101234567901235,0.7019753086419753,0.7053086419753086,0.7097530864197531,0.7035802469135802,0.7045679012345679,0.7058024691358025,0.7148148148148148],\"type\":\"box\"},{\"boxpoints\":\"all\",\"jitter\":0.5,\"line\":{\"width\":1},\"marker\":{\"size\":2},\"name\":\"stacking\",\"whiskerwidth\":0.2,\"y\":[0.8277777777777777,0.84,0.8408641975308642,0.8423456790123457,0.8390123456790124,0.8430864197530864,0.8328395061728395,0.8403703703703703,0.8408641975308642,0.8420987654320987],\"type\":\"box\"}],                        {\"template\":{\"data\":{\"histogram2dcontour\":[{\"type\":\"histogram2dcontour\",\"colorbar\":{\"outlinewidth\":0,\"ticks\":\"\"},\"colorscale\":[[0.0,\"#0d0887\"],[0.1111111111111111,\"#46039f\"],[0.2222222222222222,\"#7201a8\"],[0.3333333333333333,\"#9c179e\"],[0.4444444444444444,\"#bd3786\"],[0.5555555555555556,\"#d8576b\"],[0.6666666666666666,\"#ed7953\"],[0.7777777777777778,\"#fb9f3a\"],[0.8888888888888888,\"#fdca26\"],[1.0,\"#f0f921\"]]}],\"choropleth\":[{\"type\":\"choropleth\",\"colorbar\":{\"outlinewidth\":0,\"ticks\":\"\"}}],\"histogram2d\":[{\"type\":\"histogram2d\",\"colorbar\":{\"outlinewidth\":0,\"ticks\":\"\"},\"colorscale\":[[0.0,\"#0d0887\"],[0.1111111111111111,\"#46039f\"],[0.2222222222222222,\"#7201a8\"],[0.3333333333333333,\"#9c179e\"],[0.4444444444444444,\"#bd3786\"],[0.5555555555555556,\"#d8576b\"],[0.6666666666666666,\"#ed7953\"],[0.7777777777777778,\"#fb9f3a\"],[0.8888888888888888,\"#fdca26\"],[1.0,\"#f0f921\"]]}],\"heatmap\":[{\"type\":\"heatmap\",\"colorbar\":{\"outlinewidth\":0,\"ticks\":\"\"},\"colorscale\":[[0.0,\"#0d0887\"],[0.1111111111111111,\"#46039f\"],[0.2222222222222222,\"#7201a8\"],[0.3333333333333333,\"#9c179e\"],[0.4444444444444444,\"#bd3786\"],[0.5555555555555556,\"#d8576b\"],[0.6666666666666666,\"#ed7953\"],[0.7777777777777778,\"#fb9f3a\"],[0.8888888888888888,\"#fdca26\"],[1.0,\"#f0f921\"]]}],\"heatmapgl\":[{\"type\":\"heatmapgl\",\"colorbar\":{\"outlinewidth\":0,\"ticks\":\"\"},\"colorscale\":[[0.0,\"#0d0887\"],[0.1111111111111111,\"#46039f\"],[0.2222222222222222,\"#7201a8\"],[0.3333333333333333,\"#9c179e\"],[0.4444444444444444,\"#bd3786\"],[0.5555555555555556,\"#d8576b\"],[0.6666666666666666,\"#ed7953\"],[0.7777777777777778,\"#fb9f3a\"],[0.8888888888888888,\"#fdca26\"],[1.0,\"#f0f921\"]]}],\"contourcarpet\":[{\"type\":\"contourcarpet\",\"colorbar\":{\"outlinewidth\":0,\"ticks\":\"\"}}],\"contour\":[{\"type\":\"contour\",\"colorbar\":{\"outlinewidth\":0,\"ticks\":\"\"},\"colorscale\":[[0.0,\"#0d0887\"],[0.1111111111111111,\"#46039f\"],[0.2222222222222222,\"#7201a8\"],[0.3333333333333333,\"#9c179e\"],[0.4444444444444444,\"#bd3786\"],[0.5555555555555556,\"#d8576b\"],[0.6666666666666666,\"#ed7953\"],[0.7777777777777778,\"#fb9f3a\"],[0.8888888888888888,\"#fdca26\"],[1.0,\"#f0f921\"]]}],\"surface\":[{\"type\":\"surface\",\"colorbar\":{\"outlinewidth\":0,\"ticks\":\"\"},\"colorscale\":[[0.0,\"#0d0887\"],[0.1111111111111111,\"#46039f\"],[0.2222222222222222,\"#7201a8\"],[0.3333333333333333,\"#9c179e\"],[0.4444444444444444,\"#bd3786\"],[0.5555555555555556,\"#d8576b\"],[0.6666666666666666,\"#ed7953\"],[0.7777777777777778,\"#fb9f3a\"],[0.8888888888888888,\"#fdca26\"],[1.0,\"#f0f921\"]]}],\"mesh3d\":[{\"type\":\"mesh3d\",\"colorbar\":{\"outlinewidth\":0,\"ticks\":\"\"}}],\"scatter\":[{\"fillpattern\":{\"fillmode\":\"overlay\",\"size\":10,\"solidity\":0.2},\"type\":\"scatter\"}],\"parcoords\":[{\"type\":\"parcoords\",\"line\":{\"colorbar\":{\"outlinewidth\":0,\"ticks\":\"\"}}}],\"scatterpolargl\":[{\"type\":\"scatterpolargl\",\"marker\":{\"colorbar\":{\"outlinewidth\":0,\"ticks\":\"\"}}}],\"bar\":[{\"error_x\":{\"color\":\"#2a3f5f\"},\"error_y\":{\"color\":\"#2a3f5f\"},\"marker\":{\"line\":{\"color\":\"#E5ECF6\",\"width\":0.5},\"pattern\":{\"fillmode\":\"overlay\",\"size\":10,\"solidity\":0.2}},\"type\":\"bar\"}],\"scattergeo\":[{\"type\":\"scattergeo\",\"marker\":{\"colorbar\":{\"outlinewidth\":0,\"ticks\":\"\"}}}],\"scatterpolar\":[{\"type\":\"scatterpolar\",\"marker\":{\"colorbar\":{\"outlinewidth\":0,\"ticks\":\"\"}}}],\"histogram\":[{\"marker\":{\"pattern\":{\"fillmode\":\"overlay\",\"size\":10,\"solidity\":0.2}},\"type\":\"histogram\"}],\"scattergl\":[{\"type\":\"scattergl\",\"marker\":{\"colorbar\":{\"outlinewidth\":0,\"ticks\":\"\"}}}],\"scatter3d\":[{\"type\":\"scatter3d\",\"line\":{\"colorbar\":{\"outlinewidth\":0,\"ticks\":\"\"}},\"marker\":{\"colorbar\":{\"outlinewidth\":0,\"ticks\":\"\"}}}],\"scattermapbox\":[{\"type\":\"scattermapbox\",\"marker\":{\"colorbar\":{\"outlinewidth\":0,\"ticks\":\"\"}}}],\"scatterternary\":[{\"type\":\"scatterternary\",\"marker\":{\"colorbar\":{\"outlinewidth\":0,\"ticks\":\"\"}}}],\"scattercarpet\":[{\"type\":\"scattercarpet\",\"marker\":{\"colorbar\":{\"outlinewidth\":0,\"ticks\":\"\"}}}],\"carpet\":[{\"aaxis\":{\"endlinecolor\":\"#2a3f5f\",\"gridcolor\":\"white\",\"linecolor\":\"white\",\"minorgridcolor\":\"white\",\"startlinecolor\":\"#2a3f5f\"},\"baxis\":{\"endlinecolor\":\"#2a3f5f\",\"gridcolor\":\"white\",\"linecolor\":\"white\",\"minorgridcolor\":\"white\",\"startlinecolor\":\"#2a3f5f\"},\"type\":\"carpet\"}],\"table\":[{\"cells\":{\"fill\":{\"color\":\"#EBF0F8\"},\"line\":{\"color\":\"white\"}},\"header\":{\"fill\":{\"color\":\"#C8D4E3\"},\"line\":{\"color\":\"white\"}},\"type\":\"table\"}],\"barpolar\":[{\"marker\":{\"line\":{\"color\":\"#E5ECF6\",\"width\":0.5},\"pattern\":{\"fillmode\":\"overlay\",\"size\":10,\"solidity\":0.2}},\"type\":\"barpolar\"}],\"pie\":[{\"automargin\":true,\"type\":\"pie\"}]},\"layout\":{\"autotypenumbers\":\"strict\",\"colorway\":[\"#636efa\",\"#EF553B\",\"#00cc96\",\"#ab63fa\",\"#FFA15A\",\"#19d3f3\",\"#FF6692\",\"#B6E880\",\"#FF97FF\",\"#FECB52\"],\"font\":{\"color\":\"#2a3f5f\"},\"hovermode\":\"closest\",\"hoverlabel\":{\"align\":\"left\"},\"paper_bgcolor\":\"white\",\"plot_bgcolor\":\"#E5ECF6\",\"polar\":{\"bgcolor\":\"#E5ECF6\",\"angularaxis\":{\"gridcolor\":\"white\",\"linecolor\":\"white\",\"ticks\":\"\"},\"radialaxis\":{\"gridcolor\":\"white\",\"linecolor\":\"white\",\"ticks\":\"\"}},\"ternary\":{\"bgcolor\":\"#E5ECF6\",\"aaxis\":{\"gridcolor\":\"white\",\"linecolor\":\"white\",\"ticks\":\"\"},\"baxis\":{\"gridcolor\":\"white\",\"linecolor\":\"white\",\"ticks\":\"\"},\"caxis\":{\"gridcolor\":\"white\",\"linecolor\":\"white\",\"ticks\":\"\"}},\"coloraxis\":{\"colorbar\":{\"outlinewidth\":0,\"ticks\":\"\"}},\"colorscale\":{\"sequential\":[[0.0,\"#0d0887\"],[0.1111111111111111,\"#46039f\"],[0.2222222222222222,\"#7201a8\"],[0.3333333333333333,\"#9c179e\"],[0.4444444444444444,\"#bd3786\"],[0.5555555555555556,\"#d8576b\"],[0.6666666666666666,\"#ed7953\"],[0.7777777777777778,\"#fb9f3a\"],[0.8888888888888888,\"#fdca26\"],[1.0,\"#f0f921\"]],\"sequentialminus\":[[0.0,\"#0d0887\"],[0.1111111111111111,\"#46039f\"],[0.2222222222222222,\"#7201a8\"],[0.3333333333333333,\"#9c179e\"],[0.4444444444444444,\"#bd3786\"],[0.5555555555555556,\"#d8576b\"],[0.6666666666666666,\"#ed7953\"],[0.7777777777777778,\"#fb9f3a\"],[0.8888888888888888,\"#fdca26\"],[1.0,\"#f0f921\"]],\"diverging\":[[0,\"#8e0152\"],[0.1,\"#c51b7d\"],[0.2,\"#de77ae\"],[0.3,\"#f1b6da\"],[0.4,\"#fde0ef\"],[0.5,\"#f7f7f7\"],[0.6,\"#e6f5d0\"],[0.7,\"#b8e186\"],[0.8,\"#7fbc41\"],[0.9,\"#4d9221\"],[1,\"#276419\"]]},\"xaxis\":{\"gridcolor\":\"white\",\"linecolor\":\"white\",\"ticks\":\"\",\"title\":{\"standoff\":15},\"zerolinecolor\":\"white\",\"automargin\":true,\"zerolinewidth\":2},\"yaxis\":{\"gridcolor\":\"white\",\"linecolor\":\"white\",\"ticks\":\"\",\"title\":{\"standoff\":15},\"zerolinecolor\":\"white\",\"automargin\":true,\"zerolinewidth\":2},\"scene\":{\"xaxis\":{\"backgroundcolor\":\"#E5ECF6\",\"gridcolor\":\"white\",\"linecolor\":\"white\",\"showbackground\":true,\"ticks\":\"\",\"zerolinecolor\":\"white\",\"gridwidth\":2},\"yaxis\":{\"backgroundcolor\":\"#E5ECF6\",\"gridcolor\":\"white\",\"linecolor\":\"white\",\"showbackground\":true,\"ticks\":\"\",\"zerolinecolor\":\"white\",\"gridwidth\":2},\"zaxis\":{\"backgroundcolor\":\"#E5ECF6\",\"gridcolor\":\"white\",\"linecolor\":\"white\",\"showbackground\":true,\"ticks\":\"\",\"zerolinecolor\":\"white\",\"gridwidth\":2}},\"shapedefaults\":{\"line\":{\"color\":\"#2a3f5f\"}},\"annotationdefaults\":{\"arrowcolor\":\"#2a3f5f\",\"arrowhead\":0,\"arrowwidth\":1},\"geo\":{\"bgcolor\":\"white\",\"landcolor\":\"#E5ECF6\",\"subunitcolor\":\"white\",\"showland\":true,\"showlakes\":true,\"lakecolor\":\"white\"},\"title\":{\"x\":0.05},\"mapbox\":{\"style\":\"light\"}}},\"title\":{\"text\":\"Performance of Different Models Using 5-Fold Cross-Validation\"},\"paper_bgcolor\":\"rgb(243, 243, 243)\",\"plot_bgcolor\":\"rgb(243, 243, 243)\",\"xaxis\":{\"title\":{\"text\":\"Model\"}},\"yaxis\":{\"title\":{\"text\":\"Accuracy\"}},\"showlegend\":false},                        {\"responsive\": true}                    ).then(function(){\n",
              "                            \n",
              "var gd = document.getElementById('caf33e1e-a7a3-4e6f-9461-302c27b8f48a');\n",
              "var x = new MutationObserver(function (mutations, observer) {{\n",
              "        var display = window.getComputedStyle(gd).display;\n",
              "        if (!display || display === 'none') {{\n",
              "            console.log([gd, 'removed!']);\n",
              "            Plotly.purge(gd);\n",
              "            observer.disconnect();\n",
              "        }}\n",
              "}});\n",
              "\n",
              "// Listen for the removal of the full notebook cells\n",
              "var notebookContainer = gd.closest('#notebook-container');\n",
              "if (notebookContainer) {{\n",
              "    x.observe(notebookContainer, {childList: true});\n",
              "}}\n",
              "\n",
              "// Listen for the clearing of the current output cell\n",
              "var outputEl = gd.closest('.output');\n",
              "if (outputEl) {{\n",
              "    x.observe(outputEl, {childList: true});\n",
              "}}\n",
              "\n",
              "                        })                };                            </script>        </div>\n",
              "</body>\n",
              "</html>"
            ]
          },
          "metadata": {}
        }
      ]
    },
    {
      "cell_type": "code",
      "source": [
        "#Evaluo en conjunto de test\n",
        "stacking_model.fit(x_train,y_train)\n",
        "y_pred = stacking_model.predict(x_test)\n",
        "metricas(y_pred,y_test)"
      ],
      "metadata": {
        "colab": {
          "base_uri": "https://localhost:8080/",
          "height": 605
        },
        "id": "w7cjJgj13yie",
        "outputId": "61cdb0c1-d1eb-4a1e-ea61-194d4e42ea65"
      },
      "execution_count": null,
      "outputs": [
        {
          "output_type": "stream",
          "name": "stdout",
          "text": [
            "              precision    recall  f1-score   support\n",
            "\n",
            "           0       0.83      0.87      0.85      8831\n",
            "           1       0.86      0.82      0.84      8527\n",
            "\n",
            "    accuracy                           0.85     17358\n",
            "   macro avg       0.85      0.85      0.85     17358\n",
            "weighted avg       0.85      0.85      0.85     17358\n",
            "\n"
          ]
        },
        {
          "output_type": "display_data",
          "data": {
            "text/plain": [
              "<Figure size 640x480 with 2 Axes>"
            ],
            "image/png": "[encoded data removed]"
          },
          "metadata": {}
        }
      ]
    },
    {
      "cell_type": "code",
      "source": [
        "y_pred = stacking_model.predict(df_test)"
      ],
      "metadata": {
        "id": "NV8pWPjc_FZT"
      },
      "execution_count": null,
      "outputs": []
    },
    {
      "cell_type": "code",
      "source": [
        "ds_resultados=pd.DataFrame(zip(df_id['id'],y_pred),columns=['id','is_canceled'])\n",
        "ds_resultados.head(5)"
      ],
      "metadata": {
        "colab": {
          "base_uri": "https://localhost:8080/",
          "height": 206
        },
        "outputId": "8c35d4a9-29ec-4bb2-bcbb-f546eab7edd2",
        "id": "pkfGDy-l_FZU"
      },
      "execution_count": null,
      "outputs": [
        {
          "output_type": "execute_result",
          "data": {
            "text/plain": [
              "                                     id  is_canceled\n",
              "0  e6d0d58a-ab96-44d3-b28f-85df1cc15f1e            1\n",
              "1  aba9aac2-4495-4645-a60e-90328713c999            1\n",
              "2  b345b5dc-c804-4d77-a39f-1f4e65d1f1ad            0\n",
              "3  ce1b400e-afa1-4946-bdff-004b859eb61c            1\n",
              "4  c4fbec0d-8e2e-4db2-9d4f-a6ccb9f51214            1"
            ],
            "text/html": [
              "\n",
              "  <div id=\"df-9ab43c02-752c-4efa-b109-499886ae8f01\" class=\"colab-df-container\">\n",
              "    <div>\n",
              "<style scoped>\n",
              "    .dataframe tbody tr th:only-of-type {\n",
              "        vertical-align: middle;\n",
              "    }\n",
              "\n",
              "    .dataframe tbody tr th {\n",
              "        vertical-align: top;\n",
              "    }\n",
              "\n",
              "    .dataframe thead th {\n",
              "        text-align: right;\n",
              "    }\n",
              "</style>\n",
              "<table border=\"1\" class=\"dataframe\">\n",
              "  <thead>\n",
              "    <tr style=\"text-align: right;\">\n",
              "      <th></th>\n",
              "      <th>id</th>\n",
              "      <th>is_canceled</th>\n",
              "    </tr>\n",
              "  </thead>\n",
              "  <tbody>\n",
              "    <tr>\n",
              "      <th>0</th>\n",
              "      <td>e6d0d58a-ab96-44d3-b28f-85df1cc15f1e</td>\n",
              "      <td>1</td>\n",
              "    </tr>\n",
              "    <tr>\n",
              "      <th>1</th>\n",
              "      <td>aba9aac2-4495-4645-a60e-90328713c999</td>\n",
              "      <td>1</td>\n",
              "    </tr>\n",
              "    <tr>\n",
              "      <th>2</th>\n",
              "      <td>b345b5dc-c804-4d77-a39f-1f4e65d1f1ad</td>\n",
              "      <td>0</td>\n",
              "    </tr>\n",
              "    <tr>\n",
              "      <th>3</th>\n",
              "      <td>ce1b400e-afa1-4946-bdff-004b859eb61c</td>\n",
              "      <td>1</td>\n",
              "    </tr>\n",
              "    <tr>\n",
              "      <th>4</th>\n",
              "      <td>c4fbec0d-8e2e-4db2-9d4f-a6ccb9f51214</td>\n",
              "      <td>1</td>\n",
              "    </tr>\n",
              "  </tbody>\n",
              "</table>\n",
              "</div>\n",
              "    <div class=\"colab-df-buttons\">\n",
              "\n",
              "  <div class=\"colab-df-container\">\n",
              "    <button class=\"colab-df-convert\" onclick=\"convertToInteractive('df-9ab43c02-752c-4efa-b109-499886ae8f01')\"\n",
              "            title=\"Convert this dataframe to an interactive table.\"\n",
              "            style=\"display:none;\">\n",
              "\n",
              "  <svg xmlns=\"http://www.w3.org/2000/svg\" height=\"24px\" viewBox=\"0 -960 960 960\">\n",
              "    <path d=\"M120-120v-720h720v720H120Zm60-500h600v-160H180v160Zm220 220h160v-160H400v160Zm0 220h160v-160H400v160ZM180-400h160v-160H180v160Zm440 0h160v-160H620v160ZM180-180h160v-160H180v160Zm440 0h160v-160H620v160Z\"/>\n",
              "  </svg>\n",
              "    </button>\n",
              "\n",
              "  <style>\n",
              "    .colab-df-container {\n",
              "      display:flex;\n",
              "      gap: 12px;\n",
              "    }\n",
              "\n",
              "    .colab-df-convert {\n",
              "      background-color: #E8F0FE;\n",
              "      border: none;\n",
              "      border-radius: 50%;\n",
              "      cursor: pointer;\n",
              "      display: none;\n",
              "      fill: #1967D2;\n",
              "      height: 32px;\n",
              "      padding: 0 0 0 0;\n",
              "      width: 32px;\n",
              "    }\n",
              "\n",
              "    .colab-df-convert:hover {\n",
              "      background-color: #E2EBFA;\n",
              "      box-shadow: 0px 1px 2px rgba(60, 64, 67, 0.3), 0px 1px 3px 1px rgba(60, 64, 67, 0.15);\n",
              "      fill: #174EA6;\n",
              "    }\n",
              "\n",
              "    .colab-df-buttons div {\n",
              "      margin-bottom: 4px;\n",
              "    }\n",
              "\n",
              "    [theme=dark] .colab-df-convert {\n",
              "      background-color: #3B4455;\n",
              "      fill: #D2E3FC;\n",
              "    }\n",
              "\n",
              "    [theme=dark] .colab-df-convert:hover {\n",
              "      background-color: #434B5C;\n",
              "      box-shadow: 0px 1px 3px 1px rgba(0, 0, 0, 0.15);\n",
              "      filter: drop-shadow(0px 1px 2px rgba(0, 0, 0, 0.3));\n",
              "      fill: #FFFFFF;\n",
              "    }\n",
              "  </style>\n",
              "\n",
              "    <script>\n",
              "      const buttonEl =\n",
              "        document.querySelector('#df-9ab43c02-752c-4efa-b109-499886ae8f01 button.colab-df-convert');\n",
              "      buttonEl.style.display =\n",
              "        google.colab.kernel.accessAllowed ? 'block' : 'none';\n",
              "\n",
              "      async function convertToInteractive(key) {\n",
              "        const element = document.querySelector('#df-9ab43c02-752c-4efa-b109-499886ae8f01');\n",
              "        const dataTable =\n",
              "          await google.colab.kernel.invokeFunction('convertToInteractive',\n",
              "                                                    [key], {});\n",
              "        if (!dataTable) return;\n",
              "\n",
              "        const docLinkHtml = 'Like what you see? Visit the ' +\n",
              "          '<a target=\"_blank\" href=https://colab.research.google.com/notebooks/data_table.ipynb>data table notebook</a>'\n",
              "          + ' to learn more about interactive tables.';\n",
              "        element.innerHTML = '';\n",
              "        dataTable['output_type'] = 'display_data';\n",
              "        await google.colab.output.renderOutput(dataTable, element);\n",
              "        const docLink = document.createElement('div');\n",
              "        docLink.innerHTML = docLinkHtml;\n",
              "        element.appendChild(docLink);\n",
              "      }\n",
              "    </script>\n",
              "  </div>\n",
              "\n",
              "\n",
              "<div id=\"df-4674aa11-c11f-488c-afd0-9316a42c4131\">\n",
              "  <button class=\"colab-df-quickchart\" onclick=\"quickchart('df-4674aa11-c11f-488c-afd0-9316a42c4131')\"\n",
              "            title=\"Suggest charts.\"\n",
              "            style=\"display:none;\">\n",
              "\n",
              "<svg xmlns=\"http://www.w3.org/2000/svg\" height=\"24px\"viewBox=\"0 0 24 24\"\n",
              "     width=\"24px\">\n",
              "    <g>\n",
              "        <path d=\"M19 3H5c-1.1 0-2 .9-2 2v14c0 1.1.9 2 2 2h14c1.1 0 2-.9 2-2V5c0-1.1-.9-2-2-2zM9 17H7v-7h2v7zm4 0h-2V7h2v10zm4 0h-2v-4h2v4z\"/>\n",
              "    </g>\n",
              "</svg>\n",
              "  </button>\n",
              "\n",
              "<style>\n",
              "  .colab-df-quickchart {\n",
              "      --bg-color: #E8F0FE;\n",
              "      --fill-color: #1967D2;\n",
              "      --hover-bg-color: #E2EBFA;\n",
              "      --hover-fill-color: #174EA6;\n",
              "      --disabled-fill-color: #AAA;\n",
              "      --disabled-bg-color: #DDD;\n",
              "  }\n",
              "\n",
              "  [theme=dark] .colab-df-quickchart {\n",
              "      --bg-color: #3B4455;\n",
              "      --fill-color: #D2E3FC;\n",
              "      --hover-bg-color: #434B5C;\n",
              "      --hover-fill-color: #FFFFFF;\n",
              "      --disabled-bg-color: #3B4455;\n",
              "      --disabled-fill-color: #666;\n",
              "  }\n",
              "\n",
              "  .colab-df-quickchart {\n",
              "    background-color: var(--bg-color);\n",
              "    border: none;\n",
              "    border-radius: 50%;\n",
              "    cursor: pointer;\n",
              "    display: none;\n",
              "    fill: var(--fill-color);\n",
              "    height: 32px;\n",
              "    padding: 0;\n",
              "    width: 32px;\n",
              "  }\n",
              "\n",
              "  .colab-df-quickchart:hover {\n",
              "    background-color: var(--hover-bg-color);\n",
              "    box-shadow: 0 1px 2px rgba(60, 64, 67, 0.3), 0 1px 3px 1px rgba(60, 64, 67, 0.15);\n",
              "    fill: var(--button-hover-fill-color);\n",
              "  }\n",
              "\n",
              "  .colab-df-quickchart-complete:disabled,\n",
              "  .colab-df-quickchart-complete:disabled:hover {\n",
              "    background-color: var(--disabled-bg-color);\n",
              "    fill: var(--disabled-fill-color);\n",
              "    box-shadow: none;\n",
              "  }\n",
              "\n",
              "  .colab-df-spinner {\n",
              "    border: 2px solid var(--fill-color);\n",
              "    border-color: transparent;\n",
              "    border-bottom-color: var(--fill-color);\n",
              "    animation:\n",
              "      spin 1s steps(1) infinite;\n",
              "  }\n",
              "\n",
              "  @keyframes spin {\n",
              "    0% {\n",
              "      border-color: transparent;\n",
              "      border-bottom-color: var(--fill-color);\n",
              "      border-left-color: var(--fill-color);\n",
              "    }\n",
              "    20% {\n",
              "      border-color: transparent;\n",
              "      border-left-color: var(--fill-color);\n",
              "      border-top-color: var(--fill-color);\n",
              "    }\n",
              "    30% {\n",
              "      border-color: transparent;\n",
              "      border-left-color: var(--fill-color);\n",
              "      border-top-color: var(--fill-color);\n",
              "      border-right-color: var(--fill-color);\n",
              "    }\n",
              "    40% {\n",
              "      border-color: transparent;\n",
              "      border-right-color: var(--fill-color);\n",
              "      border-top-color: var(--fill-color);\n",
              "    }\n",
              "    60% {\n",
              "      border-color: transparent;\n",
              "      border-right-color: var(--fill-color);\n",
              "    }\n",
              "    80% {\n",
              "      border-color: transparent;\n",
              "      border-right-color: var(--fill-color);\n",
              "      border-bottom-color: var(--fill-color);\n",
              "    }\n",
              "    90% {\n",
              "      border-color: transparent;\n",
              "      border-bottom-color: var(--fill-color);\n",
              "    }\n",
              "  }\n",
              "</style>\n",
              "\n",
              "  <script>\n",
              "    async function quickchart(key) {\n",
              "      const quickchartButtonEl =\n",
              "        document.querySelector('#' + key + ' button');\n",
              "      quickchartButtonEl.disabled = true;  // To prevent multiple clicks.\n",
              "      quickchartButtonEl.classList.add('colab-df-spinner');\n",
              "      try {\n",
              "        const charts = await google.colab.kernel.invokeFunction(\n",
              "            'suggestCharts', [key], {});\n",
              "      } catch (error) {\n",
              "        console.error('Error during call to suggestCharts:', error);\n",
              "      }\n",
              "      quickchartButtonEl.classList.remove('colab-df-spinner');\n",
              "      quickchartButtonEl.classList.add('colab-df-quickchart-complete');\n",
              "    }\n",
              "    (() => {\n",
              "      let quickchartButtonEl =\n",
              "        document.querySelector('#df-4674aa11-c11f-488c-afd0-9316a42c4131 button');\n",
              "      quickchartButtonEl.style.display =\n",
              "        google.colab.kernel.accessAllowed ? 'block' : 'none';\n",
              "    })();\n",
              "  </script>\n",
              "</div>\n",
              "    </div>\n",
              "  </div>\n"
            ]
          },
          "metadata": {},
          "execution_count": 138
        }
      ]
    },
    {
      "cell_type": "code",
      "source": [
        "ds_resultados.to_csv(\"prediccion_stacking_hotel.csv\", index = False)"
      ],
      "metadata": {
        "id": "lu3ZL4Mr_FZV"
      },
      "execution_count": null,
      "outputs": []
    },
    {
      "cell_type": "markdown",
      "source": [
        "###Voting"
      ],
      "metadata": {
        "id": "qnKgcRI3xuGM"
      }
    },
    {
      "cell_type": "markdown",
      "source": [
        "Entrenar varios modelos distintos basados en el mismo dataset. La clasificación queda determinada por la mayoría."
      ],
      "metadata": {
        "id": "rUCL5cNJ4fTy"
      }
    },
    {
      "cell_type": "markdown",
      "source": [
        "El clasificador de votaciones tiene dos hiperparámetros básicos: estimadores y votaciones.\n",
        "\n",
        "El hiperparámetro estimators crea una lista los clasificadores y les asigna nombres.\n",
        "\n",
        "El hiperparámetro de votación se establece en \"hard\" o \"soft\".\n",
        "\n",
        "* hard: el clasificador de votación usa las etiquetas de clase predichas para la votación por regla de la mayoría.\n",
        "\n",
        "* soft: utilizará un enfoque ponderado para tomar su decisión (predice la etiqueta de clase en función del argmax de las sumas de las probabilidades predichas)"
      ],
      "metadata": {
        "id": "5GrBf4RbhzUo"
      }
    },
    {
      "cell_type": "code",
      "source": [
        "from sklearn.ensemble import RandomForestClassifier\n",
        "from sklearn.linear_model import LogisticRegression\n",
        "from sklearn.neighbors import KNeighborsClassifier\n",
        "from sklearn.ensemble import VotingClassifier\n",
        "from sklearn.model_selection import train_test_split\n",
        "from sklearn.metrics import accuracy_score"
      ],
      "metadata": {
        "id": "VMtNpKikhazK"
      },
      "execution_count": null,
      "outputs": []
    },
    {
      "cell_type": "code",
      "source": [
        "#Creo un conjunto de datos para entrenar los modelos\n",
        "\n",
        "x, y = make_classification(n_samples=3000,\n",
        "                           n_features=46,\n",
        "                           n_informative=15,\n",
        "                           n_redundant=5,\n",
        "                           n_clusters_per_class=5,\n",
        "                           class_sep=0.7,\n",
        "                           flip_y=0.03,\n",
        "                           n_classes=2)"
      ],
      "metadata": {
        "id": "Tb5FpirwukjR"
      },
      "execution_count": null,
      "outputs": []
    },
    {
      "cell_type": "code",
      "source": [
        "#Creo clasificadores\n",
        "\n",
        "log_clf = LogisticRegression()\n",
        "rnd_clf = RandomForestClassifier()\n",
        "knn_clf = KNeighborsClassifier()\n",
        "\n",
        "#Creo ensemble de Votación\n",
        "vot_clf = VotingClassifier(estimators = [('lr', log_clf), ('rnd', rnd_clf), ('knn', knn_clf)], voting = 'hard')\n",
        "\n",
        "#Armo conjunto entrenamiento y test 80-20\n",
        "x_train, x_test, y_train, y_test = train_test_split(x, y, random_state = 42, train_size = 0.80)\n",
        "\n",
        "#Entreno el ensemble\n",
        "vot_clf.fit(x_train, y_train)\n",
        "\n",
        "#Evaluo en conjunto de test\n",
        "pred = vot_clf.predict(x_test)\n",
        "accuracy_score(y_test, pred)"
      ],
      "metadata": {
        "colab": {
          "base_uri": "https://localhost:8080/"
        },
        "id": "HJMljU0ohMxH",
        "outputId": "a1adc4f4-a691-4a3c-a584-44fc3bfe3326"
      },
      "execution_count": null,
      "outputs": [
        {
          "output_type": "execute_result",
          "data": {
            "text/plain": [
              "0.755"
            ]
          },
          "metadata": {},
          "execution_count": 105
        }
      ]
    },
    {
      "cell_type": "code",
      "source": [
        "metricas(pred,y_test)"
      ],
      "metadata": {
        "id": "4_5vI4C0MVwU",
        "colab": {
          "base_uri": "https://localhost:8080/",
          "height": 611
        },
        "outputId": "a7c604fc-e4a1-491e-f615-49f741cb852a"
      },
      "execution_count": null,
      "outputs": [
        {
          "output_type": "stream",
          "name": "stdout",
          "text": [
            "              precision    recall  f1-score   support\n",
            "\n",
            "           0       0.75      0.78      0.77       306\n",
            "           1       0.76      0.72      0.74       294\n",
            "\n",
            "    accuracy                           0.76       600\n",
            "   macro avg       0.76      0.75      0.75       600\n",
            "weighted avg       0.76      0.76      0.75       600\n",
            "\n"
          ]
        },
        {
          "output_type": "display_data",
          "data": {
            "text/plain": [
              "<Figure size 640x480 with 2 Axes>"
            ],
            "image/png": "[encoded data removed]"
          },
          "metadata": {}
        }
      ]
    },
    {
      "cell_type": "code",
      "source": [
        "y_pred = vot_clf.predict(df_test)"
      ],
      "metadata": {
        "id": "Ieg0t_hw_p2M"
      },
      "execution_count": null,
      "outputs": []
    },
    {
      "cell_type": "code",
      "source": [
        "ds_resultados=pd.DataFrame(zip(df_id['id'],y_pred),columns=['id','is_canceled'])\n",
        "ds_resultados.head(5)"
      ],
      "metadata": {
        "colab": {
          "base_uri": "https://localhost:8080/",
          "height": 206
        },
        "outputId": "83cf6ed1-4d26-4e31-d4dc-15d4134f92c5",
        "id": "HZxntASO_p2M"
      },
      "execution_count": null,
      "outputs": [
        {
          "output_type": "execute_result",
          "data": {
            "text/plain": [
              "                                     id  is_canceled\n",
              "0  e6d0d58a-ab96-44d3-b28f-85df1cc15f1e            0\n",
              "1  aba9aac2-4495-4645-a60e-90328713c999            0\n",
              "2  b345b5dc-c804-4d77-a39f-1f4e65d1f1ad            0\n",
              "3  ce1b400e-afa1-4946-bdff-004b859eb61c            0\n",
              "4  c4fbec0d-8e2e-4db2-9d4f-a6ccb9f51214            0"
            ],
            "text/html": [
              "\n",
              "  <div id=\"df-6b9083f1-b040-4508-b2b6-81b743352e79\" class=\"colab-df-container\">\n",
              "    <div>\n",
              "<style scoped>\n",
              "    .dataframe tbody tr th:only-of-type {\n",
              "        vertical-align: middle;\n",
              "    }\n",
              "\n",
              "    .dataframe tbody tr th {\n",
              "        vertical-align: top;\n",
              "    }\n",
              "\n",
              "    .dataframe thead th {\n",
              "        text-align: right;\n",
              "    }\n",
              "</style>\n",
              "<table border=\"1\" class=\"dataframe\">\n",
              "  <thead>\n",
              "    <tr style=\"text-align: right;\">\n",
              "      <th></th>\n",
              "      <th>id</th>\n",
              "      <th>is_canceled</th>\n",
              "    </tr>\n",
              "  </thead>\n",
              "  <tbody>\n",
              "    <tr>\n",
              "      <th>0</th>\n",
              "      <td>e6d0d58a-ab96-44d3-b28f-85df1cc15f1e</td>\n",
              "      <td>0</td>\n",
              "    </tr>\n",
              "    <tr>\n",
              "      <th>1</th>\n",
              "      <td>aba9aac2-4495-4645-a60e-90328713c999</td>\n",
              "      <td>0</td>\n",
              "    </tr>\n",
              "    <tr>\n",
              "      <th>2</th>\n",
              "      <td>b345b5dc-c804-4d77-a39f-1f4e65d1f1ad</td>\n",
              "      <td>0</td>\n",
              "    </tr>\n",
              "    <tr>\n",
              "      <th>3</th>\n",
              "      <td>ce1b400e-afa1-4946-bdff-004b859eb61c</td>\n",
              "      <td>0</td>\n",
              "    </tr>\n",
              "    <tr>\n",
              "      <th>4</th>\n",
              "      <td>c4fbec0d-8e2e-4db2-9d4f-a6ccb9f51214</td>\n",
              "      <td>0</td>\n",
              "    </tr>\n",
              "  </tbody>\n",
              "</table>\n",
              "</div>\n",
              "    <div class=\"colab-df-buttons\">\n",
              "\n",
              "  <div class=\"colab-df-container\">\n",
              "    <button class=\"colab-df-convert\" onclick=\"convertToInteractive('df-6b9083f1-b040-4508-b2b6-81b743352e79')\"\n",
              "            title=\"Convert this dataframe to an interactive table.\"\n",
              "            style=\"display:none;\">\n",
              "\n",
              "  <svg xmlns=\"http://www.w3.org/2000/svg\" height=\"24px\" viewBox=\"0 -960 960 960\">\n",
              "    <path d=\"M120-120v-720h720v720H120Zm60-500h600v-160H180v160Zm220 220h160v-160H400v160Zm0 220h160v-160H400v160ZM180-400h160v-160H180v160Zm440 0h160v-160H620v160ZM180-180h160v-160H180v160Zm440 0h160v-160H620v160Z\"/>\n",
              "  </svg>\n",
              "    </button>\n",
              "\n",
              "  <style>\n",
              "    .colab-df-container {\n",
              "      display:flex;\n",
              "      gap: 12px;\n",
              "    }\n",
              "\n",
              "    .colab-df-convert {\n",
              "      background-color: #E8F0FE;\n",
              "      border: none;\n",
              "      border-radius: 50%;\n",
              "      cursor: pointer;\n",
              "      display: none;\n",
              "      fill: #1967D2;\n",
              "      height: 32px;\n",
              "      padding: 0 0 0 0;\n",
              "      width: 32px;\n",
              "    }\n",
              "\n",
              "    .colab-df-convert:hover {\n",
              "      background-color: #E2EBFA;\n",
              "      box-shadow: 0px 1px 2px rgba(60, 64, 67, 0.3), 0px 1px 3px 1px rgba(60, 64, 67, 0.15);\n",
              "      fill: #174EA6;\n",
              "    }\n",
              "\n",
              "    .colab-df-buttons div {\n",
              "      margin-bottom: 4px;\n",
              "    }\n",
              "\n",
              "    [theme=dark] .colab-df-convert {\n",
              "      background-color: #3B4455;\n",
              "      fill: #D2E3FC;\n",
              "    }\n",
              "\n",
              "    [theme=dark] .colab-df-convert:hover {\n",
              "      background-color: #434B5C;\n",
              "      box-shadow: 0px 1px 3px 1px rgba(0, 0, 0, 0.15);\n",
              "      filter: drop-shadow(0px 1px 2px rgba(0, 0, 0, 0.3));\n",
              "      fill: #FFFFFF;\n",
              "    }\n",
              "  </style>\n",
              "\n",
              "    <script>\n",
              "      const buttonEl =\n",
              "        document.querySelector('#df-6b9083f1-b040-4508-b2b6-81b743352e79 button.colab-df-convert');\n",
              "      buttonEl.style.display =\n",
              "        google.colab.kernel.accessAllowed ? 'block' : 'none';\n",
              "\n",
              "      async function convertToInteractive(key) {\n",
              "        const element = document.querySelector('#df-6b9083f1-b040-4508-b2b6-81b743352e79');\n",
              "        const dataTable =\n",
              "          await google.colab.kernel.invokeFunction('convertToInteractive',\n",
              "                                                    [key], {});\n",
              "        if (!dataTable) return;\n",
              "\n",
              "        const docLinkHtml = 'Like what you see? Visit the ' +\n",
              "          '<a target=\"_blank\" href=https://colab.research.google.com/notebooks/data_table.ipynb>data table notebook</a>'\n",
              "          + ' to learn more about interactive tables.';\n",
              "        element.innerHTML = '';\n",
              "        dataTable['output_type'] = 'display_data';\n",
              "        await google.colab.output.renderOutput(dataTable, element);\n",
              "        const docLink = document.createElement('div');\n",
              "        docLink.innerHTML = docLinkHtml;\n",
              "        element.appendChild(docLink);\n",
              "      }\n",
              "    </script>\n",
              "  </div>\n",
              "\n",
              "\n",
              "<div id=\"df-8793a5f6-479f-4cf4-8a02-903b22d86685\">\n",
              "  <button class=\"colab-df-quickchart\" onclick=\"quickchart('df-8793a5f6-479f-4cf4-8a02-903b22d86685')\"\n",
              "            title=\"Suggest charts.\"\n",
              "            style=\"display:none;\">\n",
              "\n",
              "<svg xmlns=\"http://www.w3.org/2000/svg\" height=\"24px\"viewBox=\"0 0 24 24\"\n",
              "     width=\"24px\">\n",
              "    <g>\n",
              "        <path d=\"M19 3H5c-1.1 0-2 .9-2 2v14c0 1.1.9 2 2 2h14c1.1 0 2-.9 2-2V5c0-1.1-.9-2-2-2zM9 17H7v-7h2v7zm4 0h-2V7h2v10zm4 0h-2v-4h2v4z\"/>\n",
              "    </g>\n",
              "</svg>\n",
              "  </button>\n",
              "\n",
              "<style>\n",
              "  .colab-df-quickchart {\n",
              "      --bg-color: #E8F0FE;\n",
              "      --fill-color: #1967D2;\n",
              "      --hover-bg-color: #E2EBFA;\n",
              "      --hover-fill-color: #174EA6;\n",
              "      --disabled-fill-color: #AAA;\n",
              "      --disabled-bg-color: #DDD;\n",
              "  }\n",
              "\n",
              "  [theme=dark] .colab-df-quickchart {\n",
              "      --bg-color: #3B4455;\n",
              "      --fill-color: #D2E3FC;\n",
              "      --hover-bg-color: #434B5C;\n",
              "      --hover-fill-color: #FFFFFF;\n",
              "      --disabled-bg-color: #3B4455;\n",
              "      --disabled-fill-color: #666;\n",
              "  }\n",
              "\n",
              "  .colab-df-quickchart {\n",
              "    background-color: var(--bg-color);\n",
              "    border: none;\n",
              "    border-radius: 50%;\n",
              "    cursor: pointer;\n",
              "    display: none;\n",
              "    fill: var(--fill-color);\n",
              "    height: 32px;\n",
              "    padding: 0;\n",
              "    width: 32px;\n",
              "  }\n",
              "\n",
              "  .colab-df-quickchart:hover {\n",
              "    background-color: var(--hover-bg-color);\n",
              "    box-shadow: 0 1px 2px rgba(60, 64, 67, 0.3), 0 1px 3px 1px rgba(60, 64, 67, 0.15);\n",
              "    fill: var(--button-hover-fill-color);\n",
              "  }\n",
              "\n",
              "  .colab-df-quickchart-complete:disabled,\n",
              "  .colab-df-quickchart-complete:disabled:hover {\n",
              "    background-color: var(--disabled-bg-color);\n",
              "    fill: var(--disabled-fill-color);\n",
              "    box-shadow: none;\n",
              "  }\n",
              "\n",
              "  .colab-df-spinner {\n",
              "    border: 2px solid var(--fill-color);\n",
              "    border-color: transparent;\n",
              "    border-bottom-color: var(--fill-color);\n",
              "    animation:\n",
              "      spin 1s steps(1) infinite;\n",
              "  }\n",
              "\n",
              "  @keyframes spin {\n",
              "    0% {\n",
              "      border-color: transparent;\n",
              "      border-bottom-color: var(--fill-color);\n",
              "      border-left-color: var(--fill-color);\n",
              "    }\n",
              "    20% {\n",
              "      border-color: transparent;\n",
              "      border-left-color: var(--fill-color);\n",
              "      border-top-color: var(--fill-color);\n",
              "    }\n",
              "    30% {\n",
              "      border-color: transparent;\n",
              "      border-left-color: var(--fill-color);\n",
              "      border-top-color: var(--fill-color);\n",
              "      border-right-color: var(--fill-color);\n",
              "    }\n",
              "    40% {\n",
              "      border-color: transparent;\n",
              "      border-right-color: var(--fill-color);\n",
              "      border-top-color: var(--fill-color);\n",
              "    }\n",
              "    60% {\n",
              "      border-color: transparent;\n",
              "      border-right-color: var(--fill-color);\n",
              "    }\n",
              "    80% {\n",
              "      border-color: transparent;\n",
              "      border-right-color: var(--fill-color);\n",
              "      border-bottom-color: var(--fill-color);\n",
              "    }\n",
              "    90% {\n",
              "      border-color: transparent;\n",
              "      border-bottom-color: var(--fill-color);\n",
              "    }\n",
              "  }\n",
              "</style>\n",
              "\n",
              "  <script>\n",
              "    async function quickchart(key) {\n",
              "      const quickchartButtonEl =\n",
              "        document.querySelector('#' + key + ' button');\n",
              "      quickchartButtonEl.disabled = true;  // To prevent multiple clicks.\n",
              "      quickchartButtonEl.classList.add('colab-df-spinner');\n",
              "      try {\n",
              "        const charts = await google.colab.kernel.invokeFunction(\n",
              "            'suggestCharts', [key], {});\n",
              "      } catch (error) {\n",
              "        console.error('Error during call to suggestCharts:', error);\n",
              "      }\n",
              "      quickchartButtonEl.classList.remove('colab-df-spinner');\n",
              "      quickchartButtonEl.classList.add('colab-df-quickchart-complete');\n",
              "    }\n",
              "    (() => {\n",
              "      let quickchartButtonEl =\n",
              "        document.querySelector('#df-8793a5f6-479f-4cf4-8a02-903b22d86685 button');\n",
              "      quickchartButtonEl.style.display =\n",
              "        google.colab.kernel.accessAllowed ? 'block' : 'none';\n",
              "    })();\n",
              "  </script>\n",
              "</div>\n",
              "    </div>\n",
              "  </div>\n"
            ]
          },
          "metadata": {},
          "execution_count": 108
        }
      ]
    },
    {
      "cell_type": "code",
      "source": [
        "ds_resultados.to_csv(\"prediccion_voting_hotel.csv\", index = False)"
      ],
      "metadata": {
        "id": "ync9AK_Z_p2M"
      },
      "execution_count": null,
      "outputs": []
    },
    {
      "cell_type": "markdown",
      "source": [
        "##Conclusión"
      ],
      "metadata": {
        "id": "8ktgshEAPlWI"
      }
    },
    {
      "cell_type": "markdown",
      "source": [
        "Observemos, para un mejor análisis, los clasificadores junto con los valores de todas sus métricas en una tabla, de forma tal que sea más sencillo compararlos."
      ],
      "metadata": {
        "id": "9SX8S0O9EVI9"
      }
    },
    {
      "cell_type": "markdown",
      "source": [
        "Recordemos qué significa cada métrica:\n",
        "- **accuracy**: número de elementos clasificados correctamente en comparación con el número total.\n",
        "- **recall**: cantidad de verdaderos positivos que el modelo clasificó en función del número total de valores positivos.\n",
        "- **precision**: número de verdaderos positivos que son realmente positivos en comparación con el número total de valores positivos predichos.\n",
        "- **F1-score**: combinación de recall y precision.\n",
        "\n",
        "Para nuestro caso, evaluamos entre 2 valores posibles (0 - reserva no cancelada y 1 - reserva cancelada), obteniendo la siguiente tabla."
      ],
      "metadata": {
        "id": "Ld0LmtHuH4Bb"
      }
    },
    {
      "cell_type": "markdown",
      "source": [
        "![image.png](data:image/png;base64,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)"
      ],
      "metadata": {
        "id": "dfKxp-xu8nLt"
      }
    },
    {
      "cell_type": "markdown",
      "source": [
        "Como podemos observar, obtuvimos la mejor clasificación, utilizando el clasificador XGBoost, siendo este el que nos ha dado el mejor score ejecutándose relativamente en un tiempo que podemos no considerar extenso, como se analizó anteriormente."
      ],
      "metadata": {
        "id": "LdA8kETkOSfF"
      }
    }
  ]
}